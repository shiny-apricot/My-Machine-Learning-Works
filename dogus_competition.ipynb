{
  "nbformat": 4,
  "nbformat_minor": 0,
  "metadata": {
    "colab": {
      "name": "dogus_competition.ipynb",
      "provenance": [],
      "collapsed_sections": [
        "zkhh9eDk3OXq",
        "GEHCCBE97uME",
        "Sw-flvvIi5h6",
        "U0bSnGzBZ-fj",
        "m9RscYdzTN7l",
        "WY_xrjnC1ybv",
        "bTeR6XkL97Ji",
        "bWyRSfMYL7XF",
        "cAyuzINyUB43"
      ],
      "toc_visible": true
    },
    "kernelspec": {
      "name": "python3",
      "display_name": "Python 3"
    },
    "language_info": {
      "name": "python"
    }
  },
  "cells": [
    {
      "cell_type": "code",
      "metadata": {
        "id": "PO6bIXc5-7n-",
        "colab": {
          "base_uri": "https://localhost:8080/"
        },
        "outputId": "d8848a74-5ba4-467a-ca63-e61439e8cf05"
      },
      "source": [
        "!mkdir .kaggle"
      ],
      "execution_count": null,
      "outputs": [
        {
          "output_type": "stream",
          "name": "stdout",
          "text": [
            "mkdir: cannot create directory ‘/root/.kaggle’: File exists\n"
          ]
        }
      ]
    },
    {
      "cell_type": "code",
      "metadata": {
        "id": "L9b5Mdv7-Pq0"
      },
      "source": [
        "!cp ./drive/MyDrive/kaggle.json /root/.kaggle"
      ],
      "execution_count": null,
      "outputs": []
    },
    {
      "cell_type": "code",
      "metadata": {
        "colab": {
          "base_uri": "https://localhost:8080/"
        },
        "id": "-mDykccb-GpS",
        "outputId": "63a73262-eb02-4740-b0a8-fca421e87429"
      },
      "source": [
        "!kaggle competitions download -c dogus-datathon-otomotiv"
      ],
      "execution_count": null,
      "outputs": [
        {
          "output_type": "stream",
          "name": "stdout",
          "text": [
            "Warning: Looks like you're using an outdated API Version, please consider updating (server 1.5.12 / client 1.5.4)\n",
            "Downloading FINAL_SIFIR_ARAC_ALANLAR_DATATHON.csv.zip to /content\n",
            "  0% 0.00/2.69M [00:00<?, ?B/s]\n",
            "100% 2.69M/2.69M [00:00<00:00, 43.9MB/s]\n",
            "Downloading FINAL_VEHICLE_TABLE_DATATHON.csv.zip to /content\n",
            "  0% 0.00/4.71M [00:00<?, ?B/s]\n",
            "100% 4.71M/4.71M [00:00<00:00, 43.2MB/s]\n",
            "Downloading sample_submission.csv.zip to /content\n",
            "  0% 0.00/525k [00:00<?, ?B/s]\n",
            "100% 525k/525k [00:00<00:00, 8.43MB/s]\n",
            "Downloading FINAL_CUSTOMER_RELATED_TABLE_FOR_DATATHON.csv.zip to /content\n",
            "  0% 0.00/5.11M [00:00<?, ?B/s]\n",
            "100% 5.11M/5.11M [00:00<00:00, 47.1MB/s]\n",
            "Downloading FINAL_SALES_FILE_DATATHON.csv.zip to /content\n",
            "  0% 0.00/7.75M [00:00<?, ?B/s]\n",
            "100% 7.75M/7.75M [00:00<00:00, 71.4MB/s]\n",
            "Downloading MASK_SERVIS_BAKIM_DATATHON_FINAL.csv.zip to /content\n",
            " 71% 9.00M/12.6M [00:00<00:00, 60.4MB/s]\n",
            "100% 12.6M/12.6M [00:00<00:00, 61.5MB/s]\n",
            "Downloading FINAL_CUSTOMER_DATATHON.csv.zip to /content\n",
            " 40% 5.00M/12.5M [00:00<00:00, 52.0MB/s]\n",
            "100% 12.5M/12.5M [00:00<00:00, 79.7MB/s]\n"
          ]
        }
      ]
    },
    {
      "cell_type": "markdown",
      "metadata": {
        "id": "2bwGaa2oLagr"
      },
      "source": [
        "# Intro"
      ]
    },
    {
      "cell_type": "code",
      "metadata": {
        "id": "R1Ank8NJ-ieS",
        "colab": {
          "base_uri": "https://localhost:8080/"
        },
        "outputId": "a18c04ce-a8c1-4c6d-a09f-c33d65e8f936"
      },
      "source": [
        "# This Python 3 environment comes with many helpful analytics libraries installed\n",
        "# It is defined by the kaggle/python Docker image: https://github.com/kaggle/docker-python\n",
        "# For example, here's several helpful packages to load\n",
        "\n",
        "import numpy as np # linear algebra\n",
        "import pandas as pd # data processing, CSV file I/O (e.g. pd.read_csv)\n",
        "\n",
        "# Input data files are available in the read-only \"../input/\" directory\n",
        "# For example, running this (by clicking run or pressing Shift+Enter) will list all files under the input directory\n",
        "\n",
        "import os\n",
        "for dirname, _, filenames in os.walk('/kaggle/input'):\n",
        "    for filename in filenames:\n",
        "        print(os.path.join(dirname, filename))\n",
        "\n",
        "F_CUST_DATA = pd.read_csv(\"FINAL_CUSTOMER_DATATHON.csv.zip\") \n",
        "F_CUST_RELATED_DATA = pd.read_csv(\"FINAL_CUSTOMER_RELATED_TABLE_FOR_DATATHON.csv.zip\") \n",
        "F_SALES_DATA = pd.read_csv(\"FINAL_SALES_FILE_DATATHON.csv.zip\") \n",
        "F_SIFIR_ARAC_DATA = pd.read_csv(\"FINAL_SIFIR_ARAC_ALANLAR_DATATHON.csv.zip\") \n",
        "F_VEHICLE_DATA = pd.read_csv(\"FINAL_VEHICLE_TABLE_DATATHON.csv.zip\") \n",
        "MASK_SERVIS_DATA = pd.read_csv(\"MASK_SERVIS_BAKIM_DATATHON_FINAL.csv.zip\") \n",
        "ALL_DATAS = np.array([F_CUST_DATA,F_CUST_RELATED_DATA,F_SALES_DATA,F_SIFIR_ARAC_DATA,F_VEHICLE_DATA,MASK_SERVIS_DATA])\n",
        "# You can write up to 20GB to the current directory (/kaggle/working/) that gets preserved as output when you create a version using \"Save & Run All\" \n",
        "# You can also write temporary files to /kaggle/temp/, but they won't be saved outside of the current session"
      ],
      "execution_count": null,
      "outputs": [
        {
          "output_type": "stream",
          "name": "stderr",
          "text": [
            "/usr/local/lib/python3.7/dist-packages/ipykernel_launcher.py:22: VisibleDeprecationWarning: Creating an ndarray from ragged nested sequences (which is a list-or-tuple of lists-or-tuples-or ndarrays with different lengths or shapes) is deprecated. If you meant to do this, you must specify 'dtype=object' when creating the ndarray\n"
          ]
        }
      ]
    },
    {
      "cell_type": "code",
      "metadata": {
        "id": "PPjvAjpZ9azs"
      },
      "source": [
        "current_year = 2021"
      ],
      "execution_count": null,
      "outputs": []
    },
    {
      "cell_type": "code",
      "metadata": {
        "id": "fAexVYpy_eWw"
      },
      "source": [
        "# sifir_arac_data = pd.merge(F_SIFIR_ARAC_DATA,F_VEHICLE_DATA,on = 'VEHICLE_ID')\n",
        "# common = F_VEHICLE_DATA.index.intersection(F_SIFIR_ARAC_DATA.VEHICLE_ID)"
      ],
      "execution_count": null,
      "outputs": []
    },
    {
      "cell_type": "markdown",
      "metadata": {
        "id": "bdjN-o5JselX"
      },
      "source": [
        "# Null Value Check"
      ]
    },
    {
      "cell_type": "code",
      "metadata": {
        "colab": {
          "base_uri": "https://localhost:8080/"
        },
        "id": "uBWLr6Zwsf5E",
        "outputId": "674870fe-8674-4dbd-df33-2f736d4595b7"
      },
      "source": [
        "F_CUST_DATA.isna().sum()"
      ],
      "execution_count": null,
      "outputs": [
        {
          "output_type": "execute_result",
          "data": {
            "text/plain": [
              "Unnamed: 0                            0\n",
              "BASE_CUSTOMER_ID                      0\n",
              "CUSTOMER_ID                           0\n",
              "GENDER                                3\n",
              "GENDER_ID                             0\n",
              "MARITAL_STATUS                   229117\n",
              "MARITAL_STATUS_ID                     0\n",
              "BIRTH_DATE                       204472\n",
              "FK_ADDRESS_COMMUNICATION_CITY    119578\n",
              "OCCUPATION                       468867\n",
              "dtype: int64"
            ]
          },
          "metadata": {},
          "execution_count": 15
        }
      ]
    },
    {
      "cell_type": "code",
      "metadata": {
        "colab": {
          "base_uri": "https://localhost:8080/"
        },
        "id": "DUsTZfpLsf2k",
        "outputId": "edc33c81-f906-4024-e997-fdd8861e185c"
      },
      "source": [
        "F_CUST_RELATED_DATA.isna().sum()"
      ],
      "execution_count": null,
      "outputs": [
        {
          "output_type": "execute_result",
          "data": {
            "text/plain": [
              "Unnamed: 0                             0\n",
              "BASE_CUSTOMER_ID                       0\n",
              "VEHICLE_ID                             0\n",
              "START_DATE                             0\n",
              "END_DATE                          215122\n",
              "FK_RELATION_STATUS_ID                  0\n",
              "FK_RELATION_STATUS_EXPLANATION         0\n",
              "dtype: int64"
            ]
          },
          "metadata": {},
          "execution_count": 16
        }
      ]
    },
    {
      "cell_type": "code",
      "metadata": {
        "colab": {
          "base_uri": "https://localhost:8080/"
        },
        "id": "6_Ewf-3Ftg2V",
        "outputId": "e4139665-4a96-4712-ee01-5264ff22a005"
      },
      "source": [
        "F_SALES_DATA.isna().sum()"
      ],
      "execution_count": null,
      "outputs": [
        {
          "output_type": "execute_result",
          "data": {
            "text/plain": [
              "Unnamed: 0             0\n",
              "CUSTOMER_ID            0\n",
              "SALESFILE_ID           0\n",
              "SF_CREATE_DATE         0\n",
              "STATUS                 0\n",
              "REQ_BRAND_CODE         0\n",
              "REQ_TOPMODEL_CODE    289\n",
              "dtype: int64"
            ]
          },
          "metadata": {},
          "execution_count": 17
        }
      ]
    },
    {
      "cell_type": "code",
      "metadata": {
        "colab": {
          "base_uri": "https://localhost:8080/"
        },
        "id": "JBS8bLxMtgz9",
        "outputId": "65e8c0a9-a874-42c3-c220-d93cff994942"
      },
      "source": [
        "F_SIFIR_ARAC_DATA.isna().sum()"
      ],
      "execution_count": null,
      "outputs": [
        {
          "output_type": "execute_result",
          "data": {
            "text/plain": [
              "Unnamed: 0     0\n",
              "VEHICLE_ID     0\n",
              "CUSTOMER_ID    0\n",
              "CREATE_DATE    0\n",
              "dtype: int64"
            ]
          },
          "metadata": {},
          "execution_count": 18
        }
      ]
    },
    {
      "cell_type": "code",
      "metadata": {
        "colab": {
          "base_uri": "https://localhost:8080/"
        },
        "id": "4Flf4OfVtgxN",
        "outputId": "acc10a0e-ac36-4067-ef7d-4b487529a2ca"
      },
      "source": [
        "F_VEHICLE_DATA.isna().sum()"
      ],
      "execution_count": null,
      "outputs": [
        {
          "output_type": "execute_result",
          "data": {
            "text/plain": [
              "Unnamed: 0            0\n",
              "VEHICLE_ID            0\n",
              "TRAFFIC_DATE        866\n",
              "BRAND_CODE            0\n",
              "BASEMODEL_CODE        0\n",
              "TOPMODEL_CODE         0\n",
              "MOTOR_GAS_TYPE    72446\n",
              "GEAR_BOX_TYPE     84015\n",
              "dtype: int64"
            ]
          },
          "metadata": {},
          "execution_count": 19
        }
      ]
    },
    {
      "cell_type": "code",
      "metadata": {
        "colab": {
          "base_uri": "https://localhost:8080/"
        },
        "id": "kGPSTuv1uveT",
        "outputId": "db425bcb-f161-47f0-d05c-b31abfcfeadf"
      },
      "source": [
        "F_VEHICLE_DATA.shape[0]"
      ],
      "execution_count": null,
      "outputs": [
        {
          "output_type": "execute_result",
          "data": {
            "text/plain": [
              "345092"
            ]
          },
          "metadata": {},
          "execution_count": 21
        }
      ]
    },
    {
      "cell_type": "markdown",
      "metadata": {
        "id": "f1b_jApRygbo"
      },
      "source": [
        "# Dealing With Null Values"
      ]
    },
    {
      "cell_type": "markdown",
      "metadata": {
        "id": "zkhh9eDk3OXq"
      },
      "source": [
        "### fill_the_table_with_baseid"
      ]
    },
    {
      "cell_type": "code",
      "metadata": {
        "id": "Qr_AdtyM3QTN"
      },
      "source": [
        "\n",
        "def fill_the_table_with_baseid(df,base_column, report_in_every=10000):\n",
        "  filled_count = 0 \n",
        "  count = 0\n",
        "\n",
        "  for column in df: # iterate through columns\n",
        "    count=0\n",
        "    if column == base_column: # skip the base column\n",
        "      continue\n",
        "    df_null = df[ df[column].isna() ] # take the null values of our column\n",
        "\n",
        "    for index in df_null.index: # iterate through null values of our column\n",
        "      # report the filled row percentage in every 10,000 rows.\n",
        "      if count % report_in_every == 0: \n",
        "        filled_percentage = (count/df_null.shape[0]) * 100\n",
        "        print(column, filled_percentage)\n",
        "      BASE_ID = df.loc[index, base_column]\n",
        "      df_BASEID = df[ df[base_column]==BASE_ID ] \n",
        "\n",
        "      df_non_empty = df_BASEID[ df_BASEID[column].notna() ]\n",
        "      #get non na values of a specific baseid\n",
        "      if df_non_empty.shape[0] > 0: # if baseid include non na value then::\n",
        "        df.at[index, column] = df_non_empty[column].iloc[0] #\n",
        "        filled_count += 1\n",
        "      # for row_index, row in df_BASEID.iterrows():\n",
        "      #   if not pd.isna(row[column]): # if this value is not na, then use its value\n",
        "      #     new_value = row[column]\n",
        "      #     df.at[index, column] = new_value\n",
        "      #     filled_count += 1\n",
        "      #     break\n",
        "      count += 1\n",
        "    print(column, 100.0)\n",
        "  print('Filled', filled_count, 'values in total.')\n",
        "  return df"
      ],
      "execution_count": null,
      "outputs": []
    },
    {
      "cell_type": "markdown",
      "metadata": {
        "id": "GEHCCBE97uME"
      },
      "source": [
        "### Selimin Kodu"
      ]
    },
    {
      "cell_type": "code",
      "metadata": {
        "id": "53R-k90G7rhi"
      },
      "source": [
        "#%%\n",
        "filled_customer['OCCUPATION'] = filled_customer['OCCUPATION'].fillna(\"Diğer\");\n",
        "filled_customer['BIRTH_DATE'].fillna(filled_customer['BIRTH_DATE'].median(),inplace=True)\n",
        "# yüzde 82 evli \n",
        "filled_customer['MARITAL_STATUS'].value_counts(normalize=True)\n",
        "filled_customer['MARITAL_STATUS'].fillna(\"Evli\",inplace=True)\n",
        "filled_customer.dropna(inplace=True)"
      ],
      "execution_count": null,
      "outputs": []
    },
    {
      "cell_type": "code",
      "metadata": {
        "id": "jBOJbhOn3Nn1"
      },
      "source": [
        ""
      ],
      "execution_count": null,
      "outputs": []
    },
    {
      "cell_type": "markdown",
      "metadata": {
        "id": "y65qaeaPrPC9"
      },
      "source": [
        "# Customer DF Operations"
      ]
    },
    {
      "cell_type": "code",
      "metadata": {
        "id": "0gPu14xODi_L"
      },
      "source": [
        "df_customer = F_CUST_DATA.copy()"
      ],
      "execution_count": null,
      "outputs": []
    },
    {
      "cell_type": "code",
      "metadata": {
        "id": "JlzOZcJcDy08"
      },
      "source": [
        "df_customer = df_customer.drop('MARITAL_STATUS_ID', axis=1)\n",
        "df_customer = df_customer.drop('GENDER_ID', axis=1)"
      ],
      "execution_count": null,
      "outputs": []
    },
    {
      "cell_type": "code",
      "metadata": {
        "colab": {
          "base_uri": "https://localhost:8080/"
        },
        "id": "JUeepYGGSoLl",
        "outputId": "2eec35fa-5aab-47bf-b317-5086a741fbd0"
      },
      "source": [
        "df_customer.isna().sum()"
      ],
      "execution_count": null,
      "outputs": [
        {
          "output_type": "execute_result",
          "data": {
            "text/plain": [
              "Unnamed: 0                            0\n",
              "BASE_CUSTOMER_ID                      0\n",
              "CUSTOMER_ID                           0\n",
              "GENDER                                3\n",
              "MARITAL_STATUS                   229117\n",
              "BIRTH_DATE                       204472\n",
              "FK_ADDRESS_COMMUNICATION_CITY    119578\n",
              "OCCUPATION                       468867\n",
              "dtype: int64"
            ]
          },
          "metadata": {},
          "execution_count": 13
        }
      ]
    },
    {
      "cell_type": "code",
      "metadata": {
        "colab": {
          "base_uri": "https://localhost:8080/"
        },
        "id": "cAbC4Io0nLZ_",
        "outputId": "461e6c89-25f6-46c0-89e0-1f688d66753e"
      },
      "source": [
        "df_customer.dtypes"
      ],
      "execution_count": null,
      "outputs": [
        {
          "output_type": "execute_result",
          "data": {
            "text/plain": [
              "Unnamed: 0                         int64\n",
              "BASE_CUSTOMER_ID                   int64\n",
              "CUSTOMER_ID                        int64\n",
              "GENDER                            object\n",
              "MARITAL_STATUS                    object\n",
              "BIRTH_DATE                       float64\n",
              "FK_ADDRESS_COMMUNICATION_CITY     object\n",
              "OCCUPATION                        object\n",
              "dtype: object"
            ]
          },
          "metadata": {},
          "execution_count": 14
        }
      ]
    },
    {
      "cell_type": "code",
      "metadata": {
        "colab": {
          "base_uri": "https://localhost:8080/",
          "height": 248
        },
        "id": "Fu8yj0iQnc7W",
        "outputId": "2b08c8f6-e41d-404d-a2db-cca1a915f4a4"
      },
      "source": [
        "df_customer.dropna().agg([min, max])"
      ],
      "execution_count": null,
      "outputs": [
        {
          "output_type": "execute_result",
          "data": {
            "text/html": [
              "<div>\n",
              "<style scoped>\n",
              "    .dataframe tbody tr th:only-of-type {\n",
              "        vertical-align: middle;\n",
              "    }\n",
              "\n",
              "    .dataframe tbody tr th {\n",
              "        vertical-align: top;\n",
              "    }\n",
              "\n",
              "    .dataframe thead th {\n",
              "        text-align: right;\n",
              "    }\n",
              "</style>\n",
              "<table border=\"1\" class=\"dataframe\">\n",
              "  <thead>\n",
              "    <tr style=\"text-align: right;\">\n",
              "      <th></th>\n",
              "      <th>Unnamed: 0</th>\n",
              "      <th>BASE_CUSTOMER_ID</th>\n",
              "      <th>CUSTOMER_ID</th>\n",
              "      <th>GENDER</th>\n",
              "      <th>MARITAL_STATUS</th>\n",
              "      <th>BIRTH_DATE</th>\n",
              "      <th>FK_ADDRESS_COMMUNICATION_CITY</th>\n",
              "      <th>OCCUPATION</th>\n",
              "    </tr>\n",
              "  </thead>\n",
              "  <tbody>\n",
              "    <tr>\n",
              "      <th>min</th>\n",
              "      <td>1</td>\n",
              "      <td>3</td>\n",
              "      <td>1000003</td>\n",
              "      <td>Erkek</td>\n",
              "      <td>Bekar</td>\n",
              "      <td>1914.0</td>\n",
              "      <td>Adana</td>\n",
              "      <td>Akademisyen / Öğr.görevlisi / Araştırma Görevlisi</td>\n",
              "    </tr>\n",
              "    <tr>\n",
              "      <th>max</th>\n",
              "      <td>849918</td>\n",
              "      <td>196556</td>\n",
              "      <td>1849873</td>\n",
              "      <td>Kadın</td>\n",
              "      <td>Evli</td>\n",
              "      <td>2020.0</td>\n",
              "      <td>Şırnak</td>\n",
              "      <td>Şöför / Taksici / Transfer</td>\n",
              "    </tr>\n",
              "  </tbody>\n",
              "</table>\n",
              "</div>"
            ],
            "text/plain": [
              "     Unnamed: 0  ...                                         OCCUPATION\n",
              "min           1  ...  Akademisyen / Öğr.görevlisi / Araştırma Görevlisi\n",
              "max      849918  ...                         Şöför / Taksici / Transfer\n",
              "\n",
              "[2 rows x 8 columns]"
            ]
          },
          "metadata": {},
          "execution_count": 78
        }
      ]
    },
    {
      "cell_type": "code",
      "metadata": {
        "colab": {
          "base_uri": "https://localhost:8080/"
        },
        "id": "YyytT4aKpuy9",
        "outputId": "ae037fec-c9b2-4f73-bcb7-4021cd4f533a"
      },
      "source": [
        "df_customer['BASE_CUSTOMER_ID'] = df_customer['BASE_CUSTOMER_ID'].astype('uint32')\n",
        "df_customer['CUSTOMER_ID'] = df_customer['CUSTOMER_ID'].astype('uint32')\n",
        "df_customer['Unnamed: 0'] = df_customer['Unnamed: 0'].astype('uint32')\n",
        "df_customer.dtypes"
      ],
      "execution_count": null,
      "outputs": [
        {
          "output_type": "execute_result",
          "data": {
            "text/plain": [
              "Unnamed: 0                        uint32\n",
              "BASE_CUSTOMER_ID                  uint32\n",
              "CUSTOMER_ID                       uint32\n",
              "GENDER                            object\n",
              "MARITAL_STATUS                    object\n",
              "BIRTH_DATE                       float64\n",
              "FK_ADDRESS_COMMUNICATION_CITY     object\n",
              "OCCUPATION                        object\n",
              "dtype: object"
            ]
          },
          "metadata": {},
          "execution_count": 81
        }
      ]
    },
    {
      "cell_type": "markdown",
      "metadata": {
        "id": "wnbpj77rrCiL"
      },
      "source": [
        "## CUST_DATA Filling The Customer Values"
      ]
    },
    {
      "cell_type": "markdown",
      "metadata": {
        "id": "Sw-flvvIi5h6"
      },
      "source": [
        "### Old Code"
      ]
    },
    {
      "cell_type": "code",
      "metadata": {
        "colab": {
          "base_uri": "https://localhost:8080/"
        },
        "id": "drDQgbAHSyW2",
        "outputId": "0d247215-5427-4e23-f0ea-a1ab670d3acf"
      },
      "source": [
        "# # count = 0\n",
        "# # filled_count = 0\n",
        "\n",
        "# for column in df:\n",
        "#   # count=0\n",
        "#   if column == 'BASE_CUSTOMER_ID':\n",
        "#     continue\n",
        "#   df_null = df[ df[column].isna() ]\n",
        "#   for index in df_null.index:\n",
        "#     # if count % 50000 == 0:\n",
        "#     #   print(column, count)\n",
        "#     base_customer = df.loc[index, 'BASE_CUSTOMER_ID']\n",
        "#     df_customer = df[ df['BASE_CUSTOMER_ID']==base_customer ] \n",
        "#     for row_index, row in df_customer.iterrows():\n",
        "#       if not pd.isna(row)[column]:\n",
        "#         new_value = row[column]\n",
        "#         df.at[index, column] = new_value\n",
        "#         # print(column, index, new_value)\n",
        "#         # filled_count += 1\n",
        "#         break\n",
        "#     # count += 1\n",
        "# # print(filled_count)"
      ],
      "execution_count": null,
      "outputs": [
        {
          "output_type": "stream",
          "name": "stdout",
          "text": [
            "MARITAL_STATUS 0\n",
            "MARITAL_STATUS 50000\n",
            "MARITAL_STATUS 100000\n",
            "MARITAL_STATUS 150000\n",
            "MARITAL_STATUS 200000\n",
            "BIRTH_DATE 0\n",
            "BIRTH_DATE 50000\n",
            "BIRTH_DATE 100000\n",
            "BIRTH_DATE 150000\n",
            "BIRTH_DATE 200000\n",
            "FK_ADDRESS_COMMUNICATION_CITY 0\n",
            "FK_ADDRESS_COMMUNICATION_CITY 50000\n",
            "FK_ADDRESS_COMMUNICATION_CITY 100000\n",
            "OCCUPATION 0\n",
            "OCCUPATION 50000\n",
            "OCCUPATION 100000\n",
            "OCCUPATION 150000\n",
            "OCCUPATION 200000\n",
            "OCCUPATION 250000\n",
            "OCCUPATION 300000\n",
            "OCCUPATION 350000\n",
            "OCCUPATION 400000\n",
            "OCCUPATION 450000\n",
            "638398\n"
          ]
        }
      ]
    },
    {
      "cell_type": "markdown",
      "metadata": {
        "id": "UHlSg98-i-Tr"
      },
      "source": [
        "### New Code"
      ]
    },
    {
      "cell_type": "code",
      "metadata": {
        "id": "NlMJcFqF4FHp",
        "colab": {
          "base_uri": "https://localhost:8080/",
          "height": 903
        },
        "outputId": "5262cba4-0bf6-40eb-d1db-99c54867153b"
      },
      "source": [
        "fill_the_table_with_baseid(df_customer, 'BASE_CUSTOMER_ID', report_in_every=80000)"
      ],
      "execution_count": null,
      "outputs": [
        {
          "output_type": "stream",
          "name": "stdout",
          "text": [
            "Unnamed: 0 100.0\n",
            "CUSTOMER_ID 100.0\n",
            "GENDER 0.0\n",
            "GENDER 100.0\n",
            "MARITAL_STATUS 0.0\n",
            "MARITAL_STATUS 91.41498977294802\n",
            "MARITAL_STATUS 100.0\n",
            "BIRTH_DATE 0.0\n",
            "BIRTH_DATE 39.12516139129074\n",
            "BIRTH_DATE 78.25032278258148\n",
            "BIRTH_DATE 100.0\n",
            "FK_ADDRESS_COMMUNICATION_CITY 0.0\n",
            "FK_ADDRESS_COMMUNICATION_CITY 66.90193848366756\n",
            "FK_ADDRESS_COMMUNICATION_CITY 100.0\n",
            "OCCUPATION 0.0\n",
            "OCCUPATION 17.062407889657408\n",
            "OCCUPATION 34.124815779314815\n",
            "OCCUPATION 51.18722366897222\n",
            "OCCUPATION 68.24963155862963\n",
            "OCCUPATION 85.31203944828704\n",
            "OCCUPATION 100.0\n",
            "Filled 496794 values in total.\n"
          ]
        },
        {
          "output_type": "execute_result",
          "data": {
            "text/html": [
              "<div>\n",
              "<style scoped>\n",
              "    .dataframe tbody tr th:only-of-type {\n",
              "        vertical-align: middle;\n",
              "    }\n",
              "\n",
              "    .dataframe tbody tr th {\n",
              "        vertical-align: top;\n",
              "    }\n",
              "\n",
              "    .dataframe thead th {\n",
              "        text-align: right;\n",
              "    }\n",
              "</style>\n",
              "<table border=\"1\" class=\"dataframe\">\n",
              "  <thead>\n",
              "    <tr style=\"text-align: right;\">\n",
              "      <th></th>\n",
              "      <th>Unnamed: 0</th>\n",
              "      <th>BASE_CUSTOMER_ID</th>\n",
              "      <th>CUSTOMER_ID</th>\n",
              "      <th>GENDER</th>\n",
              "      <th>MARITAL_STATUS</th>\n",
              "      <th>BIRTH_DATE</th>\n",
              "      <th>FK_ADDRESS_COMMUNICATION_CITY</th>\n",
              "      <th>OCCUPATION</th>\n",
              "    </tr>\n",
              "  </thead>\n",
              "  <tbody>\n",
              "    <tr>\n",
              "      <th>0</th>\n",
              "      <td>0</td>\n",
              "      <td>158891</td>\n",
              "      <td>1747700</td>\n",
              "      <td>Erkek</td>\n",
              "      <td>Evli</td>\n",
              "      <td>1975.0</td>\n",
              "      <td>İstanbul</td>\n",
              "      <td>Diğer</td>\n",
              "    </tr>\n",
              "    <tr>\n",
              "      <th>1</th>\n",
              "      <td>1</td>\n",
              "      <td>169233</td>\n",
              "      <td>1710561</td>\n",
              "      <td>Erkek</td>\n",
              "      <td>Evli</td>\n",
              "      <td>1962.0</td>\n",
              "      <td>Erzurum</td>\n",
              "      <td>Öğretmen / Eğitmen</td>\n",
              "    </tr>\n",
              "    <tr>\n",
              "      <th>2</th>\n",
              "      <td>2</td>\n",
              "      <td>30887</td>\n",
              "      <td>1043923</td>\n",
              "      <td>Erkek</td>\n",
              "      <td>Evli</td>\n",
              "      <td>1971.0</td>\n",
              "      <td>İstanbul</td>\n",
              "      <td>Esnaf</td>\n",
              "    </tr>\n",
              "    <tr>\n",
              "      <th>3</th>\n",
              "      <td>3</td>\n",
              "      <td>38013</td>\n",
              "      <td>1101926</td>\n",
              "      <td>Erkek</td>\n",
              "      <td>NaN</td>\n",
              "      <td>NaN</td>\n",
              "      <td>Manisa</td>\n",
              "      <td>NaN</td>\n",
              "    </tr>\n",
              "    <tr>\n",
              "      <th>4</th>\n",
              "      <td>4</td>\n",
              "      <td>157091</td>\n",
              "      <td>1819787</td>\n",
              "      <td>Kadın</td>\n",
              "      <td>Evli</td>\n",
              "      <td>1949.0</td>\n",
              "      <td>Ankara</td>\n",
              "      <td>Öğretmen / Eğitmen</td>\n",
              "    </tr>\n",
              "    <tr>\n",
              "      <th>...</th>\n",
              "      <td>...</td>\n",
              "      <td>...</td>\n",
              "      <td>...</td>\n",
              "      <td>...</td>\n",
              "      <td>...</td>\n",
              "      <td>...</td>\n",
              "      <td>...</td>\n",
              "      <td>...</td>\n",
              "    </tr>\n",
              "    <tr>\n",
              "      <th>849914</th>\n",
              "      <td>849914</td>\n",
              "      <td>18175</td>\n",
              "      <td>1744051</td>\n",
              "      <td>Erkek</td>\n",
              "      <td>Evli</td>\n",
              "      <td>1984.0</td>\n",
              "      <td>Gaziantep</td>\n",
              "      <td>Tekstilci</td>\n",
              "    </tr>\n",
              "    <tr>\n",
              "      <th>849915</th>\n",
              "      <td>849915</td>\n",
              "      <td>108604</td>\n",
              "      <td>1209486</td>\n",
              "      <td>Erkek</td>\n",
              "      <td>Evli</td>\n",
              "      <td>1969.0</td>\n",
              "      <td>İstanbul</td>\n",
              "      <td>Nakliyeci / Lojistik / Taşımacılık</td>\n",
              "    </tr>\n",
              "    <tr>\n",
              "      <th>849916</th>\n",
              "      <td>849916</td>\n",
              "      <td>155926</td>\n",
              "      <td>1670812</td>\n",
              "      <td>Erkek</td>\n",
              "      <td>Evli</td>\n",
              "      <td>1970.0</td>\n",
              "      <td>İstanbul</td>\n",
              "      <td>NaN</td>\n",
              "    </tr>\n",
              "    <tr>\n",
              "      <th>849917</th>\n",
              "      <td>849917</td>\n",
              "      <td>123223</td>\n",
              "      <td>1691689</td>\n",
              "      <td>Erkek</td>\n",
              "      <td>Evli</td>\n",
              "      <td>1970.0</td>\n",
              "      <td>Kayseri</td>\n",
              "      <td>NaN</td>\n",
              "    </tr>\n",
              "    <tr>\n",
              "      <th>849918</th>\n",
              "      <td>849918</td>\n",
              "      <td>88245</td>\n",
              "      <td>1300543</td>\n",
              "      <td>Kadın</td>\n",
              "      <td>Bekar</td>\n",
              "      <td>1966.0</td>\n",
              "      <td>İstanbul</td>\n",
              "      <td>Tekstilci</td>\n",
              "    </tr>\n",
              "  </tbody>\n",
              "</table>\n",
              "<p>849919 rows × 8 columns</p>\n",
              "</div>"
            ],
            "text/plain": [
              "        Unnamed: 0  ...                          OCCUPATION\n",
              "0                0  ...                               Diğer\n",
              "1                1  ...                  Öğretmen / Eğitmen\n",
              "2                2  ...                               Esnaf\n",
              "3                3  ...                                 NaN\n",
              "4                4  ...                  Öğretmen / Eğitmen\n",
              "...            ...  ...                                 ...\n",
              "849914      849914  ...                           Tekstilci\n",
              "849915      849915  ...  Nakliyeci / Lojistik / Taşımacılık\n",
              "849916      849916  ...                                 NaN\n",
              "849917      849917  ...                                 NaN\n",
              "849918      849918  ...                           Tekstilci\n",
              "\n",
              "[849919 rows x 8 columns]"
            ]
          },
          "metadata": {},
          "execution_count": 87
        }
      ]
    },
    {
      "cell_type": "code",
      "metadata": {
        "id": "5OnoVU5lc32A"
      },
      "source": [
        "df_customer.to_csv('df_customer_filled_v2.csv')"
      ],
      "execution_count": null,
      "outputs": []
    },
    {
      "cell_type": "code",
      "metadata": {
        "id": "7nDv7j0ziHZy"
      },
      "source": [
        "!cp df_customer_filled_v2.csv drive/MyDrive/"
      ],
      "execution_count": null,
      "outputs": []
    },
    {
      "cell_type": "code",
      "metadata": {
        "id": "zUmy7FJSVEjg"
      },
      "source": [
        "df_customer = pd.read_csv('drive/MyDrive/df_customer_filled_v2.csv')"
      ],
      "execution_count": 51,
      "outputs": []
    },
    {
      "cell_type": "markdown",
      "metadata": {
        "id": "jg5z1avcnuBf"
      },
      "source": [
        "## Customer Drop City"
      ]
    },
    {
      "cell_type": "code",
      "metadata": {
        "id": "MIkNdGZDnz-y"
      },
      "source": [
        "df_customer = df_customer.drop('FK_ADDRESS_COMMUNICATION_CITY', axis=1)"
      ],
      "execution_count": 52,
      "outputs": []
    },
    {
      "cell_type": "code",
      "metadata": {
        "colab": {
          "base_uri": "https://localhost:8080/",
          "height": 80
        },
        "id": "eBycPTxFnz8B",
        "outputId": "f15c3e82-04ef-4d1d-c474-2140c717adf9"
      },
      "source": [
        "df_customer.head(1)"
      ],
      "execution_count": 68,
      "outputs": [
        {
          "output_type": "execute_result",
          "data": {
            "text/html": [
              "<div>\n",
              "<style scoped>\n",
              "    .dataframe tbody tr th:only-of-type {\n",
              "        vertical-align: middle;\n",
              "    }\n",
              "\n",
              "    .dataframe tbody tr th {\n",
              "        vertical-align: top;\n",
              "    }\n",
              "\n",
              "    .dataframe thead th {\n",
              "        text-align: right;\n",
              "    }\n",
              "</style>\n",
              "<table border=\"1\" class=\"dataframe\">\n",
              "  <thead>\n",
              "    <tr style=\"text-align: right;\">\n",
              "      <th></th>\n",
              "      <th>Unnamed: 0</th>\n",
              "      <th>BASE_CUSTOMER_ID</th>\n",
              "      <th>CUSTOMER_ID</th>\n",
              "      <th>GENDER</th>\n",
              "      <th>MARITAL_STATUS</th>\n",
              "      <th>BIRTH_DATE</th>\n",
              "      <th>OCCUPATION</th>\n",
              "    </tr>\n",
              "  </thead>\n",
              "  <tbody>\n",
              "    <tr>\n",
              "      <th>0</th>\n",
              "      <td>0</td>\n",
              "      <td>158891</td>\n",
              "      <td>1747700</td>\n",
              "      <td>Erkek</td>\n",
              "      <td>Evli</td>\n",
              "      <td>1975.0</td>\n",
              "      <td>Diğer</td>\n",
              "    </tr>\n",
              "  </tbody>\n",
              "</table>\n",
              "</div>"
            ],
            "text/plain": [
              "   Unnamed: 0  BASE_CUSTOMER_ID  ...  BIRTH_DATE OCCUPATION\n",
              "0           0            158891  ...      1975.0      Diğer\n",
              "\n",
              "[1 rows x 7 columns]"
            ]
          },
          "metadata": {},
          "execution_count": 68
        }
      ]
    },
    {
      "cell_type": "markdown",
      "metadata": {
        "id": "l9x_OwO7vHBE"
      },
      "source": [
        "## Customer BIRTH_DATE to AGE"
      ]
    },
    {
      "cell_type": "code",
      "metadata": {
        "colab": {
          "base_uri": "https://localhost:8080/",
          "height": 203
        },
        "id": "_w7zq9h4vLUv",
        "outputId": "eec3fa5c-b63b-4c7e-f249-703c170b2203"
      },
      "source": [
        "df_customer['AGE'] = df_customer.BIRTH_DATE.map(lambda date: current_year-date)\n",
        "df_customer.head(5)"
      ],
      "execution_count": 70,
      "outputs": [
        {
          "output_type": "execute_result",
          "data": {
            "text/html": [
              "<div>\n",
              "<style scoped>\n",
              "    .dataframe tbody tr th:only-of-type {\n",
              "        vertical-align: middle;\n",
              "    }\n",
              "\n",
              "    .dataframe tbody tr th {\n",
              "        vertical-align: top;\n",
              "    }\n",
              "\n",
              "    .dataframe thead th {\n",
              "        text-align: right;\n",
              "    }\n",
              "</style>\n",
              "<table border=\"1\" class=\"dataframe\">\n",
              "  <thead>\n",
              "    <tr style=\"text-align: right;\">\n",
              "      <th></th>\n",
              "      <th>Unnamed: 0</th>\n",
              "      <th>BASE_CUSTOMER_ID</th>\n",
              "      <th>CUSTOMER_ID</th>\n",
              "      <th>GENDER</th>\n",
              "      <th>MARITAL_STATUS</th>\n",
              "      <th>BIRTH_DATE</th>\n",
              "      <th>OCCUPATION</th>\n",
              "      <th>AGE</th>\n",
              "    </tr>\n",
              "  </thead>\n",
              "  <tbody>\n",
              "    <tr>\n",
              "      <th>0</th>\n",
              "      <td>0</td>\n",
              "      <td>158891</td>\n",
              "      <td>1747700</td>\n",
              "      <td>Erkek</td>\n",
              "      <td>Evli</td>\n",
              "      <td>1975.0</td>\n",
              "      <td>Diğer</td>\n",
              "      <td>46.0</td>\n",
              "    </tr>\n",
              "    <tr>\n",
              "      <th>1</th>\n",
              "      <td>1</td>\n",
              "      <td>169233</td>\n",
              "      <td>1710561</td>\n",
              "      <td>Erkek</td>\n",
              "      <td>Evli</td>\n",
              "      <td>1962.0</td>\n",
              "      <td>Öğretmen / Eğitmen</td>\n",
              "      <td>59.0</td>\n",
              "    </tr>\n",
              "    <tr>\n",
              "      <th>2</th>\n",
              "      <td>2</td>\n",
              "      <td>30887</td>\n",
              "      <td>1043923</td>\n",
              "      <td>Erkek</td>\n",
              "      <td>Evli</td>\n",
              "      <td>1971.0</td>\n",
              "      <td>Esnaf</td>\n",
              "      <td>50.0</td>\n",
              "    </tr>\n",
              "    <tr>\n",
              "      <th>3</th>\n",
              "      <td>3</td>\n",
              "      <td>38013</td>\n",
              "      <td>1101926</td>\n",
              "      <td>Erkek</td>\n",
              "      <td>NaN</td>\n",
              "      <td>NaN</td>\n",
              "      <td>NaN</td>\n",
              "      <td>NaN</td>\n",
              "    </tr>\n",
              "    <tr>\n",
              "      <th>4</th>\n",
              "      <td>4</td>\n",
              "      <td>157091</td>\n",
              "      <td>1819787</td>\n",
              "      <td>Kadın</td>\n",
              "      <td>Evli</td>\n",
              "      <td>1949.0</td>\n",
              "      <td>Öğretmen / Eğitmen</td>\n",
              "      <td>72.0</td>\n",
              "    </tr>\n",
              "  </tbody>\n",
              "</table>\n",
              "</div>"
            ],
            "text/plain": [
              "   Unnamed: 0  BASE_CUSTOMER_ID  ...          OCCUPATION   AGE\n",
              "0           0            158891  ...               Diğer  46.0\n",
              "1           1            169233  ...  Öğretmen / Eğitmen  59.0\n",
              "2           2             30887  ...               Esnaf  50.0\n",
              "3           3             38013  ...                 NaN   NaN\n",
              "4           4            157091  ...  Öğretmen / Eğitmen  72.0\n",
              "\n",
              "[5 rows x 8 columns]"
            ]
          },
          "metadata": {},
          "execution_count": 70
        }
      ]
    },
    {
      "cell_type": "code",
      "metadata": {
        "colab": {
          "base_uri": "https://localhost:8080/",
          "height": 80
        },
        "id": "xqtCxDnxvxQf",
        "outputId": "a04a479f-bde4-4090-a73d-33eccb214333"
      },
      "source": [
        "df_customer = df_customer.drop('BIRTH_DATE', axis=1)\n",
        "df_customer.head(1)"
      ],
      "execution_count": 71,
      "outputs": [
        {
          "output_type": "execute_result",
          "data": {
            "text/html": [
              "<div>\n",
              "<style scoped>\n",
              "    .dataframe tbody tr th:only-of-type {\n",
              "        vertical-align: middle;\n",
              "    }\n",
              "\n",
              "    .dataframe tbody tr th {\n",
              "        vertical-align: top;\n",
              "    }\n",
              "\n",
              "    .dataframe thead th {\n",
              "        text-align: right;\n",
              "    }\n",
              "</style>\n",
              "<table border=\"1\" class=\"dataframe\">\n",
              "  <thead>\n",
              "    <tr style=\"text-align: right;\">\n",
              "      <th></th>\n",
              "      <th>Unnamed: 0</th>\n",
              "      <th>BASE_CUSTOMER_ID</th>\n",
              "      <th>CUSTOMER_ID</th>\n",
              "      <th>GENDER</th>\n",
              "      <th>MARITAL_STATUS</th>\n",
              "      <th>OCCUPATION</th>\n",
              "      <th>AGE</th>\n",
              "    </tr>\n",
              "  </thead>\n",
              "  <tbody>\n",
              "    <tr>\n",
              "      <th>0</th>\n",
              "      <td>0</td>\n",
              "      <td>158891</td>\n",
              "      <td>1747700</td>\n",
              "      <td>Erkek</td>\n",
              "      <td>Evli</td>\n",
              "      <td>Diğer</td>\n",
              "      <td>46.0</td>\n",
              "    </tr>\n",
              "  </tbody>\n",
              "</table>\n",
              "</div>"
            ],
            "text/plain": [
              "   Unnamed: 0  BASE_CUSTOMER_ID  CUSTOMER_ID  ... MARITAL_STATUS OCCUPATION   AGE\n",
              "0           0            158891      1747700  ...           Evli      Diğer  46.0\n",
              "\n",
              "[1 rows x 7 columns]"
            ]
          },
          "metadata": {},
          "execution_count": 71
        }
      ]
    },
    {
      "cell_type": "code",
      "metadata": {
        "id": "4l4vhjZGv2zE"
      },
      "source": [
        "df_customer.drop(df_customer.columns[0], axis=1).to_csv('drive/MyDrive/df_customer_filled_v2.csv')"
      ],
      "execution_count": 73,
      "outputs": []
    },
    {
      "cell_type": "code",
      "metadata": {
        "colab": {
          "base_uri": "https://localhost:8080/",
          "height": 80
        },
        "id": "MH25UDs7wWt2",
        "outputId": "9b6ab69b-00f9-4cea-cf0e-a9cfcedfd4db"
      },
      "source": [
        "df_customer.head(1)"
      ],
      "execution_count": 74,
      "outputs": [
        {
          "output_type": "execute_result",
          "data": {
            "text/html": [
              "<div>\n",
              "<style scoped>\n",
              "    .dataframe tbody tr th:only-of-type {\n",
              "        vertical-align: middle;\n",
              "    }\n",
              "\n",
              "    .dataframe tbody tr th {\n",
              "        vertical-align: top;\n",
              "    }\n",
              "\n",
              "    .dataframe thead th {\n",
              "        text-align: right;\n",
              "    }\n",
              "</style>\n",
              "<table border=\"1\" class=\"dataframe\">\n",
              "  <thead>\n",
              "    <tr style=\"text-align: right;\">\n",
              "      <th></th>\n",
              "      <th>Unnamed: 0</th>\n",
              "      <th>BASE_CUSTOMER_ID</th>\n",
              "      <th>CUSTOMER_ID</th>\n",
              "      <th>GENDER</th>\n",
              "      <th>MARITAL_STATUS</th>\n",
              "      <th>OCCUPATION</th>\n",
              "      <th>AGE</th>\n",
              "    </tr>\n",
              "  </thead>\n",
              "  <tbody>\n",
              "    <tr>\n",
              "      <th>0</th>\n",
              "      <td>0</td>\n",
              "      <td>158891</td>\n",
              "      <td>1747700</td>\n",
              "      <td>Erkek</td>\n",
              "      <td>Evli</td>\n",
              "      <td>Diğer</td>\n",
              "      <td>46.0</td>\n",
              "    </tr>\n",
              "  </tbody>\n",
              "</table>\n",
              "</div>"
            ],
            "text/plain": [
              "   Unnamed: 0  BASE_CUSTOMER_ID  CUSTOMER_ID  ... MARITAL_STATUS OCCUPATION   AGE\n",
              "0           0            158891      1747700  ...           Evli      Diğer  46.0\n",
              "\n",
              "[1 rows x 7 columns]"
            ]
          },
          "metadata": {},
          "execution_count": 74
        }
      ]
    },
    {
      "cell_type": "markdown",
      "metadata": {
        "id": "96ztkKsqJBVb"
      },
      "source": [
        "# VEHICLE"
      ]
    },
    {
      "cell_type": "code",
      "metadata": {
        "id": "mvrfNBsTJEeu"
      },
      "source": [
        ""
      ],
      "execution_count": null,
      "outputs": []
    },
    {
      "cell_type": "markdown",
      "metadata": {
        "id": "U0bSnGzBZ-fj"
      },
      "source": [
        "### Vehicle Typo Correct"
      ]
    },
    {
      "cell_type": "code",
      "metadata": {
        "id": "IhXX5J8B16ub"
      },
      "source": [
        "typo_gear = np.array([\n",
        "    ('Otomatik (DSG)', 'OTOMATİK'),\n",
        "    ('Otomatik', 'OTOMATİK'),\n",
        "    ('Mekanik', 'MANUEL'),\n",
        "    ('Sürekli Değişken', 'OTOMATİK'),\n",
        "    ('Otomaik', 'OTOMATİK'),\n",
        "    ('?automatisch', 'OTOMATİK'),\n",
        "    ('Otomatik Değişken', 'OTOMATİK'),\n",
        "    ('Sürekli değişken', 'OTOMATİK'),\n",
        "    ('Otomatik (DSG Şanzuman)', 'OTOMATİK'),\n",
        "    ('Düz', 'MANUEL'),\n",
        "    ('Otomatik(DSG)', 'OTOMATİK'),\n",
        "    ('?Handschaltung', 'MANUEL'),\n",
        "    ('manuel', 'MANUEL'),\n",
        "    ('Manuel', 'MANUEL')\n",
        "])\n",
        "typo_gas_type = np.array([\n",
        "    ('Diesel', 'Dizel'),\n",
        "    ('Kurşunsuz benzin', 'Benzin'),\n",
        "    ('Kurşunsuz Benzin', 'Benzin'),\n",
        "    ('Seçiniz', None),\n",
        "    ('?Benzin', 'Benzin'),\n",
        "    ('Benzin/Hybrid', 'Benzin/Hibrit'),\n",
        "])\n",
        "\n",
        "def typo_regulate(typo,column_name,data):\n",
        "    for key,val in typo:\n",
        "        data[column_name].replace(key,val,inplace=True)\n",
        "\n",
        "df_vehicle = F_VEHICLE_DATA.copy()\n",
        "typo_regulate(typo_gear,'GEAR_BOX_TYPE', df_vehicle)\n",
        "typo_regulate(typo_gas_type,'MOTOR_GAS_TYPE', df_vehicle)"
      ],
      "execution_count": null,
      "outputs": []
    },
    {
      "cell_type": "code",
      "metadata": {
        "colab": {
          "base_uri": "https://localhost:8080/"
        },
        "id": "zgvjuNEr2oT9",
        "outputId": "9fdbac3b-0ba2-4380-b74b-15cd8115d6ef"
      },
      "source": [
        "df_vehicle['GEAR_BOX_TYPE'].unique()"
      ],
      "execution_count": null,
      "outputs": [
        {
          "output_type": "execute_result",
          "data": {
            "text/plain": [
              "array(['MANUEL', 'OTOMATİK', nan], dtype=object)"
            ]
          },
          "metadata": {},
          "execution_count": 17
        }
      ]
    },
    {
      "cell_type": "code",
      "metadata": {
        "colab": {
          "base_uri": "https://localhost:8080/"
        },
        "id": "AmvzBRLb24x-",
        "outputId": "9e100e3d-784e-4624-e22b-537c0423bd85"
      },
      "source": [
        "df_vehicle.isna().sum()"
      ],
      "execution_count": null,
      "outputs": [
        {
          "output_type": "execute_result",
          "data": {
            "text/plain": [
              "Unnamed: 0            0\n",
              "VEHICLE_ID            0\n",
              "TRAFFIC_DATE        866\n",
              "BRAND_CODE            0\n",
              "BASEMODEL_CODE        0\n",
              "TOPMODEL_CODE         0\n",
              "MOTOR_GAS_TYPE    73526\n",
              "GEAR_BOX_TYPE     84015\n",
              "dtype: int64"
            ]
          },
          "metadata": {},
          "execution_count": 18
        }
      ]
    },
    {
      "cell_type": "markdown",
      "metadata": {
        "id": "m9RscYdzTN7l"
      },
      "source": [
        "### Vehicle Dtype Casting\n"
      ]
    },
    {
      "cell_type": "code",
      "metadata": {
        "colab": {
          "base_uri": "https://localhost:8080/"
        },
        "id": "ILBnwHr8TTz2",
        "outputId": "690b03dd-cad3-4521-e763-f6fa85a704bc"
      },
      "source": [
        "df_vehicle.dtypes"
      ],
      "execution_count": null,
      "outputs": [
        {
          "output_type": "execute_result",
          "data": {
            "text/plain": [
              "Unnamed: 0         int64\n",
              "VEHICLE_ID         int64\n",
              "TRAFFIC_DATE      object\n",
              "BRAND_CODE        object\n",
              "BASEMODEL_CODE     int64\n",
              "TOPMODEL_CODE      int64\n",
              "MOTOR_GAS_TYPE    object\n",
              "GEAR_BOX_TYPE     object\n",
              "dtype: object"
            ]
          },
          "metadata": {},
          "execution_count": 93
        }
      ]
    },
    {
      "cell_type": "code",
      "metadata": {
        "colab": {
          "base_uri": "https://localhost:8080/",
          "height": 110
        },
        "id": "6yJfOKf2ThlL",
        "outputId": "d93cbf10-29ab-430b-d380-510c1423e6ec"
      },
      "source": [
        "df_vehicle.agg([min,max])"
      ],
      "execution_count": null,
      "outputs": [
        {
          "output_type": "execute_result",
          "data": {
            "text/html": [
              "<div>\n",
              "<style scoped>\n",
              "    .dataframe tbody tr th:only-of-type {\n",
              "        vertical-align: middle;\n",
              "    }\n",
              "\n",
              "    .dataframe tbody tr th {\n",
              "        vertical-align: top;\n",
              "    }\n",
              "\n",
              "    .dataframe thead th {\n",
              "        text-align: right;\n",
              "    }\n",
              "</style>\n",
              "<table border=\"1\" class=\"dataframe\">\n",
              "  <thead>\n",
              "    <tr style=\"text-align: right;\">\n",
              "      <th></th>\n",
              "      <th>Unnamed: 0</th>\n",
              "      <th>VEHICLE_ID</th>\n",
              "      <th>BRAND_CODE</th>\n",
              "      <th>BASEMODEL_CODE</th>\n",
              "      <th>TOPMODEL_CODE</th>\n",
              "    </tr>\n",
              "  </thead>\n",
              "  <tbody>\n",
              "    <tr>\n",
              "      <th>min</th>\n",
              "      <td>0</td>\n",
              "      <td>5000001</td>\n",
              "      <td>K</td>\n",
              "      <td>10706</td>\n",
              "      <td>9083</td>\n",
              "    </tr>\n",
              "    <tr>\n",
              "      <th>max</th>\n",
              "      <td>345091</td>\n",
              "      <td>5345092</td>\n",
              "      <td>Z</td>\n",
              "      <td>18140</td>\n",
              "      <td>10010</td>\n",
              "    </tr>\n",
              "  </tbody>\n",
              "</table>\n",
              "</div>"
            ],
            "text/plain": [
              "     Unnamed: 0  VEHICLE_ID BRAND_CODE  BASEMODEL_CODE  TOPMODEL_CODE\n",
              "min           0     5000001          K           10706           9083\n",
              "max      345091     5345092          Z           18140          10010"
            ]
          },
          "metadata": {},
          "execution_count": 94
        }
      ]
    },
    {
      "cell_type": "code",
      "metadata": {
        "colab": {
          "base_uri": "https://localhost:8080/"
        },
        "id": "4nFGaJiSTliH",
        "outputId": "1a8f8156-0207-4e07-a2e1-739e58b20d49"
      },
      "source": [
        "df_vehicle['BASEMODEL_CODE'] =  df_vehicle['BASEMODEL_CODE'].astype('uint16')\n",
        "df_vehicle['TOPMODEL_CODE'] = df_vehicle['TOPMODEL_CODE'].astype('uint16')\n",
        "df_vehicle['VEHICLE_ID'] = df_vehicle['VEHICLE_ID'].astype('uint32')\n",
        "df_vehicle['Unnamed: 0'] = df_vehicle['VEHICLE_ID'].astype('uint32')\n",
        "df_vehicle.dtypes"
      ],
      "execution_count": null,
      "outputs": [
        {
          "output_type": "execute_result",
          "data": {
            "text/plain": [
              "Unnamed: 0        uint32\n",
              "VEHICLE_ID        uint32\n",
              "TRAFFIC_DATE      object\n",
              "BRAND_CODE        object\n",
              "BASEMODEL_CODE    uint16\n",
              "TOPMODEL_CODE     uint16\n",
              "MOTOR_GAS_TYPE    object\n",
              "GEAR_BOX_TYPE     object\n",
              "dtype: object"
            ]
          },
          "metadata": {},
          "execution_count": 95
        }
      ]
    },
    {
      "cell_type": "code",
      "metadata": {
        "colab": {
          "base_uri": "https://localhost:8080/",
          "height": 452
        },
        "id": "wBbbAa_Z4I7H",
        "outputId": "7460ae36-424d-4db9-ce2b-d19c71322ef1"
      },
      "source": [
        "F_VEHICLE_DATA"
      ],
      "execution_count": null,
      "outputs": [
        {
          "output_type": "execute_result",
          "data": {
            "text/html": [
              "<div>\n",
              "<style scoped>\n",
              "    .dataframe tbody tr th:only-of-type {\n",
              "        vertical-align: middle;\n",
              "    }\n",
              "\n",
              "    .dataframe tbody tr th {\n",
              "        vertical-align: top;\n",
              "    }\n",
              "\n",
              "    .dataframe thead th {\n",
              "        text-align: right;\n",
              "    }\n",
              "</style>\n",
              "<table border=\"1\" class=\"dataframe\">\n",
              "  <thead>\n",
              "    <tr style=\"text-align: right;\">\n",
              "      <th></th>\n",
              "      <th>Unnamed: 0</th>\n",
              "      <th>VEHICLE_ID</th>\n",
              "      <th>TRAFFIC_DATE</th>\n",
              "      <th>BRAND_CODE</th>\n",
              "      <th>BASEMODEL_CODE</th>\n",
              "      <th>TOPMODEL_CODE</th>\n",
              "      <th>MOTOR_GAS_TYPE</th>\n",
              "      <th>GEAR_BOX_TYPE</th>\n",
              "    </tr>\n",
              "  </thead>\n",
              "  <tbody>\n",
              "    <tr>\n",
              "      <th>0</th>\n",
              "      <td>0</td>\n",
              "      <td>5317713</td>\n",
              "      <td>2017-12-07</td>\n",
              "      <td>Z</td>\n",
              "      <td>13398</td>\n",
              "      <td>9349</td>\n",
              "      <td>Benzin</td>\n",
              "      <td>MANUEL</td>\n",
              "    </tr>\n",
              "    <tr>\n",
              "      <th>1</th>\n",
              "      <td>1</td>\n",
              "      <td>5259212</td>\n",
              "      <td>2014-12-09</td>\n",
              "      <td>X</td>\n",
              "      <td>15694</td>\n",
              "      <td>9524</td>\n",
              "      <td>Dizel</td>\n",
              "      <td>OTOMATİK</td>\n",
              "    </tr>\n",
              "    <tr>\n",
              "      <th>2</th>\n",
              "      <td>2</td>\n",
              "      <td>5110414</td>\n",
              "      <td>2005-12-12</td>\n",
              "      <td>Y</td>\n",
              "      <td>11183</td>\n",
              "      <td>9118</td>\n",
              "      <td>Benzin</td>\n",
              "      <td>OTOMATİK</td>\n",
              "    </tr>\n",
              "    <tr>\n",
              "      <th>3</th>\n",
              "      <td>3</td>\n",
              "      <td>5101263</td>\n",
              "      <td>2005-08-23</td>\n",
              "      <td>X</td>\n",
              "      <td>15039</td>\n",
              "      <td>9495</td>\n",
              "      <td>Benzin</td>\n",
              "      <td>MANUEL</td>\n",
              "    </tr>\n",
              "    <tr>\n",
              "      <th>4</th>\n",
              "      <td>4</td>\n",
              "      <td>5053909</td>\n",
              "      <td>2003-04-09</td>\n",
              "      <td>Y</td>\n",
              "      <td>12255</td>\n",
              "      <td>9219</td>\n",
              "      <td>NaN</td>\n",
              "      <td>NaN</td>\n",
              "    </tr>\n",
              "    <tr>\n",
              "      <th>...</th>\n",
              "      <td>...</td>\n",
              "      <td>...</td>\n",
              "      <td>...</td>\n",
              "      <td>...</td>\n",
              "      <td>...</td>\n",
              "      <td>...</td>\n",
              "      <td>...</td>\n",
              "      <td>...</td>\n",
              "    </tr>\n",
              "    <tr>\n",
              "      <th>345087</th>\n",
              "      <td>345087</td>\n",
              "      <td>5253033</td>\n",
              "      <td>2014-07-24</td>\n",
              "      <td>T</td>\n",
              "      <td>13515</td>\n",
              "      <td>9352</td>\n",
              "      <td>Benzin</td>\n",
              "      <td>MANUEL</td>\n",
              "    </tr>\n",
              "    <tr>\n",
              "      <th>345088</th>\n",
              "      <td>345088</td>\n",
              "      <td>5174679</td>\n",
              "      <td>2010-05-27</td>\n",
              "      <td>T</td>\n",
              "      <td>13833</td>\n",
              "      <td>9376</td>\n",
              "      <td>Benzin</td>\n",
              "      <td>MANUEL</td>\n",
              "    </tr>\n",
              "    <tr>\n",
              "      <th>345089</th>\n",
              "      <td>345089</td>\n",
              "      <td>5059846</td>\n",
              "      <td>2004-12-14</td>\n",
              "      <td>X</td>\n",
              "      <td>15316</td>\n",
              "      <td>9509</td>\n",
              "      <td>Benzin</td>\n",
              "      <td>OTOMATİK</td>\n",
              "    </tr>\n",
              "    <tr>\n",
              "      <th>345090</th>\n",
              "      <td>345090</td>\n",
              "      <td>5080882</td>\n",
              "      <td>2004-06-29</td>\n",
              "      <td>K</td>\n",
              "      <td>14615</td>\n",
              "      <td>9446</td>\n",
              "      <td>Dizel</td>\n",
              "      <td>MANUEL</td>\n",
              "    </tr>\n",
              "    <tr>\n",
              "      <th>345091</th>\n",
              "      <td>345091</td>\n",
              "      <td>5057488</td>\n",
              "      <td>2003-11-18</td>\n",
              "      <td>Y</td>\n",
              "      <td>16308</td>\n",
              "      <td>9571</td>\n",
              "      <td>NaN</td>\n",
              "      <td>NaN</td>\n",
              "    </tr>\n",
              "  </tbody>\n",
              "</table>\n",
              "<p>345092 rows × 8 columns</p>\n",
              "</div>"
            ],
            "text/plain": [
              "        Unnamed: 0  VEHICLE_ID  ... MOTOR_GAS_TYPE GEAR_BOX_TYPE\n",
              "0                0     5317713  ...         Benzin        MANUEL\n",
              "1                1     5259212  ...          Dizel      OTOMATİK\n",
              "2                2     5110414  ...         Benzin      OTOMATİK\n",
              "3                3     5101263  ...         Benzin        MANUEL\n",
              "4                4     5053909  ...            NaN           NaN\n",
              "...            ...         ...  ...            ...           ...\n",
              "345087      345087     5253033  ...         Benzin        MANUEL\n",
              "345088      345088     5174679  ...         Benzin        MANUEL\n",
              "345089      345089     5059846  ...         Benzin      OTOMATİK\n",
              "345090      345090     5080882  ...          Dizel        MANUEL\n",
              "345091      345091     5057488  ...            NaN           NaN\n",
              "\n",
              "[345092 rows x 8 columns]"
            ]
          },
          "metadata": {},
          "execution_count": 32
        }
      ]
    },
    {
      "cell_type": "markdown",
      "metadata": {
        "id": "s3UYERtShfQI"
      },
      "source": [
        "### VEHICLE_DATA Filling"
      ]
    },
    {
      "cell_type": "code",
      "metadata": {
        "colab": {
          "base_uri": "https://localhost:8080/",
          "height": 906
        },
        "id": "VVeR2KTMhqlW",
        "outputId": "270d949b-bec6-4f17-cd48-982da099edd2"
      },
      "source": [
        "fill_the_table_with_baseid(df_vehicle, 'TOPMODEL_CODE')"
      ],
      "execution_count": null,
      "outputs": [
        {
          "output_type": "stream",
          "name": "stdout",
          "text": [
            "Unnamed: 0 100.0\n",
            "VEHICLE_ID 100.0\n",
            "TRAFFIC_DATE 0.0\n",
            "TRAFFIC_DATE 100.0\n",
            "BRAND_CODE 100.0\n",
            "BASEMODEL_CODE 100.0\n",
            "MOTOR_GAS_TYPE 0.0\n",
            "MOTOR_GAS_TYPE 13.600631069281615\n",
            "MOTOR_GAS_TYPE 27.20126213856323\n",
            "MOTOR_GAS_TYPE 40.80189320784484\n",
            "MOTOR_GAS_TYPE 54.40252427712646\n",
            "MOTOR_GAS_TYPE 68.00315534640808\n",
            "MOTOR_GAS_TYPE 81.60378641568968\n",
            "MOTOR_GAS_TYPE 95.2044174849713\n",
            "MOTOR_GAS_TYPE 100.0\n",
            "GEAR_BOX_TYPE 0.0\n",
            "GEAR_BOX_TYPE 11.902636433970125\n",
            "GEAR_BOX_TYPE 23.80527286794025\n",
            "GEAR_BOX_TYPE 35.70790930191038\n",
            "GEAR_BOX_TYPE 47.6105457358805\n",
            "GEAR_BOX_TYPE 59.51318216985062\n",
            "GEAR_BOX_TYPE 71.41581860382075\n",
            "GEAR_BOX_TYPE 83.31845503779087\n",
            "GEAR_BOX_TYPE 95.221091471761\n",
            "GEAR_BOX_TYPE 100.0\n",
            "Filled 64576 values in total.\n"
          ]
        },
        {
          "output_type": "execute_result",
          "data": {
            "text/html": [
              "<div>\n",
              "<style scoped>\n",
              "    .dataframe tbody tr th:only-of-type {\n",
              "        vertical-align: middle;\n",
              "    }\n",
              "\n",
              "    .dataframe tbody tr th {\n",
              "        vertical-align: top;\n",
              "    }\n",
              "\n",
              "    .dataframe thead th {\n",
              "        text-align: right;\n",
              "    }\n",
              "</style>\n",
              "<table border=\"1\" class=\"dataframe\">\n",
              "  <thead>\n",
              "    <tr style=\"text-align: right;\">\n",
              "      <th></th>\n",
              "      <th>Unnamed: 0</th>\n",
              "      <th>VEHICLE_ID</th>\n",
              "      <th>TRAFFIC_DATE</th>\n",
              "      <th>BRAND_CODE</th>\n",
              "      <th>BASEMODEL_CODE</th>\n",
              "      <th>TOPMODEL_CODE</th>\n",
              "      <th>MOTOR_GAS_TYPE</th>\n",
              "      <th>GEAR_BOX_TYPE</th>\n",
              "    </tr>\n",
              "  </thead>\n",
              "  <tbody>\n",
              "    <tr>\n",
              "      <th>0</th>\n",
              "      <td>5317713</td>\n",
              "      <td>5317713</td>\n",
              "      <td>2017-12-07</td>\n",
              "      <td>Z</td>\n",
              "      <td>13398</td>\n",
              "      <td>9349</td>\n",
              "      <td>Benzin</td>\n",
              "      <td>MANUEL</td>\n",
              "    </tr>\n",
              "    <tr>\n",
              "      <th>1</th>\n",
              "      <td>5259212</td>\n",
              "      <td>5259212</td>\n",
              "      <td>2014-12-09</td>\n",
              "      <td>X</td>\n",
              "      <td>15694</td>\n",
              "      <td>9524</td>\n",
              "      <td>Dizel</td>\n",
              "      <td>OTOMATİK</td>\n",
              "    </tr>\n",
              "    <tr>\n",
              "      <th>2</th>\n",
              "      <td>5110414</td>\n",
              "      <td>5110414</td>\n",
              "      <td>2005-12-12</td>\n",
              "      <td>Y</td>\n",
              "      <td>11183</td>\n",
              "      <td>9118</td>\n",
              "      <td>Benzin</td>\n",
              "      <td>OTOMATİK</td>\n",
              "    </tr>\n",
              "    <tr>\n",
              "      <th>3</th>\n",
              "      <td>5101263</td>\n",
              "      <td>5101263</td>\n",
              "      <td>2005-08-23</td>\n",
              "      <td>X</td>\n",
              "      <td>15039</td>\n",
              "      <td>9495</td>\n",
              "      <td>Benzin</td>\n",
              "      <td>MANUEL</td>\n",
              "    </tr>\n",
              "    <tr>\n",
              "      <th>4</th>\n",
              "      <td>5053909</td>\n",
              "      <td>5053909</td>\n",
              "      <td>2003-04-09</td>\n",
              "      <td>Y</td>\n",
              "      <td>12255</td>\n",
              "      <td>9219</td>\n",
              "      <td>Dizel</td>\n",
              "      <td>OTOMATİK</td>\n",
              "    </tr>\n",
              "    <tr>\n",
              "      <th>...</th>\n",
              "      <td>...</td>\n",
              "      <td>...</td>\n",
              "      <td>...</td>\n",
              "      <td>...</td>\n",
              "      <td>...</td>\n",
              "      <td>...</td>\n",
              "      <td>...</td>\n",
              "      <td>...</td>\n",
              "    </tr>\n",
              "    <tr>\n",
              "      <th>345087</th>\n",
              "      <td>5253033</td>\n",
              "      <td>5253033</td>\n",
              "      <td>2014-07-24</td>\n",
              "      <td>T</td>\n",
              "      <td>13515</td>\n",
              "      <td>9352</td>\n",
              "      <td>Benzin</td>\n",
              "      <td>MANUEL</td>\n",
              "    </tr>\n",
              "    <tr>\n",
              "      <th>345088</th>\n",
              "      <td>5174679</td>\n",
              "      <td>5174679</td>\n",
              "      <td>2010-05-27</td>\n",
              "      <td>T</td>\n",
              "      <td>13833</td>\n",
              "      <td>9376</td>\n",
              "      <td>Benzin</td>\n",
              "      <td>MANUEL</td>\n",
              "    </tr>\n",
              "    <tr>\n",
              "      <th>345089</th>\n",
              "      <td>5059846</td>\n",
              "      <td>5059846</td>\n",
              "      <td>2004-12-14</td>\n",
              "      <td>X</td>\n",
              "      <td>15316</td>\n",
              "      <td>9509</td>\n",
              "      <td>Benzin</td>\n",
              "      <td>OTOMATİK</td>\n",
              "    </tr>\n",
              "    <tr>\n",
              "      <th>345090</th>\n",
              "      <td>5080882</td>\n",
              "      <td>5080882</td>\n",
              "      <td>2004-06-29</td>\n",
              "      <td>K</td>\n",
              "      <td>14615</td>\n",
              "      <td>9446</td>\n",
              "      <td>Dizel</td>\n",
              "      <td>MANUEL</td>\n",
              "    </tr>\n",
              "    <tr>\n",
              "      <th>345091</th>\n",
              "      <td>5057488</td>\n",
              "      <td>5057488</td>\n",
              "      <td>2003-11-18</td>\n",
              "      <td>Y</td>\n",
              "      <td>16308</td>\n",
              "      <td>9571</td>\n",
              "      <td>Dizel</td>\n",
              "      <td>MANUEL</td>\n",
              "    </tr>\n",
              "  </tbody>\n",
              "</table>\n",
              "<p>345092 rows × 8 columns</p>\n",
              "</div>"
            ],
            "text/plain": [
              "        Unnamed: 0  VEHICLE_ID  ... MOTOR_GAS_TYPE GEAR_BOX_TYPE\n",
              "0          5317713     5317713  ...         Benzin        MANUEL\n",
              "1          5259212     5259212  ...          Dizel      OTOMATİK\n",
              "2          5110414     5110414  ...         Benzin      OTOMATİK\n",
              "3          5101263     5101263  ...         Benzin        MANUEL\n",
              "4          5053909     5053909  ...          Dizel      OTOMATİK\n",
              "...            ...         ...  ...            ...           ...\n",
              "345087     5253033     5253033  ...         Benzin        MANUEL\n",
              "345088     5174679     5174679  ...         Benzin        MANUEL\n",
              "345089     5059846     5059846  ...         Benzin      OTOMATİK\n",
              "345090     5080882     5080882  ...          Dizel        MANUEL\n",
              "345091     5057488     5057488  ...          Dizel        MANUEL\n",
              "\n",
              "[345092 rows x 8 columns]"
            ]
          },
          "metadata": {},
          "execution_count": 96
        }
      ]
    },
    {
      "cell_type": "code",
      "metadata": {
        "id": "surGVXAMh2vZ"
      },
      "source": [
        "# df_vehicle.to_csv('df_vehicle_filled.csv')\n",
        "# !cp df_vehicle_filled.csv drive/MyDrive/"
      ],
      "execution_count": null,
      "outputs": []
    },
    {
      "cell_type": "code",
      "metadata": {
        "id": "N-VnSGaJhylj"
      },
      "source": [
        "# df_vehicle = pd.read_csv('drive/MyDrive/df_vehicle_filled.csv')"
      ],
      "execution_count": null,
      "outputs": []
    },
    {
      "cell_type": "markdown",
      "metadata": {
        "id": "-RRiswnZq829"
      },
      "source": [
        "## VEHICLE_DATA DateTime Conversion"
      ]
    },
    {
      "cell_type": "code",
      "metadata": {
        "id": "UEuhfSAygU86"
      },
      "source": [
        "# df_vehicle"
      ],
      "execution_count": null,
      "outputs": []
    },
    {
      "cell_type": "code",
      "metadata": {
        "colab": {
          "base_uri": "https://localhost:8080/"
        },
        "id": "GQZ00PPE2hgJ",
        "outputId": "9a66dfc3-3993-4843-cc61-9d792f56292c"
      },
      "source": [
        "df_vehicle.isna().mean() * 100 # Get Null Values as ''Percentage''"
      ],
      "execution_count": null,
      "outputs": [
        {
          "output_type": "execute_result",
          "data": {
            "text/plain": [
              "Unnamed: 0         0.000000\n",
              "Unnamed: 0.1       0.000000\n",
              "VEHICLE_ID         0.000000\n",
              "TRAFFIC_DATE       0.000000\n",
              "BRAND_CODE         0.000000\n",
              "BASEMODEL_CODE     0.000000\n",
              "TOPMODEL_CODE      0.000000\n",
              "MOTOR_GAS_TYPE    12.156758\n",
              "GEAR_BOX_TYPE     15.033382\n",
              "dtype: float64"
            ]
          },
          "metadata": {},
          "execution_count": 29
        }
      ]
    },
    {
      "cell_type": "code",
      "metadata": {
        "id": "EfcoUE9AmYtS"
      },
      "source": [
        "df_vehicle['TRAFFIC_DATE'] = pd.to_datetime(df_vehicle['TRAFFIC_DATE'])\n",
        "df_vehicle['TRAFFIC_YEAR'] = df_vehicle['TRAFFIC_DATE'].dt.year\n",
        "\n",
        "# df_vehicle['TRAFFIC_YEAR'].fillna(df_vehicle['TRAFFIC_YEAR'].median(), inplace=True)\n",
        "# df_vehicle.isna().mean() * 100"
      ],
      "execution_count": null,
      "outputs": []
    },
    {
      "cell_type": "code",
      "metadata": {
        "colab": {
          "base_uri": "https://localhost:8080/",
          "height": 209
        },
        "id": "X72MEg3fs0J-",
        "outputId": "a04ada41-0446-4559-d0b8-fb542355b4d0"
      },
      "source": [
        "df_vehicle.head(4)"
      ],
      "execution_count": null,
      "outputs": [
        {
          "output_type": "execute_result",
          "data": {
            "text/html": [
              "<div>\n",
              "<style scoped>\n",
              "    .dataframe tbody tr th:only-of-type {\n",
              "        vertical-align: middle;\n",
              "    }\n",
              "\n",
              "    .dataframe tbody tr th {\n",
              "        vertical-align: top;\n",
              "    }\n",
              "\n",
              "    .dataframe thead th {\n",
              "        text-align: right;\n",
              "    }\n",
              "</style>\n",
              "<table border=\"1\" class=\"dataframe\">\n",
              "  <thead>\n",
              "    <tr style=\"text-align: right;\">\n",
              "      <th></th>\n",
              "      <th>Unnamed: 0</th>\n",
              "      <th>Unnamed: 0.1</th>\n",
              "      <th>VEHICLE_ID</th>\n",
              "      <th>TRAFFIC_DATE</th>\n",
              "      <th>BRAND_CODE</th>\n",
              "      <th>BASEMODEL_CODE</th>\n",
              "      <th>TOPMODEL_CODE</th>\n",
              "      <th>MOTOR_GAS_TYPE</th>\n",
              "      <th>GEAR_BOX_TYPE</th>\n",
              "      <th>TRAFFIC_YEAR</th>\n",
              "    </tr>\n",
              "  </thead>\n",
              "  <tbody>\n",
              "    <tr>\n",
              "      <th>0</th>\n",
              "      <td>0</td>\n",
              "      <td>5317713</td>\n",
              "      <td>5317713</td>\n",
              "      <td>2017-12-07</td>\n",
              "      <td>Z</td>\n",
              "      <td>13398</td>\n",
              "      <td>9349</td>\n",
              "      <td>Benzin</td>\n",
              "      <td>MANUEL</td>\n",
              "      <td>2017</td>\n",
              "    </tr>\n",
              "    <tr>\n",
              "      <th>1</th>\n",
              "      <td>1</td>\n",
              "      <td>5259212</td>\n",
              "      <td>5259212</td>\n",
              "      <td>2014-12-09</td>\n",
              "      <td>X</td>\n",
              "      <td>15694</td>\n",
              "      <td>9524</td>\n",
              "      <td>Dizel</td>\n",
              "      <td>OTOMATİK</td>\n",
              "      <td>2014</td>\n",
              "    </tr>\n",
              "    <tr>\n",
              "      <th>2</th>\n",
              "      <td>2</td>\n",
              "      <td>5110414</td>\n",
              "      <td>5110414</td>\n",
              "      <td>2005-12-12</td>\n",
              "      <td>Y</td>\n",
              "      <td>11183</td>\n",
              "      <td>9118</td>\n",
              "      <td>Benzin</td>\n",
              "      <td>OTOMATİK</td>\n",
              "      <td>2005</td>\n",
              "    </tr>\n",
              "    <tr>\n",
              "      <th>3</th>\n",
              "      <td>3</td>\n",
              "      <td>5101263</td>\n",
              "      <td>5101263</td>\n",
              "      <td>2005-08-23</td>\n",
              "      <td>X</td>\n",
              "      <td>15039</td>\n",
              "      <td>9495</td>\n",
              "      <td>Benzin</td>\n",
              "      <td>MANUEL</td>\n",
              "      <td>2005</td>\n",
              "    </tr>\n",
              "  </tbody>\n",
              "</table>\n",
              "</div>"
            ],
            "text/plain": [
              "   Unnamed: 0  Unnamed: 0.1  ...  GEAR_BOX_TYPE TRAFFIC_YEAR\n",
              "0           0       5317713  ...         MANUEL         2017\n",
              "1           1       5259212  ...       OTOMATİK         2014\n",
              "2           2       5110414  ...       OTOMATİK         2005\n",
              "3           3       5101263  ...         MANUEL         2005\n",
              "\n",
              "[4 rows x 10 columns]"
            ]
          },
          "metadata": {},
          "execution_count": 36
        }
      ]
    },
    {
      "cell_type": "markdown",
      "metadata": {
        "id": "WY_xrjnC1ybv"
      },
      "source": [
        "### Convert Traffic_Year to Age"
      ]
    },
    {
      "cell_type": "code",
      "metadata": {
        "id": "TOqCTjiinjzC",
        "colab": {
          "base_uri": "https://localhost:8080/",
          "height": 202
        },
        "outputId": "fcd25c14-67bd-474a-cbc3-9a4ae0572129"
      },
      "source": [
        "# for index, row in df_vehicle.iterrows():\n",
        "#   year_value = row['TRAFFIC_YEAR']\n",
        "#   df_vehicle['AGE'].at[index] = current_year - year_value #current_year = 2021\n",
        "\n",
        "\n",
        "df_vehicle['AGE'] = df_vehicle['TRAFFIC_YEAR'].map(lambda year: (current_year-year) )"
      ],
      "execution_count": null,
      "outputs": [
        {
          "output_type": "error",
          "ename": "NameError",
          "evalue": "ignored",
          "traceback": [
            "\u001b[0;31m---------------------------------------------------------------------------\u001b[0m",
            "\u001b[0;31mNameError\u001b[0m                                 Traceback (most recent call last)",
            "\u001b[0;32m<ipython-input-6-fc55f84edb49>\u001b[0m in \u001b[0;36m<module>\u001b[0;34m()\u001b[0m\n\u001b[1;32m      4\u001b[0m \u001b[0;34m\u001b[0m\u001b[0m\n\u001b[1;32m      5\u001b[0m \u001b[0;34m\u001b[0m\u001b[0m\n\u001b[0;32m----> 6\u001b[0;31m \u001b[0mdf_vehicle\u001b[0m\u001b[0;34m[\u001b[0m\u001b[0;34m'AGE'\u001b[0m\u001b[0;34m]\u001b[0m \u001b[0;34m=\u001b[0m \u001b[0mdf_vehicle\u001b[0m\u001b[0;34m[\u001b[0m\u001b[0;34m'TRAFFIC_YEAR'\u001b[0m\u001b[0;34m]\u001b[0m\u001b[0;34m.\u001b[0m\u001b[0mmap\u001b[0m\u001b[0;34m(\u001b[0m\u001b[0;32mlambda\u001b[0m \u001b[0myear\u001b[0m\u001b[0;34m:\u001b[0m \u001b[0;34m(\u001b[0m\u001b[0mcurrent_year\u001b[0m\u001b[0;34m-\u001b[0m\u001b[0myear\u001b[0m\u001b[0;34m)\u001b[0m \u001b[0;34m)\u001b[0m\u001b[0;34m\u001b[0m\u001b[0;34m\u001b[0m\u001b[0m\n\u001b[0m",
            "\u001b[0;31mNameError\u001b[0m: name 'df_vehicle' is not defined"
          ]
        }
      ]
    },
    {
      "cell_type": "code",
      "metadata": {
        "colab": {
          "base_uri": "https://localhost:8080/"
        },
        "id": "sQWYQVbpgZzN",
        "outputId": "074160a9-968e-4372-f62d-3443dedb3044"
      },
      "source": [
        "current_year"
      ],
      "execution_count": null,
      "outputs": [
        {
          "output_type": "execute_result",
          "data": {
            "text/plain": [
              "2021"
            ]
          },
          "metadata": {},
          "execution_count": 4
        }
      ]
    },
    {
      "cell_type": "code",
      "metadata": {
        "colab": {
          "base_uri": "https://localhost:8080/",
          "height": 394
        },
        "id": "sc3hjKOGe7Br",
        "outputId": "4ef4ff9c-70fd-4f5f-b661-0f40c2f982b1"
      },
      "source": [
        "df_vehicle.head(10)"
      ],
      "execution_count": null,
      "outputs": [
        {
          "output_type": "execute_result",
          "data": {
            "text/html": [
              "<div>\n",
              "<style scoped>\n",
              "    .dataframe tbody tr th:only-of-type {\n",
              "        vertical-align: middle;\n",
              "    }\n",
              "\n",
              "    .dataframe tbody tr th {\n",
              "        vertical-align: top;\n",
              "    }\n",
              "\n",
              "    .dataframe thead th {\n",
              "        text-align: right;\n",
              "    }\n",
              "</style>\n",
              "<table border=\"1\" class=\"dataframe\">\n",
              "  <thead>\n",
              "    <tr style=\"text-align: right;\">\n",
              "      <th></th>\n",
              "      <th>Unnamed: 0</th>\n",
              "      <th>Unnamed: 0.1</th>\n",
              "      <th>VEHICLE_ID</th>\n",
              "      <th>TRAFFIC_DATE</th>\n",
              "      <th>BRAND_CODE</th>\n",
              "      <th>BASEMODEL_CODE</th>\n",
              "      <th>TOPMODEL_CODE</th>\n",
              "      <th>MOTOR_GAS_TYPE</th>\n",
              "      <th>GEAR_BOX_TYPE</th>\n",
              "      <th>TRAFFIC_YEAR</th>\n",
              "      <th>AGE</th>\n",
              "    </tr>\n",
              "  </thead>\n",
              "  <tbody>\n",
              "    <tr>\n",
              "      <th>0</th>\n",
              "      <td>0</td>\n",
              "      <td>5317713</td>\n",
              "      <td>5317713</td>\n",
              "      <td>2017-12-07</td>\n",
              "      <td>Z</td>\n",
              "      <td>13398</td>\n",
              "      <td>9349</td>\n",
              "      <td>Benzin</td>\n",
              "      <td>MANUEL</td>\n",
              "      <td>2017</td>\n",
              "      <td>0</td>\n",
              "    </tr>\n",
              "    <tr>\n",
              "      <th>1</th>\n",
              "      <td>1</td>\n",
              "      <td>5259212</td>\n",
              "      <td>5259212</td>\n",
              "      <td>2014-12-09</td>\n",
              "      <td>X</td>\n",
              "      <td>15694</td>\n",
              "      <td>9524</td>\n",
              "      <td>Dizel</td>\n",
              "      <td>OTOMATİK</td>\n",
              "      <td>2014</td>\n",
              "      <td>0</td>\n",
              "    </tr>\n",
              "    <tr>\n",
              "      <th>2</th>\n",
              "      <td>2</td>\n",
              "      <td>5110414</td>\n",
              "      <td>5110414</td>\n",
              "      <td>2005-12-12</td>\n",
              "      <td>Y</td>\n",
              "      <td>11183</td>\n",
              "      <td>9118</td>\n",
              "      <td>Benzin</td>\n",
              "      <td>OTOMATİK</td>\n",
              "      <td>2005</td>\n",
              "      <td>0</td>\n",
              "    </tr>\n",
              "    <tr>\n",
              "      <th>3</th>\n",
              "      <td>3</td>\n",
              "      <td>5101263</td>\n",
              "      <td>5101263</td>\n",
              "      <td>2005-08-23</td>\n",
              "      <td>X</td>\n",
              "      <td>15039</td>\n",
              "      <td>9495</td>\n",
              "      <td>Benzin</td>\n",
              "      <td>MANUEL</td>\n",
              "      <td>2005</td>\n",
              "      <td>0</td>\n",
              "    </tr>\n",
              "    <tr>\n",
              "      <th>4</th>\n",
              "      <td>4</td>\n",
              "      <td>5053909</td>\n",
              "      <td>5053909</td>\n",
              "      <td>2003-04-09</td>\n",
              "      <td>Y</td>\n",
              "      <td>12255</td>\n",
              "      <td>9219</td>\n",
              "      <td>Dizel</td>\n",
              "      <td>OTOMATİK</td>\n",
              "      <td>2003</td>\n",
              "      <td>0</td>\n",
              "    </tr>\n",
              "    <tr>\n",
              "      <th>5</th>\n",
              "      <td>5</td>\n",
              "      <td>5002457</td>\n",
              "      <td>5002457</td>\n",
              "      <td>2000-12-31</td>\n",
              "      <td>X</td>\n",
              "      <td>14927</td>\n",
              "      <td>9491</td>\n",
              "      <td>NaN</td>\n",
              "      <td>NaN</td>\n",
              "      <td>2000</td>\n",
              "      <td>0</td>\n",
              "    </tr>\n",
              "    <tr>\n",
              "      <th>6</th>\n",
              "      <td>6</td>\n",
              "      <td>5069112</td>\n",
              "      <td>5069112</td>\n",
              "      <td>2004-07-20</td>\n",
              "      <td>Y</td>\n",
              "      <td>11201</td>\n",
              "      <td>9118</td>\n",
              "      <td>Benzin</td>\n",
              "      <td>MANUEL</td>\n",
              "      <td>2004</td>\n",
              "      <td>0</td>\n",
              "    </tr>\n",
              "    <tr>\n",
              "      <th>7</th>\n",
              "      <td>7</td>\n",
              "      <td>5149542</td>\n",
              "      <td>5149542</td>\n",
              "      <td>2008-01-07</td>\n",
              "      <td>T</td>\n",
              "      <td>13927</td>\n",
              "      <td>9384</td>\n",
              "      <td>Dizel</td>\n",
              "      <td>MANUEL</td>\n",
              "      <td>2008</td>\n",
              "      <td>0</td>\n",
              "    </tr>\n",
              "    <tr>\n",
              "      <th>8</th>\n",
              "      <td>8</td>\n",
              "      <td>5344597</td>\n",
              "      <td>5344597</td>\n",
              "      <td>2021-03-16</td>\n",
              "      <td>Z</td>\n",
              "      <td>12652</td>\n",
              "      <td>9245</td>\n",
              "      <td>Benzin</td>\n",
              "      <td>MANUEL</td>\n",
              "      <td>2021</td>\n",
              "      <td>0</td>\n",
              "    </tr>\n",
              "    <tr>\n",
              "      <th>9</th>\n",
              "      <td>9</td>\n",
              "      <td>5117495</td>\n",
              "      <td>5117495</td>\n",
              "      <td>2006-03-28</td>\n",
              "      <td>Y</td>\n",
              "      <td>11251</td>\n",
              "      <td>9119</td>\n",
              "      <td>Benzin</td>\n",
              "      <td>MANUEL</td>\n",
              "      <td>2006</td>\n",
              "      <td>0</td>\n",
              "    </tr>\n",
              "  </tbody>\n",
              "</table>\n",
              "</div>"
            ],
            "text/plain": [
              "   Unnamed: 0  Unnamed: 0.1  VEHICLE_ID  ... GEAR_BOX_TYPE TRAFFIC_YEAR  AGE\n",
              "0           0       5317713     5317713  ...        MANUEL         2017    0\n",
              "1           1       5259212     5259212  ...      OTOMATİK         2014    0\n",
              "2           2       5110414     5110414  ...      OTOMATİK         2005    0\n",
              "3           3       5101263     5101263  ...        MANUEL         2005    0\n",
              "4           4       5053909     5053909  ...      OTOMATİK         2003    0\n",
              "5           5       5002457     5002457  ...           NaN         2000    0\n",
              "6           6       5069112     5069112  ...        MANUEL         2004    0\n",
              "7           7       5149542     5149542  ...        MANUEL         2008    0\n",
              "8           8       5344597     5344597  ...        MANUEL         2021    0\n",
              "9           9       5117495     5117495  ...        MANUEL         2006    0\n",
              "\n",
              "[10 rows x 11 columns]"
            ]
          },
          "metadata": {},
          "execution_count": 44
        }
      ]
    },
    {
      "cell_type": "code",
      "metadata": {
        "id": "7ZtydtwVnjvX"
      },
      "source": [
        "F_VEHICLE_DATA = F_VEHICLE_DATA.drop('TRAFFIC_DATE', axis=1)"
      ],
      "execution_count": null,
      "outputs": []
    },
    {
      "cell_type": "markdown",
      "metadata": {
        "id": "TqR6O_PFf_pc"
      },
      "source": [
        "### Deal with Unique Values"
      ]
    },
    {
      "cell_type": "code",
      "metadata": {
        "colab": {
          "base_uri": "https://localhost:8080/"
        },
        "id": "ByOD2JS6f_PR",
        "outputId": "538ea053-2903-479d-ee3b-6325e9bcc821"
      },
      "source": [
        "df_vehicle['GEAR_BOX_TYPE'].unique()"
      ],
      "execution_count": null,
      "outputs": [
        {
          "output_type": "execute_result",
          "data": {
            "text/plain": [
              "array(['Manuel', 'Otomatik (DSG)', 'Otomatik', nan, 'Mekanik',\n",
              "       'Sürekli Değişken', 'Otomaik', '?automatisch', 'Otomatik Değişken',\n",
              "       'Sürekli değişken', 'Otomatik (DSG Şanzuman)', 'Düz',\n",
              "       'Otomatik(DSG)', '?Handschaltung', 'manuel'], dtype=object)"
            ]
          },
          "metadata": {},
          "execution_count": 79
        }
      ]
    },
    {
      "cell_type": "markdown",
      "metadata": {
        "id": "EHzmppqy162v"
      },
      "source": [
        "# CUST_RELATED_DATA Processing"
      ]
    },
    {
      "cell_type": "code",
      "metadata": {
        "colab": {
          "base_uri": "https://localhost:8080/",
          "height": 142
        },
        "id": "_HvThNwE1-8b",
        "outputId": "bc22d908-a00e-4a4e-e44b-e3831621f899"
      },
      "source": [
        "df_cust_rel = F_CUST_RELATED_DATA.drop('FK_RELATION_STATUS_EXPLANATION', axis=1)\n",
        "\n",
        "df_cust_rel['START_DATE'] = pd.to_datetime(df_cust_rel['START_DATE'])\n",
        "df_cust_rel['END_DATE'] = pd.to_datetime(df_cust_rel['END_DATE'])\n",
        "\n",
        "df_cust_rel['START_YEAR'] = df_cust_rel['START_DATE'].dt.year\n",
        "df_cust_rel['END_YEAR'] = df_cust_rel['END_DATE'].dt.year\n",
        "\n",
        "df_cust_rel = df_cust_rel.drop('END_DATE', axis=1)\n",
        "\n",
        "df_cust_rel.head(3)"
      ],
      "execution_count": 28,
      "outputs": [
        {
          "output_type": "execute_result",
          "data": {
            "text/html": [
              "<div>\n",
              "<style scoped>\n",
              "    .dataframe tbody tr th:only-of-type {\n",
              "        vertical-align: middle;\n",
              "    }\n",
              "\n",
              "    .dataframe tbody tr th {\n",
              "        vertical-align: top;\n",
              "    }\n",
              "\n",
              "    .dataframe thead th {\n",
              "        text-align: right;\n",
              "    }\n",
              "</style>\n",
              "<table border=\"1\" class=\"dataframe\">\n",
              "  <thead>\n",
              "    <tr style=\"text-align: right;\">\n",
              "      <th></th>\n",
              "      <th>Unnamed: 0</th>\n",
              "      <th>BASE_CUSTOMER_ID</th>\n",
              "      <th>VEHICLE_ID</th>\n",
              "      <th>START_DATE</th>\n",
              "      <th>FK_RELATION_STATUS_ID</th>\n",
              "      <th>START_YEAR</th>\n",
              "      <th>END_YEAR</th>\n",
              "    </tr>\n",
              "  </thead>\n",
              "  <tbody>\n",
              "    <tr>\n",
              "      <th>0</th>\n",
              "      <td>0</td>\n",
              "      <td>189537</td>\n",
              "      <td>5321560</td>\n",
              "      <td>2018-07-24</td>\n",
              "      <td>2</td>\n",
              "      <td>2018</td>\n",
              "      <td>2019.0</td>\n",
              "    </tr>\n",
              "    <tr>\n",
              "      <th>1</th>\n",
              "      <td>1</td>\n",
              "      <td>110802</td>\n",
              "      <td>5329278</td>\n",
              "      <td>2019-07-16</td>\n",
              "      <td>1</td>\n",
              "      <td>2019</td>\n",
              "      <td>NaN</td>\n",
              "    </tr>\n",
              "    <tr>\n",
              "      <th>2</th>\n",
              "      <td>2</td>\n",
              "      <td>160615</td>\n",
              "      <td>5329282</td>\n",
              "      <td>2019-09-12</td>\n",
              "      <td>1</td>\n",
              "      <td>2019</td>\n",
              "      <td>NaN</td>\n",
              "    </tr>\n",
              "  </tbody>\n",
              "</table>\n",
              "</div>"
            ],
            "text/plain": [
              "   Unnamed: 0  BASE_CUSTOMER_ID  ...  START_YEAR END_YEAR\n",
              "0           0            189537  ...        2018   2019.0\n",
              "1           1            110802  ...        2019      NaN\n",
              "2           2            160615  ...        2019      NaN\n",
              "\n",
              "[3 rows x 7 columns]"
            ]
          },
          "metadata": {},
          "execution_count": 28
        }
      ]
    },
    {
      "cell_type": "code",
      "metadata": {
        "id": "cvB_j7vM8t4F"
      },
      "source": [
        "for index, row in df_cust_rel.iterrows():\n",
        "  if row.FK_RELATION_STATUS_ID == 2:\n",
        "    df_cust_rel.at[index, 'TOTAL_LICENCE_TIME'] = row.END_YEAR - row.START_YEAR\n",
        "  if row.FK_RELATION_STATUS_ID == 1:\n",
        "    df_cust_rel.at[index,'TOTAL_LICENCE_TIME'] = current_year - row.START_YEAR "
      ],
      "execution_count": 29,
      "outputs": []
    },
    {
      "cell_type": "code",
      "metadata": {
        "id": "KCS8BCv--uEj",
        "colab": {
          "base_uri": "https://localhost:8080/",
          "height": 110
        },
        "outputId": "7e38687a-c60f-4fbc-f863-12a0c0854801"
      },
      "source": [
        "df_cust_rel.head(2)"
      ],
      "execution_count": 32,
      "outputs": [
        {
          "output_type": "execute_result",
          "data": {
            "text/html": [
              "<div>\n",
              "<style scoped>\n",
              "    .dataframe tbody tr th:only-of-type {\n",
              "        vertical-align: middle;\n",
              "    }\n",
              "\n",
              "    .dataframe tbody tr th {\n",
              "        vertical-align: top;\n",
              "    }\n",
              "\n",
              "    .dataframe thead th {\n",
              "        text-align: right;\n",
              "    }\n",
              "</style>\n",
              "<table border=\"1\" class=\"dataframe\">\n",
              "  <thead>\n",
              "    <tr style=\"text-align: right;\">\n",
              "      <th></th>\n",
              "      <th>Unnamed: 0</th>\n",
              "      <th>BASE_CUSTOMER_ID</th>\n",
              "      <th>VEHICLE_ID</th>\n",
              "      <th>START_DATE</th>\n",
              "      <th>FK_RELATION_STATUS_ID</th>\n",
              "      <th>START_YEAR</th>\n",
              "      <th>END_YEAR</th>\n",
              "      <th>TOTAL_LICENCE_TIME</th>\n",
              "    </tr>\n",
              "  </thead>\n",
              "  <tbody>\n",
              "    <tr>\n",
              "      <th>0</th>\n",
              "      <td>0</td>\n",
              "      <td>189537</td>\n",
              "      <td>5321560</td>\n",
              "      <td>2018-07-24</td>\n",
              "      <td>2</td>\n",
              "      <td>2018</td>\n",
              "      <td>2019.0</td>\n",
              "      <td>1.0</td>\n",
              "    </tr>\n",
              "    <tr>\n",
              "      <th>1</th>\n",
              "      <td>1</td>\n",
              "      <td>110802</td>\n",
              "      <td>5329278</td>\n",
              "      <td>2019-07-16</td>\n",
              "      <td>1</td>\n",
              "      <td>2019</td>\n",
              "      <td>NaN</td>\n",
              "      <td>2.0</td>\n",
              "    </tr>\n",
              "  </tbody>\n",
              "</table>\n",
              "</div>"
            ],
            "text/plain": [
              "   Unnamed: 0  BASE_CUSTOMER_ID  ...  END_YEAR TOTAL_LICENCE_TIME\n",
              "0           0            189537  ...    2019.0                1.0\n",
              "1           1            110802  ...       NaN                2.0\n",
              "\n",
              "[2 rows x 8 columns]"
            ]
          },
          "metadata": {},
          "execution_count": 32
        }
      ]
    },
    {
      "cell_type": "code",
      "metadata": {
        "id": "Oj5Dz28U8t1x",
        "colab": {
          "base_uri": "https://localhost:8080/",
          "height": 110
        },
        "outputId": "2a8cd08d-5b9d-4912-ff80-63af5f9999a1"
      },
      "source": [
        "df_cust_rel = df_cust_rel.drop(['START_YEAR', 'END_YEAR'], axis=1)\n",
        "df_cust_rel.head(2)"
      ],
      "execution_count": 33,
      "outputs": [
        {
          "output_type": "execute_result",
          "data": {
            "text/html": [
              "<div>\n",
              "<style scoped>\n",
              "    .dataframe tbody tr th:only-of-type {\n",
              "        vertical-align: middle;\n",
              "    }\n",
              "\n",
              "    .dataframe tbody tr th {\n",
              "        vertical-align: top;\n",
              "    }\n",
              "\n",
              "    .dataframe thead th {\n",
              "        text-align: right;\n",
              "    }\n",
              "</style>\n",
              "<table border=\"1\" class=\"dataframe\">\n",
              "  <thead>\n",
              "    <tr style=\"text-align: right;\">\n",
              "      <th></th>\n",
              "      <th>Unnamed: 0</th>\n",
              "      <th>BASE_CUSTOMER_ID</th>\n",
              "      <th>VEHICLE_ID</th>\n",
              "      <th>START_DATE</th>\n",
              "      <th>FK_RELATION_STATUS_ID</th>\n",
              "      <th>TOTAL_LICENCE_TIME</th>\n",
              "    </tr>\n",
              "  </thead>\n",
              "  <tbody>\n",
              "    <tr>\n",
              "      <th>0</th>\n",
              "      <td>0</td>\n",
              "      <td>189537</td>\n",
              "      <td>5321560</td>\n",
              "      <td>2018-07-24</td>\n",
              "      <td>2</td>\n",
              "      <td>1.0</td>\n",
              "    </tr>\n",
              "    <tr>\n",
              "      <th>1</th>\n",
              "      <td>1</td>\n",
              "      <td>110802</td>\n",
              "      <td>5329278</td>\n",
              "      <td>2019-07-16</td>\n",
              "      <td>1</td>\n",
              "      <td>2.0</td>\n",
              "    </tr>\n",
              "  </tbody>\n",
              "</table>\n",
              "</div>"
            ],
            "text/plain": [
              "   Unnamed: 0  BASE_CUSTOMER_ID  ...  FK_RELATION_STATUS_ID TOTAL_LICENCE_TIME\n",
              "0           0            189537  ...                      2                1.0\n",
              "1           1            110802  ...                      1                2.0\n",
              "\n",
              "[2 rows x 6 columns]"
            ]
          },
          "metadata": {},
          "execution_count": 33
        }
      ]
    },
    {
      "cell_type": "code",
      "metadata": {
        "id": "cPb06HMA8tzh"
      },
      "source": [
        "df_cust_rel.drop( df_cust_rel.columns[0], axis=1).to_csv('drive/MyDrive/df_cust_rel.csv')"
      ],
      "execution_count": 81,
      "outputs": []
    },
    {
      "cell_type": "markdown",
      "metadata": {
        "id": "JSrc_Txp--fG"
      },
      "source": [
        "# SALES_DATA Processing"
      ]
    },
    {
      "cell_type": "code",
      "metadata": {
        "colab": {
          "base_uri": "https://localhost:8080/",
          "height": 181
        },
        "id": "o51EktpF37-0",
        "outputId": "07b63bd5-f9d4-4ba1-ccce-2d503e4a9bf4"
      },
      "source": [
        "df_sales = F_SALES_DATA\n",
        "df_sales.head(2)"
      ],
      "execution_count": null,
      "outputs": [
        {
          "output_type": "execute_result",
          "data": {
            "text/html": [
              "<div>\n",
              "<style scoped>\n",
              "    .dataframe tbody tr th:only-of-type {\n",
              "        vertical-align: middle;\n",
              "    }\n",
              "\n",
              "    .dataframe tbody tr th {\n",
              "        vertical-align: top;\n",
              "    }\n",
              "\n",
              "    .dataframe thead th {\n",
              "        text-align: right;\n",
              "    }\n",
              "</style>\n",
              "<table border=\"1\" class=\"dataframe\">\n",
              "  <thead>\n",
              "    <tr style=\"text-align: right;\">\n",
              "      <th></th>\n",
              "      <th>Unnamed: 0</th>\n",
              "      <th>CUSTOMER_ID</th>\n",
              "      <th>SALESFILE_ID</th>\n",
              "      <th>SF_CREATE_DATE</th>\n",
              "      <th>STATUS</th>\n",
              "      <th>REQ_BRAND_CODE</th>\n",
              "      <th>REQ_TOPMODEL_CODE</th>\n",
              "      <th>CREATE_YEAR</th>\n",
              "      <th>CREATE_MONTH</th>\n",
              "    </tr>\n",
              "  </thead>\n",
              "  <tbody>\n",
              "    <tr>\n",
              "      <th>0</th>\n",
              "      <td>0</td>\n",
              "      <td>1712792</td>\n",
              "      <td>7274467.0</td>\n",
              "      <td>2017-11-17 12:15:39</td>\n",
              "      <td>101</td>\n",
              "      <td>Y</td>\n",
              "      <td>9231.0</td>\n",
              "      <td>2017</td>\n",
              "      <td>11</td>\n",
              "    </tr>\n",
              "    <tr>\n",
              "      <th>1</th>\n",
              "      <td>1</td>\n",
              "      <td>1149729</td>\n",
              "      <td>4839430.0</td>\n",
              "      <td>2015-11-11 17:03:28</td>\n",
              "      <td>102</td>\n",
              "      <td>K</td>\n",
              "      <td>9184.0</td>\n",
              "      <td>2015</td>\n",
              "      <td>11</td>\n",
              "    </tr>\n",
              "  </tbody>\n",
              "</table>\n",
              "</div>"
            ],
            "text/plain": [
              "   Unnamed: 0  CUSTOMER_ID  ...  CREATE_YEAR CREATE_MONTH\n",
              "0           0      1712792  ...         2017           11\n",
              "1           1      1149729  ...         2015           11\n",
              "\n",
              "[2 rows x 9 columns]"
            ]
          },
          "metadata": {},
          "execution_count": 12
        }
      ]
    },
    {
      "cell_type": "code",
      "metadata": {
        "colab": {
          "base_uri": "https://localhost:8080/"
        },
        "id": "wAk6R-w334iQ",
        "outputId": "da22164f-90d2-44fa-faa1-529a0f53f95d"
      },
      "source": [
        "df_sales.nunique()"
      ],
      "execution_count": null,
      "outputs": [
        {
          "output_type": "execute_result",
          "data": {
            "text/plain": [
              "Unnamed: 0           397526\n",
              "CUSTOMER_ID          183523\n",
              "SALESFILE_ID         396278\n",
              "SF_CREATE_DATE       395534\n",
              "STATUS                    6\n",
              "REQ_BRAND_CODE            5\n",
              "REQ_TOPMODEL_CODE       277\n",
              "dtype: int64"
            ]
          },
          "metadata": {},
          "execution_count": 6
        }
      ]
    },
    {
      "cell_type": "code",
      "metadata": {
        "id": "BDu742nqmT-L"
      },
      "source": [
        ""
      ],
      "execution_count": null,
      "outputs": []
    },
    {
      "cell_type": "markdown",
      "metadata": {
        "id": "hEAB0orBJwzS"
      },
      "source": [
        "## Sales Date Conversion"
      ]
    },
    {
      "cell_type": "code",
      "metadata": {
        "colab": {
          "base_uri": "https://localhost:8080/",
          "height": 181
        },
        "id": "kx-ut9spRzmG",
        "outputId": "d5a60e6c-ae5e-4aa2-da48-246612f3d411"
      },
      "source": [
        "df_sales['SF_CREATE_DATE'] = pd.to_datetime(df_sales['SF_CREATE_DATE'])\n",
        "df_sales['CREATE_YEAR'] = df_sales['SF_CREATE_DATE'].dt.year\n",
        "df_sales['CREATE_MONTH'] = df_sales['SF_CREATE_DATE'].dt.month\n",
        "df_sales.head(2)"
      ],
      "execution_count": null,
      "outputs": [
        {
          "output_type": "execute_result",
          "data": {
            "text/html": [
              "<div>\n",
              "<style scoped>\n",
              "    .dataframe tbody tr th:only-of-type {\n",
              "        vertical-align: middle;\n",
              "    }\n",
              "\n",
              "    .dataframe tbody tr th {\n",
              "        vertical-align: top;\n",
              "    }\n",
              "\n",
              "    .dataframe thead th {\n",
              "        text-align: right;\n",
              "    }\n",
              "</style>\n",
              "<table border=\"1\" class=\"dataframe\">\n",
              "  <thead>\n",
              "    <tr style=\"text-align: right;\">\n",
              "      <th></th>\n",
              "      <th>Unnamed: 0</th>\n",
              "      <th>CUSTOMER_ID</th>\n",
              "      <th>SALESFILE_ID</th>\n",
              "      <th>SF_CREATE_DATE</th>\n",
              "      <th>STATUS</th>\n",
              "      <th>REQ_BRAND_CODE</th>\n",
              "      <th>REQ_TOPMODEL_CODE</th>\n",
              "      <th>CREATE_YEAR</th>\n",
              "      <th>CREATE_MONTH</th>\n",
              "    </tr>\n",
              "  </thead>\n",
              "  <tbody>\n",
              "    <tr>\n",
              "      <th>0</th>\n",
              "      <td>0</td>\n",
              "      <td>1712792</td>\n",
              "      <td>7274467.0</td>\n",
              "      <td>2017-11-17 12:15:39</td>\n",
              "      <td>101</td>\n",
              "      <td>Y</td>\n",
              "      <td>9231.0</td>\n",
              "      <td>2017</td>\n",
              "      <td>11</td>\n",
              "    </tr>\n",
              "    <tr>\n",
              "      <th>1</th>\n",
              "      <td>1</td>\n",
              "      <td>1149729</td>\n",
              "      <td>4839430.0</td>\n",
              "      <td>2015-11-11 17:03:28</td>\n",
              "      <td>102</td>\n",
              "      <td>K</td>\n",
              "      <td>9184.0</td>\n",
              "      <td>2015</td>\n",
              "      <td>11</td>\n",
              "    </tr>\n",
              "  </tbody>\n",
              "</table>\n",
              "</div>"
            ],
            "text/plain": [
              "   Unnamed: 0  CUSTOMER_ID  ...  CREATE_YEAR CREATE_MONTH\n",
              "0           0      1712792  ...         2017           11\n",
              "1           1      1149729  ...         2015           11\n",
              "\n",
              "[2 rows x 9 columns]"
            ]
          },
          "metadata": {},
          "execution_count": 8
        }
      ]
    },
    {
      "cell_type": "code",
      "metadata": {
        "id": "AEEZSkPMRzeX"
      },
      "source": [
        "df_sales = df_sales.drop('SF_CREATE_DATE', axis=1)"
      ],
      "execution_count": null,
      "outputs": []
    },
    {
      "cell_type": "code",
      "metadata": {
        "colab": {
          "base_uri": "https://localhost:8080/",
          "height": 79
        },
        "id": "BIkEjZXpRy43",
        "outputId": "36d6296d-e239-4bb3-caf0-2dec1cf6f78e"
      },
      "source": [
        "df_sales.head(1)"
      ],
      "execution_count": null,
      "outputs": [
        {
          "output_type": "execute_result",
          "data": {
            "text/html": [
              "<div>\n",
              "<style scoped>\n",
              "    .dataframe tbody tr th:only-of-type {\n",
              "        vertical-align: middle;\n",
              "    }\n",
              "\n",
              "    .dataframe tbody tr th {\n",
              "        vertical-align: top;\n",
              "    }\n",
              "\n",
              "    .dataframe thead th {\n",
              "        text-align: right;\n",
              "    }\n",
              "</style>\n",
              "<table border=\"1\" class=\"dataframe\">\n",
              "  <thead>\n",
              "    <tr style=\"text-align: right;\">\n",
              "      <th></th>\n",
              "      <th>Unnamed: 0</th>\n",
              "      <th>CUSTOMER_ID</th>\n",
              "      <th>SALESFILE_ID</th>\n",
              "      <th>STATUS</th>\n",
              "      <th>REQ_BRAND_CODE</th>\n",
              "      <th>REQ_TOPMODEL_CODE</th>\n",
              "      <th>CREATE_YEAR</th>\n",
              "      <th>CREATE_MONTH</th>\n",
              "    </tr>\n",
              "  </thead>\n",
              "  <tbody>\n",
              "    <tr>\n",
              "      <th>0</th>\n",
              "      <td>0</td>\n",
              "      <td>1712792</td>\n",
              "      <td>7274467.0</td>\n",
              "      <td>101</td>\n",
              "      <td>Y</td>\n",
              "      <td>9231.0</td>\n",
              "      <td>2017</td>\n",
              "      <td>11</td>\n",
              "    </tr>\n",
              "  </tbody>\n",
              "</table>\n",
              "</div>"
            ],
            "text/plain": [
              "   Unnamed: 0  CUSTOMER_ID  ...  CREATE_YEAR  CREATE_MONTH\n",
              "0           0      1712792  ...         2017            11\n",
              "\n",
              "[1 rows x 8 columns]"
            ]
          },
          "metadata": {},
          "execution_count": 11
        }
      ]
    },
    {
      "cell_type": "markdown",
      "metadata": {
        "id": "WOsROYQ3hEIc"
      },
      "source": [
        ""
      ]
    },
    {
      "cell_type": "markdown",
      "metadata": {
        "id": "7Mcxu0ZrhGmM"
      },
      "source": [
        "# FINAL PROCESSING"
      ]
    },
    {
      "cell_type": "code",
      "metadata": {
        "id": "S3D3aif-tSnE"
      },
      "source": [
        "df_vehicle = pd.read_csv('drive/MyDrive/df_vehicle_filled.csv', index_col=0)\n",
        "df_customer = pd.read_csv('drive/MyDrive/df_customer_filled_v2.csv', index_col=0)\n",
        "df_cust_rel = pd.read_csv('drive/MyDrive/df_cust_rel.csv', index_col=0)"
      ],
      "execution_count": 94,
      "outputs": []
    },
    {
      "cell_type": "code",
      "metadata": {
        "colab": {
          "base_uri": "https://localhost:8080/"
        },
        "id": "VBHLrQWakMbE",
        "outputId": "b10242cc-1d66-4443-eb60-ed1f65fc4bb7"
      },
      "source": [
        "df_customer.nunique()"
      ],
      "execution_count": 76,
      "outputs": [
        {
          "output_type": "execute_result",
          "data": {
            "text/plain": [
              "BASE_CUSTOMER_ID    196564\n",
              "CUSTOMER_ID         849919\n",
              "GENDER                   2\n",
              "MARITAL_STATUS           2\n",
              "OCCUPATION              63\n",
              "AGE                    107\n",
              "dtype: int64"
            ]
          },
          "metadata": {},
          "execution_count": 76
        }
      ]
    },
    {
      "cell_type": "code",
      "metadata": {
        "colab": {
          "base_uri": "https://localhost:8080/"
        },
        "id": "s-QoUkx-hJQP",
        "outputId": "a81d1e8c-2060-45eb-d076-baf492f04873"
      },
      "source": [
        "df_vehicle.nunique()"
      ],
      "execution_count": 79,
      "outputs": [
        {
          "output_type": "execute_result",
          "data": {
            "text/plain": [
              "Unnamed: 0.1      345092\n",
              "VEHICLE_ID        345092\n",
              "TRAFFIC_DATE        7428\n",
              "BRAND_CODE             5\n",
              "BASEMODEL_CODE      2477\n",
              "TOPMODEL_CODE        346\n",
              "MOTOR_GAS_TYPE         4\n",
              "GEAR_BOX_TYPE          2\n",
              "dtype: int64"
            ]
          },
          "metadata": {},
          "execution_count": 79
        }
      ]
    },
    {
      "cell_type": "code",
      "metadata": {
        "colab": {
          "base_uri": "https://localhost:8080/"
        },
        "id": "lM8iiXhFhJNn",
        "outputId": "8fe5b324-cf72-4c53-ea0d-5834a3ae74c3"
      },
      "source": [
        "df_cust_rel.nunique()"
      ],
      "execution_count": 80,
      "outputs": [
        {
          "output_type": "execute_result",
          "data": {
            "text/plain": [
              "Unnamed: 0.1             374879\n",
              "BASE_CUSTOMER_ID         196538\n",
              "VEHICLE_ID               345092\n",
              "START_DATE                 8132\n",
              "FK_RELATION_STATUS_ID         2\n",
              "TOTAL_LICENCE_TIME           31\n",
              "dtype: int64"
            ]
          },
          "metadata": {},
          "execution_count": 80
        }
      ]
    },
    {
      "cell_type": "markdown",
      "metadata": {
        "id": "ROMUHhxHontD"
      },
      "source": [
        "## Check For Null Values (as percentage)"
      ]
    },
    {
      "cell_type": "code",
      "metadata": {
        "colab": {
          "base_uri": "https://localhost:8080/"
        },
        "id": "BMR6-3U7oq17",
        "outputId": "8ad8656c-67a5-4c4c-d1f1-5dcede413f69"
      },
      "source": [
        "df_customer.isna().mean()*100"
      ],
      "execution_count": 62,
      "outputs": [
        {
          "output_type": "execute_result",
          "data": {
            "text/plain": [
              "Unnamed: 0           0.000000\n",
              "BASE_CUSTOMER_ID     0.000000\n",
              "CUSTOMER_ID          0.000000\n",
              "GENDER               0.000235\n",
              "MARITAL_STATUS       9.419839\n",
              "BIRTH_DATE           6.789000\n",
              "OCCUPATION          28.400589\n",
              "dtype: float64"
            ]
          },
          "metadata": {},
          "execution_count": 62
        }
      ]
    },
    {
      "cell_type": "code",
      "metadata": {
        "colab": {
          "base_uri": "https://localhost:8080/"
        },
        "id": "wOSfwPvNoqxr",
        "outputId": "5752c272-86e9-4b6f-90bb-a63bf89b6091"
      },
      "source": [
        "df_cust_rel.isna().mean()*100"
      ],
      "execution_count": 63,
      "outputs": [
        {
          "output_type": "execute_result",
          "data": {
            "text/plain": [
              "Unnamed: 0               0.0\n",
              "BASE_CUSTOMER_ID         0.0\n",
              "VEHICLE_ID               0.0\n",
              "START_DATE               0.0\n",
              "FK_RELATION_STATUS_ID    0.0\n",
              "TOTAL_LICENCE_TIME       0.0\n",
              "dtype: float64"
            ]
          },
          "metadata": {},
          "execution_count": 63
        }
      ]
    },
    {
      "cell_type": "code",
      "metadata": {
        "colab": {
          "base_uri": "https://localhost:8080/"
        },
        "id": "a50lIK5lu6pq",
        "outputId": "60ec906e-47cf-4300-8ef1-1a65e21a9207"
      },
      "source": [
        "df_vehicle.isna().mean()*100"
      ],
      "execution_count": 66,
      "outputs": [
        {
          "output_type": "execute_result",
          "data": {
            "text/plain": [
              "Unnamed: 0         0.000000\n",
              "Unnamed: 0.1       0.000000\n",
              "VEHICLE_ID         0.000000\n",
              "TRAFFIC_DATE       0.000000\n",
              "BRAND_CODE         0.000000\n",
              "BASEMODEL_CODE     0.000000\n",
              "TOPMODEL_CODE      0.000000\n",
              "MOTOR_GAS_TYPE    12.156758\n",
              "GEAR_BOX_TYPE     15.033382\n",
              "dtype: float64"
            ]
          },
          "metadata": {},
          "execution_count": 66
        }
      ]
    },
    {
      "cell_type": "code",
      "metadata": {
        "colab": {
          "base_uri": "https://localhost:8080/"
        },
        "id": "8Wl7ZTkcoqvQ",
        "outputId": "7e873ffd-2a2d-4b37-8ca0-cc5e604362d3"
      },
      "source": [
        "F_SALES_DATA.isna().mean()*100"
      ],
      "execution_count": 64,
      "outputs": [
        {
          "output_type": "execute_result",
          "data": {
            "text/plain": [
              "Unnamed: 0           0.0000\n",
              "CUSTOMER_ID          0.0000\n",
              "SALESFILE_ID         0.0000\n",
              "SF_CREATE_DATE       0.0000\n",
              "STATUS               0.0000\n",
              "REQ_BRAND_CODE       0.0000\n",
              "REQ_TOPMODEL_CODE    0.0727\n",
              "dtype: float64"
            ]
          },
          "metadata": {},
          "execution_count": 64
        }
      ]
    },
    {
      "cell_type": "code",
      "metadata": {
        "colab": {
          "base_uri": "https://localhost:8080/"
        },
        "id": "631XoZ91oqFV",
        "outputId": "c3f95831-c4d1-4914-c4c3-468ebd13913a"
      },
      "source": [
        "F_SIFIR_ARAC_DATA.isna().mean()*100"
      ],
      "execution_count": 65,
      "outputs": [
        {
          "output_type": "execute_result",
          "data": {
            "text/plain": [
              "Unnamed: 0     0.0\n",
              "VEHICLE_ID     0.0\n",
              "CUSTOMER_ID    0.0\n",
              "CREATE_DATE    0.0\n",
              "dtype: float64"
            ]
          },
          "metadata": {},
          "execution_count": 65
        }
      ]
    },
    {
      "cell_type": "code",
      "metadata": {
        "id": "Z8QUs9Hzu0Io"
      },
      "source": [
        ""
      ],
      "execution_count": null,
      "outputs": []
    },
    {
      "cell_type": "markdown",
      "metadata": {
        "id": "uSt8PjkExXJL"
      },
      "source": [
        "## Fill the Null Values"
      ]
    },
    {
      "cell_type": "markdown",
      "metadata": {
        "id": "bTeR6XkL97Ji"
      },
      "source": [
        "### Fill CUSTOMER Data"
      ]
    },
    {
      "cell_type": "markdown",
      "metadata": {
        "id": "2xsmlBMK2gNr"
      },
      "source": [
        "Drop the OCCUPATION from CUSTOMER since 28% of it are null."
      ]
    },
    {
      "cell_type": "code",
      "metadata": {
        "id": "BkiF_WV5xZEk"
      },
      "source": [
        "df_customer = df_customer.drop('OCCUPATION', axis=1)"
      ],
      "execution_count": 95,
      "outputs": []
    },
    {
      "cell_type": "code",
      "metadata": {
        "colab": {
          "base_uri": "https://localhost:8080/",
          "height": 0
        },
        "id": "bBSKzwfhxZCX",
        "outputId": "e292dd46-fb0d-4066-e105-a6e1c166ce5a"
      },
      "source": [
        "df_customer.head(1)"
      ],
      "execution_count": 96,
      "outputs": [
        {
          "output_type": "execute_result",
          "data": {
            "text/html": [
              "<div>\n",
              "<style scoped>\n",
              "    .dataframe tbody tr th:only-of-type {\n",
              "        vertical-align: middle;\n",
              "    }\n",
              "\n",
              "    .dataframe tbody tr th {\n",
              "        vertical-align: top;\n",
              "    }\n",
              "\n",
              "    .dataframe thead th {\n",
              "        text-align: right;\n",
              "    }\n",
              "</style>\n",
              "<table border=\"1\" class=\"dataframe\">\n",
              "  <thead>\n",
              "    <tr style=\"text-align: right;\">\n",
              "      <th></th>\n",
              "      <th>BASE_CUSTOMER_ID</th>\n",
              "      <th>CUSTOMER_ID</th>\n",
              "      <th>GENDER</th>\n",
              "      <th>MARITAL_STATUS</th>\n",
              "      <th>AGE</th>\n",
              "    </tr>\n",
              "  </thead>\n",
              "  <tbody>\n",
              "    <tr>\n",
              "      <th>0</th>\n",
              "      <td>158891</td>\n",
              "      <td>1747700</td>\n",
              "      <td>Erkek</td>\n",
              "      <td>Evli</td>\n",
              "      <td>46.0</td>\n",
              "    </tr>\n",
              "  </tbody>\n",
              "</table>\n",
              "</div>"
            ],
            "text/plain": [
              "   BASE_CUSTOMER_ID  CUSTOMER_ID GENDER MARITAL_STATUS   AGE\n",
              "0            158891      1747700  Erkek           Evli  46.0"
            ]
          },
          "metadata": {},
          "execution_count": 96
        }
      ]
    },
    {
      "cell_type": "code",
      "metadata": {
        "colab": {
          "base_uri": "https://localhost:8080/"
        },
        "id": "_Pahni6J3DZU",
        "outputId": "f69fec6f-52d7-43fc-f9a3-57c90674fb90"
      },
      "source": [
        "df_customer.dropna(subset=['GENDER'], inplace=True)\n",
        "df_customer.isna().mean()*100"
      ],
      "execution_count": 102,
      "outputs": [
        {
          "output_type": "execute_result",
          "data": {
            "text/plain": [
              "BASE_CUSTOMER_ID    0.000000\n",
              "CUSTOMER_ID         0.000000\n",
              "GENDER              0.000000\n",
              "MARITAL_STATUS      9.419626\n",
              "AGE                 6.788781\n",
              "dtype: float64"
            ]
          },
          "metadata": {},
          "execution_count": 102
        }
      ]
    },
    {
      "cell_type": "code",
      "metadata": {
        "colab": {
          "base_uri": "https://localhost:8080/"
        },
        "id": "4PBJHVx79XUS",
        "outputId": "56e4bffb-9642-4870-f9f2-ef687ecc26da"
      },
      "source": [
        "cust_age_median = df_customer['AGE'].median()\n",
        "cust_age_median"
      ],
      "execution_count": 104,
      "outputs": [
        {
          "output_type": "execute_result",
          "data": {
            "text/plain": [
              "52.0"
            ]
          },
          "metadata": {},
          "execution_count": 104
        }
      ]
    },
    {
      "cell_type": "code",
      "metadata": {
        "colab": {
          "base_uri": "https://localhost:8080/"
        },
        "id": "FB83pl8W4htL",
        "outputId": "fea20465-b272-4c8a-c07d-d2343e97b7d3"
      },
      "source": [
        "df_customer['AGE'] = df_customer['AGE'].fillna( cust_age_median )\n",
        "df_customer.isna().mean()*100"
      ],
      "execution_count": 106,
      "outputs": [
        {
          "output_type": "execute_result",
          "data": {
            "text/plain": [
              "BASE_CUSTOMER_ID    0.000000\n",
              "CUSTOMER_ID         0.000000\n",
              "GENDER              0.000000\n",
              "MARITAL_STATUS      9.419626\n",
              "AGE                 0.000000\n",
              "dtype: float64"
            ]
          },
          "metadata": {},
          "execution_count": 106
        }
      ]
    },
    {
      "cell_type": "code",
      "metadata": {
        "colab": {
          "base_uri": "https://localhost:8080/"
        },
        "id": "oNjJuuaE9r9Z",
        "outputId": "50e6e1df-8623-4b19-ca3f-c58e73b76377"
      },
      "source": [
        "df_customer.dtypes"
      ],
      "execution_count": 108,
      "outputs": [
        {
          "output_type": "execute_result",
          "data": {
            "text/plain": [
              "BASE_CUSTOMER_ID      int64\n",
              "CUSTOMER_ID           int64\n",
              "GENDER               object\n",
              "MARITAL_STATUS       object\n",
              "AGE                 float64\n",
              "dtype: object"
            ]
          },
          "metadata": {},
          "execution_count": 108
        }
      ]
    },
    {
      "cell_type": "code",
      "metadata": {
        "id": "D3z32Af7xY_8"
      },
      "source": [
        "df_customer['AGE'] = df_customer.AGE.astype('uint16')"
      ],
      "execution_count": 110,
      "outputs": []
    },
    {
      "cell_type": "code",
      "metadata": {
        "colab": {
          "base_uri": "https://localhost:8080/"
        },
        "id": "Qdx9KhWdxY8o",
        "outputId": "eaed1f48-ab51-4393-d8cf-d24136c5892b"
      },
      "source": [
        "df_customer.dtypes"
      ],
      "execution_count": 111,
      "outputs": [
        {
          "output_type": "execute_result",
          "data": {
            "text/plain": [
              "BASE_CUSTOMER_ID     int64\n",
              "CUSTOMER_ID          int64\n",
              "GENDER              object\n",
              "MARITAL_STATUS      object\n",
              "AGE                 uint16\n",
              "dtype: object"
            ]
          },
          "metadata": {},
          "execution_count": 111
        }
      ]
    },
    {
      "cell_type": "code",
      "metadata": {
        "colab": {
          "base_uri": "https://localhost:8080/",
          "height": 0
        },
        "id": "7LRhAUlU94Jq",
        "outputId": "c7b2412f-2fa3-4760-b318-30471743239f"
      },
      "source": [
        "df_customer.head(1)"
      ],
      "execution_count": 112,
      "outputs": [
        {
          "output_type": "execute_result",
          "data": {
            "text/html": [
              "<div>\n",
              "<style scoped>\n",
              "    .dataframe tbody tr th:only-of-type {\n",
              "        vertical-align: middle;\n",
              "    }\n",
              "\n",
              "    .dataframe tbody tr th {\n",
              "        vertical-align: top;\n",
              "    }\n",
              "\n",
              "    .dataframe thead th {\n",
              "        text-align: right;\n",
              "    }\n",
              "</style>\n",
              "<table border=\"1\" class=\"dataframe\">\n",
              "  <thead>\n",
              "    <tr style=\"text-align: right;\">\n",
              "      <th></th>\n",
              "      <th>BASE_CUSTOMER_ID</th>\n",
              "      <th>CUSTOMER_ID</th>\n",
              "      <th>GENDER</th>\n",
              "      <th>MARITAL_STATUS</th>\n",
              "      <th>AGE</th>\n",
              "    </tr>\n",
              "  </thead>\n",
              "  <tbody>\n",
              "    <tr>\n",
              "      <th>0</th>\n",
              "      <td>158891</td>\n",
              "      <td>1747700</td>\n",
              "      <td>Erkek</td>\n",
              "      <td>Evli</td>\n",
              "      <td>46</td>\n",
              "    </tr>\n",
              "  </tbody>\n",
              "</table>\n",
              "</div>"
            ],
            "text/plain": [
              "   BASE_CUSTOMER_ID  CUSTOMER_ID GENDER MARITAL_STATUS  AGE\n",
              "0            158891      1747700  Erkek           Evli   46"
            ]
          },
          "metadata": {},
          "execution_count": 112
        }
      ]
    },
    {
      "cell_type": "code",
      "metadata": {
        "colab": {
          "base_uri": "https://localhost:8080/"
        },
        "id": "tU3ep9NS9_qb",
        "outputId": "48b06d62-33bb-4c4f-ed75-e554d3bac2d3"
      },
      "source": [
        "df_customer.isna().mean()*100"
      ],
      "execution_count": 115,
      "outputs": [
        {
          "output_type": "execute_result",
          "data": {
            "text/plain": [
              "BASE_CUSTOMER_ID    0.000000\n",
              "CUSTOMER_ID         0.000000\n",
              "GENDER              0.000000\n",
              "MARITAL_STATUS      9.419626\n",
              "AGE                 0.000000\n",
              "dtype: float64"
            ]
          },
          "metadata": {},
          "execution_count": 115
        }
      ]
    },
    {
      "cell_type": "code",
      "metadata": {
        "id": "wwFLuORIFUiT"
      },
      "source": [
        "df_customer.dropna(subset=['MARITAL_STATUS'], inplace=True)"
      ],
      "execution_count": 117,
      "outputs": []
    },
    {
      "cell_type": "code",
      "metadata": {
        "colab": {
          "base_uri": "https://localhost:8080/",
          "height": 0
        },
        "id": "zRRgnmzrFvcQ",
        "outputId": "da2ef3ed-1d55-4972-ebd4-d7aa68cd3f79"
      },
      "source": [
        "df_customer.head(1)"
      ],
      "execution_count": 118,
      "outputs": [
        {
          "output_type": "execute_result",
          "data": {
            "text/html": [
              "<div>\n",
              "<style scoped>\n",
              "    .dataframe tbody tr th:only-of-type {\n",
              "        vertical-align: middle;\n",
              "    }\n",
              "\n",
              "    .dataframe tbody tr th {\n",
              "        vertical-align: top;\n",
              "    }\n",
              "\n",
              "    .dataframe thead th {\n",
              "        text-align: right;\n",
              "    }\n",
              "</style>\n",
              "<table border=\"1\" class=\"dataframe\">\n",
              "  <thead>\n",
              "    <tr style=\"text-align: right;\">\n",
              "      <th></th>\n",
              "      <th>BASE_CUSTOMER_ID</th>\n",
              "      <th>CUSTOMER_ID</th>\n",
              "      <th>GENDER</th>\n",
              "      <th>MARITAL_STATUS</th>\n",
              "      <th>AGE</th>\n",
              "    </tr>\n",
              "  </thead>\n",
              "  <tbody>\n",
              "    <tr>\n",
              "      <th>0</th>\n",
              "      <td>158891</td>\n",
              "      <td>1747700</td>\n",
              "      <td>Erkek</td>\n",
              "      <td>Evli</td>\n",
              "      <td>46</td>\n",
              "    </tr>\n",
              "  </tbody>\n",
              "</table>\n",
              "</div>"
            ],
            "text/plain": [
              "   BASE_CUSTOMER_ID  CUSTOMER_ID GENDER MARITAL_STATUS  AGE\n",
              "0            158891      1747700  Erkek           Evli   46"
            ]
          },
          "metadata": {},
          "execution_count": 118
        }
      ]
    },
    {
      "cell_type": "code",
      "metadata": {
        "colab": {
          "base_uri": "https://localhost:8080/"
        },
        "id": "qZ_tzC-OFvZO",
        "outputId": "792b7095-a784-4a80-98c4-dd105b7f4834"
      },
      "source": [
        "F_CUST_DATA.shape[0], df_customer.shape[0]"
      ],
      "execution_count": 120,
      "outputs": [
        {
          "output_type": "execute_result",
          "data": {
            "text/plain": [
              "(849919, 769858)"
            ]
          },
          "metadata": {},
          "execution_count": 120
        }
      ]
    },
    {
      "cell_type": "markdown",
      "metadata": {
        "id": "grPkijNXF7Pb"
      },
      "source": [
        "Only about **8%** of the data are omitted from CUSTOMER table"
      ]
    },
    {
      "cell_type": "code",
      "metadata": {
        "id": "Ct_4hdDLFvW5"
      },
      "source": [
        "F_"
      ],
      "execution_count": null,
      "outputs": []
    },
    {
      "cell_type": "markdown",
      "metadata": {
        "id": "6D0RajpiGP7P"
      },
      "source": [
        "### Fill "
      ]
    },
    {
      "cell_type": "markdown",
      "metadata": {
        "id": "X8H6DXVqJAfG"
      },
      "source": [
        "## One Hot Encoding"
      ]
    },
    {
      "cell_type": "markdown",
      "metadata": {
        "id": "HDa9hSJqL32t"
      },
      "source": [
        "### One Hot CUSTOMER"
      ]
    },
    {
      "cell_type": "code",
      "metadata": {
        "id": "5O5uq_6aJDGN"
      },
      "source": [
        "# # importing OneHotEncoder\n",
        "# from sklearn.preprocessing import OneHotEncoder()"
      ],
      "execution_count": null,
      "outputs": []
    },
    {
      "cell_type": "code",
      "metadata": {
        "colab": {
          "base_uri": "https://localhost:8080/",
          "height": 80
        },
        "id": "-bHdd-hhJDDO",
        "outputId": "556fc268-2ce9-45f6-9f51-9dfacb622e4a"
      },
      "source": [
        "df_customer.head(1)"
      ],
      "execution_count": 122,
      "outputs": [
        {
          "output_type": "execute_result",
          "data": {
            "text/html": [
              "<div>\n",
              "<style scoped>\n",
              "    .dataframe tbody tr th:only-of-type {\n",
              "        vertical-align: middle;\n",
              "    }\n",
              "\n",
              "    .dataframe tbody tr th {\n",
              "        vertical-align: top;\n",
              "    }\n",
              "\n",
              "    .dataframe thead th {\n",
              "        text-align: right;\n",
              "    }\n",
              "</style>\n",
              "<table border=\"1\" class=\"dataframe\">\n",
              "  <thead>\n",
              "    <tr style=\"text-align: right;\">\n",
              "      <th></th>\n",
              "      <th>BASE_CUSTOMER_ID</th>\n",
              "      <th>CUSTOMER_ID</th>\n",
              "      <th>GENDER</th>\n",
              "      <th>MARITAL_STATUS</th>\n",
              "      <th>AGE</th>\n",
              "    </tr>\n",
              "  </thead>\n",
              "  <tbody>\n",
              "    <tr>\n",
              "      <th>0</th>\n",
              "      <td>158891</td>\n",
              "      <td>1747700</td>\n",
              "      <td>Erkek</td>\n",
              "      <td>Evli</td>\n",
              "      <td>46</td>\n",
              "    </tr>\n",
              "  </tbody>\n",
              "</table>\n",
              "</div>"
            ],
            "text/plain": [
              "   BASE_CUSTOMER_ID  CUSTOMER_ID GENDER MARITAL_STATUS  AGE\n",
              "0            158891      1747700  Erkek           Evli   46"
            ]
          },
          "metadata": {},
          "execution_count": 122
        }
      ]
    },
    {
      "cell_type": "code",
      "metadata": {
        "colab": {
          "base_uri": "https://localhost:8080/",
          "height": 203
        },
        "id": "zdgEjHZNLZ7Z",
        "outputId": "cfde1096-67a7-4b81-8804-98379596f178"
      },
      "source": [
        "df_customer_dum = pd.get_dummies(df_customer, columns=['GENDER', 'MARITAL_STATUS'])\n",
        "df_customer_dum.head(5)"
      ],
      "execution_count": 124,
      "outputs": [
        {
          "output_type": "execute_result",
          "data": {
            "text/html": [
              "<div>\n",
              "<style scoped>\n",
              "    .dataframe tbody tr th:only-of-type {\n",
              "        vertical-align: middle;\n",
              "    }\n",
              "\n",
              "    .dataframe tbody tr th {\n",
              "        vertical-align: top;\n",
              "    }\n",
              "\n",
              "    .dataframe thead th {\n",
              "        text-align: right;\n",
              "    }\n",
              "</style>\n",
              "<table border=\"1\" class=\"dataframe\">\n",
              "  <thead>\n",
              "    <tr style=\"text-align: right;\">\n",
              "      <th></th>\n",
              "      <th>BASE_CUSTOMER_ID</th>\n",
              "      <th>CUSTOMER_ID</th>\n",
              "      <th>AGE</th>\n",
              "      <th>GENDER_Erkek</th>\n",
              "      <th>GENDER_Kadın</th>\n",
              "      <th>MARITAL_STATUS_Bekar</th>\n",
              "      <th>MARITAL_STATUS_Evli</th>\n",
              "    </tr>\n",
              "  </thead>\n",
              "  <tbody>\n",
              "    <tr>\n",
              "      <th>0</th>\n",
              "      <td>158891</td>\n",
              "      <td>1747700</td>\n",
              "      <td>46</td>\n",
              "      <td>1</td>\n",
              "      <td>0</td>\n",
              "      <td>0</td>\n",
              "      <td>1</td>\n",
              "    </tr>\n",
              "    <tr>\n",
              "      <th>1</th>\n",
              "      <td>169233</td>\n",
              "      <td>1710561</td>\n",
              "      <td>59</td>\n",
              "      <td>1</td>\n",
              "      <td>0</td>\n",
              "      <td>0</td>\n",
              "      <td>1</td>\n",
              "    </tr>\n",
              "    <tr>\n",
              "      <th>2</th>\n",
              "      <td>30887</td>\n",
              "      <td>1043923</td>\n",
              "      <td>50</td>\n",
              "      <td>1</td>\n",
              "      <td>0</td>\n",
              "      <td>0</td>\n",
              "      <td>1</td>\n",
              "    </tr>\n",
              "    <tr>\n",
              "      <th>4</th>\n",
              "      <td>157091</td>\n",
              "      <td>1819787</td>\n",
              "      <td>72</td>\n",
              "      <td>0</td>\n",
              "      <td>1</td>\n",
              "      <td>0</td>\n",
              "      <td>1</td>\n",
              "    </tr>\n",
              "    <tr>\n",
              "      <th>5</th>\n",
              "      <td>6590</td>\n",
              "      <td>1826742</td>\n",
              "      <td>69</td>\n",
              "      <td>1</td>\n",
              "      <td>0</td>\n",
              "      <td>0</td>\n",
              "      <td>1</td>\n",
              "    </tr>\n",
              "  </tbody>\n",
              "</table>\n",
              "</div>"
            ],
            "text/plain": [
              "   BASE_CUSTOMER_ID  CUSTOMER_ID  ...  MARITAL_STATUS_Bekar  MARITAL_STATUS_Evli\n",
              "0            158891      1747700  ...                     0                    1\n",
              "1            169233      1710561  ...                     0                    1\n",
              "2             30887      1043923  ...                     0                    1\n",
              "4            157091      1819787  ...                     0                    1\n",
              "5              6590      1826742  ...                     0                    1\n",
              "\n",
              "[5 rows x 7 columns]"
            ]
          },
          "metadata": {},
          "execution_count": 124
        }
      ]
    },
    {
      "cell_type": "markdown",
      "metadata": {
        "id": "bWyRSfMYL7XF"
      },
      "source": [
        "### One Hot CUSTOMER_RELATED"
      ]
    },
    {
      "cell_type": "markdown",
      "metadata": {
        "id": "sRRB3k35MmWm"
      },
      "source": [
        "SHOULD I ADD THIS??"
      ]
    },
    {
      "cell_type": "code",
      "metadata": {
        "id": "FRFM3weLMRK7"
      },
      "source": [
        "# df_cust_rel_dum = pd.get_dummies( df_cust_rel, columns=['FK_RELATION_STATUS_ID'])\n",
        "# df_cust_rel_dum.head(3)"
      ],
      "execution_count": 128,
      "outputs": []
    },
    {
      "cell_type": "code",
      "metadata": {
        "id": "wXYdESbLMRIM"
      },
      "source": [
        ""
      ],
      "execution_count": null,
      "outputs": []
    },
    {
      "cell_type": "markdown",
      "metadata": {
        "id": "1mxBBSMXMuGV"
      },
      "source": [
        "# CREATING DATA TO FEED THE MODEL"
      ]
    },
    {
      "cell_type": "code",
      "metadata": {
        "id": "3_3NBmUdMveu"
      },
      "source": [
        "# df_cust_and_cust_rel = df_customer_dum.merge(df_cust_rel, on='BASE_CUSTOMER_ID')\n",
        "# df_cust_and_cust_rel.head(15)"
      ],
      "execution_count": 133,
      "outputs": []
    },
    {
      "cell_type": "code",
      "metadata": {
        "id": "_UnDjAjMMvbz"
      },
      "source": [
        "df_final_customer = df_customer_dum.copy()\n",
        "\n",
        "for column in df_customer_dum:\n",
        "  "
      ],
      "execution_count": null,
      "outputs": []
    },
    {
      "cell_type": "code",
      "metadata": {
        "id": "OPu8gvSbMvZh"
      },
      "source": [
        ""
      ],
      "execution_count": null,
      "outputs": []
    },
    {
      "cell_type": "markdown",
      "metadata": {
        "id": "cAyuzINyUB43"
      },
      "source": [
        "# Exploration for Merging"
      ]
    },
    {
      "cell_type": "code",
      "metadata": {
        "colab": {
          "base_uri": "https://localhost:8080/",
          "height": 133
        },
        "id": "INw8Y7jKWoY5",
        "outputId": "48681897-1431-4ca2-8e31-b9a43c42a5a4"
      },
      "source": [
        "df_sales.head(1)"
      ],
      "execution_count": null,
      "outputs": [
        {
          "output_type": "execute_result",
          "data": {
            "text/html": [
              "<div>\n",
              "<style scoped>\n",
              "    .dataframe tbody tr th:only-of-type {\n",
              "        vertical-align: middle;\n",
              "    }\n",
              "\n",
              "    .dataframe tbody tr th {\n",
              "        vertical-align: top;\n",
              "    }\n",
              "\n",
              "    .dataframe thead th {\n",
              "        text-align: right;\n",
              "    }\n",
              "</style>\n",
              "<table border=\"1\" class=\"dataframe\">\n",
              "  <thead>\n",
              "    <tr style=\"text-align: right;\">\n",
              "      <th></th>\n",
              "      <th>Unnamed: 0</th>\n",
              "      <th>CUSTOMER_ID</th>\n",
              "      <th>SALESFILE_ID</th>\n",
              "      <th>SF_CREATE_DATE</th>\n",
              "      <th>STATUS</th>\n",
              "      <th>REQ_BRAND_CODE</th>\n",
              "      <th>REQ_TOPMODEL_CODE</th>\n",
              "      <th>CREATE_YEAR</th>\n",
              "      <th>CREATE_MONTH</th>\n",
              "    </tr>\n",
              "  </thead>\n",
              "  <tbody>\n",
              "    <tr>\n",
              "      <th>0</th>\n",
              "      <td>0</td>\n",
              "      <td>1712792</td>\n",
              "      <td>7274467.0</td>\n",
              "      <td>2017-11-17 12:15:39</td>\n",
              "      <td>101</td>\n",
              "      <td>Y</td>\n",
              "      <td>9231.0</td>\n",
              "      <td>2017</td>\n",
              "      <td>11</td>\n",
              "    </tr>\n",
              "  </tbody>\n",
              "</table>\n",
              "</div>"
            ],
            "text/plain": [
              "   Unnamed: 0  CUSTOMER_ID  ...  CREATE_YEAR CREATE_MONTH\n",
              "0           0      1712792  ...         2017           11\n",
              "\n",
              "[1 rows x 9 columns]"
            ]
          },
          "metadata": {},
          "execution_count": 30
        }
      ]
    },
    {
      "cell_type": "code",
      "metadata": {
        "colab": {
          "base_uri": "https://localhost:8080/",
          "height": 116
        },
        "id": "Nw1aaxSEVuz5",
        "outputId": "e75ed29b-2785-457a-961c-871006df195c"
      },
      "source": [
        "df_customer = F_CUST_DATA\n",
        "df_customer[ df_customer['CUSTOMER_ID'] == 1712792]"
      ],
      "execution_count": null,
      "outputs": [
        {
          "output_type": "execute_result",
          "data": {
            "text/html": [
              "<div>\n",
              "<style scoped>\n",
              "    .dataframe tbody tr th:only-of-type {\n",
              "        vertical-align: middle;\n",
              "    }\n",
              "\n",
              "    .dataframe tbody tr th {\n",
              "        vertical-align: top;\n",
              "    }\n",
              "\n",
              "    .dataframe thead th {\n",
              "        text-align: right;\n",
              "    }\n",
              "</style>\n",
              "<table border=\"1\" class=\"dataframe\">\n",
              "  <thead>\n",
              "    <tr style=\"text-align: right;\">\n",
              "      <th></th>\n",
              "      <th>Unnamed: 0</th>\n",
              "      <th>BASE_CUSTOMER_ID</th>\n",
              "      <th>CUSTOMER_ID</th>\n",
              "      <th>GENDER</th>\n",
              "      <th>GENDER_ID</th>\n",
              "      <th>MARITAL_STATUS</th>\n",
              "      <th>MARITAL_STATUS_ID</th>\n",
              "      <th>BIRTH_DATE</th>\n",
              "      <th>FK_ADDRESS_COMMUNICATION_CITY</th>\n",
              "      <th>OCCUPATION</th>\n",
              "    </tr>\n",
              "  </thead>\n",
              "  <tbody>\n",
              "    <tr>\n",
              "      <th>374633</th>\n",
              "      <td>374633</td>\n",
              "      <td>31024</td>\n",
              "      <td>1712792</td>\n",
              "      <td>Erkek</td>\n",
              "      <td>100</td>\n",
              "      <td>Evli</td>\n",
              "      <td>101</td>\n",
              "      <td>1971.0</td>\n",
              "      <td>Düzce</td>\n",
              "      <td>Diğer</td>\n",
              "    </tr>\n",
              "  </tbody>\n",
              "</table>\n",
              "</div>"
            ],
            "text/plain": [
              "        Unnamed: 0  BASE_CUSTOMER_ID  ...  FK_ADDRESS_COMMUNICATION_CITY OCCUPATION\n",
              "374633      374633             31024  ...                          Düzce      Diğer\n",
              "\n",
              "[1 rows x 10 columns]"
            ]
          },
          "metadata": {},
          "execution_count": 24
        }
      ]
    },
    {
      "cell_type": "code",
      "metadata": {
        "colab": {
          "base_uri": "https://localhost:8080/",
          "height": 194
        },
        "id": "18f-kVJ_V4He",
        "outputId": "324a8252-5ce4-40e9-a568-ff6135453352"
      },
      "source": [
        "df_cust_rel = F_CUST_RELATED_DATA\n",
        "df_cust_rel[ df_cust_rel['BASE_CUSTOMER_ID'] == 31024]\n",
        "                .sort_values(by=['START_DATE'])"
      ],
      "execution_count": null,
      "outputs": [
        {
          "output_type": "execute_result",
          "data": {
            "text/html": [
              "<div>\n",
              "<style scoped>\n",
              "    .dataframe tbody tr th:only-of-type {\n",
              "        vertical-align: middle;\n",
              "    }\n",
              "\n",
              "    .dataframe tbody tr th {\n",
              "        vertical-align: top;\n",
              "    }\n",
              "\n",
              "    .dataframe thead th {\n",
              "        text-align: right;\n",
              "    }\n",
              "</style>\n",
              "<table border=\"1\" class=\"dataframe\">\n",
              "  <thead>\n",
              "    <tr style=\"text-align: right;\">\n",
              "      <th></th>\n",
              "      <th>Unnamed: 0</th>\n",
              "      <th>BASE_CUSTOMER_ID</th>\n",
              "      <th>VEHICLE_ID</th>\n",
              "      <th>START_DATE</th>\n",
              "      <th>END_DATE</th>\n",
              "      <th>FK_RELATION_STATUS_ID</th>\n",
              "      <th>FK_RELATION_STATUS_EXPLANATION</th>\n",
              "    </tr>\n",
              "  </thead>\n",
              "  <tbody>\n",
              "    <tr>\n",
              "      <th>102956</th>\n",
              "      <td>102956</td>\n",
              "      <td>31024</td>\n",
              "      <td>5067245</td>\n",
              "      <td>2004-08-18</td>\n",
              "      <td>NaN</td>\n",
              "      <td>1</td>\n",
              "      <td>Aktif Ruhsat Sahibi</td>\n",
              "    </tr>\n",
              "    <tr>\n",
              "      <th>281601</th>\n",
              "      <td>281601</td>\n",
              "      <td>31024</td>\n",
              "      <td>5280177</td>\n",
              "      <td>2015-10-09</td>\n",
              "      <td>NaN</td>\n",
              "      <td>1</td>\n",
              "      <td>Aktif Ruhsat Sahibi</td>\n",
              "    </tr>\n",
              "    <tr>\n",
              "      <th>297993</th>\n",
              "      <td>297993</td>\n",
              "      <td>31024</td>\n",
              "      <td>5315137</td>\n",
              "      <td>2017-12-12</td>\n",
              "      <td>2020-04-30</td>\n",
              "      <td>2</td>\n",
              "      <td>Pasif Ruhsat Sahibi</td>\n",
              "    </tr>\n",
              "  </tbody>\n",
              "</table>\n",
              "</div>"
            ],
            "text/plain": [
              "        Unnamed: 0  ...  FK_RELATION_STATUS_EXPLANATION\n",
              "102956      102956  ...             Aktif Ruhsat Sahibi\n",
              "281601      281601  ...             Aktif Ruhsat Sahibi\n",
              "297993      297993  ...             Pasif Ruhsat Sahibi\n",
              "\n",
              "[3 rows x 7 columns]"
            ]
          },
          "metadata": {},
          "execution_count": 33
        }
      ]
    },
    {
      "cell_type": "code",
      "metadata": {
        "colab": {
          "base_uri": "https://localhost:8080/",
          "height": 0
        },
        "id": "iymJcr4JTiTw",
        "outputId": "2e12c365-c156-4891-f80b-7374f100a45b"
      },
      "source": [
        "df_vehicle = F_VEHICLE_DATA.copy()\n",
        "df_vehicle[df_vehicle['VEHICLE_ID'] == 5341920]"
      ],
      "execution_count": 114,
      "outputs": [
        {
          "output_type": "execute_result",
          "data": {
            "text/html": [
              "<div>\n",
              "<style scoped>\n",
              "    .dataframe tbody tr th:only-of-type {\n",
              "        vertical-align: middle;\n",
              "    }\n",
              "\n",
              "    .dataframe tbody tr th {\n",
              "        vertical-align: top;\n",
              "    }\n",
              "\n",
              "    .dataframe thead th {\n",
              "        text-align: right;\n",
              "    }\n",
              "</style>\n",
              "<table border=\"1\" class=\"dataframe\">\n",
              "  <thead>\n",
              "    <tr style=\"text-align: right;\">\n",
              "      <th></th>\n",
              "      <th>Unnamed: 0</th>\n",
              "      <th>VEHICLE_ID</th>\n",
              "      <th>TRAFFIC_DATE</th>\n",
              "      <th>BRAND_CODE</th>\n",
              "      <th>BASEMODEL_CODE</th>\n",
              "      <th>TOPMODEL_CODE</th>\n",
              "      <th>MOTOR_GAS_TYPE</th>\n",
              "      <th>GEAR_BOX_TYPE</th>\n",
              "    </tr>\n",
              "  </thead>\n",
              "  <tbody>\n",
              "    <tr>\n",
              "      <th>127894</th>\n",
              "      <td>127894</td>\n",
              "      <td>5341920</td>\n",
              "      <td>2021-01-25</td>\n",
              "      <td>Y</td>\n",
              "      <td>16518</td>\n",
              "      <td>9625</td>\n",
              "      <td>?Benzin</td>\n",
              "      <td>?automatisch</td>\n",
              "    </tr>\n",
              "  </tbody>\n",
              "</table>\n",
              "</div>"
            ],
            "text/plain": [
              "        Unnamed: 0  VEHICLE_ID  ... MOTOR_GAS_TYPE GEAR_BOX_TYPE\n",
              "127894      127894     5341920  ...        ?Benzin  ?automatisch\n",
              "\n",
              "[1 rows x 8 columns]"
            ]
          },
          "metadata": {},
          "execution_count": 114
        }
      ]
    },
    {
      "cell_type": "code",
      "metadata": {
        "colab": {
          "base_uri": "https://localhost:8080/",
          "height": 79
        },
        "id": "YUvcuUeFUjNo",
        "outputId": "2e8d10d8-7657-477e-cd01-6ae0a5878d00"
      },
      "source": [
        "# F_SIFIR_ARAC_DATA.head(6)\n",
        "df_sifir = F_SIFIR_ARAC_DATA.copy()\n",
        "df_sifir[ df_sifir['VEHICLE_ID']== 5341920]"
      ],
      "execution_count": null,
      "outputs": [
        {
          "output_type": "execute_result",
          "data": {
            "text/html": [
              "<div>\n",
              "<style scoped>\n",
              "    .dataframe tbody tr th:only-of-type {\n",
              "        vertical-align: middle;\n",
              "    }\n",
              "\n",
              "    .dataframe tbody tr th {\n",
              "        vertical-align: top;\n",
              "    }\n",
              "\n",
              "    .dataframe thead th {\n",
              "        text-align: right;\n",
              "    }\n",
              "</style>\n",
              "<table border=\"1\" class=\"dataframe\">\n",
              "  <thead>\n",
              "    <tr style=\"text-align: right;\">\n",
              "      <th></th>\n",
              "      <th>Unnamed: 0</th>\n",
              "      <th>VEHICLE_ID</th>\n",
              "      <th>CUSTOMER_ID</th>\n",
              "      <th>CREATE_DATE</th>\n",
              "    </tr>\n",
              "  </thead>\n",
              "  <tbody>\n",
              "    <tr>\n",
              "      <th>133792</th>\n",
              "      <td>133792</td>\n",
              "      <td>5341920</td>\n",
              "      <td>1573659</td>\n",
              "      <td>2021-01-22 12:26:56</td>\n",
              "    </tr>\n",
              "  </tbody>\n",
              "</table>\n",
              "</div>"
            ],
            "text/plain": [
              "        Unnamed: 0  VEHICLE_ID  CUSTOMER_ID          CREATE_DATE\n",
              "133792      133792     5341920      1573659  2021-01-22 12:26:56"
            ]
          },
          "metadata": {},
          "execution_count": 72
        }
      ]
    },
    {
      "cell_type": "code",
      "metadata": {
        "colab": {
          "base_uri": "https://localhost:8080/",
          "height": 178
        },
        "id": "MUFeEEIxU1rY",
        "outputId": "010eccd6-b2ae-4031-bb75-bf6ed47c03a4"
      },
      "source": [
        "df_vehicle.sample(n=3) # Get 3 Random Values"
      ],
      "execution_count": null,
      "outputs": [
        {
          "output_type": "execute_result",
          "data": {
            "text/html": [
              "<div>\n",
              "<style scoped>\n",
              "    .dataframe tbody tr th:only-of-type {\n",
              "        vertical-align: middle;\n",
              "    }\n",
              "\n",
              "    .dataframe tbody tr th {\n",
              "        vertical-align: top;\n",
              "    }\n",
              "\n",
              "    .dataframe thead th {\n",
              "        text-align: right;\n",
              "    }\n",
              "</style>\n",
              "<table border=\"1\" class=\"dataframe\">\n",
              "  <thead>\n",
              "    <tr style=\"text-align: right;\">\n",
              "      <th></th>\n",
              "      <th>Unnamed: 0</th>\n",
              "      <th>VEHICLE_ID</th>\n",
              "      <th>TRAFFIC_DATE</th>\n",
              "      <th>BRAND_CODE</th>\n",
              "      <th>BASEMODEL_CODE</th>\n",
              "      <th>TOPMODEL_CODE</th>\n",
              "      <th>MOTOR_GAS_TYPE</th>\n",
              "      <th>GEAR_BOX_TYPE</th>\n",
              "    </tr>\n",
              "  </thead>\n",
              "  <tbody>\n",
              "    <tr>\n",
              "      <th>127894</th>\n",
              "      <td>127894</td>\n",
              "      <td>5341920</td>\n",
              "      <td>2021-01-25</td>\n",
              "      <td>Y</td>\n",
              "      <td>16518</td>\n",
              "      <td>9625</td>\n",
              "      <td>?Benzin</td>\n",
              "      <td>?automatisch</td>\n",
              "    </tr>\n",
              "    <tr>\n",
              "      <th>47881</th>\n",
              "      <td>47881</td>\n",
              "      <td>5113901</td>\n",
              "      <td>2006-02-21</td>\n",
              "      <td>T</td>\n",
              "      <td>13907</td>\n",
              "      <td>9383</td>\n",
              "      <td>Kurşunsuz Benzin</td>\n",
              "      <td>Otomatik</td>\n",
              "    </tr>\n",
              "    <tr>\n",
              "      <th>164611</th>\n",
              "      <td>164611</td>\n",
              "      <td>5342339</td>\n",
              "      <td>2021-03-19</td>\n",
              "      <td>Y</td>\n",
              "      <td>16442</td>\n",
              "      <td>9605</td>\n",
              "      <td>Benzin</td>\n",
              "      <td>Otomatik (DSG)</td>\n",
              "    </tr>\n",
              "  </tbody>\n",
              "</table>\n",
              "</div>"
            ],
            "text/plain": [
              "        Unnamed: 0  VEHICLE_ID  ...    MOTOR_GAS_TYPE   GEAR_BOX_TYPE\n",
              "127894      127894     5341920  ...           ?Benzin    ?automatisch\n",
              "47881        47881     5113901  ...  Kurşunsuz Benzin        Otomatik\n",
              "164611      164611     5342339  ...            Benzin  Otomatik (DSG)\n",
              "\n",
              "[3 rows x 8 columns]"
            ]
          },
          "metadata": {},
          "execution_count": 71
        }
      ]
    },
    {
      "cell_type": "code",
      "metadata": {
        "id": "FWbrOqkFsZ0W"
      },
      "source": [
        ""
      ],
      "execution_count": null,
      "outputs": []
    },
    {
      "cell_type": "code",
      "metadata": {
        "id": "PC-EQkJEVWTo"
      },
      "source": [
        ""
      ],
      "execution_count": null,
      "outputs": []
    },
    {
      "cell_type": "code",
      "metadata": {
        "id": "9OnWImhXVpKB"
      },
      "source": [
        ""
      ],
      "execution_count": null,
      "outputs": []
    },
    {
      "cell_type": "code",
      "metadata": {
        "id": "twJeSZGf2muQ"
      },
      "source": [
        "sifir_arac_data = pd.merge(df,F_VEHICLE_DATA, on='VEHICLE_ID')"
      ],
      "execution_count": null,
      "outputs": []
    }
  ]
}