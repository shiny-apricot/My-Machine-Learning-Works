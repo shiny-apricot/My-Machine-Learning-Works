{
  "cells": [
    {
      "cell_type": "markdown",
      "metadata": {},
      "source": [
        "##### I recommend you to review this notebook via Google Colab so that you don't drown in long code blocks.\n",
        "[![Open In Colab](https://colab.research.google.com/assets/colab-badge.svg)](https://colab.research.google.com/drive/1LxhnjaXNNIOJNGhSfY3wkGSAdSZUaaAC?usp=sharing)"
      ]
    },
    {
      "cell_type": "markdown",
      "metadata": {
        "id": "YR5VnrJmpA2Y"
      },
      "source": [
        "\n",
        "# INTRO\n",
        "**Hello,**\n",
        "\n",
        "This notebook is created for the Doğuş Datathon Competition by **Yasin İnal and Selim Yürekli.**\n",
        "\n",
        "The goal was to predict which users will open a sales file in a specified time interval (june-july 2021) based on a raw data that is extracted from a **relational database.**\n",
        "[Inspect the data here.](https://www.kaggle.com/c/dogus-datathon-otomotiv/data)\n",
        "\n",
        "To accomplish this, me and my friend has implemented various data cleaning techniques and tried different algorithms like ***Deep Learning, LightGBM, XGBoost*** to train the model. [The LightGBM was the best performer. But we only listed Deep Learning here we used LightGBM in a different notebook to speed up training]\n",
        "\n",
        "The most challenging parts of the job was **to understand the relation between the database tables, merging them by calculating time-specific sale informations of the customers in a specified time interval and filling the columns that has a huge NA value ratio (more than 40%) with specific algorithms.**\n",
        "\n",
        "### Data Cleaning:\n",
        "\n",
        "To fill the NA values, other than using classical data cleaning techniques like filling the NA values with median or mean values, we have filled those values **with a trick** as described below:\n",
        "\n",
        " - We noticed that some customers had multiple entries in the database.\n",
        " - And despite they left NA values in some forms, they might be filled  \n",
        "   that values in another form.\n",
        " - Starting from here, **we detected the customers that have multiple\n",
        "   entries and filled their NA values if they had filled that part\n",
        "   at least one time in another entry**.\n",
        "  - Even though we have used vectorization, the time complexity of the algorithm was ***O(n^2),*** and it was taking more than 30 minutes to execute this cleaning process in a dataset that has more than ***500k rows.***\n",
        "\n",
        "**To merge all the data from different tables, we have written our own algorithms.** For example, to create the final table that we have used in the  training, we calculated how many sales files a customer had opened in the past 3 months, past 1 year and 5 year and added them as x values for every customer. For y (output) values, we calculated if that user opened a sales file at least one time in a specific time interval (march-may 2021 for us, we could have tried different time intervals for training but our time was limited). So that, we could understand if a user will open a sales file based on his/her past sales data.\n",
        "\n",
        "### Training\n",
        "As we have mentioned above, we tried LightGBM, XGBoost and Deep Learning to train model. Surprisingly, the LightGBM was the best performer even though we have had enough neurons in our DL model and used regularization techniques like Dropout and BatchNormalization.\n",
        " "
      ]
    },
    {
      "cell_type": "code",
      "execution_count": null,
      "metadata": {
        "colab": {
          "base_uri": "https://localhost:8080/"
        },
        "id": "NCUOH3o2Pnze",
        "outputId": "81cc0ab9-b5e7-4f1e-cf2b-3cca48bf9093"
      },
      "outputs": [
        {
          "name": "stdout",
          "output_type": "stream",
          "text": [
            "System has not been booted with systemd as init system (PID 1). Can't operate.\n"
          ]
        }
      ],
      "source": [
        "!shutdown"
      ]
    },
    {
      "cell_type": "code",
      "execution_count": null,
      "metadata": {
        "colab": {
          "base_uri": "https://localhost:8080/"
        },
        "id": "snzGDNe7jlfA",
        "outputId": "b3cc7ad8-c0ae-4122-d3fd-1df4a557b4e6"
      },
      "outputs": [
        {
          "name": "stdout",
          "output_type": "stream",
          "text": [
            "rm: cannot remove '/root/.kaggle': No such file or directory\n"
          ]
        }
      ],
      "source": [
        "!rm -d /root/.kaggle"
      ]
    },
    {
      "cell_type": "code",
      "execution_count": null,
      "metadata": {
        "id": "PO6bIXc5-7n-"
      },
      "outputs": [],
      "source": [
        "!mkdir /root/.kaggle"
      ]
    },
    {
      "cell_type": "code",
      "execution_count": null,
      "metadata": {
        "id": "L9b5Mdv7-Pq0"
      },
      "outputs": [],
      "source": [
        "!cp ./drive/MyDrive/kaggle.json /root/.kaggle "
      ]
    },
    {
      "cell_type": "code",
      "execution_count": null,
      "metadata": {
        "colab": {
          "base_uri": "https://localhost:8080/"
        },
        "id": "-mDykccb-GpS",
        "outputId": "c96c9b2b-df75-4d20-a8c6-c0cff48da49a"
      },
      "outputs": [
        {
          "name": "stdout",
          "output_type": "stream",
          "text": [
            "Warning: Looks like you're using an outdated API Version, please consider updating (server 1.5.12 / client 1.5.4)\n",
            "Downloading FINAL_SALES_FILE_DATATHON.csv.zip to /content\n",
            "  0% 0.00/7.75M [00:00<?, ?B/s]\n",
            "100% 7.75M/7.75M [00:00<00:00, 128MB/s]\n",
            "Downloading MASK_SERVIS_BAKIM_DATATHON_FINAL.csv.zip to /content\n",
            " 48% 6.00M/12.6M [00:00<00:00, 60.2MB/s]\n",
            "100% 12.6M/12.6M [00:00<00:00, 80.3MB/s]\n",
            "Downloading FINAL_CUSTOMER_RELATED_TABLE_FOR_DATATHON.csv.zip to /content\n",
            "  0% 0.00/5.11M [00:00<?, ?B/s]\n",
            "100% 5.11M/5.11M [00:00<00:00, 84.5MB/s]\n",
            "Downloading FINAL_SIFIR_ARAC_ALANLAR_DATATHON.csv.zip to /content\n",
            "  0% 0.00/2.69M [00:00<?, ?B/s]\n",
            "100% 2.69M/2.69M [00:00<00:00, 86.4MB/s]\n",
            "Downloading FINAL_CUSTOMER_DATATHON.csv.zip to /content\n",
            " 96% 12.0M/12.5M [00:00<00:00, 124MB/s]\n",
            "100% 12.5M/12.5M [00:00<00:00, 115MB/s]\n",
            "Downloading FINAL_VEHICLE_TABLE_DATATHON.csv.zip to /content\n",
            "  0% 0.00/4.71M [00:00<?, ?B/s]\n",
            "100% 4.71M/4.71M [00:00<00:00, 155MB/s]\n",
            "Downloading sample_submission.csv.zip to /content\n",
            "  0% 0.00/525k [00:00<?, ?B/s]\n",
            "100% 525k/525k [00:00<00:00, 91.3MB/s]\n"
          ]
        }
      ],
      "source": [
        "!kaggle competitions download -c dogus-datathon-otomotiv"
      ]
    },
    {
      "cell_type": "markdown",
      "metadata": {
        "id": "2bwGaa2oLagr"
      },
      "source": [
        "# Intro"
      ]
    },
    {
      "cell_type": "code",
      "execution_count": null,
      "metadata": {
        "colab": {
          "base_uri": "https://localhost:8080/"
        },
        "id": "R1Ank8NJ-ieS",
        "outputId": "f5df67b6-1c52-42fa-9133-ef043f454cbf"
      },
      "outputs": [
        {
          "name": "stderr",
          "output_type": "stream",
          "text": [
            "/usr/local/lib/python3.7/dist-packages/ipykernel_launcher.py:22: VisibleDeprecationWarning: Creating an ndarray from ragged nested sequences (which is a list-or-tuple of lists-or-tuples-or ndarrays with different lengths or shapes) is deprecated. If you meant to do this, you must specify 'dtype=object' when creating the ndarray\n"
          ]
        }
      ],
      "source": [
        "# This Python 3 environment comes with many helpful analytics libraries installed\n",
        "# It is defined by the kaggle/python Docker image: https://github.com/kaggle/docker-python\n",
        "# For example, here's several helpful packages to load\n",
        "\n",
        "import numpy as np # linear algebra\n",
        "import pandas as pd # data processing, CSV file I/O (e.g. pd.read_csv)\n",
        "\n",
        "# Input data files are available in the read-only \"../input/\" directory\n",
        "# For example, running this (by clicking run or pressing Shift+Enter) will list all files under the input directory\n",
        "\n",
        "import os\n",
        "for dirname, _, filenames in os.walk('/kaggle/input'):\n",
        "    for filename in filenames:\n",
        "        print(os.path.join(dirname, filename))\n",
        "\n",
        "F_CUST_DATA = pd.read_csv(\"FINAL_CUSTOMER_DATATHON.csv.zip\") \n",
        "F_CUST_RELATED_DATA = pd.read_csv(\"FINAL_CUSTOMER_RELATED_TABLE_FOR_DATATHON.csv.zip\") \n",
        "F_SALES_DATA = pd.read_csv(\"FINAL_SALES_FILE_DATATHON.csv.zip\") \n",
        "F_SIFIR_ARAC_DATA = pd.read_csv(\"FINAL_SIFIR_ARAC_ALANLAR_DATATHON.csv.zip\")\n",
        "F_VEHICLE_DATA = pd.read_csv(\"FINAL_VEHICLE_TABLE_DATATHON.csv.zip\") \n",
        "MASK_SERVIS_DATA = pd.read_csv(\"MASK_SERVIS_BAKIM_DATATHON_FINAL.csv.zip\") \n",
        "ALL_DATAS = np.array([F_CUST_DATA,F_CUST_RELATED_DATA,F_SALES_DATA,F_SIFIR_ARAC_DATA,F_VEHICLE_DATA,MASK_SERVIS_DATA])\n",
        "# You can write up to 20GB to the current directory (/kaggle/working/) that gets preserved as output when you create a version using \"Save & Run All\" \n",
        "# You can also write temporary files to /kaggle/temp/, but they won't be saved outside of the current session"
      ]
    },
    {
      "cell_type": "code",
      "execution_count": null,
      "metadata": {
        "id": "PPjvAjpZ9azs"
      },
      "outputs": [],
      "source": [
        "current_year = 2021"
      ]
    },
    {
      "cell_type": "code",
      "execution_count": null,
      "metadata": {
        "id": "fAexVYpy_eWw"
      },
      "outputs": [],
      "source": [
        "# sifir_arac_data = pd.merge(F_SIFIR_ARAC_DATA,F_VEHICLE_DATA,on = 'VEHICLE_ID')\n",
        "# common = F_VEHICLE_DATA.index.intersection(F_SIFIR_ARAC_DATA.VEHICLE_ID)"
      ]
    },
    {
      "cell_type": "markdown",
      "metadata": {
        "id": "bdjN-o5JselX"
      },
      "source": [
        "# Null Value Check"
      ]
    },
    {
      "cell_type": "code",
      "execution_count": null,
      "metadata": {
        "colab": {
          "base_uri": "https://localhost:8080/"
        },
        "id": "uBWLr6Zwsf5E",
        "outputId": "674870fe-8674-4dbd-df33-2f736d4595b7"
      },
      "outputs": [
        {
          "data": {
            "text/plain": [
              "Unnamed: 0                            0\n",
              "BASE_CUSTOMER_ID                      0\n",
              "CUSTOMER_ID                           0\n",
              "GENDER                                3\n",
              "GENDER_ID                             0\n",
              "MARITAL_STATUS                   229117\n",
              "MARITAL_STATUS_ID                     0\n",
              "BIRTH_DATE                       204472\n",
              "FK_ADDRESS_COMMUNICATION_CITY    119578\n",
              "OCCUPATION                       468867\n",
              "dtype: int64"
            ]
          },
          "execution_count": 15,
          "metadata": {},
          "output_type": "execute_result"
        }
      ],
      "source": [
        "F_CUST_DATA.isna().sum()"
      ]
    },
    {
      "cell_type": "code",
      "execution_count": null,
      "metadata": {
        "colab": {
          "base_uri": "https://localhost:8080/"
        },
        "id": "DUsTZfpLsf2k",
        "outputId": "edc33c81-f906-4024-e997-fdd8861e185c"
      },
      "outputs": [
        {
          "data": {
            "text/plain": [
              "Unnamed: 0                             0\n",
              "BASE_CUSTOMER_ID                       0\n",
              "VEHICLE_ID                             0\n",
              "START_DATE                             0\n",
              "END_DATE                          215122\n",
              "FK_RELATION_STATUS_ID                  0\n",
              "FK_RELATION_STATUS_EXPLANATION         0\n",
              "dtype: int64"
            ]
          },
          "execution_count": 16,
          "metadata": {},
          "output_type": "execute_result"
        }
      ],
      "source": [
        "F_CUST_RELATED_DATA.isna().sum()"
      ]
    },
    {
      "cell_type": "code",
      "execution_count": null,
      "metadata": {
        "colab": {
          "base_uri": "https://localhost:8080/"
        },
        "id": "6_Ewf-3Ftg2V",
        "outputId": "e4139665-4a96-4712-ee01-5264ff22a005"
      },
      "outputs": [
        {
          "data": {
            "text/plain": [
              "Unnamed: 0             0\n",
              "CUSTOMER_ID            0\n",
              "SALESFILE_ID           0\n",
              "SF_CREATE_DATE         0\n",
              "STATUS                 0\n",
              "REQ_BRAND_CODE         0\n",
              "REQ_TOPMODEL_CODE    289\n",
              "dtype: int64"
            ]
          },
          "execution_count": 17,
          "metadata": {},
          "output_type": "execute_result"
        }
      ],
      "source": [
        "F_SALES_DATA.isna().sum()"
      ]
    },
    {
      "cell_type": "code",
      "execution_count": null,
      "metadata": {
        "colab": {
          "base_uri": "https://localhost:8080/"
        },
        "id": "JBS8bLxMtgz9",
        "outputId": "65e8c0a9-a874-42c3-c220-d93cff994942"
      },
      "outputs": [
        {
          "data": {
            "text/plain": [
              "Unnamed: 0     0\n",
              "VEHICLE_ID     0\n",
              "CUSTOMER_ID    0\n",
              "CREATE_DATE    0\n",
              "dtype: int64"
            ]
          },
          "execution_count": 18,
          "metadata": {},
          "output_type": "execute_result"
        }
      ],
      "source": [
        "F_SIFIR_ARAC_DATA.isna().sum()"
      ]
    },
    {
      "cell_type": "code",
      "execution_count": null,
      "metadata": {
        "colab": {
          "base_uri": "https://localhost:8080/"
        },
        "id": "4Flf4OfVtgxN",
        "outputId": "acc10a0e-ac36-4067-ef7d-4b487529a2ca"
      },
      "outputs": [
        {
          "data": {
            "text/plain": [
              "Unnamed: 0            0\n",
              "VEHICLE_ID            0\n",
              "TRAFFIC_DATE        866\n",
              "BRAND_CODE            0\n",
              "BASEMODEL_CODE        0\n",
              "TOPMODEL_CODE         0\n",
              "MOTOR_GAS_TYPE    72446\n",
              "GEAR_BOX_TYPE     84015\n",
              "dtype: int64"
            ]
          },
          "execution_count": 19,
          "metadata": {},
          "output_type": "execute_result"
        }
      ],
      "source": [
        "F_VEHICLE_DATA.isna().sum()"
      ]
    },
    {
      "cell_type": "code",
      "execution_count": null,
      "metadata": {
        "colab": {
          "base_uri": "https://localhost:8080/"
        },
        "id": "kGPSTuv1uveT",
        "outputId": "db425bcb-f161-47f0-d05c-b31abfcfeadf"
      },
      "outputs": [
        {
          "data": {
            "text/plain": [
              "345092"
            ]
          },
          "execution_count": 21,
          "metadata": {},
          "output_type": "execute_result"
        }
      ],
      "source": [
        "F_VEHICLE_DATA.shape[0]"
      ]
    },
    {
      "cell_type": "markdown",
      "metadata": {
        "id": "f1b_jApRygbo"
      },
      "source": [
        "# Dealing With Null Values"
      ]
    },
    {
      "cell_type": "markdown",
      "metadata": {
        "id": "zkhh9eDk3OXq"
      },
      "source": [
        "### fill_the_table_with_baseid"
      ]
    },
    {
      "cell_type": "code",
      "execution_count": null,
      "metadata": {
        "id": "Qr_AdtyM3QTN"
      },
      "outputs": [],
      "source": [
        "\n",
        "def fill_the_table_with_baseid(df,base_column, report_in_every=10000):\n",
        "  filled_count = 0 \n",
        "  count = 0\n",
        "\n",
        "  for column in df: # iterate through columns\n",
        "    count=0\n",
        "    if column == base_column: # skip the base column\n",
        "      continue\n",
        "    df_null = df[ df[column].isna() ] # take the null values of our column\n",
        "\n",
        "    for index in df_null.index: # iterate through null values of our column\n",
        "      # report the filled row percentage in every 10,000 rows.\n",
        "      if count % report_in_every == 0: \n",
        "        filled_percentage = (count/df_null.shape[0]) * 100\n",
        "        print(column, filled_percentage)\n",
        "      BASE_ID = df.loc[index, base_column]\n",
        "      df_BASEID = df[ df[base_column]==BASE_ID ] \n",
        "\n",
        "      df_non_empty = df_BASEID[ df_BASEID[column].notna() ]\n",
        "      #get non na values of a specific baseid\n",
        "      if df_non_empty.shape[0] > 0: # if baseid include non na value then::\n",
        "        df.at[index, column] = df_non_empty[column].iloc[0] #\n",
        "        filled_count += 1\n",
        "      count += 1\n",
        "    print(column, 100.0)\n",
        "  print('Filled', filled_count, 'values in total.')\n",
        "  return df"
      ]
    },
    {
      "cell_type": "markdown",
      "metadata": {
        "id": "y65qaeaPrPC9"
      },
      "source": [
        "# Customer DF Operations"
      ]
    },
    {
      "cell_type": "code",
      "execution_count": null,
      "metadata": {
        "id": "0gPu14xODi_L"
      },
      "outputs": [],
      "source": [
        "df_customer = F_CUST_DATA.copy()"
      ]
    },
    {
      "cell_type": "code",
      "execution_count": null,
      "metadata": {
        "id": "JlzOZcJcDy08"
      },
      "outputs": [],
      "source": [
        "df_customer = df_customer.drop('MARITAL_STATUS_ID', axis=1)\n",
        "df_customer = df_customer.drop('GENDER_ID', axis=1)"
      ]
    },
    {
      "cell_type": "code",
      "execution_count": null,
      "metadata": {
        "colab": {
          "base_uri": "https://localhost:8080/"
        },
        "id": "JUeepYGGSoLl",
        "outputId": "2eec35fa-5aab-47bf-b317-5086a741fbd0"
      },
      "outputs": [
        {
          "data": {
            "text/plain": [
              "Unnamed: 0                            0\n",
              "BASE_CUSTOMER_ID                      0\n",
              "CUSTOMER_ID                           0\n",
              "GENDER                                3\n",
              "MARITAL_STATUS                   229117\n",
              "BIRTH_DATE                       204472\n",
              "FK_ADDRESS_COMMUNICATION_CITY    119578\n",
              "OCCUPATION                       468867\n",
              "dtype: int64"
            ]
          },
          "execution_count": 13,
          "metadata": {},
          "output_type": "execute_result"
        }
      ],
      "source": [
        "df_customer.isna().sum()"
      ]
    },
    {
      "cell_type": "code",
      "execution_count": null,
      "metadata": {
        "colab": {
          "base_uri": "https://localhost:8080/"
        },
        "id": "cAbC4Io0nLZ_",
        "outputId": "461e6c89-25f6-46c0-89e0-1f688d66753e"
      },
      "outputs": [
        {
          "data": {
            "text/plain": [
              "Unnamed: 0                         int64\n",
              "BASE_CUSTOMER_ID                   int64\n",
              "CUSTOMER_ID                        int64\n",
              "GENDER                            object\n",
              "MARITAL_STATUS                    object\n",
              "BIRTH_DATE                       float64\n",
              "FK_ADDRESS_COMMUNICATION_CITY     object\n",
              "OCCUPATION                        object\n",
              "dtype: object"
            ]
          },
          "execution_count": 14,
          "metadata": {},
          "output_type": "execute_result"
        }
      ],
      "source": [
        "df_customer.dtypes"
      ]
    },
    {
      "cell_type": "code",
      "execution_count": null,
      "metadata": {
        "colab": {
          "base_uri": "https://localhost:8080/",
          "height": 248
        },
        "id": "Fu8yj0iQnc7W",
        "outputId": "2b08c8f6-e41d-404d-a2db-cca1a915f4a4"
      },
      "outputs": [
        {
          "data": {
            "text/html": [
              "<div>\n",
              "<style scoped>\n",
              "    .dataframe tbody tr th:only-of-type {\n",
              "        vertical-align: middle;\n",
              "    }\n",
              "\n",
              "    .dataframe tbody tr th {\n",
              "        vertical-align: top;\n",
              "    }\n",
              "\n",
              "    .dataframe thead th {\n",
              "        text-align: right;\n",
              "    }\n",
              "</style>\n",
              "<table border=\"1\" class=\"dataframe\">\n",
              "  <thead>\n",
              "    <tr style=\"text-align: right;\">\n",
              "      <th></th>\n",
              "      <th>Unnamed: 0</th>\n",
              "      <th>BASE_CUSTOMER_ID</th>\n",
              "      <th>CUSTOMER_ID</th>\n",
              "      <th>GENDER</th>\n",
              "      <th>MARITAL_STATUS</th>\n",
              "      <th>BIRTH_DATE</th>\n",
              "      <th>FK_ADDRESS_COMMUNICATION_CITY</th>\n",
              "      <th>OCCUPATION</th>\n",
              "    </tr>\n",
              "  </thead>\n",
              "  <tbody>\n",
              "    <tr>\n",
              "      <th>min</th>\n",
              "      <td>1</td>\n",
              "      <td>3</td>\n",
              "      <td>1000003</td>\n",
              "      <td>Erkek</td>\n",
              "      <td>Bekar</td>\n",
              "      <td>1914.0</td>\n",
              "      <td>Adana</td>\n",
              "      <td>Akademisyen / Öğr.görevlisi / Araştırma Görevlisi</td>\n",
              "    </tr>\n",
              "    <tr>\n",
              "      <th>max</th>\n",
              "      <td>849918</td>\n",
              "      <td>196556</td>\n",
              "      <td>1849873</td>\n",
              "      <td>Kadın</td>\n",
              "      <td>Evli</td>\n",
              "      <td>2020.0</td>\n",
              "      <td>Şırnak</td>\n",
              "      <td>Şöför / Taksici / Transfer</td>\n",
              "    </tr>\n",
              "  </tbody>\n",
              "</table>\n",
              "</div>"
            ],
            "text/plain": [
              "     Unnamed: 0  ...                                         OCCUPATION\n",
              "min           1  ...  Akademisyen / Öğr.görevlisi / Araştırma Görevlisi\n",
              "max      849918  ...                         Şöför / Taksici / Transfer\n",
              "\n",
              "[2 rows x 8 columns]"
            ]
          },
          "execution_count": 78,
          "metadata": {},
          "output_type": "execute_result"
        }
      ],
      "source": [
        "df_customer.dropna().agg([min, max])"
      ]
    },
    {
      "cell_type": "code",
      "execution_count": null,
      "metadata": {
        "colab": {
          "base_uri": "https://localhost:8080/"
        },
        "id": "YyytT4aKpuy9",
        "outputId": "ae037fec-c9b2-4f73-bcb7-4021cd4f533a"
      },
      "outputs": [
        {
          "data": {
            "text/plain": [
              "Unnamed: 0                        uint32\n",
              "BASE_CUSTOMER_ID                  uint32\n",
              "CUSTOMER_ID                       uint32\n",
              "GENDER                            object\n",
              "MARITAL_STATUS                    object\n",
              "BIRTH_DATE                       float64\n",
              "FK_ADDRESS_COMMUNICATION_CITY     object\n",
              "OCCUPATION                        object\n",
              "dtype: object"
            ]
          },
          "execution_count": 81,
          "metadata": {},
          "output_type": "execute_result"
        }
      ],
      "source": [
        "df_customer['BASE_CUSTOMER_ID'] = df_customer['BASE_CUSTOMER_ID'].astype('uint32')\n",
        "df_customer['CUSTOMER_ID'] = df_customer['CUSTOMER_ID'].astype('uint32')\n",
        "df_customer['Unnamed: 0'] = df_customer['Unnamed: 0'].astype('uint32')\n",
        "df_customer.dtypes"
      ]
    },
    {
      "cell_type": "markdown",
      "metadata": {
        "id": "wnbpj77rrCiL"
      },
      "source": [
        "## CUST_DATA Filling The Customer Values"
      ]
    },
    {
      "cell_type": "markdown",
      "metadata": {
        "id": "Sw-flvvIi5h6"
      },
      "source": [
        "### Old Code"
      ]
    },
    {
      "cell_type": "code",
      "execution_count": null,
      "metadata": {
        "colab": {
          "base_uri": "https://localhost:8080/"
        },
        "id": "drDQgbAHSyW2",
        "outputId": "0d247215-5427-4e23-f0ea-a1ab670d3acf"
      },
      "outputs": [
        {
          "name": "stdout",
          "output_type": "stream",
          "text": [
            "MARITAL_STATUS 0\n",
            "MARITAL_STATUS 50000\n",
            "MARITAL_STATUS 100000\n",
            "MARITAL_STATUS 150000\n",
            "MARITAL_STATUS 200000\n",
            "BIRTH_DATE 0\n",
            "BIRTH_DATE 50000\n",
            "BIRTH_DATE 100000\n",
            "BIRTH_DATE 150000\n",
            "BIRTH_DATE 200000\n",
            "FK_ADDRESS_COMMUNICATION_CITY 0\n",
            "FK_ADDRESS_COMMUNICATION_CITY 50000\n",
            "FK_ADDRESS_COMMUNICATION_CITY 100000\n",
            "OCCUPATION 0\n",
            "OCCUPATION 50000\n",
            "OCCUPATION 100000\n",
            "OCCUPATION 150000\n",
            "OCCUPATION 200000\n",
            "OCCUPATION 250000\n",
            "OCCUPATION 300000\n",
            "OCCUPATION 350000\n",
            "OCCUPATION 400000\n",
            "OCCUPATION 450000\n",
            "638398\n"
          ]
        }
      ],
      "source": [
        "# # count = 0\n",
        "# # filled_count = 0\n",
        "\n",
        "# for column in df:\n",
        "#   # count=0\n",
        "#   if column == 'BASE_CUSTOMER_ID':\n",
        "#     continue\n",
        "#   df_null = df[ df[column].isna() ]\n",
        "#   for index in df_null.index:\n",
        "#     # if count % 50000 == 0:\n",
        "#     #   print(column, count)\n",
        "#     base_customer = df.loc[index, 'BASE_CUSTOMER_ID']\n",
        "#     df_customer = df[ df['BASE_CUSTOMER_ID']==base_customer ] \n",
        "#     for row_index, row in df_customer.iterrows():\n",
        "#       if not pd.isna(row)[column]:\n",
        "#         new_value = row[column]\n",
        "#         df.at[index, column] = new_value\n",
        "#         # print(column, index, new_value)\n",
        "#         # filled_count += 1\n",
        "#         break\n",
        "#     # count += 1\n",
        "# # print(filled_count)"
      ]
    },
    {
      "cell_type": "markdown",
      "metadata": {
        "id": "UHlSg98-i-Tr"
      },
      "source": [
        "### New Code"
      ]
    },
    {
      "cell_type": "code",
      "execution_count": null,
      "metadata": {
        "colab": {
          "base_uri": "https://localhost:8080/",
          "height": 903
        },
        "id": "NlMJcFqF4FHp",
        "outputId": "5262cba4-0bf6-40eb-d1db-99c54867153b"
      },
      "outputs": [
        {
          "name": "stdout",
          "output_type": "stream",
          "text": [
            "Unnamed: 0 100.0\n",
            "CUSTOMER_ID 100.0\n",
            "GENDER 0.0\n",
            "GENDER 100.0\n",
            "MARITAL_STATUS 0.0\n",
            "MARITAL_STATUS 91.41498977294802\n",
            "MARITAL_STATUS 100.0\n",
            "BIRTH_DATE 0.0\n",
            "BIRTH_DATE 39.12516139129074\n",
            "BIRTH_DATE 78.25032278258148\n",
            "BIRTH_DATE 100.0\n",
            "FK_ADDRESS_COMMUNICATION_CITY 0.0\n",
            "FK_ADDRESS_COMMUNICATION_CITY 66.90193848366756\n",
            "FK_ADDRESS_COMMUNICATION_CITY 100.0\n",
            "OCCUPATION 0.0\n",
            "OCCUPATION 17.062407889657408\n",
            "OCCUPATION 34.124815779314815\n",
            "OCCUPATION 51.18722366897222\n",
            "OCCUPATION 68.24963155862963\n",
            "OCCUPATION 85.31203944828704\n",
            "OCCUPATION 100.0\n",
            "Filled 496794 values in total.\n"
          ]
        },
        {
          "data": {
            "text/html": [
              "<div>\n",
              "<style scoped>\n",
              "    .dataframe tbody tr th:only-of-type {\n",
              "        vertical-align: middle;\n",
              "    }\n",
              "\n",
              "    .dataframe tbody tr th {\n",
              "        vertical-align: top;\n",
              "    }\n",
              "\n",
              "    .dataframe thead th {\n",
              "        text-align: right;\n",
              "    }\n",
              "</style>\n",
              "<table border=\"1\" class=\"dataframe\">\n",
              "  <thead>\n",
              "    <tr style=\"text-align: right;\">\n",
              "      <th></th>\n",
              "      <th>Unnamed: 0</th>\n",
              "      <th>BASE_CUSTOMER_ID</th>\n",
              "      <th>CUSTOMER_ID</th>\n",
              "      <th>GENDER</th>\n",
              "      <th>MARITAL_STATUS</th>\n",
              "      <th>BIRTH_DATE</th>\n",
              "      <th>FK_ADDRESS_COMMUNICATION_CITY</th>\n",
              "      <th>OCCUPATION</th>\n",
              "    </tr>\n",
              "  </thead>\n",
              "  <tbody>\n",
              "    <tr>\n",
              "      <th>0</th>\n",
              "      <td>0</td>\n",
              "      <td>158891</td>\n",
              "      <td>1747700</td>\n",
              "      <td>Erkek</td>\n",
              "      <td>Evli</td>\n",
              "      <td>1975.0</td>\n",
              "      <td>İstanbul</td>\n",
              "      <td>Diğer</td>\n",
              "    </tr>\n",
              "    <tr>\n",
              "      <th>1</th>\n",
              "      <td>1</td>\n",
              "      <td>169233</td>\n",
              "      <td>1710561</td>\n",
              "      <td>Erkek</td>\n",
              "      <td>Evli</td>\n",
              "      <td>1962.0</td>\n",
              "      <td>Erzurum</td>\n",
              "      <td>Öğretmen / Eğitmen</td>\n",
              "    </tr>\n",
              "    <tr>\n",
              "      <th>2</th>\n",
              "      <td>2</td>\n",
              "      <td>30887</td>\n",
              "      <td>1043923</td>\n",
              "      <td>Erkek</td>\n",
              "      <td>Evli</td>\n",
              "      <td>1971.0</td>\n",
              "      <td>İstanbul</td>\n",
              "      <td>Esnaf</td>\n",
              "    </tr>\n",
              "    <tr>\n",
              "      <th>3</th>\n",
              "      <td>3</td>\n",
              "      <td>38013</td>\n",
              "      <td>1101926</td>\n",
              "      <td>Erkek</td>\n",
              "      <td>NaN</td>\n",
              "      <td>NaN</td>\n",
              "      <td>Manisa</td>\n",
              "      <td>NaN</td>\n",
              "    </tr>\n",
              "    <tr>\n",
              "      <th>4</th>\n",
              "      <td>4</td>\n",
              "      <td>157091</td>\n",
              "      <td>1819787</td>\n",
              "      <td>Kadın</td>\n",
              "      <td>Evli</td>\n",
              "      <td>1949.0</td>\n",
              "      <td>Ankara</td>\n",
              "      <td>Öğretmen / Eğitmen</td>\n",
              "    </tr>\n",
              "    <tr>\n",
              "      <th>...</th>\n",
              "      <td>...</td>\n",
              "      <td>...</td>\n",
              "      <td>...</td>\n",
              "      <td>...</td>\n",
              "      <td>...</td>\n",
              "      <td>...</td>\n",
              "      <td>...</td>\n",
              "      <td>...</td>\n",
              "    </tr>\n",
              "    <tr>\n",
              "      <th>849914</th>\n",
              "      <td>849914</td>\n",
              "      <td>18175</td>\n",
              "      <td>1744051</td>\n",
              "      <td>Erkek</td>\n",
              "      <td>Evli</td>\n",
              "      <td>1984.0</td>\n",
              "      <td>Gaziantep</td>\n",
              "      <td>Tekstilci</td>\n",
              "    </tr>\n",
              "    <tr>\n",
              "      <th>849915</th>\n",
              "      <td>849915</td>\n",
              "      <td>108604</td>\n",
              "      <td>1209486</td>\n",
              "      <td>Erkek</td>\n",
              "      <td>Evli</td>\n",
              "      <td>1969.0</td>\n",
              "      <td>İstanbul</td>\n",
              "      <td>Nakliyeci / Lojistik / Taşımacılık</td>\n",
              "    </tr>\n",
              "    <tr>\n",
              "      <th>849916</th>\n",
              "      <td>849916</td>\n",
              "      <td>155926</td>\n",
              "      <td>1670812</td>\n",
              "      <td>Erkek</td>\n",
              "      <td>Evli</td>\n",
              "      <td>1970.0</td>\n",
              "      <td>İstanbul</td>\n",
              "      <td>NaN</td>\n",
              "    </tr>\n",
              "    <tr>\n",
              "      <th>849917</th>\n",
              "      <td>849917</td>\n",
              "      <td>123223</td>\n",
              "      <td>1691689</td>\n",
              "      <td>Erkek</td>\n",
              "      <td>Evli</td>\n",
              "      <td>1970.0</td>\n",
              "      <td>Kayseri</td>\n",
              "      <td>NaN</td>\n",
              "    </tr>\n",
              "    <tr>\n",
              "      <th>849918</th>\n",
              "      <td>849918</td>\n",
              "      <td>88245</td>\n",
              "      <td>1300543</td>\n",
              "      <td>Kadın</td>\n",
              "      <td>Bekar</td>\n",
              "      <td>1966.0</td>\n",
              "      <td>İstanbul</td>\n",
              "      <td>Tekstilci</td>\n",
              "    </tr>\n",
              "  </tbody>\n",
              "</table>\n",
              "<p>849919 rows × 8 columns</p>\n",
              "</div>"
            ],
            "text/plain": [
              "        Unnamed: 0  ...                          OCCUPATION\n",
              "0                0  ...                               Diğer\n",
              "1                1  ...                  Öğretmen / Eğitmen\n",
              "2                2  ...                               Esnaf\n",
              "3                3  ...                                 NaN\n",
              "4                4  ...                  Öğretmen / Eğitmen\n",
              "...            ...  ...                                 ...\n",
              "849914      849914  ...                           Tekstilci\n",
              "849915      849915  ...  Nakliyeci / Lojistik / Taşımacılık\n",
              "849916      849916  ...                                 NaN\n",
              "849917      849917  ...                                 NaN\n",
              "849918      849918  ...                           Tekstilci\n",
              "\n",
              "[849919 rows x 8 columns]"
            ]
          },
          "execution_count": 87,
          "metadata": {},
          "output_type": "execute_result"
        }
      ],
      "source": [
        "fill_the_table_with_baseid(df_customer, 'BASE_CUSTOMER_ID', report_in_every=80000)"
      ]
    },
    {
      "cell_type": "code",
      "execution_count": null,
      "metadata": {
        "id": "5OnoVU5lc32A"
      },
      "outputs": [],
      "source": [
        "df_customer.to_csv('df_customer_filled_v2.csv')"
      ]
    },
    {
      "cell_type": "code",
      "execution_count": null,
      "metadata": {
        "id": "7nDv7j0ziHZy"
      },
      "outputs": [],
      "source": [
        "!cp df_customer_filled_v2.csv drive/MyDrive/"
      ]
    },
    {
      "cell_type": "code",
      "execution_count": null,
      "metadata": {
        "id": "zUmy7FJSVEjg"
      },
      "outputs": [],
      "source": [
        "df_customer = pd.read_csv('drive/MyDrive/df_customer_filled_v2.csv')"
      ]
    },
    {
      "cell_type": "markdown",
      "metadata": {
        "id": "jg5z1avcnuBf"
      },
      "source": [
        "## Customer Drop City"
      ]
    },
    {
      "cell_type": "code",
      "execution_count": null,
      "metadata": {
        "id": "MIkNdGZDnz-y"
      },
      "outputs": [],
      "source": [
        "df_customer = df_customer.drop('FK_ADDRESS_COMMUNICATION_CITY', axis=1)"
      ]
    },
    {
      "cell_type": "code",
      "execution_count": null,
      "metadata": {
        "colab": {
          "base_uri": "https://localhost:8080/",
          "height": 80
        },
        "id": "eBycPTxFnz8B",
        "outputId": "f15c3e82-04ef-4d1d-c474-2140c717adf9"
      },
      "outputs": [
        {
          "data": {
            "text/html": [
              "<div>\n",
              "<style scoped>\n",
              "    .dataframe tbody tr th:only-of-type {\n",
              "        vertical-align: middle;\n",
              "    }\n",
              "\n",
              "    .dataframe tbody tr th {\n",
              "        vertical-align: top;\n",
              "    }\n",
              "\n",
              "    .dataframe thead th {\n",
              "        text-align: right;\n",
              "    }\n",
              "</style>\n",
              "<table border=\"1\" class=\"dataframe\">\n",
              "  <thead>\n",
              "    <tr style=\"text-align: right;\">\n",
              "      <th></th>\n",
              "      <th>Unnamed: 0</th>\n",
              "      <th>BASE_CUSTOMER_ID</th>\n",
              "      <th>CUSTOMER_ID</th>\n",
              "      <th>GENDER</th>\n",
              "      <th>MARITAL_STATUS</th>\n",
              "      <th>BIRTH_DATE</th>\n",
              "      <th>OCCUPATION</th>\n",
              "    </tr>\n",
              "  </thead>\n",
              "  <tbody>\n",
              "    <tr>\n",
              "      <th>0</th>\n",
              "      <td>0</td>\n",
              "      <td>158891</td>\n",
              "      <td>1747700</td>\n",
              "      <td>Erkek</td>\n",
              "      <td>Evli</td>\n",
              "      <td>1975.0</td>\n",
              "      <td>Diğer</td>\n",
              "    </tr>\n",
              "  </tbody>\n",
              "</table>\n",
              "</div>"
            ],
            "text/plain": [
              "   Unnamed: 0  BASE_CUSTOMER_ID  ...  BIRTH_DATE OCCUPATION\n",
              "0           0            158891  ...      1975.0      Diğer\n",
              "\n",
              "[1 rows x 7 columns]"
            ]
          },
          "execution_count": 68,
          "metadata": {},
          "output_type": "execute_result"
        }
      ],
      "source": [
        "df_customer.head(1)"
      ]
    },
    {
      "cell_type": "markdown",
      "metadata": {
        "id": "l9x_OwO7vHBE"
      },
      "source": [
        "## Customer BIRTH_DATE to AGE"
      ]
    },
    {
      "cell_type": "code",
      "execution_count": null,
      "metadata": {
        "colab": {
          "base_uri": "https://localhost:8080/",
          "height": 203
        },
        "id": "_w7zq9h4vLUv",
        "outputId": "eec3fa5c-b63b-4c7e-f249-703c170b2203"
      },
      "outputs": [
        {
          "data": {
            "text/html": [
              "<div>\n",
              "<style scoped>\n",
              "    .dataframe tbody tr th:only-of-type {\n",
              "        vertical-align: middle;\n",
              "    }\n",
              "\n",
              "    .dataframe tbody tr th {\n",
              "        vertical-align: top;\n",
              "    }\n",
              "\n",
              "    .dataframe thead th {\n",
              "        text-align: right;\n",
              "    }\n",
              "</style>\n",
              "<table border=\"1\" class=\"dataframe\">\n",
              "  <thead>\n",
              "    <tr style=\"text-align: right;\">\n",
              "      <th></th>\n",
              "      <th>Unnamed: 0</th>\n",
              "      <th>BASE_CUSTOMER_ID</th>\n",
              "      <th>CUSTOMER_ID</th>\n",
              "      <th>GENDER</th>\n",
              "      <th>MARITAL_STATUS</th>\n",
              "      <th>BIRTH_DATE</th>\n",
              "      <th>OCCUPATION</th>\n",
              "      <th>AGE</th>\n",
              "    </tr>\n",
              "  </thead>\n",
              "  <tbody>\n",
              "    <tr>\n",
              "      <th>0</th>\n",
              "      <td>0</td>\n",
              "      <td>158891</td>\n",
              "      <td>1747700</td>\n",
              "      <td>Erkek</td>\n",
              "      <td>Evli</td>\n",
              "      <td>1975.0</td>\n",
              "      <td>Diğer</td>\n",
              "      <td>46.0</td>\n",
              "    </tr>\n",
              "    <tr>\n",
              "      <th>1</th>\n",
              "      <td>1</td>\n",
              "      <td>169233</td>\n",
              "      <td>1710561</td>\n",
              "      <td>Erkek</td>\n",
              "      <td>Evli</td>\n",
              "      <td>1962.0</td>\n",
              "      <td>Öğretmen / Eğitmen</td>\n",
              "      <td>59.0</td>\n",
              "    </tr>\n",
              "    <tr>\n",
              "      <th>2</th>\n",
              "      <td>2</td>\n",
              "      <td>30887</td>\n",
              "      <td>1043923</td>\n",
              "      <td>Erkek</td>\n",
              "      <td>Evli</td>\n",
              "      <td>1971.0</td>\n",
              "      <td>Esnaf</td>\n",
              "      <td>50.0</td>\n",
              "    </tr>\n",
              "    <tr>\n",
              "      <th>3</th>\n",
              "      <td>3</td>\n",
              "      <td>38013</td>\n",
              "      <td>1101926</td>\n",
              "      <td>Erkek</td>\n",
              "      <td>NaN</td>\n",
              "      <td>NaN</td>\n",
              "      <td>NaN</td>\n",
              "      <td>NaN</td>\n",
              "    </tr>\n",
              "    <tr>\n",
              "      <th>4</th>\n",
              "      <td>4</td>\n",
              "      <td>157091</td>\n",
              "      <td>1819787</td>\n",
              "      <td>Kadın</td>\n",
              "      <td>Evli</td>\n",
              "      <td>1949.0</td>\n",
              "      <td>Öğretmen / Eğitmen</td>\n",
              "      <td>72.0</td>\n",
              "    </tr>\n",
              "  </tbody>\n",
              "</table>\n",
              "</div>"
            ],
            "text/plain": [
              "   Unnamed: 0  BASE_CUSTOMER_ID  ...          OCCUPATION   AGE\n",
              "0           0            158891  ...               Diğer  46.0\n",
              "1           1            169233  ...  Öğretmen / Eğitmen  59.0\n",
              "2           2             30887  ...               Esnaf  50.0\n",
              "3           3             38013  ...                 NaN   NaN\n",
              "4           4            157091  ...  Öğretmen / Eğitmen  72.0\n",
              "\n",
              "[5 rows x 8 columns]"
            ]
          },
          "execution_count": 70,
          "metadata": {},
          "output_type": "execute_result"
        }
      ],
      "source": [
        "df_customer['AGE'] = df_customer.BIRTH_DATE.map(lambda date: current_year-date)\n",
        "df_customer.head(5)"
      ]
    },
    {
      "cell_type": "code",
      "execution_count": null,
      "metadata": {
        "colab": {
          "base_uri": "https://localhost:8080/",
          "height": 80
        },
        "id": "xqtCxDnxvxQf",
        "outputId": "a04a479f-bde4-4090-a73d-33eccb214333"
      },
      "outputs": [
        {
          "data": {
            "text/html": [
              "<div>\n",
              "<style scoped>\n",
              "    .dataframe tbody tr th:only-of-type {\n",
              "        vertical-align: middle;\n",
              "    }\n",
              "\n",
              "    .dataframe tbody tr th {\n",
              "        vertical-align: top;\n",
              "    }\n",
              "\n",
              "    .dataframe thead th {\n",
              "        text-align: right;\n",
              "    }\n",
              "</style>\n",
              "<table border=\"1\" class=\"dataframe\">\n",
              "  <thead>\n",
              "    <tr style=\"text-align: right;\">\n",
              "      <th></th>\n",
              "      <th>Unnamed: 0</th>\n",
              "      <th>BASE_CUSTOMER_ID</th>\n",
              "      <th>CUSTOMER_ID</th>\n",
              "      <th>GENDER</th>\n",
              "      <th>MARITAL_STATUS</th>\n",
              "      <th>OCCUPATION</th>\n",
              "      <th>AGE</th>\n",
              "    </tr>\n",
              "  </thead>\n",
              "  <tbody>\n",
              "    <tr>\n",
              "      <th>0</th>\n",
              "      <td>0</td>\n",
              "      <td>158891</td>\n",
              "      <td>1747700</td>\n",
              "      <td>Erkek</td>\n",
              "      <td>Evli</td>\n",
              "      <td>Diğer</td>\n",
              "      <td>46.0</td>\n",
              "    </tr>\n",
              "  </tbody>\n",
              "</table>\n",
              "</div>"
            ],
            "text/plain": [
              "   Unnamed: 0  BASE_CUSTOMER_ID  CUSTOMER_ID  ... MARITAL_STATUS OCCUPATION   AGE\n",
              "0           0            158891      1747700  ...           Evli      Diğer  46.0\n",
              "\n",
              "[1 rows x 7 columns]"
            ]
          },
          "execution_count": 71,
          "metadata": {},
          "output_type": "execute_result"
        }
      ],
      "source": [
        "df_customer = df_customer.drop('BIRTH_DATE', axis=1)\n",
        "df_customer.head(1)"
      ]
    },
    {
      "cell_type": "code",
      "execution_count": null,
      "metadata": {
        "id": "4l4vhjZGv2zE"
      },
      "outputs": [],
      "source": [
        "df_customer.drop(df_customer.columns[0], axis=1).to_csv('drive/MyDrive/df_customer_filled_v2.csv')"
      ]
    },
    {
      "cell_type": "code",
      "execution_count": null,
      "metadata": {
        "colab": {
          "base_uri": "https://localhost:8080/",
          "height": 80
        },
        "id": "MH25UDs7wWt2",
        "outputId": "9b6ab69b-00f9-4cea-cf0e-a9cfcedfd4db"
      },
      "outputs": [
        {
          "data": {
            "text/html": [
              "<div>\n",
              "<style scoped>\n",
              "    .dataframe tbody tr th:only-of-type {\n",
              "        vertical-align: middle;\n",
              "    }\n",
              "\n",
              "    .dataframe tbody tr th {\n",
              "        vertical-align: top;\n",
              "    }\n",
              "\n",
              "    .dataframe thead th {\n",
              "        text-align: right;\n",
              "    }\n",
              "</style>\n",
              "<table border=\"1\" class=\"dataframe\">\n",
              "  <thead>\n",
              "    <tr style=\"text-align: right;\">\n",
              "      <th></th>\n",
              "      <th>Unnamed: 0</th>\n",
              "      <th>BASE_CUSTOMER_ID</th>\n",
              "      <th>CUSTOMER_ID</th>\n",
              "      <th>GENDER</th>\n",
              "      <th>MARITAL_STATUS</th>\n",
              "      <th>OCCUPATION</th>\n",
              "      <th>AGE</th>\n",
              "    </tr>\n",
              "  </thead>\n",
              "  <tbody>\n",
              "    <tr>\n",
              "      <th>0</th>\n",
              "      <td>0</td>\n",
              "      <td>158891</td>\n",
              "      <td>1747700</td>\n",
              "      <td>Erkek</td>\n",
              "      <td>Evli</td>\n",
              "      <td>Diğer</td>\n",
              "      <td>46.0</td>\n",
              "    </tr>\n",
              "  </tbody>\n",
              "</table>\n",
              "</div>"
            ],
            "text/plain": [
              "   Unnamed: 0  BASE_CUSTOMER_ID  CUSTOMER_ID  ... MARITAL_STATUS OCCUPATION   AGE\n",
              "0           0            158891      1747700  ...           Evli      Diğer  46.0\n",
              "\n",
              "[1 rows x 7 columns]"
            ]
          },
          "execution_count": 74,
          "metadata": {},
          "output_type": "execute_result"
        }
      ],
      "source": [
        "df_customer.head(1)"
      ]
    },
    {
      "cell_type": "markdown",
      "metadata": {
        "id": "96ztkKsqJBVb"
      },
      "source": [
        "# VEHICLE"
      ]
    },
    {
      "cell_type": "code",
      "execution_count": null,
      "metadata": {
        "id": "mvrfNBsTJEeu"
      },
      "outputs": [],
      "source": []
    },
    {
      "cell_type": "markdown",
      "metadata": {
        "id": "U0bSnGzBZ-fj"
      },
      "source": [
        "### Vehicle Typo Correct"
      ]
    },
    {
      "cell_type": "code",
      "execution_count": null,
      "metadata": {
        "id": "IhXX5J8B16ub"
      },
      "outputs": [],
      "source": [
        "typo_gear = np.array([\n",
        "    ('Otomatik (DSG)', 'OTOMATİK'),\n",
        "    ('Otomatik', 'OTOMATİK'),\n",
        "    ('Mekanik', 'MANUEL'),\n",
        "    ('Sürekli Değişken', 'OTOMATİK'),\n",
        "    ('Otomaik', 'OTOMATİK'),\n",
        "    ('?automatisch', 'OTOMATİK'),\n",
        "    ('Otomatik Değişken', 'OTOMATİK'),\n",
        "    ('Sürekli değişken', 'OTOMATİK'),\n",
        "    ('Otomatik (DSG Şanzuman)', 'OTOMATİK'),\n",
        "    ('Düz', 'MANUEL'),\n",
        "    ('Otomatik(DSG)', 'OTOMATİK'),\n",
        "    ('?Handschaltung', 'MANUEL'),\n",
        "    ('manuel', 'MANUEL'),\n",
        "    ('Manuel', 'MANUEL')\n",
        "])\n",
        "typo_gas_type = np.array([\n",
        "    ('Diesel', 'Dizel'),\n",
        "    ('Kurşunsuz benzin', 'Benzin'),\n",
        "    ('Kurşunsuz Benzin', 'Benzin'),\n",
        "    ('Seçiniz', None),\n",
        "    ('?Benzin', 'Benzin'),\n",
        "    ('Benzin/Hybrid', 'Benzin/Hibrit'),\n",
        "])\n",
        "\n",
        "def typo_regulate(typo,column_name,data):\n",
        "    for key,val in typo:\n",
        "        data[column_name].replace(key,val,inplace=True)\n",
        "\n",
        "df_vehicle = F_VEHICLE_DATA.copy()\n",
        "typo_regulate(typo_gear,'GEAR_BOX_TYPE', df_vehicle)\n",
        "typo_regulate(typo_gas_type,'MOTOR_GAS_TYPE', df_vehicle)"
      ]
    },
    {
      "cell_type": "code",
      "execution_count": null,
      "metadata": {
        "colab": {
          "base_uri": "https://localhost:8080/"
        },
        "id": "zgvjuNEr2oT9",
        "outputId": "9fdbac3b-0ba2-4380-b74b-15cd8115d6ef"
      },
      "outputs": [
        {
          "data": {
            "text/plain": [
              "array(['MANUEL', 'OTOMATİK', nan], dtype=object)"
            ]
          },
          "execution_count": 17,
          "metadata": {},
          "output_type": "execute_result"
        }
      ],
      "source": [
        "df_vehicle['GEAR_BOX_TYPE'].unique()"
      ]
    },
    {
      "cell_type": "code",
      "execution_count": null,
      "metadata": {
        "colab": {
          "base_uri": "https://localhost:8080/"
        },
        "id": "AmvzBRLb24x-",
        "outputId": "9e100e3d-784e-4624-e22b-537c0423bd85"
      },
      "outputs": [
        {
          "data": {
            "text/plain": [
              "Unnamed: 0            0\n",
              "VEHICLE_ID            0\n",
              "TRAFFIC_DATE        866\n",
              "BRAND_CODE            0\n",
              "BASEMODEL_CODE        0\n",
              "TOPMODEL_CODE         0\n",
              "MOTOR_GAS_TYPE    73526\n",
              "GEAR_BOX_TYPE     84015\n",
              "dtype: int64"
            ]
          },
          "execution_count": 18,
          "metadata": {},
          "output_type": "execute_result"
        }
      ],
      "source": [
        "df_vehicle.isna().sum()"
      ]
    },
    {
      "cell_type": "markdown",
      "metadata": {
        "id": "m9RscYdzTN7l"
      },
      "source": [
        "### Vehicle Dtype Casting\n"
      ]
    },
    {
      "cell_type": "code",
      "execution_count": null,
      "metadata": {
        "colab": {
          "base_uri": "https://localhost:8080/"
        },
        "id": "ILBnwHr8TTz2",
        "outputId": "690b03dd-cad3-4521-e763-f6fa85a704bc"
      },
      "outputs": [
        {
          "data": {
            "text/plain": [
              "Unnamed: 0         int64\n",
              "VEHICLE_ID         int64\n",
              "TRAFFIC_DATE      object\n",
              "BRAND_CODE        object\n",
              "BASEMODEL_CODE     int64\n",
              "TOPMODEL_CODE      int64\n",
              "MOTOR_GAS_TYPE    object\n",
              "GEAR_BOX_TYPE     object\n",
              "dtype: object"
            ]
          },
          "execution_count": 93,
          "metadata": {},
          "output_type": "execute_result"
        }
      ],
      "source": [
        "df_vehicle.dtypes"
      ]
    },
    {
      "cell_type": "code",
      "execution_count": null,
      "metadata": {
        "colab": {
          "base_uri": "https://localhost:8080/",
          "height": 110
        },
        "id": "6yJfOKf2ThlL",
        "outputId": "d93cbf10-29ab-430b-d380-510c1423e6ec"
      },
      "outputs": [
        {
          "data": {
            "text/html": [
              "<div>\n",
              "<style scoped>\n",
              "    .dataframe tbody tr th:only-of-type {\n",
              "        vertical-align: middle;\n",
              "    }\n",
              "\n",
              "    .dataframe tbody tr th {\n",
              "        vertical-align: top;\n",
              "    }\n",
              "\n",
              "    .dataframe thead th {\n",
              "        text-align: right;\n",
              "    }\n",
              "</style>\n",
              "<table border=\"1\" class=\"dataframe\">\n",
              "  <thead>\n",
              "    <tr style=\"text-align: right;\">\n",
              "      <th></th>\n",
              "      <th>Unnamed: 0</th>\n",
              "      <th>VEHICLE_ID</th>\n",
              "      <th>BRAND_CODE</th>\n",
              "      <th>BASEMODEL_CODE</th>\n",
              "      <th>TOPMODEL_CODE</th>\n",
              "    </tr>\n",
              "  </thead>\n",
              "  <tbody>\n",
              "    <tr>\n",
              "      <th>min</th>\n",
              "      <td>0</td>\n",
              "      <td>5000001</td>\n",
              "      <td>K</td>\n",
              "      <td>10706</td>\n",
              "      <td>9083</td>\n",
              "    </tr>\n",
              "    <tr>\n",
              "      <th>max</th>\n",
              "      <td>345091</td>\n",
              "      <td>5345092</td>\n",
              "      <td>Z</td>\n",
              "      <td>18140</td>\n",
              "      <td>10010</td>\n",
              "    </tr>\n",
              "  </tbody>\n",
              "</table>\n",
              "</div>"
            ],
            "text/plain": [
              "     Unnamed: 0  VEHICLE_ID BRAND_CODE  BASEMODEL_CODE  TOPMODEL_CODE\n",
              "min           0     5000001          K           10706           9083\n",
              "max      345091     5345092          Z           18140          10010"
            ]
          },
          "execution_count": 94,
          "metadata": {},
          "output_type": "execute_result"
        }
      ],
      "source": [
        "df_vehicle.agg([min,max])"
      ]
    },
    {
      "cell_type": "code",
      "execution_count": null,
      "metadata": {
        "colab": {
          "base_uri": "https://localhost:8080/"
        },
        "id": "4nFGaJiSTliH",
        "outputId": "1a8f8156-0207-4e07-a2e1-739e58b20d49"
      },
      "outputs": [
        {
          "data": {
            "text/plain": [
              "Unnamed: 0        uint32\n",
              "VEHICLE_ID        uint32\n",
              "TRAFFIC_DATE      object\n",
              "BRAND_CODE        object\n",
              "BASEMODEL_CODE    uint16\n",
              "TOPMODEL_CODE     uint16\n",
              "MOTOR_GAS_TYPE    object\n",
              "GEAR_BOX_TYPE     object\n",
              "dtype: object"
            ]
          },
          "execution_count": 95,
          "metadata": {},
          "output_type": "execute_result"
        }
      ],
      "source": [
        "df_vehicle['BASEMODEL_CODE'] =  df_vehicle['BASEMODEL_CODE'].astype('uint16')\n",
        "df_vehicle['TOPMODEL_CODE'] = df_vehicle['TOPMODEL_CODE'].astype('uint16')\n",
        "df_vehicle['VEHICLE_ID'] = df_vehicle['VEHICLE_ID'].astype('uint32')\n",
        "df_vehicle['Unnamed: 0'] = df_vehicle['VEHICLE_ID'].astype('uint32')\n",
        "df_vehicle.dtypes"
      ]
    },
    {
      "cell_type": "code",
      "execution_count": null,
      "metadata": {
        "colab": {
          "base_uri": "https://localhost:8080/",
          "height": 452
        },
        "id": "wBbbAa_Z4I7H",
        "outputId": "7460ae36-424d-4db9-ce2b-d19c71322ef1"
      },
      "outputs": [
        {
          "data": {
            "text/html": [
              "<div>\n",
              "<style scoped>\n",
              "    .dataframe tbody tr th:only-of-type {\n",
              "        vertical-align: middle;\n",
              "    }\n",
              "\n",
              "    .dataframe tbody tr th {\n",
              "        vertical-align: top;\n",
              "    }\n",
              "\n",
              "    .dataframe thead th {\n",
              "        text-align: right;\n",
              "    }\n",
              "</style>\n",
              "<table border=\"1\" class=\"dataframe\">\n",
              "  <thead>\n",
              "    <tr style=\"text-align: right;\">\n",
              "      <th></th>\n",
              "      <th>Unnamed: 0</th>\n",
              "      <th>VEHICLE_ID</th>\n",
              "      <th>TRAFFIC_DATE</th>\n",
              "      <th>BRAND_CODE</th>\n",
              "      <th>BASEMODEL_CODE</th>\n",
              "      <th>TOPMODEL_CODE</th>\n",
              "      <th>MOTOR_GAS_TYPE</th>\n",
              "      <th>GEAR_BOX_TYPE</th>\n",
              "    </tr>\n",
              "  </thead>\n",
              "  <tbody>\n",
              "    <tr>\n",
              "      <th>0</th>\n",
              "      <td>0</td>\n",
              "      <td>5317713</td>\n",
              "      <td>2017-12-07</td>\n",
              "      <td>Z</td>\n",
              "      <td>13398</td>\n",
              "      <td>9349</td>\n",
              "      <td>Benzin</td>\n",
              "      <td>MANUEL</td>\n",
              "    </tr>\n",
              "    <tr>\n",
              "      <th>1</th>\n",
              "      <td>1</td>\n",
              "      <td>5259212</td>\n",
              "      <td>2014-12-09</td>\n",
              "      <td>X</td>\n",
              "      <td>15694</td>\n",
              "      <td>9524</td>\n",
              "      <td>Dizel</td>\n",
              "      <td>OTOMATİK</td>\n",
              "    </tr>\n",
              "    <tr>\n",
              "      <th>2</th>\n",
              "      <td>2</td>\n",
              "      <td>5110414</td>\n",
              "      <td>2005-12-12</td>\n",
              "      <td>Y</td>\n",
              "      <td>11183</td>\n",
              "      <td>9118</td>\n",
              "      <td>Benzin</td>\n",
              "      <td>OTOMATİK</td>\n",
              "    </tr>\n",
              "    <tr>\n",
              "      <th>3</th>\n",
              "      <td>3</td>\n",
              "      <td>5101263</td>\n",
              "      <td>2005-08-23</td>\n",
              "      <td>X</td>\n",
              "      <td>15039</td>\n",
              "      <td>9495</td>\n",
              "      <td>Benzin</td>\n",
              "      <td>MANUEL</td>\n",
              "    </tr>\n",
              "    <tr>\n",
              "      <th>4</th>\n",
              "      <td>4</td>\n",
              "      <td>5053909</td>\n",
              "      <td>2003-04-09</td>\n",
              "      <td>Y</td>\n",
              "      <td>12255</td>\n",
              "      <td>9219</td>\n",
              "      <td>NaN</td>\n",
              "      <td>NaN</td>\n",
              "    </tr>\n",
              "    <tr>\n",
              "      <th>...</th>\n",
              "      <td>...</td>\n",
              "      <td>...</td>\n",
              "      <td>...</td>\n",
              "      <td>...</td>\n",
              "      <td>...</td>\n",
              "      <td>...</td>\n",
              "      <td>...</td>\n",
              "      <td>...</td>\n",
              "    </tr>\n",
              "    <tr>\n",
              "      <th>345087</th>\n",
              "      <td>345087</td>\n",
              "      <td>5253033</td>\n",
              "      <td>2014-07-24</td>\n",
              "      <td>T</td>\n",
              "      <td>13515</td>\n",
              "      <td>9352</td>\n",
              "      <td>Benzin</td>\n",
              "      <td>MANUEL</td>\n",
              "    </tr>\n",
              "    <tr>\n",
              "      <th>345088</th>\n",
              "      <td>345088</td>\n",
              "      <td>5174679</td>\n",
              "      <td>2010-05-27</td>\n",
              "      <td>T</td>\n",
              "      <td>13833</td>\n",
              "      <td>9376</td>\n",
              "      <td>Benzin</td>\n",
              "      <td>MANUEL</td>\n",
              "    </tr>\n",
              "    <tr>\n",
              "      <th>345089</th>\n",
              "      <td>345089</td>\n",
              "      <td>5059846</td>\n",
              "      <td>2004-12-14</td>\n",
              "      <td>X</td>\n",
              "      <td>15316</td>\n",
              "      <td>9509</td>\n",
              "      <td>Benzin</td>\n",
              "      <td>OTOMATİK</td>\n",
              "    </tr>\n",
              "    <tr>\n",
              "      <th>345090</th>\n",
              "      <td>345090</td>\n",
              "      <td>5080882</td>\n",
              "      <td>2004-06-29</td>\n",
              "      <td>K</td>\n",
              "      <td>14615</td>\n",
              "      <td>9446</td>\n",
              "      <td>Dizel</td>\n",
              "      <td>MANUEL</td>\n",
              "    </tr>\n",
              "    <tr>\n",
              "      <th>345091</th>\n",
              "      <td>345091</td>\n",
              "      <td>5057488</td>\n",
              "      <td>2003-11-18</td>\n",
              "      <td>Y</td>\n",
              "      <td>16308</td>\n",
              "      <td>9571</td>\n",
              "      <td>NaN</td>\n",
              "      <td>NaN</td>\n",
              "    </tr>\n",
              "  </tbody>\n",
              "</table>\n",
              "<p>345092 rows × 8 columns</p>\n",
              "</div>"
            ],
            "text/plain": [
              "        Unnamed: 0  VEHICLE_ID  ... MOTOR_GAS_TYPE GEAR_BOX_TYPE\n",
              "0                0     5317713  ...         Benzin        MANUEL\n",
              "1                1     5259212  ...          Dizel      OTOMATİK\n",
              "2                2     5110414  ...         Benzin      OTOMATİK\n",
              "3                3     5101263  ...         Benzin        MANUEL\n",
              "4                4     5053909  ...            NaN           NaN\n",
              "...            ...         ...  ...            ...           ...\n",
              "345087      345087     5253033  ...         Benzin        MANUEL\n",
              "345088      345088     5174679  ...         Benzin        MANUEL\n",
              "345089      345089     5059846  ...         Benzin      OTOMATİK\n",
              "345090      345090     5080882  ...          Dizel        MANUEL\n",
              "345091      345091     5057488  ...            NaN           NaN\n",
              "\n",
              "[345092 rows x 8 columns]"
            ]
          },
          "execution_count": 32,
          "metadata": {},
          "output_type": "execute_result"
        }
      ],
      "source": [
        "F_VEHICLE_DATA"
      ]
    },
    {
      "cell_type": "markdown",
      "metadata": {
        "id": "s3UYERtShfQI"
      },
      "source": [
        "### VEHICLE_DATA Filling"
      ]
    },
    {
      "cell_type": "code",
      "execution_count": null,
      "metadata": {
        "colab": {
          "base_uri": "https://localhost:8080/",
          "height": 906
        },
        "id": "VVeR2KTMhqlW",
        "outputId": "270d949b-bec6-4f17-cd48-982da099edd2"
      },
      "outputs": [
        {
          "name": "stdout",
          "output_type": "stream",
          "text": [
            "Unnamed: 0 100.0\n",
            "VEHICLE_ID 100.0\n",
            "TRAFFIC_DATE 0.0\n",
            "TRAFFIC_DATE 100.0\n",
            "BRAND_CODE 100.0\n",
            "BASEMODEL_CODE 100.0\n",
            "MOTOR_GAS_TYPE 0.0\n",
            "MOTOR_GAS_TYPE 13.600631069281615\n",
            "MOTOR_GAS_TYPE 27.20126213856323\n",
            "MOTOR_GAS_TYPE 40.80189320784484\n",
            "MOTOR_GAS_TYPE 54.40252427712646\n",
            "MOTOR_GAS_TYPE 68.00315534640808\n",
            "MOTOR_GAS_TYPE 81.60378641568968\n",
            "MOTOR_GAS_TYPE 95.2044174849713\n",
            "MOTOR_GAS_TYPE 100.0\n",
            "GEAR_BOX_TYPE 0.0\n",
            "GEAR_BOX_TYPE 11.902636433970125\n",
            "GEAR_BOX_TYPE 23.80527286794025\n",
            "GEAR_BOX_TYPE 35.70790930191038\n",
            "GEAR_BOX_TYPE 47.6105457358805\n",
            "GEAR_BOX_TYPE 59.51318216985062\n",
            "GEAR_BOX_TYPE 71.41581860382075\n",
            "GEAR_BOX_TYPE 83.31845503779087\n",
            "GEAR_BOX_TYPE 95.221091471761\n",
            "GEAR_BOX_TYPE 100.0\n",
            "Filled 64576 values in total.\n"
          ]
        },
        {
          "data": {
            "text/html": [
              "<div>\n",
              "<style scoped>\n",
              "    .dataframe tbody tr th:only-of-type {\n",
              "        vertical-align: middle;\n",
              "    }\n",
              "\n",
              "    .dataframe tbody tr th {\n",
              "        vertical-align: top;\n",
              "    }\n",
              "\n",
              "    .dataframe thead th {\n",
              "        text-align: right;\n",
              "    }\n",
              "</style>\n",
              "<table border=\"1\" class=\"dataframe\">\n",
              "  <thead>\n",
              "    <tr style=\"text-align: right;\">\n",
              "      <th></th>\n",
              "      <th>Unnamed: 0</th>\n",
              "      <th>VEHICLE_ID</th>\n",
              "      <th>TRAFFIC_DATE</th>\n",
              "      <th>BRAND_CODE</th>\n",
              "      <th>BASEMODEL_CODE</th>\n",
              "      <th>TOPMODEL_CODE</th>\n",
              "      <th>MOTOR_GAS_TYPE</th>\n",
              "      <th>GEAR_BOX_TYPE</th>\n",
              "    </tr>\n",
              "  </thead>\n",
              "  <tbody>\n",
              "    <tr>\n",
              "      <th>0</th>\n",
              "      <td>5317713</td>\n",
              "      <td>5317713</td>\n",
              "      <td>2017-12-07</td>\n",
              "      <td>Z</td>\n",
              "      <td>13398</td>\n",
              "      <td>9349</td>\n",
              "      <td>Benzin</td>\n",
              "      <td>MANUEL</td>\n",
              "    </tr>\n",
              "    <tr>\n",
              "      <th>1</th>\n",
              "      <td>5259212</td>\n",
              "      <td>5259212</td>\n",
              "      <td>2014-12-09</td>\n",
              "      <td>X</td>\n",
              "      <td>15694</td>\n",
              "      <td>9524</td>\n",
              "      <td>Dizel</td>\n",
              "      <td>OTOMATİK</td>\n",
              "    </tr>\n",
              "    <tr>\n",
              "      <th>2</th>\n",
              "      <td>5110414</td>\n",
              "      <td>5110414</td>\n",
              "      <td>2005-12-12</td>\n",
              "      <td>Y</td>\n",
              "      <td>11183</td>\n",
              "      <td>9118</td>\n",
              "      <td>Benzin</td>\n",
              "      <td>OTOMATİK</td>\n",
              "    </tr>\n",
              "    <tr>\n",
              "      <th>3</th>\n",
              "      <td>5101263</td>\n",
              "      <td>5101263</td>\n",
              "      <td>2005-08-23</td>\n",
              "      <td>X</td>\n",
              "      <td>15039</td>\n",
              "      <td>9495</td>\n",
              "      <td>Benzin</td>\n",
              "      <td>MANUEL</td>\n",
              "    </tr>\n",
              "    <tr>\n",
              "      <th>4</th>\n",
              "      <td>5053909</td>\n",
              "      <td>5053909</td>\n",
              "      <td>2003-04-09</td>\n",
              "      <td>Y</td>\n",
              "      <td>12255</td>\n",
              "      <td>9219</td>\n",
              "      <td>Dizel</td>\n",
              "      <td>OTOMATİK</td>\n",
              "    </tr>\n",
              "    <tr>\n",
              "      <th>...</th>\n",
              "      <td>...</td>\n",
              "      <td>...</td>\n",
              "      <td>...</td>\n",
              "      <td>...</td>\n",
              "      <td>...</td>\n",
              "      <td>...</td>\n",
              "      <td>...</td>\n",
              "      <td>...</td>\n",
              "    </tr>\n",
              "    <tr>\n",
              "      <th>345087</th>\n",
              "      <td>5253033</td>\n",
              "      <td>5253033</td>\n",
              "      <td>2014-07-24</td>\n",
              "      <td>T</td>\n",
              "      <td>13515</td>\n",
              "      <td>9352</td>\n",
              "      <td>Benzin</td>\n",
              "      <td>MANUEL</td>\n",
              "    </tr>\n",
              "    <tr>\n",
              "      <th>345088</th>\n",
              "      <td>5174679</td>\n",
              "      <td>5174679</td>\n",
              "      <td>2010-05-27</td>\n",
              "      <td>T</td>\n",
              "      <td>13833</td>\n",
              "      <td>9376</td>\n",
              "      <td>Benzin</td>\n",
              "      <td>MANUEL</td>\n",
              "    </tr>\n",
              "    <tr>\n",
              "      <th>345089</th>\n",
              "      <td>5059846</td>\n",
              "      <td>5059846</td>\n",
              "      <td>2004-12-14</td>\n",
              "      <td>X</td>\n",
              "      <td>15316</td>\n",
              "      <td>9509</td>\n",
              "      <td>Benzin</td>\n",
              "      <td>OTOMATİK</td>\n",
              "    </tr>\n",
              "    <tr>\n",
              "      <th>345090</th>\n",
              "      <td>5080882</td>\n",
              "      <td>5080882</td>\n",
              "      <td>2004-06-29</td>\n",
              "      <td>K</td>\n",
              "      <td>14615</td>\n",
              "      <td>9446</td>\n",
              "      <td>Dizel</td>\n",
              "      <td>MANUEL</td>\n",
              "    </tr>\n",
              "    <tr>\n",
              "      <th>345091</th>\n",
              "      <td>5057488</td>\n",
              "      <td>5057488</td>\n",
              "      <td>2003-11-18</td>\n",
              "      <td>Y</td>\n",
              "      <td>16308</td>\n",
              "      <td>9571</td>\n",
              "      <td>Dizel</td>\n",
              "      <td>MANUEL</td>\n",
              "    </tr>\n",
              "  </tbody>\n",
              "</table>\n",
              "<p>345092 rows × 8 columns</p>\n",
              "</div>"
            ],
            "text/plain": [
              "        Unnamed: 0  VEHICLE_ID  ... MOTOR_GAS_TYPE GEAR_BOX_TYPE\n",
              "0          5317713     5317713  ...         Benzin        MANUEL\n",
              "1          5259212     5259212  ...          Dizel      OTOMATİK\n",
              "2          5110414     5110414  ...         Benzin      OTOMATİK\n",
              "3          5101263     5101263  ...         Benzin        MANUEL\n",
              "4          5053909     5053909  ...          Dizel      OTOMATİK\n",
              "...            ...         ...  ...            ...           ...\n",
              "345087     5253033     5253033  ...         Benzin        MANUEL\n",
              "345088     5174679     5174679  ...         Benzin        MANUEL\n",
              "345089     5059846     5059846  ...         Benzin      OTOMATİK\n",
              "345090     5080882     5080882  ...          Dizel        MANUEL\n",
              "345091     5057488     5057488  ...          Dizel        MANUEL\n",
              "\n",
              "[345092 rows x 8 columns]"
            ]
          },
          "execution_count": 96,
          "metadata": {},
          "output_type": "execute_result"
        }
      ],
      "source": [
        "fill_the_table_with_baseid(df_vehicle, 'TOPMODEL_CODE')"
      ]
    },
    {
      "cell_type": "code",
      "execution_count": null,
      "metadata": {
        "id": "surGVXAMh2vZ"
      },
      "outputs": [],
      "source": [
        "# df_vehicle.to_csv('df_vehicle_filled.csv')\n",
        "# !cp df_vehicle_filled.csv drive/MyDrive/"
      ]
    },
    {
      "cell_type": "code",
      "execution_count": null,
      "metadata": {
        "id": "N-VnSGaJhylj"
      },
      "outputs": [],
      "source": [
        "# df_vehicle = pd.read_csv('drive/MyDrive/df_vehicle_filled.csv')"
      ]
    },
    {
      "cell_type": "markdown",
      "metadata": {
        "id": "-RRiswnZq829"
      },
      "source": [
        "## VEHICLE_DATA DateTime Conversion"
      ]
    },
    {
      "cell_type": "code",
      "execution_count": null,
      "metadata": {
        "id": "UEuhfSAygU86"
      },
      "outputs": [],
      "source": [
        "# df_vehicle"
      ]
    },
    {
      "cell_type": "code",
      "execution_count": null,
      "metadata": {
        "colab": {
          "base_uri": "https://localhost:8080/"
        },
        "id": "GQZ00PPE2hgJ",
        "outputId": "9a66dfc3-3993-4843-cc61-9d792f56292c"
      },
      "outputs": [
        {
          "data": {
            "text/plain": [
              "Unnamed: 0         0.000000\n",
              "Unnamed: 0.1       0.000000\n",
              "VEHICLE_ID         0.000000\n",
              "TRAFFIC_DATE       0.000000\n",
              "BRAND_CODE         0.000000\n",
              "BASEMODEL_CODE     0.000000\n",
              "TOPMODEL_CODE      0.000000\n",
              "MOTOR_GAS_TYPE    12.156758\n",
              "GEAR_BOX_TYPE     15.033382\n",
              "dtype: float64"
            ]
          },
          "execution_count": 29,
          "metadata": {},
          "output_type": "execute_result"
        }
      ],
      "source": [
        "df_vehicle.isna().mean() * 100 # Get Null Values as ''Percentage''"
      ]
    },
    {
      "cell_type": "code",
      "execution_count": null,
      "metadata": {
        "id": "EfcoUE9AmYtS"
      },
      "outputs": [],
      "source": [
        "df_vehicle['TRAFFIC_DATE'] = pd.to_datetime(df_vehicle['TRAFFIC_DATE'])\n",
        "df_vehicle['TRAFFIC_YEAR'] = df_vehicle['TRAFFIC_DATE'].dt.year\n",
        "\n",
        "# df_vehicle['TRAFFIC_YEAR'].fillna(df_vehicle['TRAFFIC_YEAR'].median(), inplace=True)\n",
        "# df_vehicle.isna().mean() * 100"
      ]
    },
    {
      "cell_type": "code",
      "execution_count": null,
      "metadata": {
        "colab": {
          "base_uri": "https://localhost:8080/",
          "height": 209
        },
        "id": "X72MEg3fs0J-",
        "outputId": "a04ada41-0446-4559-d0b8-fb542355b4d0"
      },
      "outputs": [
        {
          "data": {
            "text/html": [
              "<div>\n",
              "<style scoped>\n",
              "    .dataframe tbody tr th:only-of-type {\n",
              "        vertical-align: middle;\n",
              "    }\n",
              "\n",
              "    .dataframe tbody tr th {\n",
              "        vertical-align: top;\n",
              "    }\n",
              "\n",
              "    .dataframe thead th {\n",
              "        text-align: right;\n",
              "    }\n",
              "</style>\n",
              "<table border=\"1\" class=\"dataframe\">\n",
              "  <thead>\n",
              "    <tr style=\"text-align: right;\">\n",
              "      <th></th>\n",
              "      <th>Unnamed: 0</th>\n",
              "      <th>Unnamed: 0.1</th>\n",
              "      <th>VEHICLE_ID</th>\n",
              "      <th>TRAFFIC_DATE</th>\n",
              "      <th>BRAND_CODE</th>\n",
              "      <th>BASEMODEL_CODE</th>\n",
              "      <th>TOPMODEL_CODE</th>\n",
              "      <th>MOTOR_GAS_TYPE</th>\n",
              "      <th>GEAR_BOX_TYPE</th>\n",
              "      <th>TRAFFIC_YEAR</th>\n",
              "    </tr>\n",
              "  </thead>\n",
              "  <tbody>\n",
              "    <tr>\n",
              "      <th>0</th>\n",
              "      <td>0</td>\n",
              "      <td>5317713</td>\n",
              "      <td>5317713</td>\n",
              "      <td>2017-12-07</td>\n",
              "      <td>Z</td>\n",
              "      <td>13398</td>\n",
              "      <td>9349</td>\n",
              "      <td>Benzin</td>\n",
              "      <td>MANUEL</td>\n",
              "      <td>2017</td>\n",
              "    </tr>\n",
              "    <tr>\n",
              "      <th>1</th>\n",
              "      <td>1</td>\n",
              "      <td>5259212</td>\n",
              "      <td>5259212</td>\n",
              "      <td>2014-12-09</td>\n",
              "      <td>X</td>\n",
              "      <td>15694</td>\n",
              "      <td>9524</td>\n",
              "      <td>Dizel</td>\n",
              "      <td>OTOMATİK</td>\n",
              "      <td>2014</td>\n",
              "    </tr>\n",
              "    <tr>\n",
              "      <th>2</th>\n",
              "      <td>2</td>\n",
              "      <td>5110414</td>\n",
              "      <td>5110414</td>\n",
              "      <td>2005-12-12</td>\n",
              "      <td>Y</td>\n",
              "      <td>11183</td>\n",
              "      <td>9118</td>\n",
              "      <td>Benzin</td>\n",
              "      <td>OTOMATİK</td>\n",
              "      <td>2005</td>\n",
              "    </tr>\n",
              "    <tr>\n",
              "      <th>3</th>\n",
              "      <td>3</td>\n",
              "      <td>5101263</td>\n",
              "      <td>5101263</td>\n",
              "      <td>2005-08-23</td>\n",
              "      <td>X</td>\n",
              "      <td>15039</td>\n",
              "      <td>9495</td>\n",
              "      <td>Benzin</td>\n",
              "      <td>MANUEL</td>\n",
              "      <td>2005</td>\n",
              "    </tr>\n",
              "  </tbody>\n",
              "</table>\n",
              "</div>"
            ],
            "text/plain": [
              "   Unnamed: 0  Unnamed: 0.1  ...  GEAR_BOX_TYPE TRAFFIC_YEAR\n",
              "0           0       5317713  ...         MANUEL         2017\n",
              "1           1       5259212  ...       OTOMATİK         2014\n",
              "2           2       5110414  ...       OTOMATİK         2005\n",
              "3           3       5101263  ...         MANUEL         2005\n",
              "\n",
              "[4 rows x 10 columns]"
            ]
          },
          "execution_count": 36,
          "metadata": {},
          "output_type": "execute_result"
        }
      ],
      "source": [
        "df_vehicle.head(4)"
      ]
    },
    {
      "cell_type": "markdown",
      "metadata": {
        "id": "WY_xrjnC1ybv"
      },
      "source": [
        "### Convert Traffic_Year to Age"
      ]
    },
    {
      "cell_type": "code",
      "execution_count": null,
      "metadata": {
        "id": "TOqCTjiinjzC"
      },
      "outputs": [],
      "source": [
        "# for index, row in df_vehicle.iterrows():\n",
        "#   year_value = row['TRAFFIC_YEAR']\n",
        "#   df_vehicle['AGE'].at[index] = current_year - year_value #current_year = 2021\n",
        "\n",
        "\n",
        "df_vehicle['AGE'] = df_vehicle['TRAFFIC_YEAR'].map(lambda year: (current_year-year) )"
      ]
    },
    {
      "cell_type": "code",
      "execution_count": null,
      "metadata": {
        "colab": {
          "base_uri": "https://localhost:8080/"
        },
        "id": "sQWYQVbpgZzN",
        "outputId": "074160a9-968e-4372-f62d-3443dedb3044"
      },
      "outputs": [
        {
          "data": {
            "text/plain": [
              "2021"
            ]
          },
          "execution_count": 4,
          "metadata": {},
          "output_type": "execute_result"
        }
      ],
      "source": [
        "current_year"
      ]
    },
    {
      "cell_type": "code",
      "execution_count": null,
      "metadata": {
        "colab": {
          "base_uri": "https://localhost:8080/",
          "height": 394
        },
        "id": "sc3hjKOGe7Br",
        "outputId": "4ef4ff9c-70fd-4f5f-b661-0f40c2f982b1"
      },
      "outputs": [
        {
          "data": {
            "text/html": [
              "<div>\n",
              "<style scoped>\n",
              "    .dataframe tbody tr th:only-of-type {\n",
              "        vertical-align: middle;\n",
              "    }\n",
              "\n",
              "    .dataframe tbody tr th {\n",
              "        vertical-align: top;\n",
              "    }\n",
              "\n",
              "    .dataframe thead th {\n",
              "        text-align: right;\n",
              "    }\n",
              "</style>\n",
              "<table border=\"1\" class=\"dataframe\">\n",
              "  <thead>\n",
              "    <tr style=\"text-align: right;\">\n",
              "      <th></th>\n",
              "      <th>Unnamed: 0</th>\n",
              "      <th>Unnamed: 0.1</th>\n",
              "      <th>VEHICLE_ID</th>\n",
              "      <th>TRAFFIC_DATE</th>\n",
              "      <th>BRAND_CODE</th>\n",
              "      <th>BASEMODEL_CODE</th>\n",
              "      <th>TOPMODEL_CODE</th>\n",
              "      <th>MOTOR_GAS_TYPE</th>\n",
              "      <th>GEAR_BOX_TYPE</th>\n",
              "      <th>TRAFFIC_YEAR</th>\n",
              "      <th>AGE</th>\n",
              "    </tr>\n",
              "  </thead>\n",
              "  <tbody>\n",
              "    <tr>\n",
              "      <th>0</th>\n",
              "      <td>0</td>\n",
              "      <td>5317713</td>\n",
              "      <td>5317713</td>\n",
              "      <td>2017-12-07</td>\n",
              "      <td>Z</td>\n",
              "      <td>13398</td>\n",
              "      <td>9349</td>\n",
              "      <td>Benzin</td>\n",
              "      <td>MANUEL</td>\n",
              "      <td>2017</td>\n",
              "      <td>0</td>\n",
              "    </tr>\n",
              "    <tr>\n",
              "      <th>1</th>\n",
              "      <td>1</td>\n",
              "      <td>5259212</td>\n",
              "      <td>5259212</td>\n",
              "      <td>2014-12-09</td>\n",
              "      <td>X</td>\n",
              "      <td>15694</td>\n",
              "      <td>9524</td>\n",
              "      <td>Dizel</td>\n",
              "      <td>OTOMATİK</td>\n",
              "      <td>2014</td>\n",
              "      <td>0</td>\n",
              "    </tr>\n",
              "    <tr>\n",
              "      <th>2</th>\n",
              "      <td>2</td>\n",
              "      <td>5110414</td>\n",
              "      <td>5110414</td>\n",
              "      <td>2005-12-12</td>\n",
              "      <td>Y</td>\n",
              "      <td>11183</td>\n",
              "      <td>9118</td>\n",
              "      <td>Benzin</td>\n",
              "      <td>OTOMATİK</td>\n",
              "      <td>2005</td>\n",
              "      <td>0</td>\n",
              "    </tr>\n",
              "    <tr>\n",
              "      <th>3</th>\n",
              "      <td>3</td>\n",
              "      <td>5101263</td>\n",
              "      <td>5101263</td>\n",
              "      <td>2005-08-23</td>\n",
              "      <td>X</td>\n",
              "      <td>15039</td>\n",
              "      <td>9495</td>\n",
              "      <td>Benzin</td>\n",
              "      <td>MANUEL</td>\n",
              "      <td>2005</td>\n",
              "      <td>0</td>\n",
              "    </tr>\n",
              "    <tr>\n",
              "      <th>4</th>\n",
              "      <td>4</td>\n",
              "      <td>5053909</td>\n",
              "      <td>5053909</td>\n",
              "      <td>2003-04-09</td>\n",
              "      <td>Y</td>\n",
              "      <td>12255</td>\n",
              "      <td>9219</td>\n",
              "      <td>Dizel</td>\n",
              "      <td>OTOMATİK</td>\n",
              "      <td>2003</td>\n",
              "      <td>0</td>\n",
              "    </tr>\n",
              "    <tr>\n",
              "      <th>5</th>\n",
              "      <td>5</td>\n",
              "      <td>5002457</td>\n",
              "      <td>5002457</td>\n",
              "      <td>2000-12-31</td>\n",
              "      <td>X</td>\n",
              "      <td>14927</td>\n",
              "      <td>9491</td>\n",
              "      <td>NaN</td>\n",
              "      <td>NaN</td>\n",
              "      <td>2000</td>\n",
              "      <td>0</td>\n",
              "    </tr>\n",
              "    <tr>\n",
              "      <th>6</th>\n",
              "      <td>6</td>\n",
              "      <td>5069112</td>\n",
              "      <td>5069112</td>\n",
              "      <td>2004-07-20</td>\n",
              "      <td>Y</td>\n",
              "      <td>11201</td>\n",
              "      <td>9118</td>\n",
              "      <td>Benzin</td>\n",
              "      <td>MANUEL</td>\n",
              "      <td>2004</td>\n",
              "      <td>0</td>\n",
              "    </tr>\n",
              "    <tr>\n",
              "      <th>7</th>\n",
              "      <td>7</td>\n",
              "      <td>5149542</td>\n",
              "      <td>5149542</td>\n",
              "      <td>2008-01-07</td>\n",
              "      <td>T</td>\n",
              "      <td>13927</td>\n",
              "      <td>9384</td>\n",
              "      <td>Dizel</td>\n",
              "      <td>MANUEL</td>\n",
              "      <td>2008</td>\n",
              "      <td>0</td>\n",
              "    </tr>\n",
              "    <tr>\n",
              "      <th>8</th>\n",
              "      <td>8</td>\n",
              "      <td>5344597</td>\n",
              "      <td>5344597</td>\n",
              "      <td>2021-03-16</td>\n",
              "      <td>Z</td>\n",
              "      <td>12652</td>\n",
              "      <td>9245</td>\n",
              "      <td>Benzin</td>\n",
              "      <td>MANUEL</td>\n",
              "      <td>2021</td>\n",
              "      <td>0</td>\n",
              "    </tr>\n",
              "    <tr>\n",
              "      <th>9</th>\n",
              "      <td>9</td>\n",
              "      <td>5117495</td>\n",
              "      <td>5117495</td>\n",
              "      <td>2006-03-28</td>\n",
              "      <td>Y</td>\n",
              "      <td>11251</td>\n",
              "      <td>9119</td>\n",
              "      <td>Benzin</td>\n",
              "      <td>MANUEL</td>\n",
              "      <td>2006</td>\n",
              "      <td>0</td>\n",
              "    </tr>\n",
              "  </tbody>\n",
              "</table>\n",
              "</div>"
            ],
            "text/plain": [
              "   Unnamed: 0  Unnamed: 0.1  VEHICLE_ID  ... GEAR_BOX_TYPE TRAFFIC_YEAR  AGE\n",
              "0           0       5317713     5317713  ...        MANUEL         2017    0\n",
              "1           1       5259212     5259212  ...      OTOMATİK         2014    0\n",
              "2           2       5110414     5110414  ...      OTOMATİK         2005    0\n",
              "3           3       5101263     5101263  ...        MANUEL         2005    0\n",
              "4           4       5053909     5053909  ...      OTOMATİK         2003    0\n",
              "5           5       5002457     5002457  ...           NaN         2000    0\n",
              "6           6       5069112     5069112  ...        MANUEL         2004    0\n",
              "7           7       5149542     5149542  ...        MANUEL         2008    0\n",
              "8           8       5344597     5344597  ...        MANUEL         2021    0\n",
              "9           9       5117495     5117495  ...        MANUEL         2006    0\n",
              "\n",
              "[10 rows x 11 columns]"
            ]
          },
          "execution_count": 44,
          "metadata": {},
          "output_type": "execute_result"
        }
      ],
      "source": [
        "df_vehicle.head(10)"
      ]
    },
    {
      "cell_type": "code",
      "execution_count": null,
      "metadata": {
        "id": "7ZtydtwVnjvX"
      },
      "outputs": [],
      "source": [
        "F_VEHICLE_DATA = F_VEHICLE_DATA.drop('TRAFFIC_DATE', axis=1)"
      ]
    },
    {
      "cell_type": "markdown",
      "metadata": {
        "id": "TqR6O_PFf_pc"
      },
      "source": [
        "### Deal with Unique Values"
      ]
    },
    {
      "cell_type": "code",
      "execution_count": null,
      "metadata": {
        "colab": {
          "base_uri": "https://localhost:8080/"
        },
        "id": "ByOD2JS6f_PR",
        "outputId": "538ea053-2903-479d-ee3b-6325e9bcc821"
      },
      "outputs": [
        {
          "data": {
            "text/plain": [
              "array(['Manuel', 'Otomatik (DSG)', 'Otomatik', nan, 'Mekanik',\n",
              "       'Sürekli Değişken', 'Otomaik', '?automatisch', 'Otomatik Değişken',\n",
              "       'Sürekli değişken', 'Otomatik (DSG Şanzuman)', 'Düz',\n",
              "       'Otomatik(DSG)', '?Handschaltung', 'manuel'], dtype=object)"
            ]
          },
          "execution_count": 79,
          "metadata": {},
          "output_type": "execute_result"
        }
      ],
      "source": [
        "df_vehicle['GEAR_BOX_TYPE'].unique()"
      ]
    },
    {
      "cell_type": "markdown",
      "metadata": {
        "id": "EHzmppqy162v"
      },
      "source": [
        "# CUST_RELATED_DATA Processing"
      ]
    },
    {
      "cell_type": "code",
      "execution_count": null,
      "metadata": {
        "colab": {
          "base_uri": "https://localhost:8080/",
          "height": 142
        },
        "id": "_HvThNwE1-8b",
        "outputId": "bc22d908-a00e-4a4e-e44b-e3831621f899"
      },
      "outputs": [
        {
          "data": {
            "text/html": [
              "<div>\n",
              "<style scoped>\n",
              "    .dataframe tbody tr th:only-of-type {\n",
              "        vertical-align: middle;\n",
              "    }\n",
              "\n",
              "    .dataframe tbody tr th {\n",
              "        vertical-align: top;\n",
              "    }\n",
              "\n",
              "    .dataframe thead th {\n",
              "        text-align: right;\n",
              "    }\n",
              "</style>\n",
              "<table border=\"1\" class=\"dataframe\">\n",
              "  <thead>\n",
              "    <tr style=\"text-align: right;\">\n",
              "      <th></th>\n",
              "      <th>Unnamed: 0</th>\n",
              "      <th>BASE_CUSTOMER_ID</th>\n",
              "      <th>VEHICLE_ID</th>\n",
              "      <th>START_DATE</th>\n",
              "      <th>FK_RELATION_STATUS_ID</th>\n",
              "      <th>START_YEAR</th>\n",
              "      <th>END_YEAR</th>\n",
              "    </tr>\n",
              "  </thead>\n",
              "  <tbody>\n",
              "    <tr>\n",
              "      <th>0</th>\n",
              "      <td>0</td>\n",
              "      <td>189537</td>\n",
              "      <td>5321560</td>\n",
              "      <td>2018-07-24</td>\n",
              "      <td>2</td>\n",
              "      <td>2018</td>\n",
              "      <td>2019.0</td>\n",
              "    </tr>\n",
              "    <tr>\n",
              "      <th>1</th>\n",
              "      <td>1</td>\n",
              "      <td>110802</td>\n",
              "      <td>5329278</td>\n",
              "      <td>2019-07-16</td>\n",
              "      <td>1</td>\n",
              "      <td>2019</td>\n",
              "      <td>NaN</td>\n",
              "    </tr>\n",
              "    <tr>\n",
              "      <th>2</th>\n",
              "      <td>2</td>\n",
              "      <td>160615</td>\n",
              "      <td>5329282</td>\n",
              "      <td>2019-09-12</td>\n",
              "      <td>1</td>\n",
              "      <td>2019</td>\n",
              "      <td>NaN</td>\n",
              "    </tr>\n",
              "  </tbody>\n",
              "</table>\n",
              "</div>"
            ],
            "text/plain": [
              "   Unnamed: 0  BASE_CUSTOMER_ID  ...  START_YEAR END_YEAR\n",
              "0           0            189537  ...        2018   2019.0\n",
              "1           1            110802  ...        2019      NaN\n",
              "2           2            160615  ...        2019      NaN\n",
              "\n",
              "[3 rows x 7 columns]"
            ]
          },
          "execution_count": 28,
          "metadata": {},
          "output_type": "execute_result"
        }
      ],
      "source": [
        "df_cust_rel = F_CUST_RELATED_DATA.drop('FK_RELATION_STATUS_EXPLANATION', axis=1)\n",
        "\n",
        "df_cust_rel['START_DATE'] = pd.to_datetime(df_cust_rel['START_DATE'])\n",
        "df_cust_rel['END_DATE'] = pd.to_datetime(df_cust_rel['END_DATE'])\n",
        "\n",
        "df_cust_rel['START_YEAR'] = df_cust_rel['START_DATE'].dt.year\n",
        "df_cust_rel['END_YEAR'] = df_cust_rel['END_DATE'].dt.year\n",
        "\n",
        "df_cust_rel = df_cust_rel.drop('END_DATE', axis=1)\n",
        "\n",
        "df_cust_rel.head(3)"
      ]
    },
    {
      "cell_type": "code",
      "execution_count": null,
      "metadata": {
        "id": "cvB_j7vM8t4F"
      },
      "outputs": [],
      "source": [
        "for index, row in df_cust_rel.iterrows():\n",
        "  if row.FK_RELATION_STATUS_ID == 2:\n",
        "    df_cust_rel.at[index, 'TOTAL_LICENCE_TIME'] = row.END_YEAR - row.START_YEAR\n",
        "  if row.FK_RELATION_STATUS_ID == 1:\n",
        "    df_cust_rel.at[index,'TOTAL_LICENCE_TIME'] = current_year - row.START_YEAR "
      ]
    },
    {
      "cell_type": "code",
      "execution_count": null,
      "metadata": {
        "colab": {
          "base_uri": "https://localhost:8080/",
          "height": 110
        },
        "id": "KCS8BCv--uEj",
        "outputId": "7e38687a-c60f-4fbc-f863-12a0c0854801"
      },
      "outputs": [
        {
          "data": {
            "text/html": [
              "<div>\n",
              "<style scoped>\n",
              "    .dataframe tbody tr th:only-of-type {\n",
              "        vertical-align: middle;\n",
              "    }\n",
              "\n",
              "    .dataframe tbody tr th {\n",
              "        vertical-align: top;\n",
              "    }\n",
              "\n",
              "    .dataframe thead th {\n",
              "        text-align: right;\n",
              "    }\n",
              "</style>\n",
              "<table border=\"1\" class=\"dataframe\">\n",
              "  <thead>\n",
              "    <tr style=\"text-align: right;\">\n",
              "      <th></th>\n",
              "      <th>Unnamed: 0</th>\n",
              "      <th>BASE_CUSTOMER_ID</th>\n",
              "      <th>VEHICLE_ID</th>\n",
              "      <th>START_DATE</th>\n",
              "      <th>FK_RELATION_STATUS_ID</th>\n",
              "      <th>START_YEAR</th>\n",
              "      <th>END_YEAR</th>\n",
              "      <th>TOTAL_LICENCE_TIME</th>\n",
              "    </tr>\n",
              "  </thead>\n",
              "  <tbody>\n",
              "    <tr>\n",
              "      <th>0</th>\n",
              "      <td>0</td>\n",
              "      <td>189537</td>\n",
              "      <td>5321560</td>\n",
              "      <td>2018-07-24</td>\n",
              "      <td>2</td>\n",
              "      <td>2018</td>\n",
              "      <td>2019.0</td>\n",
              "      <td>1.0</td>\n",
              "    </tr>\n",
              "    <tr>\n",
              "      <th>1</th>\n",
              "      <td>1</td>\n",
              "      <td>110802</td>\n",
              "      <td>5329278</td>\n",
              "      <td>2019-07-16</td>\n",
              "      <td>1</td>\n",
              "      <td>2019</td>\n",
              "      <td>NaN</td>\n",
              "      <td>2.0</td>\n",
              "    </tr>\n",
              "  </tbody>\n",
              "</table>\n",
              "</div>"
            ],
            "text/plain": [
              "   Unnamed: 0  BASE_CUSTOMER_ID  ...  END_YEAR TOTAL_LICENCE_TIME\n",
              "0           0            189537  ...    2019.0                1.0\n",
              "1           1            110802  ...       NaN                2.0\n",
              "\n",
              "[2 rows x 8 columns]"
            ]
          },
          "execution_count": 32,
          "metadata": {},
          "output_type": "execute_result"
        }
      ],
      "source": [
        "df_cust_rel.head(2)"
      ]
    },
    {
      "cell_type": "code",
      "execution_count": null,
      "metadata": {
        "colab": {
          "base_uri": "https://localhost:8080/",
          "height": 110
        },
        "id": "Oj5Dz28U8t1x",
        "outputId": "2a8cd08d-5b9d-4912-ff80-63af5f9999a1"
      },
      "outputs": [
        {
          "data": {
            "text/html": [
              "<div>\n",
              "<style scoped>\n",
              "    .dataframe tbody tr th:only-of-type {\n",
              "        vertical-align: middle;\n",
              "    }\n",
              "\n",
              "    .dataframe tbody tr th {\n",
              "        vertical-align: top;\n",
              "    }\n",
              "\n",
              "    .dataframe thead th {\n",
              "        text-align: right;\n",
              "    }\n",
              "</style>\n",
              "<table border=\"1\" class=\"dataframe\">\n",
              "  <thead>\n",
              "    <tr style=\"text-align: right;\">\n",
              "      <th></th>\n",
              "      <th>Unnamed: 0</th>\n",
              "      <th>BASE_CUSTOMER_ID</th>\n",
              "      <th>VEHICLE_ID</th>\n",
              "      <th>START_DATE</th>\n",
              "      <th>FK_RELATION_STATUS_ID</th>\n",
              "      <th>TOTAL_LICENCE_TIME</th>\n",
              "    </tr>\n",
              "  </thead>\n",
              "  <tbody>\n",
              "    <tr>\n",
              "      <th>0</th>\n",
              "      <td>0</td>\n",
              "      <td>189537</td>\n",
              "      <td>5321560</td>\n",
              "      <td>2018-07-24</td>\n",
              "      <td>2</td>\n",
              "      <td>1.0</td>\n",
              "    </tr>\n",
              "    <tr>\n",
              "      <th>1</th>\n",
              "      <td>1</td>\n",
              "      <td>110802</td>\n",
              "      <td>5329278</td>\n",
              "      <td>2019-07-16</td>\n",
              "      <td>1</td>\n",
              "      <td>2.0</td>\n",
              "    </tr>\n",
              "  </tbody>\n",
              "</table>\n",
              "</div>"
            ],
            "text/plain": [
              "   Unnamed: 0  BASE_CUSTOMER_ID  ...  FK_RELATION_STATUS_ID TOTAL_LICENCE_TIME\n",
              "0           0            189537  ...                      2                1.0\n",
              "1           1            110802  ...                      1                2.0\n",
              "\n",
              "[2 rows x 6 columns]"
            ]
          },
          "execution_count": 33,
          "metadata": {},
          "output_type": "execute_result"
        }
      ],
      "source": [
        "df_cust_rel = df_cust_rel.drop(['START_YEAR', 'END_YEAR'], axis=1)\n",
        "df_cust_rel.head(2)"
      ]
    },
    {
      "cell_type": "code",
      "execution_count": null,
      "metadata": {
        "id": "JiA9TOgcrKk2"
      },
      "outputs": [],
      "source": [
        "df_cust_rel = df_cust_rel.drop('START_DATE', axis=1)"
      ]
    },
    {
      "cell_type": "code",
      "execution_count": null,
      "metadata": {
        "id": "cPb06HMA8tzh"
      },
      "outputs": [],
      "source": [
        "df_cust_rel.drop( df_cust_rel.columns[0], axis=1).to_csv('drive/MyDrive/df_cust_rel.csv')"
      ]
    },
    {
      "cell_type": "markdown",
      "metadata": {
        "id": "JSrc_Txp--fG"
      },
      "source": [
        "# SALES_DATA Processing"
      ]
    },
    {
      "cell_type": "code",
      "execution_count": null,
      "metadata": {
        "colab": {
          "base_uri": "https://localhost:8080/",
          "height": 161
        },
        "id": "o51EktpF37-0",
        "outputId": "b61b4f20-a8fd-4a9b-ef17-6229cb834623"
      },
      "outputs": [
        {
          "data": {
            "text/html": [
              "<div>\n",
              "<style scoped>\n",
              "    .dataframe tbody tr th:only-of-type {\n",
              "        vertical-align: middle;\n",
              "    }\n",
              "\n",
              "    .dataframe tbody tr th {\n",
              "        vertical-align: top;\n",
              "    }\n",
              "\n",
              "    .dataframe thead th {\n",
              "        text-align: right;\n",
              "    }\n",
              "</style>\n",
              "<table border=\"1\" class=\"dataframe\">\n",
              "  <thead>\n",
              "    <tr style=\"text-align: right;\">\n",
              "      <th></th>\n",
              "      <th>Unnamed: 0</th>\n",
              "      <th>CUSTOMER_ID</th>\n",
              "      <th>SALESFILE_ID</th>\n",
              "      <th>SF_CREATE_DATE</th>\n",
              "      <th>STATUS</th>\n",
              "      <th>REQ_BRAND_CODE</th>\n",
              "      <th>REQ_TOPMODEL_CODE</th>\n",
              "      <th>CREATE_YEAR</th>\n",
              "      <th>CREATE_MONTH</th>\n",
              "    </tr>\n",
              "  </thead>\n",
              "  <tbody>\n",
              "    <tr>\n",
              "      <th>0</th>\n",
              "      <td>0</td>\n",
              "      <td>1712792</td>\n",
              "      <td>7274467.0</td>\n",
              "      <td>2017-11-17 12:15:39</td>\n",
              "      <td>101</td>\n",
              "      <td>Y</td>\n",
              "      <td>9231.0</td>\n",
              "      <td>2017</td>\n",
              "      <td>11</td>\n",
              "    </tr>\n",
              "    <tr>\n",
              "      <th>1</th>\n",
              "      <td>1</td>\n",
              "      <td>1149729</td>\n",
              "      <td>4839430.0</td>\n",
              "      <td>2015-11-11 17:03:28</td>\n",
              "      <td>102</td>\n",
              "      <td>K</td>\n",
              "      <td>9184.0</td>\n",
              "      <td>2015</td>\n",
              "      <td>11</td>\n",
              "    </tr>\n",
              "  </tbody>\n",
              "</table>\n",
              "</div>"
            ],
            "text/plain": [
              "   Unnamed: 0  CUSTOMER_ID  ...  CREATE_YEAR CREATE_MONTH\n",
              "0           0      1712792  ...         2017           11\n",
              "1           1      1149729  ...         2015           11\n",
              "\n",
              "[2 rows x 9 columns]"
            ]
          },
          "execution_count": 45,
          "metadata": {},
          "output_type": "execute_result"
        }
      ],
      "source": [
        "df_sales = F_SALES_DATA\n",
        "df_sales.head(2)"
      ]
    },
    {
      "cell_type": "code",
      "execution_count": null,
      "metadata": {
        "colab": {
          "base_uri": "https://localhost:8080/"
        },
        "id": "wAk6R-w334iQ",
        "outputId": "2a588f7f-6390-424e-bebb-01d684564692"
      },
      "outputs": [
        {
          "data": {
            "text/plain": [
              "Unnamed: 0           397526\n",
              "CUSTOMER_ID          183523\n",
              "SALESFILE_ID         396278\n",
              "SF_CREATE_DATE       395534\n",
              "STATUS                    6\n",
              "REQ_BRAND_CODE            5\n",
              "REQ_TOPMODEL_CODE       277\n",
              "CREATE_YEAR              12\n",
              "CREATE_MONTH             12\n",
              "dtype: int64"
            ]
          },
          "execution_count": 46,
          "metadata": {},
          "output_type": "execute_result"
        }
      ],
      "source": [
        "df_sales.nunique()"
      ]
    },
    {
      "cell_type": "markdown",
      "metadata": {
        "id": "hEAB0orBJwzS"
      },
      "source": [
        "## Sales Date Conversion"
      ]
    },
    {
      "cell_type": "code",
      "execution_count": null,
      "metadata": {
        "colab": {
          "base_uri": "https://localhost:8080/",
          "height": 161
        },
        "id": "kx-ut9spRzmG",
        "outputId": "1962d90f-7bea-4dd2-8065-179a21849455"
      },
      "outputs": [
        {
          "data": {
            "text/html": [
              "<div>\n",
              "<style scoped>\n",
              "    .dataframe tbody tr th:only-of-type {\n",
              "        vertical-align: middle;\n",
              "    }\n",
              "\n",
              "    .dataframe tbody tr th {\n",
              "        vertical-align: top;\n",
              "    }\n",
              "\n",
              "    .dataframe thead th {\n",
              "        text-align: right;\n",
              "    }\n",
              "</style>\n",
              "<table border=\"1\" class=\"dataframe\">\n",
              "  <thead>\n",
              "    <tr style=\"text-align: right;\">\n",
              "      <th></th>\n",
              "      <th>Unnamed: 0</th>\n",
              "      <th>CUSTOMER_ID</th>\n",
              "      <th>SALESFILE_ID</th>\n",
              "      <th>SF_CREATE_DATE</th>\n",
              "      <th>STATUS</th>\n",
              "      <th>REQ_BRAND_CODE</th>\n",
              "      <th>REQ_TOPMODEL_CODE</th>\n",
              "      <th>CREATE_YEAR</th>\n",
              "      <th>CREATE_MONTH</th>\n",
              "    </tr>\n",
              "  </thead>\n",
              "  <tbody>\n",
              "    <tr>\n",
              "      <th>0</th>\n",
              "      <td>0</td>\n",
              "      <td>1712792</td>\n",
              "      <td>7274467.0</td>\n",
              "      <td>2017-11-17 12:15:39</td>\n",
              "      <td>101</td>\n",
              "      <td>Y</td>\n",
              "      <td>9231.0</td>\n",
              "      <td>2017</td>\n",
              "      <td>11</td>\n",
              "    </tr>\n",
              "    <tr>\n",
              "      <th>1</th>\n",
              "      <td>1</td>\n",
              "      <td>1149729</td>\n",
              "      <td>4839430.0</td>\n",
              "      <td>2015-11-11 17:03:28</td>\n",
              "      <td>102</td>\n",
              "      <td>K</td>\n",
              "      <td>9184.0</td>\n",
              "      <td>2015</td>\n",
              "      <td>11</td>\n",
              "    </tr>\n",
              "  </tbody>\n",
              "</table>\n",
              "</div>"
            ],
            "text/plain": [
              "   Unnamed: 0  CUSTOMER_ID  ...  CREATE_YEAR CREATE_MONTH\n",
              "0           0      1712792  ...         2017           11\n",
              "1           1      1149729  ...         2015           11\n",
              "\n",
              "[2 rows x 9 columns]"
            ]
          },
          "execution_count": 37,
          "metadata": {},
          "output_type": "execute_result"
        }
      ],
      "source": [
        "df_sales['SF_CREATE_DATE'] = pd.to_datetime(df_sales['SF_CREATE_DATE'])\n",
        "df_sales['CREATE_YEAR'] = df_sales['SF_CREATE_DATE'].dt.year\n",
        "df_sales['CREATE_MONTH'] = df_sales['SF_CREATE_DATE'].dt.month\n",
        "df_sales.head(2)"
      ]
    },
    {
      "cell_type": "code",
      "execution_count": null,
      "metadata": {
        "id": "AEEZSkPMRzeX"
      },
      "outputs": [],
      "source": [
        "df_sales['SF_CREATE_DATE'] = pd.to_datetime(df_sales['SF_CREATE_DATE']).dt.date"
      ]
    },
    {
      "cell_type": "code",
      "execution_count": null,
      "metadata": {
        "colab": {
          "base_uri": "https://localhost:8080/",
          "height": 80
        },
        "id": "BIkEjZXpRy43",
        "outputId": "b6e2be83-9d66-42d0-de59-db72d5551c2b"
      },
      "outputs": [
        {
          "data": {
            "text/html": [
              "<div>\n",
              "<style scoped>\n",
              "    .dataframe tbody tr th:only-of-type {\n",
              "        vertical-align: middle;\n",
              "    }\n",
              "\n",
              "    .dataframe tbody tr th {\n",
              "        vertical-align: top;\n",
              "    }\n",
              "\n",
              "    .dataframe thead th {\n",
              "        text-align: right;\n",
              "    }\n",
              "</style>\n",
              "<table border=\"1\" class=\"dataframe\">\n",
              "  <thead>\n",
              "    <tr style=\"text-align: right;\">\n",
              "      <th></th>\n",
              "      <th>Unnamed: 0</th>\n",
              "      <th>CUSTOMER_ID</th>\n",
              "      <th>SALESFILE_ID</th>\n",
              "      <th>SF_CREATE_DATE</th>\n",
              "      <th>STATUS</th>\n",
              "      <th>REQ_BRAND_CODE</th>\n",
              "      <th>REQ_TOPMODEL_CODE</th>\n",
              "      <th>CREATE_YEAR</th>\n",
              "      <th>CREATE_MONTH</th>\n",
              "    </tr>\n",
              "  </thead>\n",
              "  <tbody>\n",
              "    <tr>\n",
              "      <th>0</th>\n",
              "      <td>0</td>\n",
              "      <td>1712792</td>\n",
              "      <td>7274467.0</td>\n",
              "      <td>2017-11-17</td>\n",
              "      <td>101</td>\n",
              "      <td>Y</td>\n",
              "      <td>9231.0</td>\n",
              "      <td>2017</td>\n",
              "      <td>11</td>\n",
              "    </tr>\n",
              "  </tbody>\n",
              "</table>\n",
              "</div>"
            ],
            "text/plain": [
              "   Unnamed: 0  CUSTOMER_ID  ...  CREATE_YEAR CREATE_MONTH\n",
              "0           0      1712792  ...         2017           11\n",
              "\n",
              "[1 rows x 9 columns]"
            ]
          },
          "execution_count": 50,
          "metadata": {},
          "output_type": "execute_result"
        }
      ],
      "source": [
        "df_sales.head(1)"
      ]
    },
    {
      "cell_type": "code",
      "execution_count": null,
      "metadata": {
        "id": "a3gOwCI3pQWz"
      },
      "outputs": [],
      "source": [
        "df_sales.to_csv('drive/MyDrive/df_sales.csv', index_label= df_sales.columns[0] )"
      ]
    },
    {
      "cell_type": "markdown",
      "metadata": {
        "id": "WOsROYQ3hEIc"
      },
      "source": []
    },
    {
      "cell_type": "markdown",
      "metadata": {
        "id": "7Mcxu0ZrhGmM"
      },
      "source": [
        "# FINAL PROCESSING"
      ]
    },
    {
      "cell_type": "code",
      "execution_count": null,
      "metadata": {
        "id": "S3D3aif-tSnE"
      },
      "outputs": [],
      "source": [
        "df_vehicle = pd.read_csv('drive/MyDrive/df_vehicle_filled.csv', index_col=0)\n",
        "df_cust_rel = pd.read_csv('drive/MyDrive/df_cust_rel.csv', index_col=0)"
      ]
    },
    {
      "cell_type": "code",
      "execution_count": null,
      "metadata": {
        "id": "7ueNwx4ZhNh9"
      },
      "outputs": [],
      "source": [
        "df_customer = pd.read_csv('drive/MyDrive/df_customer_filled_v2.csv', index_col=0)"
      ]
    },
    {
      "cell_type": "code",
      "execution_count": null,
      "metadata": {
        "id": "VDEAM9lFplKd"
      },
      "outputs": [],
      "source": [
        "df_sales = pd.read_csv('drive/MyDrive/df_sales.csv', index_col=0)"
      ]
    },
    {
      "cell_type": "code",
      "execution_count": null,
      "metadata": {
        "colab": {
          "base_uri": "https://localhost:8080/"
        },
        "id": "VBHLrQWakMbE",
        "outputId": "4822d999-ac3d-4851-bc33-7f6b0e945bec"
      },
      "outputs": [
        {
          "data": {
            "text/plain": [
              "BASE_CUSTOMER_ID    196564\n",
              "CUSTOMER_ID         849919\n",
              "GENDER                   2\n",
              "MARITAL_STATUS           2\n",
              "OCCUPATION              63\n",
              "AGE                    107\n",
              "dtype: int64"
            ]
          },
          "execution_count": 18,
          "metadata": {},
          "output_type": "execute_result"
        }
      ],
      "source": [
        "df_customer.nunique()"
      ]
    },
    {
      "cell_type": "code",
      "execution_count": null,
      "metadata": {
        "colab": {
          "base_uri": "https://localhost:8080/"
        },
        "id": "s-QoUkx-hJQP",
        "outputId": "be213f02-c53e-453d-9b0e-889b5a3411f5"
      },
      "outputs": [
        {
          "data": {
            "text/plain": [
              "Unnamed: 0.1      345092\n",
              "VEHICLE_ID        345092\n",
              "TRAFFIC_DATE        7428\n",
              "BRAND_CODE             5\n",
              "BASEMODEL_CODE      2477\n",
              "TOPMODEL_CODE        346\n",
              "MOTOR_GAS_TYPE         4\n",
              "GEAR_BOX_TYPE          2\n",
              "dtype: int64"
            ]
          },
          "execution_count": 55,
          "metadata": {},
          "output_type": "execute_result"
        }
      ],
      "source": [
        "df_vehicle.nunique()"
      ]
    },
    {
      "cell_type": "code",
      "execution_count": null,
      "metadata": {
        "colab": {
          "base_uri": "https://localhost:8080/"
        },
        "id": "lM8iiXhFhJNn",
        "outputId": "954b3230-ea1e-443f-957c-e91edfe394dd"
      },
      "outputs": [
        {
          "data": {
            "text/plain": [
              "BASE_CUSTOMER_ID         196538\n",
              "VEHICLE_ID               345092\n",
              "START_DATE                 8132\n",
              "FK_RELATION_STATUS_ID         2\n",
              "TOTAL_LICENCE_TIME           31\n",
              "dtype: int64"
            ]
          },
          "execution_count": 56,
          "metadata": {},
          "output_type": "execute_result"
        }
      ],
      "source": [
        "df_cust_rel.nunique()"
      ]
    },
    {
      "cell_type": "code",
      "execution_count": null,
      "metadata": {
        "colab": {
          "base_uri": "https://localhost:8080/"
        },
        "id": "AwRhks_4pt7k",
        "outputId": "6e311f61-a853-4253-a4fc-096412522592"
      },
      "outputs": [
        {
          "data": {
            "text/plain": [
              "Unnamed: 0.1         397526\n",
              "CUSTOMER_ID          183523\n",
              "SALESFILE_ID         396278\n",
              "SF_CREATE_DATE         4117\n",
              "STATUS                    6\n",
              "REQ_BRAND_CODE            5\n",
              "REQ_TOPMODEL_CODE       277\n",
              "CREATE_YEAR              12\n",
              "CREATE_MONTH             12\n",
              "dtype: int64"
            ]
          },
          "execution_count": 57,
          "metadata": {},
          "output_type": "execute_result"
        }
      ],
      "source": [
        "df_sales.nunique()"
      ]
    },
    {
      "cell_type": "markdown",
      "metadata": {
        "id": "ROMUHhxHontD"
      },
      "source": [
        "## Check For Null Values (as percentage)"
      ]
    },
    {
      "cell_type": "code",
      "execution_count": null,
      "metadata": {
        "colab": {
          "base_uri": "https://localhost:8080/"
        },
        "id": "BMR6-3U7oq17",
        "outputId": "78d91dbd-934b-449f-81c1-583677bad98c"
      },
      "outputs": [
        {
          "data": {
            "text/plain": [
              "BASE_CUSTOMER_ID     0.000000\n",
              "CUSTOMER_ID          0.000000\n",
              "GENDER               0.000235\n",
              "MARITAL_STATUS       9.419839\n",
              "OCCUPATION          28.400589\n",
              "AGE                  6.789000\n",
              "dtype: float64"
            ]
          },
          "execution_count": 58,
          "metadata": {},
          "output_type": "execute_result"
        }
      ],
      "source": [
        "df_customer.isna().mean()*100"
      ]
    },
    {
      "cell_type": "code",
      "execution_count": null,
      "metadata": {
        "colab": {
          "base_uri": "https://localhost:8080/"
        },
        "id": "wOSfwPvNoqxr",
        "outputId": "dcd75571-3c68-4df2-8b93-37451803f779"
      },
      "outputs": [
        {
          "data": {
            "text/plain": [
              "BASE_CUSTOMER_ID         0.0\n",
              "VEHICLE_ID               0.0\n",
              "START_DATE               0.0\n",
              "FK_RELATION_STATUS_ID    0.0\n",
              "TOTAL_LICENCE_TIME       0.0\n",
              "dtype: float64"
            ]
          },
          "execution_count": 59,
          "metadata": {},
          "output_type": "execute_result"
        }
      ],
      "source": [
        "df_cust_rel.isna().mean()*100"
      ]
    },
    {
      "cell_type": "code",
      "execution_count": null,
      "metadata": {
        "colab": {
          "base_uri": "https://localhost:8080/"
        },
        "id": "a50lIK5lu6pq",
        "outputId": "ff7ccf17-bcb1-4a91-8a5a-34c65138c5f5"
      },
      "outputs": [
        {
          "data": {
            "text/plain": [
              "Unnamed: 0.1       0.000000\n",
              "VEHICLE_ID         0.000000\n",
              "TRAFFIC_DATE       0.000000\n",
              "BRAND_CODE         0.000000\n",
              "BASEMODEL_CODE     0.000000\n",
              "TOPMODEL_CODE      0.000000\n",
              "MOTOR_GAS_TYPE    12.156758\n",
              "GEAR_BOX_TYPE     15.033382\n",
              "dtype: float64"
            ]
          },
          "execution_count": 60,
          "metadata": {},
          "output_type": "execute_result"
        }
      ],
      "source": [
        "df_vehicle.isna().mean()*100"
      ]
    },
    {
      "cell_type": "code",
      "execution_count": null,
      "metadata": {
        "colab": {
          "base_uri": "https://localhost:8080/"
        },
        "id": "8Wl7ZTkcoqvQ",
        "outputId": "581cf311-b37c-4a7c-9100-70a272ca263c"
      },
      "outputs": [
        {
          "data": {
            "text/plain": [
              "Unnamed: 0.1         0.0000\n",
              "CUSTOMER_ID          0.0000\n",
              "SALESFILE_ID         0.0000\n",
              "SF_CREATE_DATE       0.0000\n",
              "STATUS               0.0000\n",
              "REQ_BRAND_CODE       0.0000\n",
              "REQ_TOPMODEL_CODE    0.0727\n",
              "CREATE_YEAR          0.0000\n",
              "CREATE_MONTH         0.0000\n",
              "dtype: float64"
            ]
          },
          "execution_count": 61,
          "metadata": {},
          "output_type": "execute_result"
        }
      ],
      "source": [
        "df_sales.isna().mean()*100"
      ]
    },
    {
      "cell_type": "code",
      "execution_count": null,
      "metadata": {
        "colab": {
          "base_uri": "https://localhost:8080/"
        },
        "id": "631XoZ91oqFV",
        "outputId": "1152d8dd-9f5d-40e3-cde9-2e35ffdf6b11"
      },
      "outputs": [
        {
          "data": {
            "text/plain": [
              "Unnamed: 0     0.0\n",
              "VEHICLE_ID     0.0\n",
              "CUSTOMER_ID    0.0\n",
              "CREATE_DATE    0.0\n",
              "dtype: float64"
            ]
          },
          "execution_count": 62,
          "metadata": {},
          "output_type": "execute_result"
        }
      ],
      "source": [
        "F_SIFIR_ARAC_DATA.isna().mean()*100"
      ]
    },
    {
      "cell_type": "markdown",
      "metadata": {
        "id": "uSt8PjkExXJL"
      },
      "source": [
        "## Fill the Null Values"
      ]
    },
    {
      "cell_type": "markdown",
      "metadata": {
        "id": "bTeR6XkL97Ji"
      },
      "source": [
        "### Fill CUSTOMER Data"
      ]
    },
    {
      "cell_type": "markdown",
      "metadata": {
        "id": "2xsmlBMK2gNr"
      },
      "source": [
        "Drop the OCCUPATION from CUSTOMER since 28% of it are null."
      ]
    },
    {
      "cell_type": "code",
      "execution_count": null,
      "metadata": {
        "id": "BkiF_WV5xZEk"
      },
      "outputs": [],
      "source": [
        "df_customer = df_customer.drop('OCCUPATION', axis=1)"
      ]
    },
    {
      "cell_type": "code",
      "execution_count": null,
      "metadata": {
        "colab": {
          "base_uri": "https://localhost:8080/",
          "height": 80
        },
        "id": "bBSKzwfhxZCX",
        "outputId": "ef19eaa6-dd01-4448-976e-6c1d2fb7e868"
      },
      "outputs": [
        {
          "data": {
            "text/html": [
              "<div>\n",
              "<style scoped>\n",
              "    .dataframe tbody tr th:only-of-type {\n",
              "        vertical-align: middle;\n",
              "    }\n",
              "\n",
              "    .dataframe tbody tr th {\n",
              "        vertical-align: top;\n",
              "    }\n",
              "\n",
              "    .dataframe thead th {\n",
              "        text-align: right;\n",
              "    }\n",
              "</style>\n",
              "<table border=\"1\" class=\"dataframe\">\n",
              "  <thead>\n",
              "    <tr style=\"text-align: right;\">\n",
              "      <th></th>\n",
              "      <th>BASE_CUSTOMER_ID</th>\n",
              "      <th>CUSTOMER_ID</th>\n",
              "      <th>GENDER</th>\n",
              "      <th>MARITAL_STATUS</th>\n",
              "      <th>AGE</th>\n",
              "    </tr>\n",
              "  </thead>\n",
              "  <tbody>\n",
              "    <tr>\n",
              "      <th>0</th>\n",
              "      <td>158891</td>\n",
              "      <td>1747700</td>\n",
              "      <td>Erkek</td>\n",
              "      <td>Evli</td>\n",
              "      <td>46.0</td>\n",
              "    </tr>\n",
              "  </tbody>\n",
              "</table>\n",
              "</div>"
            ],
            "text/plain": [
              "   BASE_CUSTOMER_ID  CUSTOMER_ID GENDER MARITAL_STATUS   AGE\n",
              "0            158891      1747700  Erkek           Evli  46.0"
            ]
          },
          "execution_count": 73,
          "metadata": {},
          "output_type": "execute_result"
        }
      ],
      "source": [
        "df_customer.head(1)"
      ]
    },
    {
      "cell_type": "code",
      "execution_count": null,
      "metadata": {
        "colab": {
          "base_uri": "https://localhost:8080/"
        },
        "id": "_Pahni6J3DZU",
        "outputId": "4332b7ee-3bb9-4dbd-d533-caa8bc37f920"
      },
      "outputs": [
        {
          "data": {
            "text/plain": [
              "BASE_CUSTOMER_ID    0.000000\n",
              "CUSTOMER_ID         0.000000\n",
              "MARITAL_STATUS      9.419839\n",
              "AGE                 6.789000\n",
              "dtype: float64"
            ]
          },
          "execution_count": 74,
          "metadata": {},
          "output_type": "execute_result"
        }
      ],
      "source": [
        "df_customer = df_customer.drop('GENDER', axis=1)\n",
        "df_customer.isna().mean()*100"
      ]
    },
    {
      "cell_type": "code",
      "execution_count": null,
      "metadata": {
        "colab": {
          "base_uri": "https://localhost:8080/"
        },
        "id": "4PBJHVx79XUS",
        "outputId": "e68095f7-23d8-469a-93c1-9a36bad8d0fd"
      },
      "outputs": [
        {
          "data": {
            "text/plain": [
              "52.0"
            ]
          },
          "execution_count": 75,
          "metadata": {},
          "output_type": "execute_result"
        }
      ],
      "source": [
        "cust_age_median = df_customer['AGE'].median()\n",
        "cust_age_median"
      ]
    },
    {
      "cell_type": "code",
      "execution_count": null,
      "metadata": {
        "colab": {
          "base_uri": "https://localhost:8080/"
        },
        "id": "FB83pl8W4htL",
        "outputId": "43d5d230-2a1d-41b0-ae5a-482ff2e293b5"
      },
      "outputs": [
        {
          "data": {
            "text/plain": [
              "BASE_CUSTOMER_ID    0.000000\n",
              "CUSTOMER_ID         0.000000\n",
              "MARITAL_STATUS      9.419839\n",
              "AGE                 0.000000\n",
              "dtype: float64"
            ]
          },
          "execution_count": 76,
          "metadata": {},
          "output_type": "execute_result"
        }
      ],
      "source": [
        "df_customer['AGE'] = df_customer['AGE'].fillna( cust_age_median )\n",
        "df_customer.isna().mean()*100"
      ]
    },
    {
      "cell_type": "code",
      "execution_count": null,
      "metadata": {
        "colab": {
          "base_uri": "https://localhost:8080/"
        },
        "id": "oNjJuuaE9r9Z",
        "outputId": "845a4d2d-53cb-4bcf-9c3d-9e858665212b"
      },
      "outputs": [
        {
          "data": {
            "text/plain": [
              "BASE_CUSTOMER_ID      int64\n",
              "CUSTOMER_ID           int64\n",
              "MARITAL_STATUS       object\n",
              "AGE                 float64\n",
              "dtype: object"
            ]
          },
          "execution_count": 77,
          "metadata": {},
          "output_type": "execute_result"
        }
      ],
      "source": [
        "df_customer.dtypes"
      ]
    },
    {
      "cell_type": "code",
      "execution_count": null,
      "metadata": {
        "id": "D3z32Af7xY_8"
      },
      "outputs": [],
      "source": [
        "df_customer['AGE'] = df_customer.AGE.astype('uint16')"
      ]
    },
    {
      "cell_type": "code",
      "execution_count": null,
      "metadata": {
        "colab": {
          "base_uri": "https://localhost:8080/"
        },
        "id": "Qdx9KhWdxY8o",
        "outputId": "a2c18a02-9411-4600-d8a6-f9545b19c769"
      },
      "outputs": [
        {
          "data": {
            "text/plain": [
              "BASE_CUSTOMER_ID     int64\n",
              "CUSTOMER_ID          int64\n",
              "MARITAL_STATUS      object\n",
              "AGE                 uint16\n",
              "dtype: object"
            ]
          },
          "execution_count": 79,
          "metadata": {},
          "output_type": "execute_result"
        }
      ],
      "source": [
        "df_customer.dtypes"
      ]
    },
    {
      "cell_type": "code",
      "execution_count": null,
      "metadata": {
        "colab": {
          "base_uri": "https://localhost:8080/",
          "height": 80
        },
        "id": "7LRhAUlU94Jq",
        "outputId": "faa68967-4930-435a-9438-f94ee687ffc0"
      },
      "outputs": [
        {
          "data": {
            "text/html": [
              "<div>\n",
              "<style scoped>\n",
              "    .dataframe tbody tr th:only-of-type {\n",
              "        vertical-align: middle;\n",
              "    }\n",
              "\n",
              "    .dataframe tbody tr th {\n",
              "        vertical-align: top;\n",
              "    }\n",
              "\n",
              "    .dataframe thead th {\n",
              "        text-align: right;\n",
              "    }\n",
              "</style>\n",
              "<table border=\"1\" class=\"dataframe\">\n",
              "  <thead>\n",
              "    <tr style=\"text-align: right;\">\n",
              "      <th></th>\n",
              "      <th>BASE_CUSTOMER_ID</th>\n",
              "      <th>CUSTOMER_ID</th>\n",
              "      <th>MARITAL_STATUS</th>\n",
              "      <th>AGE</th>\n",
              "    </tr>\n",
              "  </thead>\n",
              "  <tbody>\n",
              "    <tr>\n",
              "      <th>0</th>\n",
              "      <td>158891</td>\n",
              "      <td>1747700</td>\n",
              "      <td>Evli</td>\n",
              "      <td>46</td>\n",
              "    </tr>\n",
              "  </tbody>\n",
              "</table>\n",
              "</div>"
            ],
            "text/plain": [
              "   BASE_CUSTOMER_ID  CUSTOMER_ID MARITAL_STATUS  AGE\n",
              "0            158891      1747700           Evli   46"
            ]
          },
          "execution_count": 80,
          "metadata": {},
          "output_type": "execute_result"
        }
      ],
      "source": [
        "df_customer.head(1)"
      ]
    },
    {
      "cell_type": "code",
      "execution_count": null,
      "metadata": {
        "colab": {
          "base_uri": "https://localhost:8080/"
        },
        "id": "tU3ep9NS9_qb",
        "outputId": "19deaa4c-10b1-46a4-83fd-97be34b068ae"
      },
      "outputs": [
        {
          "data": {
            "text/plain": [
              "BASE_CUSTOMER_ID    0.000000\n",
              "CUSTOMER_ID         0.000000\n",
              "MARITAL_STATUS      9.419839\n",
              "AGE                 0.000000\n",
              "dtype: float64"
            ]
          },
          "execution_count": 81,
          "metadata": {},
          "output_type": "execute_result"
        }
      ],
      "source": [
        "df_customer.isna().mean()*100"
      ]
    },
    {
      "cell_type": "markdown",
      "metadata": {
        "id": "_Es2MTSViMll"
      },
      "source": [
        "While the median age of the 'Evli' people is 53, of the 'Bekar' ones is 42."
      ]
    },
    {
      "cell_type": "code",
      "execution_count": null,
      "metadata": {
        "colab": {
          "base_uri": "https://localhost:8080/"
        },
        "id": "uoBbcSzuhvyc",
        "outputId": "7324b5e8-5a54-47d8-8f9c-e5eb57b4803f"
      },
      "outputs": [
        {
          "data": {
            "text/plain": [
              "(53.0, 42.0)"
            ]
          },
          "execution_count": 82,
          "metadata": {},
          "output_type": "execute_result"
        }
      ],
      "source": [
        "evli_yas = df_customer[ df_customer['MARITAL_STATUS']=='Evli']['AGE'].median()\n",
        "bekar_yas = df_customer[ df_customer['MARITAL_STATUS']=='Bekar']['AGE'].median()\n",
        "evli_yas, bekar_yas"
      ]
    },
    {
      "cell_type": "code",
      "execution_count": null,
      "metadata": {
        "id": "O93bBF9UpuiU"
      },
      "outputs": [],
      "source": [
        "df_temp = df_customer.copy()"
      ]
    },
    {
      "cell_type": "code",
      "execution_count": null,
      "metadata": {
        "id": "wwFLuORIFUiT"
      },
      "outputs": [],
      "source": [
        "evli = df_customer['AGE']>42\n",
        "bekar = df_customer['AGE']<=42\n",
        "\n",
        "df_customer.loc[evli, 'MARITAL_STATUS'] = df_customer.loc[evli, 'MARITAL_STATUS'].fillna('Evli')\n",
        "df_customer.loc[bekar, 'MARITAL_STATUS'] = df_customer.loc[bekar, 'MARITAL_STATUS'].fillna('Bekar')"
      ]
    },
    {
      "cell_type": "code",
      "execution_count": null,
      "metadata": {
        "colab": {
          "base_uri": "https://localhost:8080/"
        },
        "id": "690RE78gkFgx",
        "outputId": "b7a63785-2424-4c6c-89b2-e0067eb65f7b"
      },
      "outputs": [
        {
          "data": {
            "text/plain": [
              "BASE_CUSTOMER_ID    0.0\n",
              "CUSTOMER_ID         0.0\n",
              "MARITAL_STATUS      0.0\n",
              "AGE                 0.0\n",
              "dtype: float64"
            ]
          },
          "execution_count": 92,
          "metadata": {},
          "output_type": "execute_result"
        }
      ],
      "source": [
        "df_customer.isna().mean()*100"
      ]
    },
    {
      "cell_type": "code",
      "execution_count": null,
      "metadata": {
        "colab": {
          "base_uri": "https://localhost:8080/",
          "height": 80
        },
        "id": "zRRgnmzrFvcQ",
        "outputId": "be633321-6834-4ea1-b1f9-478798b21201"
      },
      "outputs": [
        {
          "data": {
            "text/html": [
              "<div>\n",
              "<style scoped>\n",
              "    .dataframe tbody tr th:only-of-type {\n",
              "        vertical-align: middle;\n",
              "    }\n",
              "\n",
              "    .dataframe tbody tr th {\n",
              "        vertical-align: top;\n",
              "    }\n",
              "\n",
              "    .dataframe thead th {\n",
              "        text-align: right;\n",
              "    }\n",
              "</style>\n",
              "<table border=\"1\" class=\"dataframe\">\n",
              "  <thead>\n",
              "    <tr style=\"text-align: right;\">\n",
              "      <th></th>\n",
              "      <th>BASE_CUSTOMER_ID</th>\n",
              "      <th>CUSTOMER_ID</th>\n",
              "      <th>MARITAL_STATUS</th>\n",
              "      <th>AGE</th>\n",
              "    </tr>\n",
              "  </thead>\n",
              "  <tbody>\n",
              "    <tr>\n",
              "      <th>0</th>\n",
              "      <td>158891</td>\n",
              "      <td>1747700</td>\n",
              "      <td>Evli</td>\n",
              "      <td>46</td>\n",
              "    </tr>\n",
              "  </tbody>\n",
              "</table>\n",
              "</div>"
            ],
            "text/plain": [
              "   BASE_CUSTOMER_ID  CUSTOMER_ID MARITAL_STATUS  AGE\n",
              "0            158891      1747700           Evli   46"
            ]
          },
          "execution_count": 93,
          "metadata": {},
          "output_type": "execute_result"
        }
      ],
      "source": [
        "df_customer.head(1)"
      ]
    },
    {
      "cell_type": "code",
      "execution_count": null,
      "metadata": {
        "colab": {
          "base_uri": "https://localhost:8080/"
        },
        "id": "qZ_tzC-OFvZO",
        "outputId": "3212f7e1-ce8d-4a50-8fc9-3f945d39f2ab"
      },
      "outputs": [
        {
          "data": {
            "text/plain": [
              "(849919, 849919)"
            ]
          },
          "execution_count": 94,
          "metadata": {},
          "output_type": "execute_result"
        }
      ],
      "source": [
        "F_CUST_DATA.shape[0], df_customer.shape[0]"
      ]
    },
    {
      "cell_type": "markdown",
      "metadata": {
        "id": "grPkijNXF7Pb"
      },
      "source": [
        "**NONE** of the data are omitted from CUSTOMER table"
      ]
    },
    {
      "cell_type": "markdown",
      "metadata": {
        "id": "6D0RajpiGP7P"
      },
      "source": [
        "### Fill Sales Data"
      ]
    },
    {
      "cell_type": "code",
      "execution_count": null,
      "metadata": {
        "colab": {
          "base_uri": "https://localhost:8080/"
        },
        "id": "SUGd7f-hox-o",
        "outputId": "9d69df7c-5412-4ae8-af39-4f3a3e433f28"
      },
      "outputs": [
        {
          "data": {
            "text/plain": [
              "Unnamed: 0.1         0.0\n",
              "CUSTOMER_ID          0.0\n",
              "SALESFILE_ID         0.0\n",
              "SF_CREATE_DATE       0.0\n",
              "STATUS               0.0\n",
              "REQ_BRAND_CODE       0.0\n",
              "REQ_TOPMODEL_CODE    0.0\n",
              "CREATE_YEAR          0.0\n",
              "CREATE_MONTH         0.0\n",
              "dtype: float64"
            ]
          },
          "execution_count": 77,
          "metadata": {},
          "output_type": "execute_result"
        }
      ],
      "source": [
        "df_sales.dropna(subset=['REQ_TOPMODEL_CODE'], inplace=True)\n",
        "df_sales.isna().mean()*100"
      ]
    },
    {
      "cell_type": "markdown",
      "metadata": {
        "id": "X8H6DXVqJAfG"
      },
      "source": [
        "## One Hot Encoding"
      ]
    },
    {
      "cell_type": "markdown",
      "metadata": {
        "id": "HDa9hSJqL32t"
      },
      "source": [
        "### One Hot CUSTOMER"
      ]
    },
    {
      "cell_type": "code",
      "execution_count": null,
      "metadata": {
        "id": "5O5uq_6aJDGN"
      },
      "outputs": [],
      "source": [
        "# # importing OneHotEncoder\n",
        "# from sklearn.preprocessing import OneHotEncoder()"
      ]
    },
    {
      "cell_type": "code",
      "execution_count": null,
      "metadata": {
        "colab": {
          "base_uri": "https://localhost:8080/",
          "height": 80
        },
        "id": "-bHdd-hhJDDO",
        "outputId": "34a4baa4-b31c-4214-cd1e-7c96892aed13"
      },
      "outputs": [
        {
          "data": {
            "text/html": [
              "<div>\n",
              "<style scoped>\n",
              "    .dataframe tbody tr th:only-of-type {\n",
              "        vertical-align: middle;\n",
              "    }\n",
              "\n",
              "    .dataframe tbody tr th {\n",
              "        vertical-align: top;\n",
              "    }\n",
              "\n",
              "    .dataframe thead th {\n",
              "        text-align: right;\n",
              "    }\n",
              "</style>\n",
              "<table border=\"1\" class=\"dataframe\">\n",
              "  <thead>\n",
              "    <tr style=\"text-align: right;\">\n",
              "      <th></th>\n",
              "      <th>BASE_CUSTOMER_ID</th>\n",
              "      <th>CUSTOMER_ID</th>\n",
              "      <th>MARITAL_STATUS</th>\n",
              "      <th>AGE</th>\n",
              "    </tr>\n",
              "  </thead>\n",
              "  <tbody>\n",
              "    <tr>\n",
              "      <th>0</th>\n",
              "      <td>158891</td>\n",
              "      <td>1747700</td>\n",
              "      <td>Evli</td>\n",
              "      <td>46</td>\n",
              "    </tr>\n",
              "  </tbody>\n",
              "</table>\n",
              "</div>"
            ],
            "text/plain": [
              "   BASE_CUSTOMER_ID  CUSTOMER_ID MARITAL_STATUS  AGE\n",
              "0            158891      1747700           Evli   46"
            ]
          },
          "execution_count": 95,
          "metadata": {},
          "output_type": "execute_result"
        }
      ],
      "source": [
        "df_customer.head(1)"
      ]
    },
    {
      "cell_type": "code",
      "execution_count": null,
      "metadata": {
        "colab": {
          "base_uri": "https://localhost:8080/",
          "height": 203
        },
        "id": "zdgEjHZNLZ7Z",
        "outputId": "d525e9a7-1658-46b9-d617-96f9e4d755cb"
      },
      "outputs": [
        {
          "data": {
            "text/html": [
              "<div>\n",
              "<style scoped>\n",
              "    .dataframe tbody tr th:only-of-type {\n",
              "        vertical-align: middle;\n",
              "    }\n",
              "\n",
              "    .dataframe tbody tr th {\n",
              "        vertical-align: top;\n",
              "    }\n",
              "\n",
              "    .dataframe thead th {\n",
              "        text-align: right;\n",
              "    }\n",
              "</style>\n",
              "<table border=\"1\" class=\"dataframe\">\n",
              "  <thead>\n",
              "    <tr style=\"text-align: right;\">\n",
              "      <th></th>\n",
              "      <th>BASE_CUSTOMER_ID</th>\n",
              "      <th>CUSTOMER_ID</th>\n",
              "      <th>AGE</th>\n",
              "      <th>MARITAL_STATUS_Bekar</th>\n",
              "      <th>MARITAL_STATUS_Evli</th>\n",
              "    </tr>\n",
              "  </thead>\n",
              "  <tbody>\n",
              "    <tr>\n",
              "      <th>0</th>\n",
              "      <td>158891</td>\n",
              "      <td>1747700</td>\n",
              "      <td>46</td>\n",
              "      <td>0</td>\n",
              "      <td>1</td>\n",
              "    </tr>\n",
              "    <tr>\n",
              "      <th>1</th>\n",
              "      <td>169233</td>\n",
              "      <td>1710561</td>\n",
              "      <td>59</td>\n",
              "      <td>0</td>\n",
              "      <td>1</td>\n",
              "    </tr>\n",
              "    <tr>\n",
              "      <th>2</th>\n",
              "      <td>30887</td>\n",
              "      <td>1043923</td>\n",
              "      <td>50</td>\n",
              "      <td>0</td>\n",
              "      <td>1</td>\n",
              "    </tr>\n",
              "    <tr>\n",
              "      <th>3</th>\n",
              "      <td>38013</td>\n",
              "      <td>1101926</td>\n",
              "      <td>52</td>\n",
              "      <td>0</td>\n",
              "      <td>1</td>\n",
              "    </tr>\n",
              "    <tr>\n",
              "      <th>4</th>\n",
              "      <td>157091</td>\n",
              "      <td>1819787</td>\n",
              "      <td>72</td>\n",
              "      <td>0</td>\n",
              "      <td>1</td>\n",
              "    </tr>\n",
              "  </tbody>\n",
              "</table>\n",
              "</div>"
            ],
            "text/plain": [
              "   BASE_CUSTOMER_ID  CUSTOMER_ID  ...  MARITAL_STATUS_Bekar  MARITAL_STATUS_Evli\n",
              "0            158891      1747700  ...                     0                    1\n",
              "1            169233      1710561  ...                     0                    1\n",
              "2             30887      1043923  ...                     0                    1\n",
              "3             38013      1101926  ...                     0                    1\n",
              "4            157091      1819787  ...                     0                    1\n",
              "\n",
              "[5 rows x 5 columns]"
            ]
          },
          "execution_count": 97,
          "metadata": {},
          "output_type": "execute_result"
        }
      ],
      "source": [
        "df_customer_dum = pd.get_dummies(df_customer, columns=['MARITAL_STATUS'])\n",
        "df_customer_dum.head(5)"
      ]
    },
    {
      "cell_type": "markdown",
      "metadata": {
        "id": "bWyRSfMYL7XF"
      },
      "source": [
        "### One Hot CUSTOMER_RELATED"
      ]
    },
    {
      "cell_type": "markdown",
      "metadata": {
        "id": "hivQnH_LqPY5"
      },
      "source": [
        "## Save the Final DataFrames"
      ]
    },
    {
      "cell_type": "code",
      "execution_count": null,
      "metadata": {
        "id": "Q2QZ4vgiqTlJ"
      },
      "outputs": [],
      "source": [
        "df_cust_rel.to_csv('drive/MyDrive/df_final_cust_rel.csv')\n",
        "df_sales.to_csv('drive/MyDrive/df_final_sales.csv')\n",
        "df_vehicle.to_csv('drive/MyDrive/df_final_vehicle.csv')"
      ]
    },
    {
      "cell_type": "code",
      "execution_count": null,
      "metadata": {
        "id": "0ln3Aqx_sy0Z"
      },
      "outputs": [],
      "source": [
        "df_customer_dum.to_csv('drive/MyDrive/df_final_customer.csv')"
      ]
    },
    {
      "cell_type": "markdown",
      "metadata": {
        "id": "1mxBBSMXMuGV"
      },
      "source": [
        "# MERGING PREPROCESSED DATA TO FEED THE MODEL"
      ]
    },
    {
      "cell_type": "code",
      "execution_count": null,
      "metadata": {
        "id": "VyRmIOhDfUQa"
      },
      "outputs": [],
      "source": [
        "df_cust_rel = pd.read_csv('drive/MyDrive/df_final_cust_rel.csv')\n",
        "df_customer = pd.read_csv('drive/MyDrive/df_final_customer.csv')\n",
        "df_sales = pd.read_csv('drive/MyDrive/df_final_sales.csv')\n",
        "df_vehicle = pd.read_csv('drive/MyDrive/df_final_vehicle.csv')"
      ]
    },
    {
      "cell_type": "code",
      "execution_count": null,
      "metadata": {
        "id": "3_3NBmUdMveu"
      },
      "outputs": [],
      "source": [
        "# df_cust_and_cust_rel = df_customer_dum.merge(df_cust_rel, on='BASE_CUSTOMER_ID')\n",
        "# df_cust_and_cust_rel.head(15)"
      ]
    },
    {
      "cell_type": "code",
      "execution_count": null,
      "metadata": {
        "id": "mcXt4v6rvT70"
      },
      "outputs": [],
      "source": [
        "df_sales['SF_CREATE_DATE'] = pd.to_datetime( df_sales['SF_CREATE_DATE'] )"
      ]
    },
    {
      "cell_type": "code",
      "execution_count": null,
      "metadata": {
        "colab": {
          "base_uri": "https://localhost:8080/",
          "height": 127
        },
        "id": "_UnDjAjMMvbz",
        "outputId": "4b7bb97a-98f4-42da-f05d-b81b38996af4"
      },
      "outputs": [
        {
          "data": {
            "text/html": [
              "<div>\n",
              "<style scoped>\n",
              "    .dataframe tbody tr th:only-of-type {\n",
              "        vertical-align: middle;\n",
              "    }\n",
              "\n",
              "    .dataframe tbody tr th {\n",
              "        vertical-align: top;\n",
              "    }\n",
              "\n",
              "    .dataframe thead th {\n",
              "        text-align: right;\n",
              "    }\n",
              "</style>\n",
              "<table border=\"1\" class=\"dataframe\">\n",
              "  <thead>\n",
              "    <tr style=\"text-align: right;\">\n",
              "      <th></th>\n",
              "      <th>Unnamed: 0</th>\n",
              "      <th>CUSTOMER_ID</th>\n",
              "      <th>SALESFILE_ID</th>\n",
              "      <th>SF_CREATE_DATE</th>\n",
              "      <th>STATUS</th>\n",
              "      <th>REQ_BRAND_CODE</th>\n",
              "      <th>REQ_TOPMODEL_CODE</th>\n",
              "      <th>CREATE_YEAR</th>\n",
              "      <th>CREATE_MONTH</th>\n",
              "    </tr>\n",
              "  </thead>\n",
              "  <tbody>\n",
              "    <tr>\n",
              "      <th>min</th>\n",
              "      <td>28</td>\n",
              "      <td>1006448</td>\n",
              "      <td>100011.0</td>\n",
              "      <td>2010-01-21</td>\n",
              "      <td>100</td>\n",
              "      <td>K</td>\n",
              "      <td>9083.0</td>\n",
              "      <td>2010</td>\n",
              "      <td>1</td>\n",
              "    </tr>\n",
              "    <tr>\n",
              "      <th>max</th>\n",
              "      <td>397518</td>\n",
              "      <td>1841775</td>\n",
              "      <td>10062939.0</td>\n",
              "      <td>2021-02-28</td>\n",
              "      <td>109</td>\n",
              "      <td>Z</td>\n",
              "      <td>9974.0</td>\n",
              "      <td>2021</td>\n",
              "      <td>2</td>\n",
              "    </tr>\n",
              "  </tbody>\n",
              "</table>\n",
              "</div>"
            ],
            "text/plain": [
              "     Unnamed: 0  CUSTOMER_ID  ...  CREATE_YEAR CREATE_MONTH\n",
              "min          28      1006448  ...         2010            1\n",
              "max      397518      1841775  ...         2021            2\n",
              "\n",
              "[2 rows x 9 columns]"
            ]
          },
          "execution_count": 47,
          "metadata": {},
          "output_type": "execute_result"
        }
      ],
      "source": [
        "max_year=2021\n",
        "max_month=2\n",
        "\n",
        "df_sales_maxed = df_sales[ (df_sales['CREATE_YEAR']<= max_year) &\n",
        "                            (df_sales['CREATE_MONTH']<= max_month) ]\n",
        "\n",
        "df_sales_maxed.agg([min,max])"
      ]
    },
    {
      "cell_type": "code",
      "execution_count": null,
      "metadata": {
        "colab": {
          "base_uri": "https://localhost:8080/",
          "height": 145
        },
        "id": "jn0GDfx2tpcU",
        "outputId": "bae0a462-e32d-4a98-87b0-4fb6b51b4f47"
      },
      "outputs": [
        {
          "name": "stdout",
          "output_type": "stream",
          "text": [
            "max_date= 2021-02-01 00:00:00\n"
          ]
        },
        {
          "data": {
            "text/html": [
              "<div>\n",
              "<style scoped>\n",
              "    .dataframe tbody tr th:only-of-type {\n",
              "        vertical-align: middle;\n",
              "    }\n",
              "\n",
              "    .dataframe tbody tr th {\n",
              "        vertical-align: top;\n",
              "    }\n",
              "\n",
              "    .dataframe thead th {\n",
              "        text-align: right;\n",
              "    }\n",
              "</style>\n",
              "<table border=\"1\" class=\"dataframe\">\n",
              "  <thead>\n",
              "    <tr style=\"text-align: right;\">\n",
              "      <th></th>\n",
              "      <th>Unnamed: 0</th>\n",
              "      <th>CUSTOMER_ID</th>\n",
              "      <th>SALESFILE_ID</th>\n",
              "      <th>SF_CREATE_DATE</th>\n",
              "      <th>STATUS</th>\n",
              "      <th>REQ_BRAND_CODE</th>\n",
              "      <th>REQ_TOPMODEL_CODE</th>\n",
              "      <th>CREATE_YEAR</th>\n",
              "      <th>CREATE_MONTH</th>\n",
              "    </tr>\n",
              "  </thead>\n",
              "  <tbody>\n",
              "    <tr>\n",
              "      <th>min</th>\n",
              "      <td>34</td>\n",
              "      <td>1026827</td>\n",
              "      <td>9961634.0</td>\n",
              "      <td>2021-02-02</td>\n",
              "      <td>100</td>\n",
              "      <td>K</td>\n",
              "      <td>9231.0</td>\n",
              "      <td>2021</td>\n",
              "      <td>2</td>\n",
              "    </tr>\n",
              "    <tr>\n",
              "      <th>max</th>\n",
              "      <td>397385</td>\n",
              "      <td>1843758</td>\n",
              "      <td>10320545.0</td>\n",
              "      <td>2021-04-30</td>\n",
              "      <td>109</td>\n",
              "      <td>Z</td>\n",
              "      <td>9970.0</td>\n",
              "      <td>2021</td>\n",
              "      <td>4</td>\n",
              "    </tr>\n",
              "  </tbody>\n",
              "</table>\n",
              "</div>"
            ],
            "text/plain": [
              "     Unnamed: 0  CUSTOMER_ID  ...  CREATE_YEAR CREATE_MONTH\n",
              "min          34      1026827  ...         2021            2\n",
              "max      397385      1843758  ...         2021            4\n",
              "\n",
              "[2 rows x 9 columns]"
            ]
          },
          "execution_count": 48,
          "metadata": {},
          "output_type": "execute_result"
        }
      ],
      "source": [
        "max_date_dict = {'year': [max_year], 'month': [max_month], 'day':[1]}\n",
        "df_max_date = pd.DataFrame(max_date_dict)\n",
        "max_date = pd.to_datetime(df_max_date)\n",
        "\n",
        "print('max_date=',max_date[0])\n",
        "\n",
        "df_sales_y = df_sales[ ( df_sales['SF_CREATE_DATE']> max_date[0] ) &\n",
        "                            (df_sales['SF_CREATE_DATE']< max_date[0] + pd.DateOffset(months=3))]\n",
        "\n",
        "df_sales_y.agg([min,max])"
      ]
    },
    {
      "cell_type": "markdown",
      "metadata": {
        "id": "ufyxaUMhwdvl"
      },
      "source": [
        "## Adding Sales File Info to DF_FINAL"
      ]
    },
    {
      "cell_type": "code",
      "execution_count": null,
      "metadata": {
        "id": "OPu8gvSbMvZh"
      },
      "outputs": [],
      "source": [
        "import time\n",
        "start_time = time.time()\n",
        "\n",
        "df_final = df_customer.copy() # We will go based on df_customer\n",
        "\n",
        "# Create new columns by setting their value to 0\n",
        "df_final['TOTAL_SALES_FILE_3M'] = 0 # Sale Values of Last 3 Months \n",
        "df_final['SINCE_LAST_SALES_FILE_3M'] = 0 # The last sale record since 3 months\n",
        "\n",
        "df_final['TOTAL_SALES_FILE_1Y'] = 0 # Last 1 Year\n",
        "df_final['SINCE_LAST_SALES_FILE_1Y'] = 0\n",
        "\n",
        "df_final['TOTAL_SALES_FILE_ALL'] = 0 # All Times\n",
        "df_final['SINCE_LAST_SALES_FILE_ALL'] = 0\n",
        "\n",
        "for index, row in df_customer.iterrows():\n",
        "  df_sls_cust = df_sales_maxed[ df_sales_maxed['CUSTOMER_ID']\n",
        "                                        ==row.loc['CUSTOMER_ID'] ]\n",
        "\n",
        "  c_date = df_sls_cust['SF_CREATE_DATE'] # Create Date\n",
        "  df_sls_cust_3m = df_sls_cust[ c_date > max_date[0] - pd.DateOffset(months=3) ]\n",
        "  df_sls_cust_1y = df_sls_cust[ c_date > max_date[0] - pd.DateOffset(years=1) ]\n",
        "\n",
        "  sale_count_3m = df_sls_cust_3m.shape[0]\n",
        "  sale_count_1y = df_sls_cust_1y.shape[0]\n",
        "  sale_count_all = df_sls_cust.shape[0] # All Sale Values Until Max Date\n",
        "\n",
        "  if sale_count_3m > 0:\n",
        "    # Take the sale that has the biggest datetime value (last)\n",
        "    last_sale_3m = df_sls_cust_3m.sort_values(by='SF_CREATE_DATE', \n",
        "                                        ascending=False).iloc[0]['SF_CREATE_DATE']\n",
        "\n",
        "    df_final.at[index, 'TOTAL_SALES_FILE_3M'] = sale_count_3m\n",
        "\n",
        "    date_difference_3m = (max_date - last_sale_3m)[0].days/30\n",
        "    date_difference_3m = int(date_difference_3m)\n",
        "\n",
        "    df_final.at[index, 'SINCE_LAST_SALES_FILE_3M'] = date_difference_3m\n",
        "\n",
        "  if sale_count_1y > 0:\n",
        "    last_sale_1y = df_sls_cust_1y.sort_values(by='SF_CREATE_DATE', \n",
        "                                  ascending=False).iloc[0]['SF_CREATE_DATE']\n",
        "    df_final.at[index, 'TOTAL_SALES_FILE_1Y'] = sale_count_1y\n",
        "\n",
        "    date_difference_1y = (max_date - last_sale_1y)[0].days/30\n",
        "    date_difference_1y = int(date_difference_1y)\n",
        "\n",
        "    df_final.at[index, 'SINCE_LAST_SALES_FILE_1Y'] = date_difference_1y\n",
        "\n",
        "  if sale_count_all > 0:\n",
        "    last_sale_all = df_sls_cust.sort_values(by='SF_CREATE_DATE', \n",
        "                                  ascending=False).iloc[0]['SF_CREATE_DATE']\n",
        "    df_final.at[index, 'TOTAL_SALES_FILE_ALL'] = sale_count_all\n",
        "    \n",
        "    date_difference_all = (max_date - last_sale_all)[0].days/30\n",
        "    date_difference_all = int(date_difference_all)\n",
        "\n",
        "    df_final.at[index, 'SINCE_LAST_SALES_FILE_ALL'] = date_difference_all\n",
        "  \n",
        "  ## y values\n",
        "  df_sales_temp = df_sales_y[ df_sales_y['CUSTOMER_ID']\n",
        "                                        ==row.loc['CUSTOMER_ID'] ]\n",
        "  sales_count_y = df_sales_temp.shape[0]\n",
        "\n",
        "  if sales_count_y > 0:\n",
        "    df_final.at[index, 'HAS_SALES_IN_INTERVAL'] = 1\n",
        "  \n",
        "\n",
        "\n",
        "try:\n",
        "  print(\"--- The code executed in %s minutes ---\" % (time.time() - start_time)/60)\n",
        "except:\n",
        "  pass\n",
        "\n",
        "    # display(row)\n",
        "    # display(df_sls_cust_3m)\n",
        "    # display(df_final.iloc[index])\n",
        "    # count += 1\n",
        "    # break\n",
        "\n",
        "# print('count=',count)"
      ]
    },
    {
      "cell_type": "code",
      "execution_count": null,
      "metadata": {
        "colab": {
          "base_uri": "https://localhost:8080/"
        },
        "id": "2AxK2lxCw75T",
        "outputId": "3f32ad80-89b8-4f64-c4f1-538f4ca23667"
      },
      "outputs": [
        {
          "data": {
            "text/plain": [
              "Unnamed: 0                        0\n",
              "BASE_CUSTOMER_ID                  0\n",
              "CUSTOMER_ID                       0\n",
              "AGE                               0\n",
              "MARITAL_STATUS_Bekar              0\n",
              "MARITAL_STATUS_Evli               0\n",
              "TOTAL_SALES_FILE_3M               0\n",
              "SINCE_LAST_SALES_FILE_3M          0\n",
              "TOTAL_SALES_FILE_1Y               0\n",
              "SINCE_LAST_SALES_FILE_1Y          0\n",
              "TOTAL_SALES_FILE_ALL              0\n",
              "SINCE_LAST_SALES_FILE_ALL         0\n",
              "HAS_SALES_IN_INTERVAL        842300\n",
              "dtype: int64"
            ]
          },
          "execution_count": 50,
          "metadata": {},
          "output_type": "execute_result"
        }
      ],
      "source": [
        "df_final.isna().sum()"
      ]
    },
    {
      "cell_type": "code",
      "execution_count": null,
      "metadata": {
        "id": "ZSPv5sUaw7Du"
      },
      "outputs": [],
      "source": [
        "# df_final.to_csv('drive/MyDrive/DF_FINAL.csv')"
      ]
    },
    {
      "cell_type": "markdown",
      "metadata": {
        "id": "hzAL_ET_YhCi"
      },
      "source": [
        "## Creating y Labels"
      ]
    },
    {
      "cell_type": "code",
      "execution_count": null,
      "metadata": {
        "id": "fXGo7Mm2fxm5"
      },
      "outputs": [],
      "source": [
        "df_final = pd.read_csv('drive/MyDrive/DF_FINAL.csv')"
      ]
    },
    {
      "cell_type": "code",
      "execution_count": null,
      "metadata": {
        "colab": {
          "base_uri": "https://localhost:8080/"
        },
        "id": "VA9PjWAclcBt",
        "outputId": "6ac9d5b0-a190-4e36-e0b7-9b9cf84844cb"
      },
      "outputs": [
        {
          "data": {
            "text/plain": [
              "849919"
            ]
          },
          "execution_count": 10,
          "metadata": {},
          "output_type": "execute_result"
        }
      ],
      "source": [
        "df_final.shape[0]"
      ]
    },
    {
      "cell_type": "code",
      "execution_count": null,
      "metadata": {
        "colab": {
          "base_uri": "https://localhost:8080/"
        },
        "id": "SziwlePHvmh7",
        "outputId": "010d64f2-9071-422c-e10e-288e340b0f9f"
      },
      "outputs": [
        {
          "data": {
            "text/plain": [
              "Unnamed: 0                        0\n",
              "Unnamed: 0.1                      0\n",
              "BASE_CUSTOMER_ID                  0\n",
              "CUSTOMER_ID                       0\n",
              "AGE                               0\n",
              "MARITAL_STATUS_Bekar              0\n",
              "MARITAL_STATUS_Evli               0\n",
              "TOTAL_SALES_FILE_3M               0\n",
              "SINCE_LAST_SALES_FILE_3M          0\n",
              "TOTAL_SALES_FILE_1Y               0\n",
              "SINCE_LAST_SALES_FILE_1Y          0\n",
              "TOTAL_SALES_FILE_ALL              0\n",
              "SINCE_LAST_SALES_FILE_ALL         0\n",
              "HAS_SALES_IN_INTERVAL        842300\n",
              "dtype: int64"
            ]
          },
          "execution_count": 11,
          "metadata": {},
          "output_type": "execute_result"
        }
      ],
      "source": [
        "df_final.isna().sum()"
      ]
    },
    {
      "cell_type": "code",
      "execution_count": null,
      "metadata": {
        "colab": {
          "base_uri": "https://localhost:8080/",
          "height": 117
        },
        "id": "8FagC_YZl5nx",
        "outputId": "270b2bbb-9192-4990-ddff-9407a3093956"
      },
      "outputs": [
        {
          "data": {
            "text/html": [
              "<div>\n",
              "<style scoped>\n",
              "    .dataframe tbody tr th:only-of-type {\n",
              "        vertical-align: middle;\n",
              "    }\n",
              "\n",
              "    .dataframe tbody tr th {\n",
              "        vertical-align: top;\n",
              "    }\n",
              "\n",
              "    .dataframe thead th {\n",
              "        text-align: right;\n",
              "    }\n",
              "</style>\n",
              "<table border=\"1\" class=\"dataframe\">\n",
              "  <thead>\n",
              "    <tr style=\"text-align: right;\">\n",
              "      <th></th>\n",
              "      <th>Unnamed: 0</th>\n",
              "      <th>Unnamed: 0.1</th>\n",
              "      <th>BASE_CUSTOMER_ID</th>\n",
              "      <th>CUSTOMER_ID</th>\n",
              "      <th>AGE</th>\n",
              "      <th>MARITAL_STATUS_Bekar</th>\n",
              "      <th>MARITAL_STATUS_Evli</th>\n",
              "      <th>TOTAL_SALES_FILE_3M</th>\n",
              "      <th>SINCE_LAST_SALES_FILE_3M</th>\n",
              "      <th>TOTAL_SALES_FILE_1Y</th>\n",
              "      <th>SINCE_LAST_SALES_FILE_1Y</th>\n",
              "      <th>TOTAL_SALES_FILE_ALL</th>\n",
              "      <th>SINCE_LAST_SALES_FILE_ALL</th>\n",
              "      <th>HAS_SALES_IN_INTERVAL</th>\n",
              "    </tr>\n",
              "  </thead>\n",
              "  <tbody>\n",
              "    <tr>\n",
              "      <th>763990</th>\n",
              "      <td>763990</td>\n",
              "      <td>763990</td>\n",
              "      <td>170406</td>\n",
              "      <td>1519052</td>\n",
              "      <td>40</td>\n",
              "      <td>0</td>\n",
              "      <td>1</td>\n",
              "      <td>0</td>\n",
              "      <td>0</td>\n",
              "      <td>0</td>\n",
              "      <td>0</td>\n",
              "      <td>0</td>\n",
              "      <td>0</td>\n",
              "      <td>NaN</td>\n",
              "    </tr>\n",
              "  </tbody>\n",
              "</table>\n",
              "</div>"
            ],
            "text/plain": [
              "        Unnamed: 0  ...  HAS_SALES_IN_INTERVAL\n",
              "763990      763990  ...                    NaN\n",
              "\n",
              "[1 rows x 14 columns]"
            ]
          },
          "execution_count": 12,
          "metadata": {},
          "output_type": "execute_result"
        }
      ],
      "source": [
        "df_final.sample(1)"
      ]
    },
    {
      "cell_type": "code",
      "execution_count": null,
      "metadata": {
        "colab": {
          "base_uri": "https://localhost:8080/",
          "height": 302
        },
        "id": "3glfpfTGlrYS",
        "outputId": "1280f683-6c34-4e36-b902-ba99dda80f54"
      },
      "outputs": [
        {
          "data": {
            "text/html": [
              "<div>\n",
              "<style scoped>\n",
              "    .dataframe tbody tr th:only-of-type {\n",
              "        vertical-align: middle;\n",
              "    }\n",
              "\n",
              "    .dataframe tbody tr th {\n",
              "        vertical-align: top;\n",
              "    }\n",
              "\n",
              "    .dataframe thead th {\n",
              "        text-align: right;\n",
              "    }\n",
              "</style>\n",
              "<table border=\"1\" class=\"dataframe\">\n",
              "  <thead>\n",
              "    <tr style=\"text-align: right;\">\n",
              "      <th></th>\n",
              "      <th>Unnamed: 0</th>\n",
              "      <th>Unnamed: 0.1</th>\n",
              "      <th>BASE_CUSTOMER_ID</th>\n",
              "      <th>CUSTOMER_ID</th>\n",
              "      <th>AGE</th>\n",
              "      <th>MARITAL_STATUS_Bekar</th>\n",
              "      <th>MARITAL_STATUS_Evli</th>\n",
              "      <th>TOTAL_SALES_FILE_3M</th>\n",
              "      <th>SINCE_LAST_SALES_FILE_3M</th>\n",
              "      <th>TOTAL_SALES_FILE_1Y</th>\n",
              "      <th>SINCE_LAST_SALES_FILE_1Y</th>\n",
              "      <th>TOTAL_SALES_FILE_ALL</th>\n",
              "      <th>SINCE_LAST_SALES_FILE_ALL</th>\n",
              "      <th>HAS_SALES_IN_INTERVAL</th>\n",
              "    </tr>\n",
              "  </thead>\n",
              "  <tbody>\n",
              "    <tr>\n",
              "      <th>221951</th>\n",
              "      <td>221951</td>\n",
              "      <td>221951</td>\n",
              "      <td>36558</td>\n",
              "      <td>1645359</td>\n",
              "      <td>53</td>\n",
              "      <td>0</td>\n",
              "      <td>1</td>\n",
              "      <td>0</td>\n",
              "      <td>0</td>\n",
              "      <td>0</td>\n",
              "      <td>0</td>\n",
              "      <td>0</td>\n",
              "      <td>0</td>\n",
              "      <td>NaN</td>\n",
              "    </tr>\n",
              "    <tr>\n",
              "      <th>297212</th>\n",
              "      <td>297212</td>\n",
              "      <td>297212</td>\n",
              "      <td>36558</td>\n",
              "      <td>1514328</td>\n",
              "      <td>53</td>\n",
              "      <td>0</td>\n",
              "      <td>1</td>\n",
              "      <td>0</td>\n",
              "      <td>0</td>\n",
              "      <td>0</td>\n",
              "      <td>0</td>\n",
              "      <td>2</td>\n",
              "      <td>12</td>\n",
              "      <td>NaN</td>\n",
              "    </tr>\n",
              "    <tr>\n",
              "      <th>368037</th>\n",
              "      <td>368037</td>\n",
              "      <td>368037</td>\n",
              "      <td>36558</td>\n",
              "      <td>1412107</td>\n",
              "      <td>53</td>\n",
              "      <td>0</td>\n",
              "      <td>1</td>\n",
              "      <td>0</td>\n",
              "      <td>0</td>\n",
              "      <td>0</td>\n",
              "      <td>0</td>\n",
              "      <td>0</td>\n",
              "      <td>0</td>\n",
              "      <td>NaN</td>\n",
              "    </tr>\n",
              "    <tr>\n",
              "      <th>544500</th>\n",
              "      <td>544500</td>\n",
              "      <td>544500</td>\n",
              "      <td>36558</td>\n",
              "      <td>1813090</td>\n",
              "      <td>53</td>\n",
              "      <td>0</td>\n",
              "      <td>1</td>\n",
              "      <td>0</td>\n",
              "      <td>0</td>\n",
              "      <td>0</td>\n",
              "      <td>0</td>\n",
              "      <td>0</td>\n",
              "      <td>0</td>\n",
              "      <td>NaN</td>\n",
              "    </tr>\n",
              "    <tr>\n",
              "      <th>548784</th>\n",
              "      <td>548784</td>\n",
              "      <td>548784</td>\n",
              "      <td>36558</td>\n",
              "      <td>1210108</td>\n",
              "      <td>53</td>\n",
              "      <td>0</td>\n",
              "      <td>1</td>\n",
              "      <td>0</td>\n",
              "      <td>0</td>\n",
              "      <td>0</td>\n",
              "      <td>0</td>\n",
              "      <td>0</td>\n",
              "      <td>0</td>\n",
              "      <td>NaN</td>\n",
              "    </tr>\n",
              "    <tr>\n",
              "      <th>633844</th>\n",
              "      <td>633844</td>\n",
              "      <td>633844</td>\n",
              "      <td>36558</td>\n",
              "      <td>1156978</td>\n",
              "      <td>53</td>\n",
              "      <td>0</td>\n",
              "      <td>1</td>\n",
              "      <td>0</td>\n",
              "      <td>0</td>\n",
              "      <td>0</td>\n",
              "      <td>0</td>\n",
              "      <td>0</td>\n",
              "      <td>0</td>\n",
              "      <td>NaN</td>\n",
              "    </tr>\n",
              "    <tr>\n",
              "      <th>696121</th>\n",
              "      <td>696121</td>\n",
              "      <td>696121</td>\n",
              "      <td>36558</td>\n",
              "      <td>1599599</td>\n",
              "      <td>53</td>\n",
              "      <td>0</td>\n",
              "      <td>1</td>\n",
              "      <td>0</td>\n",
              "      <td>0</td>\n",
              "      <td>0</td>\n",
              "      <td>0</td>\n",
              "      <td>1</td>\n",
              "      <td>96</td>\n",
              "      <td>NaN</td>\n",
              "    </tr>\n",
              "  </tbody>\n",
              "</table>\n",
              "</div>"
            ],
            "text/plain": [
              "        Unnamed: 0  ...  HAS_SALES_IN_INTERVAL\n",
              "221951      221951  ...                    NaN\n",
              "297212      297212  ...                    NaN\n",
              "368037      368037  ...                    NaN\n",
              "544500      544500  ...                    NaN\n",
              "548784      548784  ...                    NaN\n",
              "633844      633844  ...                    NaN\n",
              "696121      696121  ...                    NaN\n",
              "\n",
              "[7 rows x 14 columns]"
            ]
          },
          "execution_count": 13,
          "metadata": {},
          "output_type": "execute_result"
        }
      ],
      "source": [
        "df_final[ df_final['BASE_CUSTOMER_ID']==36558]"
      ]
    },
    {
      "cell_type": "code",
      "execution_count": null,
      "metadata": {
        "id": "7Wwa-oRWmfMN"
      },
      "outputs": [],
      "source": [
        "not_has_sales = df_final['HAS_SALES_IN_INTERVAL']!=1\n",
        "\n",
        "df_final.loc[\n",
        "  not_has_sales, 'HAS_SALES_IN_INTERVAL'] = df_final.loc[ \n",
        "                                              not_has_sales, 'HAS_SALES_IN_INTERVAL'].fillna('0')\n"
      ]
    },
    {
      "cell_type": "code",
      "execution_count": null,
      "metadata": {
        "colab": {
          "base_uri": "https://localhost:8080/",
          "height": 240
        },
        "id": "ORk_tzJonDLr",
        "outputId": "6f84f6ed-cda5-48e3-e8a9-c8020123406a"
      },
      "outputs": [
        {
          "data": {
            "text/html": [
              "<div>\n",
              "<style scoped>\n",
              "    .dataframe tbody tr th:only-of-type {\n",
              "        vertical-align: middle;\n",
              "    }\n",
              "\n",
              "    .dataframe tbody tr th {\n",
              "        vertical-align: top;\n",
              "    }\n",
              "\n",
              "    .dataframe thead th {\n",
              "        text-align: right;\n",
              "    }\n",
              "</style>\n",
              "<table border=\"1\" class=\"dataframe\">\n",
              "  <thead>\n",
              "    <tr style=\"text-align: right;\">\n",
              "      <th></th>\n",
              "      <th>Unnamed: 0</th>\n",
              "      <th>Unnamed: 0.1</th>\n",
              "      <th>BASE_CUSTOMER_ID</th>\n",
              "      <th>CUSTOMER_ID</th>\n",
              "      <th>AGE</th>\n",
              "      <th>MARITAL_STATUS_Bekar</th>\n",
              "      <th>MARITAL_STATUS_Evli</th>\n",
              "      <th>TOTAL_SALES_FILE_3M</th>\n",
              "      <th>SINCE_LAST_SALES_FILE_3M</th>\n",
              "      <th>TOTAL_SALES_FILE_1Y</th>\n",
              "      <th>SINCE_LAST_SALES_FILE_1Y</th>\n",
              "      <th>TOTAL_SALES_FILE_ALL</th>\n",
              "      <th>SINCE_LAST_SALES_FILE_ALL</th>\n",
              "      <th>HAS_SALES_IN_INTERVAL</th>\n",
              "    </tr>\n",
              "  </thead>\n",
              "  <tbody>\n",
              "    <tr>\n",
              "      <th>15</th>\n",
              "      <td>15</td>\n",
              "      <td>15</td>\n",
              "      <td>84171</td>\n",
              "      <td>1841096</td>\n",
              "      <td>56</td>\n",
              "      <td>0</td>\n",
              "      <td>1</td>\n",
              "      <td>0</td>\n",
              "      <td>0</td>\n",
              "      <td>0</td>\n",
              "      <td>0</td>\n",
              "      <td>0</td>\n",
              "      <td>0</td>\n",
              "      <td>1</td>\n",
              "    </tr>\n",
              "    <tr>\n",
              "      <th>107</th>\n",
              "      <td>107</td>\n",
              "      <td>107</td>\n",
              "      <td>137731</td>\n",
              "      <td>1391196</td>\n",
              "      <td>38</td>\n",
              "      <td>0</td>\n",
              "      <td>1</td>\n",
              "      <td>2</td>\n",
              "      <td>0</td>\n",
              "      <td>2</td>\n",
              "      <td>0</td>\n",
              "      <td>2</td>\n",
              "      <td>0</td>\n",
              "      <td>1</td>\n",
              "    </tr>\n",
              "    <tr>\n",
              "      <th>279</th>\n",
              "      <td>279</td>\n",
              "      <td>279</td>\n",
              "      <td>66672</td>\n",
              "      <td>1843263</td>\n",
              "      <td>71</td>\n",
              "      <td>0</td>\n",
              "      <td>1</td>\n",
              "      <td>0</td>\n",
              "      <td>0</td>\n",
              "      <td>0</td>\n",
              "      <td>0</td>\n",
              "      <td>0</td>\n",
              "      <td>0</td>\n",
              "      <td>1</td>\n",
              "    </tr>\n",
              "    <tr>\n",
              "      <th>373</th>\n",
              "      <td>373</td>\n",
              "      <td>373</td>\n",
              "      <td>74962</td>\n",
              "      <td>1842664</td>\n",
              "      <td>45</td>\n",
              "      <td>1</td>\n",
              "      <td>0</td>\n",
              "      <td>0</td>\n",
              "      <td>0</td>\n",
              "      <td>0</td>\n",
              "      <td>0</td>\n",
              "      <td>0</td>\n",
              "      <td>0</td>\n",
              "      <td>1</td>\n",
              "    </tr>\n",
              "    <tr>\n",
              "      <th>472</th>\n",
              "      <td>472</td>\n",
              "      <td>472</td>\n",
              "      <td>171447</td>\n",
              "      <td>1522723</td>\n",
              "      <td>39</td>\n",
              "      <td>0</td>\n",
              "      <td>1</td>\n",
              "      <td>0</td>\n",
              "      <td>0</td>\n",
              "      <td>0</td>\n",
              "      <td>0</td>\n",
              "      <td>0</td>\n",
              "      <td>0</td>\n",
              "      <td>1</td>\n",
              "    </tr>\n",
              "  </tbody>\n",
              "</table>\n",
              "</div>"
            ],
            "text/plain": [
              "     Unnamed: 0  Unnamed: 0.1  ...  SINCE_LAST_SALES_FILE_ALL  HAS_SALES_IN_INTERVAL\n",
              "15           15            15  ...                          0                      1\n",
              "107         107           107  ...                          0                      1\n",
              "279         279           279  ...                          0                      1\n",
              "373         373           373  ...                          0                      1\n",
              "472         472           472  ...                          0                      1\n",
              "\n",
              "[5 rows x 14 columns]"
            ]
          },
          "execution_count": 15,
          "metadata": {},
          "output_type": "execute_result"
        }
      ],
      "source": [
        "df_final[ df_final['HAS_SALES_IN_INTERVAL']==1].head(5)"
      ]
    },
    {
      "cell_type": "code",
      "execution_count": null,
      "metadata": {
        "id": "GrLr98bSnDIy"
      },
      "outputs": [],
      "source": []
    },
    {
      "cell_type": "code",
      "execution_count": null,
      "metadata": {
        "id": "TnjuFVu_F7MC"
      },
      "outputs": [],
      "source": []
    },
    {
      "cell_type": "markdown",
      "metadata": {
        "id": "oCFu1L052Mwe"
      },
      "source": [
        "# PREPARE THE TEST DATASET WITH THE DESIRED INTERVAL"
      ]
    },
    {
      "cell_type": "code",
      "execution_count": null,
      "metadata": {
        "id": "GQyC40heGlPI"
      },
      "outputs": [],
      "source": [
        "# df_final_merge = pd.read_csv('drive/MyDrive/DF_FINAL_MERGED_v2.csv')"
      ]
    },
    {
      "cell_type": "code",
      "execution_count": null,
      "metadata": {
        "id": "A8nC4oSQ3Tu5"
      },
      "outputs": [],
      "source": [
        "df_cust_rel = pd.read_csv('drive/MyDrive/df_final_cust_rel.csv')\n",
        "df_customer = pd.read_csv('drive/MyDrive/df_final_customer.csv')\n",
        "df_sales = pd.read_csv('drive/MyDrive/df_final_sales.csv')\n",
        "df_vehicle = pd.read_csv('drive/MyDrive/df_final_vehicle.csv')"
      ]
    },
    {
      "cell_type": "code",
      "execution_count": null,
      "metadata": {
        "id": "oxiyiuKRFlG7"
      },
      "outputs": [],
      "source": [
        "df_service = pd.read_csv('drive/MyDrive/slm/CUSTOMER_RELATED_MONEY.csv')"
      ]
    },
    {
      "cell_type": "code",
      "execution_count": null,
      "metadata": {
        "id": "iUFobkIq3Tu6"
      },
      "outputs": [],
      "source": [
        "df_sales['SF_CREATE_DATE'] = pd.to_datetime( df_sales['SF_CREATE_DATE'] )"
      ]
    },
    {
      "cell_type": "code",
      "execution_count": null,
      "metadata": {
        "colab": {
          "base_uri": "https://localhost:8080/",
          "height": 110
        },
        "id": "nWoqZSPx3Tu7",
        "outputId": "e8ebcc02-d1bd-4668-9a43-6b98fd4787df"
      },
      "outputs": [
        {
          "data": {
            "text/html": [
              "<div>\n",
              "<style scoped>\n",
              "    .dataframe tbody tr th:only-of-type {\n",
              "        vertical-align: middle;\n",
              "    }\n",
              "\n",
              "    .dataframe tbody tr th {\n",
              "        vertical-align: top;\n",
              "    }\n",
              "\n",
              "    .dataframe thead th {\n",
              "        text-align: right;\n",
              "    }\n",
              "</style>\n",
              "<table border=\"1\" class=\"dataframe\">\n",
              "  <thead>\n",
              "    <tr style=\"text-align: right;\">\n",
              "      <th></th>\n",
              "      <th>Unnamed: 0</th>\n",
              "      <th>CUSTOMER_ID</th>\n",
              "      <th>SALESFILE_ID</th>\n",
              "      <th>SF_CREATE_DATE</th>\n",
              "      <th>STATUS</th>\n",
              "      <th>REQ_BRAND_CODE</th>\n",
              "      <th>REQ_TOPMODEL_CODE</th>\n",
              "      <th>CREATE_YEAR</th>\n",
              "      <th>CREATE_MONTH</th>\n",
              "    </tr>\n",
              "  </thead>\n",
              "  <tbody>\n",
              "    <tr>\n",
              "      <th>min</th>\n",
              "      <td>28</td>\n",
              "      <td>1003463</td>\n",
              "      <td>100011.0</td>\n",
              "      <td>2010-01-21</td>\n",
              "      <td>100</td>\n",
              "      <td>K</td>\n",
              "      <td>9083.0</td>\n",
              "      <td>2010</td>\n",
              "      <td>1</td>\n",
              "    </tr>\n",
              "    <tr>\n",
              "      <th>max</th>\n",
              "      <td>397518</td>\n",
              "      <td>1842740</td>\n",
              "      <td>10223380.0</td>\n",
              "      <td>2021-03-31</td>\n",
              "      <td>109</td>\n",
              "      <td>Z</td>\n",
              "      <td>9974.0</td>\n",
              "      <td>2021</td>\n",
              "      <td>3</td>\n",
              "    </tr>\n",
              "  </tbody>\n",
              "</table>\n",
              "</div>"
            ],
            "text/plain": [
              "     Unnamed: 0  CUSTOMER_ID  ...  CREATE_YEAR CREATE_MONTH\n",
              "min          28      1003463  ...         2010            1\n",
              "max      397518      1842740  ...         2021            3\n",
              "\n",
              "[2 rows x 9 columns]"
            ]
          },
          "execution_count": 76,
          "metadata": {},
          "output_type": "execute_result"
        }
      ],
      "source": [
        "max_year=2021\n",
        "max_month=3 # MAX TRAIN MONTH\n",
        "\n",
        "df_sales_maxed = df_sales[ (df_sales['CREATE_YEAR']<= max_year) &\n",
        "                            (df_sales['CREATE_MONTH']<= max_month) ]\n",
        "\n",
        "df_sales_maxed.agg([min,max])"
      ]
    },
    {
      "cell_type": "code",
      "execution_count": null,
      "metadata": {
        "colab": {
          "base_uri": "https://localhost:8080/"
        },
        "id": "bzfANUnP3Tu7",
        "outputId": "39017b55-9afd-4085-bce0-fc54c37945df"
      },
      "outputs": [
        {
          "name": "stdout",
          "output_type": "stream",
          "text": [
            "max_date= 2021-03-01 00:00:00\n"
          ]
        }
      ],
      "source": [
        "max_date_dict = {'year': [max_year], 'month': [max_month], 'day':[1]}\n",
        "df_max_date = pd.DataFrame(max_date_dict)\n",
        "max_date = pd.to_datetime(df_max_date)\n",
        "\n",
        "print('max_date=',max_date[0])"
      ]
    },
    {
      "cell_type": "markdown",
      "metadata": {
        "id": "7HsAQhm2MKDA"
      },
      "source": [
        "## Adding SIFIR_ARAC as Feature"
      ]
    },
    {
      "cell_type": "code",
      "execution_count": null,
      "metadata": {
        "colab": {
          "base_uri": "https://localhost:8080/",
          "height": 110
        },
        "id": "nzkf3GzwMRiB",
        "outputId": "b895cf23-7af1-48be-a9eb-3098ef1a0900"
      },
      "outputs": [
        {
          "data": {
            "text/html": [
              "<div>\n",
              "<style scoped>\n",
              "    .dataframe tbody tr th:only-of-type {\n",
              "        vertical-align: middle;\n",
              "    }\n",
              "\n",
              "    .dataframe tbody tr th {\n",
              "        vertical-align: top;\n",
              "    }\n",
              "\n",
              "    .dataframe thead th {\n",
              "        text-align: right;\n",
              "    }\n",
              "</style>\n",
              "<table border=\"1\" class=\"dataframe\">\n",
              "  <thead>\n",
              "    <tr style=\"text-align: right;\">\n",
              "      <th></th>\n",
              "      <th>Unnamed: 0</th>\n",
              "      <th>VEHICLE_ID</th>\n",
              "      <th>CUSTOMER_ID</th>\n",
              "      <th>CREATE_DATE</th>\n",
              "    </tr>\n",
              "  </thead>\n",
              "  <tbody>\n",
              "    <tr>\n",
              "      <th>0</th>\n",
              "      <td>0</td>\n",
              "      <td>5015193</td>\n",
              "      <td>1063740</td>\n",
              "      <td>2005-01-01 19:08:33</td>\n",
              "    </tr>\n",
              "    <tr>\n",
              "      <th>1</th>\n",
              "      <td>1</td>\n",
              "      <td>5110231</td>\n",
              "      <td>1155678</td>\n",
              "      <td>2005-09-29 17:16:15</td>\n",
              "    </tr>\n",
              "  </tbody>\n",
              "</table>\n",
              "</div>"
            ],
            "text/plain": [
              "   Unnamed: 0  VEHICLE_ID  CUSTOMER_ID         CREATE_DATE\n",
              "0           0     5015193      1063740 2005-01-01 19:08:33\n",
              "1           1     5110231      1155678 2005-09-29 17:16:15"
            ]
          },
          "execution_count": 78,
          "metadata": {},
          "output_type": "execute_result"
        }
      ],
      "source": [
        "df_sifir = F_SIFIR_ARAC_DATA\n",
        "df_sifir.head(2)"
      ]
    },
    {
      "cell_type": "code",
      "execution_count": null,
      "metadata": {
        "id": "XNTdy3X5Wwze"
      },
      "outputs": [],
      "source": [
        "df_sifir['CREATE_DATE'] = pd.to_datetime( df_sifir['CREATE_DATE'] )"
      ]
    },
    {
      "cell_type": "code",
      "execution_count": null,
      "metadata": {
        "id": "410Bj-pGXO5q"
      },
      "outputs": [],
      "source": []
    },
    {
      "cell_type": "code",
      "execution_count": null,
      "metadata": {
        "colab": {
          "base_uri": "https://localhost:8080/",
          "height": 110
        },
        "id": "lss8RgybW3Yg",
        "outputId": "9e9b3394-0c4d-4f02-ebd4-71bf40683570"
      },
      "outputs": [
        {
          "data": {
            "text/html": [
              "<div>\n",
              "<style scoped>\n",
              "    .dataframe tbody tr th:only-of-type {\n",
              "        vertical-align: middle;\n",
              "    }\n",
              "\n",
              "    .dataframe tbody tr th {\n",
              "        vertical-align: top;\n",
              "    }\n",
              "\n",
              "    .dataframe thead th {\n",
              "        text-align: right;\n",
              "    }\n",
              "</style>\n",
              "<table border=\"1\" class=\"dataframe\">\n",
              "  <thead>\n",
              "    <tr style=\"text-align: right;\">\n",
              "      <th></th>\n",
              "      <th>Unnamed: 0</th>\n",
              "      <th>VEHICLE_ID</th>\n",
              "      <th>CUSTOMER_ID</th>\n",
              "      <th>CREATE_DATE</th>\n",
              "    </tr>\n",
              "  </thead>\n",
              "  <tbody>\n",
              "    <tr>\n",
              "      <th>min</th>\n",
              "      <td>0</td>\n",
              "      <td>5000015</td>\n",
              "      <td>1000520</td>\n",
              "      <td>2005-01-01 14:46:45</td>\n",
              "    </tr>\n",
              "    <tr>\n",
              "      <th>max</th>\n",
              "      <td>169524</td>\n",
              "      <td>5344593</td>\n",
              "      <td>1840887</td>\n",
              "      <td>2021-02-26 21:03:40</td>\n",
              "    </tr>\n",
              "  </tbody>\n",
              "</table>\n",
              "</div>"
            ],
            "text/plain": [
              "     Unnamed: 0  VEHICLE_ID  CUSTOMER_ID         CREATE_DATE\n",
              "min           0     5000015      1000520 2005-01-01 14:46:45\n",
              "max      169524     5344593      1840887 2021-02-26 21:03:40"
            ]
          },
          "execution_count": 80,
          "metadata": {},
          "output_type": "execute_result"
        }
      ],
      "source": [
        "df_sifir_maxed = df_sifir[ df_sifir['CREATE_DATE'] < max_date[0]]\n",
        "\n",
        "df_sifir_maxed.agg([min,max])"
      ]
    },
    {
      "cell_type": "markdown",
      "metadata": {
        "id": "zerRQLCScrRU"
      },
      "source": [
        "## Adding y Values"
      ]
    },
    {
      "cell_type": "code",
      "execution_count": null,
      "metadata": {
        "colab": {
          "base_uri": "https://localhost:8080/",
          "height": 110
        },
        "id": "QOMXuv-hcs69",
        "outputId": "174a3262-cee7-4b25-d06f-a2ef725d7eaf"
      },
      "outputs": [
        {
          "data": {
            "text/html": [
              "<div>\n",
              "<style scoped>\n",
              "    .dataframe tbody tr th:only-of-type {\n",
              "        vertical-align: middle;\n",
              "    }\n",
              "\n",
              "    .dataframe tbody tr th {\n",
              "        vertical-align: top;\n",
              "    }\n",
              "\n",
              "    .dataframe thead th {\n",
              "        text-align: right;\n",
              "    }\n",
              "</style>\n",
              "<table border=\"1\" class=\"dataframe\">\n",
              "  <thead>\n",
              "    <tr style=\"text-align: right;\">\n",
              "      <th></th>\n",
              "      <th>Unnamed: 0</th>\n",
              "      <th>CUSTOMER_ID</th>\n",
              "      <th>SALESFILE_ID</th>\n",
              "      <th>SF_CREATE_DATE</th>\n",
              "      <th>STATUS</th>\n",
              "      <th>REQ_BRAND_CODE</th>\n",
              "      <th>REQ_TOPMODEL_CODE</th>\n",
              "      <th>CREATE_YEAR</th>\n",
              "      <th>CREATE_MONTH</th>\n",
              "    </tr>\n",
              "  </thead>\n",
              "  <tbody>\n",
              "    <tr>\n",
              "      <th>min</th>\n",
              "      <td>50</td>\n",
              "      <td>1026751</td>\n",
              "      <td>10069150.0</td>\n",
              "      <td>2021-03-02</td>\n",
              "      <td>100</td>\n",
              "      <td>K</td>\n",
              "      <td>9233.0</td>\n",
              "      <td>2021</td>\n",
              "      <td>3</td>\n",
              "    </tr>\n",
              "    <tr>\n",
              "      <th>max</th>\n",
              "      <td>397385</td>\n",
              "      <td>1845569</td>\n",
              "      <td>10391897.0</td>\n",
              "      <td>2021-05-31</td>\n",
              "      <td>109</td>\n",
              "      <td>Z</td>\n",
              "      <td>9970.0</td>\n",
              "      <td>2021</td>\n",
              "      <td>5</td>\n",
              "    </tr>\n",
              "  </tbody>\n",
              "</table>\n",
              "</div>"
            ],
            "text/plain": [
              "     Unnamed: 0  CUSTOMER_ID  ...  CREATE_YEAR CREATE_MONTH\n",
              "min          50      1026751  ...         2021            3\n",
              "max      397385      1845569  ...         2021            5\n",
              "\n",
              "[2 rows x 9 columns]"
            ]
          },
          "execution_count": 81,
          "metadata": {},
          "output_type": "execute_result"
        }
      ],
      "source": [
        "df_sales_y = df_sales[ ( df_sales['SF_CREATE_DATE']> max_date[0] ) &\n",
        "                            (df_sales['SF_CREATE_DATE']< max_date[0] + pd.DateOffset(months=3))]\n",
        "\n",
        "df_sales_y.agg([min,max])"
      ]
    },
    {
      "cell_type": "code",
      "execution_count": null,
      "metadata": {
        "id": "Ng29q6sscs3y"
      },
      "outputs": [],
      "source": []
    },
    {
      "cell_type": "markdown",
      "metadata": {
        "id": "q3UFLKK7Gb0_"
      },
      "source": [
        "## Adding Service"
      ]
    },
    {
      "cell_type": "code",
      "execution_count": null,
      "metadata": {
        "colab": {
          "base_uri": "https://localhost:8080/",
          "height": 181
        },
        "id": "eR7_772KGeFY",
        "outputId": "239d5805-9a02-4460-b472-9ec687134ca6"
      },
      "outputs": [
        {
          "data": {
            "text/html": [
              "<div>\n",
              "<style scoped>\n",
              "    .dataframe tbody tr th:only-of-type {\n",
              "        vertical-align: middle;\n",
              "    }\n",
              "\n",
              "    .dataframe tbody tr th {\n",
              "        vertical-align: top;\n",
              "    }\n",
              "\n",
              "    .dataframe thead th {\n",
              "        text-align: right;\n",
              "    }\n",
              "</style>\n",
              "<table border=\"1\" class=\"dataframe\">\n",
              "  <thead>\n",
              "    <tr style=\"text-align: right;\">\n",
              "      <th></th>\n",
              "      <th>Unnamed: 0</th>\n",
              "      <th>BASE_CUSTOMER_ID</th>\n",
              "      <th>VEHICLE_ID</th>\n",
              "      <th>START_DATE</th>\n",
              "      <th>END_DATE</th>\n",
              "      <th>FK_RELATION_STATUS_ID</th>\n",
              "      <th>FK_RELATION_STATUS_EXPLANATION</th>\n",
              "      <th>PAID_MONEY</th>\n",
              "    </tr>\n",
              "  </thead>\n",
              "  <tbody>\n",
              "    <tr>\n",
              "      <th>0</th>\n",
              "      <td>0</td>\n",
              "      <td>189537</td>\n",
              "      <td>5321560</td>\n",
              "      <td>2018-07-24 00:00:00.000000</td>\n",
              "      <td>2019-07-03 00:00:00.000000</td>\n",
              "      <td>2</td>\n",
              "      <td>Pasif Ruhsat Sahibi</td>\n",
              "      <td>NaN</td>\n",
              "    </tr>\n",
              "    <tr>\n",
              "      <th>1</th>\n",
              "      <td>1</td>\n",
              "      <td>110802</td>\n",
              "      <td>5329278</td>\n",
              "      <td>2019-07-16 00:00:00.000000</td>\n",
              "      <td>2021-10-31 13:14:23.956935</td>\n",
              "      <td>1</td>\n",
              "      <td>Aktif Ruhsat Sahibi</td>\n",
              "      <td>21522.0</td>\n",
              "    </tr>\n",
              "  </tbody>\n",
              "</table>\n",
              "</div>"
            ],
            "text/plain": [
              "   Unnamed: 0  BASE_CUSTOMER_ID  ...  FK_RELATION_STATUS_EXPLANATION PAID_MONEY\n",
              "0           0            189537  ...             Pasif Ruhsat Sahibi        NaN\n",
              "1           1            110802  ...             Aktif Ruhsat Sahibi    21522.0\n",
              "\n",
              "[2 rows x 8 columns]"
            ]
          },
          "execution_count": 14,
          "metadata": {},
          "output_type": "execute_result"
        }
      ],
      "source": [
        "df_service.head(2)"
      ]
    },
    {
      "cell_type": "code",
      "execution_count": null,
      "metadata": {
        "id": "Ww55hfXAGeCv"
      },
      "outputs": [],
      "source": [
        "df_service['START_DATE'] = pd.to_datetime( df_service['START_DATE'] )\n",
        "df_service['END_DATE'] = pd.to_datetime( df_service['END_DATE'] )"
      ]
    },
    {
      "cell_type": "code",
      "execution_count": null,
      "metadata": {
        "id": "GOpgwukMGeAL"
      },
      "outputs": [],
      "source": []
    },
    {
      "cell_type": "markdown",
      "metadata": {
        "id": "YPUYiZ1_3K9V"
      },
      "source": [
        "## The main feature addition function"
      ]
    },
    {
      "cell_type": "code",
      "execution_count": null,
      "metadata": {
        "colab": {
          "base_uri": "https://localhost:8080/"
        },
        "id": "M05U9cWvGlI7",
        "outputId": "4ece6935-4754-4f60-ea2b-da8d98d6a6d2"
      },
      "outputs": [
        {
          "name": "stdout",
          "output_type": "stream",
          "text": [
            "Completed= 99.89187204898349 %\n"
          ]
        }
      ],
      "source": [
        "import time\n",
        "from IPython.display import clear_output\n",
        "\n",
        "start_time = time.time()\n",
        "\n",
        "df_final = df_customer.copy() # We will go based on df_customer\n",
        "\n",
        "# Create new columns by setting their value to 0\n",
        "df_final['TOTAL_SALES_FILE_3M'] = 0 # Sale Values of Last 3 Months \n",
        "df_final['SINCE_LAST_SALES_FILE_3M'] = 0 # The last sale record since 3 months\n",
        "\n",
        "df_final['TOTAL_SALES_FILE_1Y'] = 0 # Last 1 Year\n",
        "df_final['SINCE_LAST_SALES_FILE_1Y'] = 0\n",
        "\n",
        "df_final['TOTAL_SALES_FILE_ALL'] = 0 # All Times\n",
        "df_final['SINCE_LAST_SALES_FILE_ALL'] = 0\n",
        "\n",
        "#SIFIR ARAC\n",
        "df_final['TOTAL_SIFIR_ARAC_3M'] = 0\n",
        "df_final['SINCE_LAST_SIFIR_ARAC_3M'] = 0\n",
        "\n",
        "df_final['TOTAL_SIFIR_ARAC_1Y'] = 0\n",
        "df_final['SINCE_LAST_SIFIR_ARAC_1Y'] = 0\n",
        "\n",
        "df_final['TOTAL_SIFIR_ARAC_ALL'] = 0\n",
        "df_final['SINCE_LAST_SIFIR_ARAC_ALL'] = 0\n",
        "\n",
        "#SERVICE\n",
        "# df_final['TOTAL_PAID_MONEY'] = 0\n",
        "# df_final['MONEY_PER_MONTH']\n",
        "df_final['']\n",
        "\n",
        "\n",
        "# y values\n",
        "df_final['HAS_SALES_IN_INTERVAL'] = 0\n",
        "\n",
        "\n",
        "count=0\n",
        "for index, row in df_customer.iterrows():\n",
        "  df_sls_cust = df_sales_maxed[ df_sales_maxed['CUSTOMER_ID']\n",
        "                                        ==row.loc['CUSTOMER_ID'] ]\n",
        "\n",
        "  c_date = df_sls_cust['SF_CREATE_DATE'] # Create Date\n",
        "  df_sls_cust_3m = df_sls_cust[ c_date > max_date[0] - pd.DateOffset(months=3) ]\n",
        "  df_sls_cust_1y = df_sls_cust[ c_date > max_date[0] - pd.DateOffset(years=1) ]\n",
        "\n",
        "  sale_count_3m = df_sls_cust_3m.shape[0]\n",
        "  sale_count_1y = df_sls_cust_1y.shape[0]\n",
        "  sale_count_all = df_sls_cust.shape[0] # All Sale Values Until Max Date\n",
        "\n",
        "  if sale_count_3m > 0:\n",
        "    # Take the sale that has the biggest datetime value (last)\n",
        "    last_sale_3m = df_sls_cust_3m.sort_values(by='SF_CREATE_DATE', \n",
        "                                        ascending=False).iloc[0]['SF_CREATE_DATE']\n",
        "\n",
        "    df_final.at[index, 'TOTAL_SALES_FILE_3M'] = sale_count_3m\n",
        "\n",
        "    date_difference_3m = (max_date - last_sale_3m)[0].days/30\n",
        "    date_difference_3m = int(date_difference_3m)\n",
        "\n",
        "    df_final.at[index, 'SINCE_LAST_SALES_FILE_3M'] = date_difference_3m\n",
        "\n",
        "  if sale_count_1y > 0:\n",
        "    last_sale_1y = df_sls_cust_1y.sort_values(by='SF_CREATE_DATE', \n",
        "                                  ascending=False).iloc[0]['SF_CREATE_DATE']\n",
        "    df_final.at[index, 'TOTAL_SALES_FILE_1Y'] = sale_count_1y\n",
        "\n",
        "    date_difference_1y = (max_date - last_sale_1y)[0].days/30\n",
        "    date_difference_1y = int(date_difference_1y)\n",
        "\n",
        "    df_final.at[index, 'SINCE_LAST_SALES_FILE_1Y'] = date_difference_1y\n",
        "\n",
        "  if sale_count_all > 0:\n",
        "    last_sale_all = df_sls_cust.sort_values(by='SF_CREATE_DATE', \n",
        "                                  ascending=False).iloc[0]['SF_CREATE_DATE']\n",
        "    df_final.at[index, 'TOTAL_SALES_FILE_ALL'] = sale_count_all\n",
        "    \n",
        "    date_difference_all = (max_date - last_sale_all)[0].days/30\n",
        "    date_difference_all = int(date_difference_all)\n",
        "\n",
        "    df_final.at[index, 'SINCE_LAST_SALES_FILE_ALL'] = date_difference_all\n",
        "\n",
        "    df_sls_cust = df_sales_maxed[ df_sales_maxed['CUSTOMER_ID']\n",
        "                                        ==row.loc['CUSTOMER_ID'] ]\n",
        "\n",
        "\n",
        "  # SIFIR_ARAC\n",
        "  df_sifir_cust = df_sifir_maxed[ df_sifir_maxed['CUSTOMER_ID']\n",
        "                                        ==row.loc['CUSTOMER_ID'] ]\n",
        "\n",
        "  c_date = df_sifir_cust['CREATE_DATE'] # Create Date\n",
        "  df_sifir_cust_3m = df_sifir_cust[ c_date > max_date[0] - pd.DateOffset(months=3) ]\n",
        "  df_sifir_cust_1y = df_sifir_cust[ c_date > max_date[0] - pd.DateOffset(years=1) ]\n",
        "\n",
        "  sifir_count_3m = df_sifir_cust_3m.shape[0]\n",
        "  sifir_count_1y = df_sifir_cust_1y.shape[0]\n",
        "  sifir_count_all = df_sifir_cust.shape[0] # All Sale Values Until Max Date\n",
        "\n",
        "  if sifir_count_3m > 0:\n",
        "    # Take the sifir_arac that has the biggest datetime value (last)\n",
        "    last_sifir_3m = df_sifir_cust_3m.sort_values(by='CREATE_DATE', \n",
        "                                        ascending=False).iloc[0]['CREATE_DATE']\n",
        "\n",
        "    df_final.at[index, 'TOTAL_SIFIR_ARAC_3M'] = sifir_count_3m\n",
        "\n",
        "    date_difference_3m = (max_date - last_sifir_3m)[0].days/30\n",
        "    date_difference_3m = int(date_difference_3m)\n",
        "\n",
        "    df_final.at[index, 'SINCE_LAST_SIFIR_ARAC_3M'] = date_difference_3m\n",
        "\n",
        "\n",
        "  if sifir_count_1y > 0:\n",
        "    # Take the sifir_arac that has the biggest datetime value (last)\n",
        "    last_sifir_1y = df_sifir_cust_1y.sort_values(by='CREATE_DATE', \n",
        "                                        ascending=False).iloc[0]['CREATE_DATE']\n",
        "\n",
        "    df_final.at[index, 'TOTAL_SIFIR_ARAC_1Y'] = sifir_count_1y\n",
        "\n",
        "    date_difference_1y = (max_date - last_sifir_1y)[0].days/30\n",
        "    date_difference_1y = int(date_difference_1y)\n",
        "\n",
        "    df_final.at[index, 'SINCE_LAST_SIFIR_ARAC_1Y'] = date_difference_1y\n",
        "\n",
        "  if sifir_count_all > 0:\n",
        "    # Take the sifir_arac that has the biggest datetime value (last)\n",
        "    last_sifir_all = df_sifir_cust.sort_values(by='CREATE_DATE', \n",
        "                                        ascending=False).iloc[0]['CREATE_DATE']\n",
        "\n",
        "    df_final.at[index, 'TOTAL_SIFIR_ARAC_ALL'] = sifir_count_all\n",
        "\n",
        "    date_difference_all = (max_date - last_sifir_all)[0].days/30\n",
        "    date_difference_all = int(date_difference_all)\n",
        "\n",
        "    df_final.at[index, 'SINCE_LAST_SIFIR_ARAC_ALL'] = date_difference_all\n",
        "\n",
        "\n",
        "    ## y values\n",
        "  df_sales_temp = df_sales_y[ df_sales_y['CUSTOMER_ID']\n",
        "                                        ==row.loc['CUSTOMER_ID'] ]\n",
        "  sales_count_y = df_sales_temp.shape[0]\n",
        "\n",
        "  if sales_count_y > 0:\n",
        "    df_final.at[index, 'HAS_SALES_IN_INTERVAL'] = 1\n",
        "\n",
        "\n",
        "  count += 1\n",
        "  if count % 3000 ==0:\n",
        "    clear_output(wait=False)\n",
        "    percentage = (count/df_customer.shape[0])*100\n",
        "    print('Completed=', percentage , '%')\n",
        "\n",
        "  # display( df_final[ df_final['HAS_SALES_IN_INTERVAL']==1 ] )\n",
        "  # if count > 150:\n",
        "  #   break\n"
      ]
    },
    {
      "cell_type": "code",
      "execution_count": null,
      "metadata": {
        "id": "vTbI4ylfjmbq"
      },
      "outputs": [],
      "source": [
        "df_final.to_csv('drive/MyDrive/DF_FINAL_RAW_wSIFIR_2021_3_y.csv')"
      ]
    },
    {
      "cell_type": "code",
      "execution_count": null,
      "metadata": {
        "colab": {
          "base_uri": "https://localhost:8080/"
        },
        "id": "wIS9JxS02MUA",
        "outputId": "41877299-9390-405f-bcd0-24dd96aee5fe"
      },
      "outputs": [
        {
          "name": "stdout",
          "output_type": "stream",
          "text": [
            "--- The code executed in 82.69094372987747 minutes ---\n"
          ]
        }
      ],
      "source": [
        "exec_time = (time.time() - start_time)/60\n",
        "print(\"--- The code executed in %s minutes ---\" % exec_time )"
      ]
    },
    {
      "cell_type": "markdown",
      "metadata": {
        "id": "8AFXpdFdnrPW"
      },
      "source": [
        "# Merge DF_FINAL Based on BASE_CUSTOMER_ID"
      ]
    },
    {
      "cell_type": "code",
      "execution_count": null,
      "metadata": {
        "id": "EHufPM5RmsxM"
      },
      "outputs": [],
      "source": [
        "df_final = pd.read_csv('drive/MyDrive/DF_FINAL_RAW_wSIFIR_2021_3_y.csv')"
      ]
    },
    {
      "cell_type": "code",
      "execution_count": null,
      "metadata": {
        "colab": {
          "base_uri": "https://localhost:8080/"
        },
        "id": "S0xSNgeUmZeL",
        "outputId": "5df376fc-7222-41ee-a497-39d99d2f8e05"
      },
      "outputs": [
        {
          "name": "stdout",
          "output_type": "stream",
          "text": [
            "Completed= 22.94336283810575 %\n"
          ]
        }
      ],
      "source": [
        "\n",
        "import time\n",
        "start_time = time.time()\n",
        "\n",
        "emp_list = np.zeros( (1,df_final.shape[1]-2), dtype='uint32') # Skip Unnamed Columns\n",
        "\n",
        "my_df_list = []\n",
        "my_bas_cust_id_list = []\n",
        "\n",
        "#### FIRST ROW WILL BE OMITTED ####\n",
        "\n",
        "#### CUSTOMER_ID WILL BE OMITTED ####\n",
        "\n",
        "# df_final_merged = pd.DataFrame(emp_list, columns= df_final.columns[2:])\n",
        "count=0\n",
        "\n",
        "pd.options.mode.chained_assignment = None  # default='warn'\n",
        "\n",
        "for index, row in df_final.iterrows():\n",
        "  df_bc = df_final[ df_final['BASE_CUSTOMER_ID']\n",
        "                                        ==row.loc['BASE_CUSTOMER_ID'] ]\n",
        "  base_id = df_bc.iloc[0]['BASE_CUSTOMER_ID']\n",
        "\n",
        "  if base_id not in my_bas_cust_id_list:\n",
        "    my_bas_cust_id_list.append(base_id)\n",
        "    df_bc['HAS_SALES_IN_INTERVAL'] = pd.to_numeric(df_bc['HAS_SALES_IN_INTERVAL'])\n",
        "    \n",
        "    if df_bc.shape[0] > 0:\n",
        "      df_temp = pd.DataFrame(emp_list, columns= df_final.columns[2:] )\n",
        "\n",
        "      df_temp.at[0,'BASE_CUSTOMER_ID'] = base_id\n",
        "      df_temp.at[0,'AGE'] = df_bc.iloc[0]['AGE']\n",
        "      df_temp.at[0,'MARITAL_STATUS_Bekar'] =df_bc.iloc[0]['MARITAL_STATUS_Bekar']\n",
        "      df_temp.at[0, 'MARITAL_STATUS_Evli'] = df_bc.iloc[0]['MARITAL_STATUS_Evli']\n",
        "\n",
        "      df_temp.at[0, 'TOTAL_SALES_FILE_3M'] = df_bc['TOTAL_SALES_FILE_3M'].sum()\n",
        "      df_temp.at[0, 'SINCE_LAST_SALES_FILE_3M'] = df_bc['SINCE_LAST_SALES_FILE_3M'].min()\n",
        "      df_temp.at[0, 'TOTAL_SALES_FILE_1Y'] = df_bc['TOTAL_SALES_FILE_1Y'].sum()\n",
        "      df_temp.at[0, 'SINCE_LAST_SALES_FILE_1Y'] = df_bc['SINCE_LAST_SALES_FILE_1Y'].min()\n",
        "      df_temp.at[0, 'TOTAL_SALES_FILE_ALL'] = df_bc['TOTAL_SALES_FILE_ALL'].sum()\n",
        "      df_temp.at[0, 'SINCE_LAST_SALES_FILE_ALL'] = df_bc['SINCE_LAST_SALES_FILE_ALL'].min()\n",
        "\n",
        "      df_temp.at[0, 'TOTAL_SIFIR_ARAC_3M'] = df_bc['TOTAL_SIFIR_ARAC_3M'].sum()\n",
        "      df_temp.at[0, 'SINCE_LAST_SIFIR_ARAC_3M'] = df_bc['SINCE_LAST_SIFIR_ARAC_3M'].min()\n",
        "      df_temp.at[0, 'TOTAL_SIFIR_ARAC_1Y'] = df_bc['TOTAL_SIFIR_ARAC_1Y'].sum()\n",
        "      df_temp.at[0, 'SINCE_LAST_SIFIR_ARAC_1Y'] = df_bc['SINCE_LAST_SIFIR_ARAC_1Y'].min()\n",
        "      df_temp.at[0, 'TOTAL_SIFIR_ARAC_ALL'] = df_bc['TOTAL_SIFIR_ARAC_ALL'].sum()\n",
        "      df_temp.at[0, 'SINCE_LAST_SIFIR_ARAC_ALL'] = df_bc['SINCE_LAST_SIFIR_ARAC_ALL'].min()\n",
        "\n",
        "      df_temp.at[0,'HAS_SALES_IN_INTERVAL'] = df_bc['HAS_SALES_IN_INTERVAL'].max()\n",
        "      my_df_list.append(df_temp.copy())\n",
        "\n",
        "    count += 1\n",
        "\n",
        "    if count % 3000 ==0:\n",
        "      clear_output(wait=False)\n",
        "      percentage = (count/df_final.shape[0])*100\n",
        "      print('Completed=', percentage , '%')\n",
        "      \n",
        "end_time = time.time()"
      ]
    },
    {
      "cell_type": "code",
      "execution_count": null,
      "metadata": {
        "colab": {
          "base_uri": "https://localhost:8080/"
        },
        "id": "A0O5dEVlk0Vt",
        "outputId": "53758013-1184-422d-d0c3-116ccff0da78"
      },
      "outputs": [
        {
          "name": "stdout",
          "output_type": "stream",
          "text": [
            "EXECUTION TIME= 114.02274867693583  MINUTES\n"
          ]
        }
      ],
      "source": [
        "print(\"EXECUTION TIME=\", (end_time-start_time)/60, ' MINUTES')"
      ]
    },
    {
      "cell_type": "code",
      "execution_count": null,
      "metadata": {
        "id": "JHUK_JxNFeoF"
      },
      "outputs": [],
      "source": [
        "df_final_merge = pd.concat(my_df_list)"
      ]
    },
    {
      "cell_type": "code",
      "execution_count": null,
      "metadata": {
        "colab": {
          "base_uri": "https://localhost:8080/"
        },
        "id": "u_TuWe_Z13YC",
        "outputId": "62c452c6-d201-437c-c2fb-8f0cddd62524"
      },
      "outputs": [
        {
          "data": {
            "text/plain": [
              "196564"
            ]
          },
          "execution_count": 105,
          "metadata": {},
          "output_type": "execute_result"
        }
      ],
      "source": [
        "df_final_merge.shape[0]"
      ]
    },
    {
      "cell_type": "code",
      "execution_count": null,
      "metadata": {
        "colab": {
          "base_uri": "https://localhost:8080/",
          "height": 223
        },
        "id": "TWVsw6pOFelN",
        "outputId": "c752363b-3786-41ac-d0ff-ebe2ee386643"
      },
      "outputs": [
        {
          "data": {
            "text/html": [
              "<div>\n",
              "<style scoped>\n",
              "    .dataframe tbody tr th:only-of-type {\n",
              "        vertical-align: middle;\n",
              "    }\n",
              "\n",
              "    .dataframe tbody tr th {\n",
              "        vertical-align: top;\n",
              "    }\n",
              "\n",
              "    .dataframe thead th {\n",
              "        text-align: right;\n",
              "    }\n",
              "</style>\n",
              "<table border=\"1\" class=\"dataframe\">\n",
              "  <thead>\n",
              "    <tr style=\"text-align: right;\">\n",
              "      <th></th>\n",
              "      <th>BASE_CUSTOMER_ID</th>\n",
              "      <th>CUSTOMER_ID</th>\n",
              "      <th>AGE</th>\n",
              "      <th>MARITAL_STATUS_Bekar</th>\n",
              "      <th>MARITAL_STATUS_Evli</th>\n",
              "      <th>TOTAL_SALES_FILE_3M</th>\n",
              "      <th>SINCE_LAST_SALES_FILE_3M</th>\n",
              "      <th>TOTAL_SALES_FILE_1Y</th>\n",
              "      <th>SINCE_LAST_SALES_FILE_1Y</th>\n",
              "      <th>TOTAL_SALES_FILE_ALL</th>\n",
              "      <th>SINCE_LAST_SALES_FILE_ALL</th>\n",
              "      <th>TOTAL_SIFIR_ARAC_3M</th>\n",
              "      <th>SINCE_LAST_SIFIR_ARAC_3M</th>\n",
              "      <th>TOTAL_SIFIR_ARAC_1Y</th>\n",
              "      <th>SINCE_LAST_SIFIR_ARAC_1Y</th>\n",
              "      <th>TOTAL_SIFIR_ARAC_ALL</th>\n",
              "      <th>SINCE_LAST_SIFIR_ARAC_ALL</th>\n",
              "      <th>HAS_SALES_IN_INTERVAL</th>\n",
              "    </tr>\n",
              "  </thead>\n",
              "  <tbody>\n",
              "    <tr>\n",
              "      <th>0</th>\n",
              "      <td>158891</td>\n",
              "      <td>0</td>\n",
              "      <td>46</td>\n",
              "      <td>0</td>\n",
              "      <td>1</td>\n",
              "      <td>0</td>\n",
              "      <td>0</td>\n",
              "      <td>0</td>\n",
              "      <td>0</td>\n",
              "      <td>0</td>\n",
              "      <td>0</td>\n",
              "      <td>0</td>\n",
              "      <td>0</td>\n",
              "      <td>1</td>\n",
              "      <td>0</td>\n",
              "      <td>2</td>\n",
              "      <td>0</td>\n",
              "      <td>0</td>\n",
              "    </tr>\n",
              "    <tr>\n",
              "      <th>0</th>\n",
              "      <td>169233</td>\n",
              "      <td>0</td>\n",
              "      <td>59</td>\n",
              "      <td>0</td>\n",
              "      <td>1</td>\n",
              "      <td>1</td>\n",
              "      <td>0</td>\n",
              "      <td>1</td>\n",
              "      <td>0</td>\n",
              "      <td>1</td>\n",
              "      <td>0</td>\n",
              "      <td>0</td>\n",
              "      <td>0</td>\n",
              "      <td>0</td>\n",
              "      <td>0</td>\n",
              "      <td>1</td>\n",
              "      <td>0</td>\n",
              "      <td>0</td>\n",
              "    </tr>\n",
              "    <tr>\n",
              "      <th>0</th>\n",
              "      <td>30887</td>\n",
              "      <td>0</td>\n",
              "      <td>50</td>\n",
              "      <td>0</td>\n",
              "      <td>1</td>\n",
              "      <td>0</td>\n",
              "      <td>0</td>\n",
              "      <td>0</td>\n",
              "      <td>0</td>\n",
              "      <td>4</td>\n",
              "      <td>0</td>\n",
              "      <td>0</td>\n",
              "      <td>0</td>\n",
              "      <td>0</td>\n",
              "      <td>0</td>\n",
              "      <td>9</td>\n",
              "      <td>0</td>\n",
              "      <td>0</td>\n",
              "    </tr>\n",
              "    <tr>\n",
              "      <th>0</th>\n",
              "      <td>38013</td>\n",
              "      <td>0</td>\n",
              "      <td>52</td>\n",
              "      <td>0</td>\n",
              "      <td>1</td>\n",
              "      <td>0</td>\n",
              "      <td>0</td>\n",
              "      <td>0</td>\n",
              "      <td>0</td>\n",
              "      <td>0</td>\n",
              "      <td>0</td>\n",
              "      <td>0</td>\n",
              "      <td>0</td>\n",
              "      <td>0</td>\n",
              "      <td>0</td>\n",
              "      <td>0</td>\n",
              "      <td>0</td>\n",
              "      <td>0</td>\n",
              "    </tr>\n",
              "    <tr>\n",
              "      <th>0</th>\n",
              "      <td>157091</td>\n",
              "      <td>0</td>\n",
              "      <td>72</td>\n",
              "      <td>0</td>\n",
              "      <td>1</td>\n",
              "      <td>0</td>\n",
              "      <td>0</td>\n",
              "      <td>0</td>\n",
              "      <td>0</td>\n",
              "      <td>0</td>\n",
              "      <td>0</td>\n",
              "      <td>0</td>\n",
              "      <td>0</td>\n",
              "      <td>0</td>\n",
              "      <td>0</td>\n",
              "      <td>1</td>\n",
              "      <td>0</td>\n",
              "      <td>0</td>\n",
              "    </tr>\n",
              "  </tbody>\n",
              "</table>\n",
              "</div>"
            ],
            "text/plain": [
              "   BASE_CUSTOMER_ID  ...  HAS_SALES_IN_INTERVAL\n",
              "0            158891  ...                      0\n",
              "0            169233  ...                      0\n",
              "0             30887  ...                      0\n",
              "0             38013  ...                      0\n",
              "0            157091  ...                      0\n",
              "\n",
              "[5 rows x 18 columns]"
            ]
          },
          "execution_count": 106,
          "metadata": {},
          "output_type": "execute_result"
        }
      ],
      "source": [
        "df_final_merge.head(5)"
      ]
    },
    {
      "cell_type": "code",
      "execution_count": null,
      "metadata": {
        "colab": {
          "base_uri": "https://localhost:8080/"
        },
        "id": "DpwbqXLiFejl",
        "outputId": "3b3885ed-4a61-4b25-b4c9-8485d124c99d"
      },
      "outputs": [
        {
          "data": {
            "text/plain": [
              "BASE_CUSTOMER_ID             196564\n",
              "CUSTOMER_ID                       1\n",
              "AGE                             105\n",
              "MARITAL_STATUS_Bekar              2\n",
              "MARITAL_STATUS_Evli               2\n",
              "TOTAL_SALES_FILE_3M              19\n",
              "SINCE_LAST_SALES_FILE_3M          2\n",
              "TOTAL_SALES_FILE_1Y              20\n",
              "SINCE_LAST_SALES_FILE_1Y          2\n",
              "TOTAL_SALES_FILE_ALL             49\n",
              "SINCE_LAST_SALES_FILE_ALL         3\n",
              "TOTAL_SIFIR_ARAC_3M               4\n",
              "SINCE_LAST_SIFIR_ARAC_3M          1\n",
              "TOTAL_SIFIR_ARAC_1Y              11\n",
              "SINCE_LAST_SIFIR_ARAC_1Y          1\n",
              "TOTAL_SIFIR_ARAC_ALL             46\n",
              "SINCE_LAST_SIFIR_ARAC_ALL        21\n",
              "HAS_SALES_IN_INTERVAL             2\n",
              "dtype: int64"
            ]
          },
          "execution_count": 107,
          "metadata": {},
          "output_type": "execute_result"
        }
      ],
      "source": [
        "df_final_merge.nunique()"
      ]
    },
    {
      "cell_type": "code",
      "execution_count": null,
      "metadata": {
        "id": "bun_1nmzk0gg"
      },
      "outputs": [],
      "source": [
        "df_final_merge.to_csv('drive/MyDrive/DF_FINAL_MERGED_wSIFIR_2021_3.csv')"
      ]
    },
    {
      "cell_type": "code",
      "execution_count": null,
      "metadata": {
        "colab": {
          "base_uri": "https://localhost:8080/"
        },
        "id": "Qpx-nbnRGd6B",
        "outputId": "ec2d3de3-a58b-4fbb-a5cf-2f6ef767bfa4"
      },
      "outputs": [
        {
          "name": "stdout",
          "output_type": "stream",
          "text": [
            "total iterated row= 196564\n"
          ]
        }
      ],
      "source": [
        "print('total iterated row=',count)"
      ]
    },
    {
      "cell_type": "markdown",
      "metadata": {
        "id": "V2YrW5g09i1w"
      },
      "source": [
        "## Unnecessary\n"
      ]
    },
    {
      "cell_type": "code",
      "execution_count": null,
      "metadata": {
        "colab": {
          "base_uri": "https://localhost:8080/",
          "height": 127
        },
        "id": "zPoqTzY2YjSS",
        "outputId": "40ba75ed-7f0b-4157-916c-2784c4794fa2"
      },
      "outputs": [
        {
          "data": {
            "text/html": [
              "<div>\n",
              "<style scoped>\n",
              "    .dataframe tbody tr th:only-of-type {\n",
              "        vertical-align: middle;\n",
              "    }\n",
              "\n",
              "    .dataframe tbody tr th {\n",
              "        vertical-align: top;\n",
              "    }\n",
              "\n",
              "    .dataframe thead th {\n",
              "        text-align: right;\n",
              "    }\n",
              "</style>\n",
              "<table border=\"1\" class=\"dataframe\">\n",
              "  <thead>\n",
              "    <tr style=\"text-align: right;\">\n",
              "      <th></th>\n",
              "      <th>Unnamed: 0</th>\n",
              "      <th>CUSTOMER_ID</th>\n",
              "      <th>SALESFILE_ID</th>\n",
              "      <th>SF_CREATE_DATE</th>\n",
              "      <th>STATUS</th>\n",
              "      <th>REQ_BRAND_CODE</th>\n",
              "      <th>REQ_TOPMODEL_CODE</th>\n",
              "      <th>CREATE_YEAR</th>\n",
              "      <th>CREATE_MONTH</th>\n",
              "    </tr>\n",
              "  </thead>\n",
              "  <tbody>\n",
              "    <tr>\n",
              "      <th>min</th>\n",
              "      <td>34</td>\n",
              "      <td>1026827</td>\n",
              "      <td>9961634.0</td>\n",
              "      <td>2021-02-02</td>\n",
              "      <td>100</td>\n",
              "      <td>K</td>\n",
              "      <td>9231.0</td>\n",
              "      <td>2021</td>\n",
              "      <td>2</td>\n",
              "    </tr>\n",
              "    <tr>\n",
              "      <th>max</th>\n",
              "      <td>397385</td>\n",
              "      <td>1843758</td>\n",
              "      <td>10320545.0</td>\n",
              "      <td>2021-04-30</td>\n",
              "      <td>109</td>\n",
              "      <td>Z</td>\n",
              "      <td>9970.0</td>\n",
              "      <td>2021</td>\n",
              "      <td>4</td>\n",
              "    </tr>\n",
              "  </tbody>\n",
              "</table>\n",
              "</div>"
            ],
            "text/plain": [
              "     Unnamed: 0  CUSTOMER_ID  ...  CREATE_YEAR CREATE_MONTH\n",
              "min          34      1026827  ...         2021            2\n",
              "max      397385      1843758  ...         2021            4\n",
              "\n",
              "[2 rows x 9 columns]"
            ]
          },
          "execution_count": 18,
          "metadata": {},
          "output_type": "execute_result"
        }
      ],
      "source": [
        "max_year = 2021\n",
        "max_month = 2 # as we already defined before\n",
        "\n",
        "max_date_dict = {'year': [max_year], 'month': [max_month], 'day':[1]}\n",
        "df_max_date = pd.DataFrame(max_date_dict)\n",
        "max_date = pd.to_datetime(df_max_date)\n",
        "\n",
        "df_sales['SF_CREATE_DATE'] = pd.to_datetime( df_sales['SF_CREATE_DATE'])\n"
      ]
    },
    {
      "cell_type": "code",
      "execution_count": null,
      "metadata": {
        "id": "HcQhLQ5jrbsX"
      },
      "outputs": [],
      "source": [
        "df_final['HAS_SALES_IN_INTERVAL'] = 0\n",
        "\n",
        "for index, row in df_customer.iterrows():\n",
        "  df_sales_temp = df_sales_y[ df_sales_y['CUSTOMER_ID']\n",
        "                                        ==row.loc['CUSTOMER_ID'] ]\n",
        "  sales_count = df_sales_temp.shape[0]\n",
        "\n",
        "  if sales_count > 0:\n",
        "    df_final.at[index, 'HAS_SALES_IN_INTERVAL'] = 1"
      ]
    },
    {
      "cell_type": "code",
      "execution_count": null,
      "metadata": {
        "colab": {
          "base_uri": "https://localhost:8080/",
          "height": 454
        },
        "id": "TmqdShgYux6v",
        "outputId": "f342bc40-b66a-472e-e633-602d0cc87536"
      },
      "outputs": [
        {
          "data": {
            "text/html": [
              "<div>\n",
              "<style scoped>\n",
              "    .dataframe tbody tr th:only-of-type {\n",
              "        vertical-align: middle;\n",
              "    }\n",
              "\n",
              "    .dataframe tbody tr th {\n",
              "        vertical-align: top;\n",
              "    }\n",
              "\n",
              "    .dataframe thead th {\n",
              "        text-align: right;\n",
              "    }\n",
              "</style>\n",
              "<table border=\"1\" class=\"dataframe\">\n",
              "  <thead>\n",
              "    <tr style=\"text-align: right;\">\n",
              "      <th></th>\n",
              "      <th>Unnamed: 0</th>\n",
              "      <th>Unnamed: 0.1</th>\n",
              "      <th>BASE_CUSTOMER_ID</th>\n",
              "      <th>CUSTOMER_ID</th>\n",
              "      <th>AGE</th>\n",
              "      <th>GENDER_Erkek</th>\n",
              "      <th>GENDER_Kadın</th>\n",
              "      <th>MARITAL_STATUS_Bekar</th>\n",
              "      <th>MARITAL_STATUS_Evli</th>\n",
              "      <th>TOTAL_SALES_FILE_3M</th>\n",
              "      <th>SINCE_LAST_SALES_FILE_3M</th>\n",
              "      <th>TOTAL_SALES_FILE_1Y</th>\n",
              "      <th>SINCE_LAST_SALES_FILE_1Y</th>\n",
              "      <th>SINCE_LAST_SALES_FILE_ALL</th>\n",
              "      <th>TOTAL_SALES_FILE_ALL</th>\n",
              "      <th>HAS_SALES_IN_INTERVAL</th>\n",
              "    </tr>\n",
              "  </thead>\n",
              "  <tbody>\n",
              "    <tr>\n",
              "      <th>15</th>\n",
              "      <td>15.0</td>\n",
              "      <td>17.0</td>\n",
              "      <td>76345.0</td>\n",
              "      <td>1590300.0</td>\n",
              "      <td>69.0</td>\n",
              "      <td>1.0</td>\n",
              "      <td>0.0</td>\n",
              "      <td>0.0</td>\n",
              "      <td>1.0</td>\n",
              "      <td>0.0</td>\n",
              "      <td>0.0</td>\n",
              "      <td>0.0</td>\n",
              "      <td>0.0</td>\n",
              "      <td>0.0</td>\n",
              "      <td>NaN</td>\n",
              "      <td>1.0</td>\n",
              "    </tr>\n",
              "    <tr>\n",
              "      <th>107</th>\n",
              "      <td>107.0</td>\n",
              "      <td>118.0</td>\n",
              "      <td>141024.0</td>\n",
              "      <td>1799695.0</td>\n",
              "      <td>32.0</td>\n",
              "      <td>1.0</td>\n",
              "      <td>0.0</td>\n",
              "      <td>1.0</td>\n",
              "      <td>0.0</td>\n",
              "      <td>0.0</td>\n",
              "      <td>0.0</td>\n",
              "      <td>0.0</td>\n",
              "      <td>0.0</td>\n",
              "      <td>0.0</td>\n",
              "      <td>NaN</td>\n",
              "      <td>1.0</td>\n",
              "    </tr>\n",
              "    <tr>\n",
              "      <th>279</th>\n",
              "      <td>279.0</td>\n",
              "      <td>313.0</td>\n",
              "      <td>142255.0</td>\n",
              "      <td>1405811.0</td>\n",
              "      <td>61.0</td>\n",
              "      <td>1.0</td>\n",
              "      <td>0.0</td>\n",
              "      <td>0.0</td>\n",
              "      <td>1.0</td>\n",
              "      <td>0.0</td>\n",
              "      <td>0.0</td>\n",
              "      <td>0.0</td>\n",
              "      <td>0.0</td>\n",
              "      <td>0.0</td>\n",
              "      <td>NaN</td>\n",
              "      <td>1.0</td>\n",
              "    </tr>\n",
              "    <tr>\n",
              "      <th>373</th>\n",
              "      <td>373.0</td>\n",
              "      <td>418.0</td>\n",
              "      <td>119062.0</td>\n",
              "      <td>1331692.0</td>\n",
              "      <td>63.0</td>\n",
              "      <td>1.0</td>\n",
              "      <td>0.0</td>\n",
              "      <td>0.0</td>\n",
              "      <td>1.0</td>\n",
              "      <td>0.0</td>\n",
              "      <td>0.0</td>\n",
              "      <td>0.0</td>\n",
              "      <td>0.0</td>\n",
              "      <td>0.0</td>\n",
              "      <td>NaN</td>\n",
              "      <td>1.0</td>\n",
              "    </tr>\n",
              "    <tr>\n",
              "      <th>472</th>\n",
              "      <td>472.0</td>\n",
              "      <td>524.0</td>\n",
              "      <td>18502.0</td>\n",
              "      <td>1056948.0</td>\n",
              "      <td>60.0</td>\n",
              "      <td>1.0</td>\n",
              "      <td>0.0</td>\n",
              "      <td>0.0</td>\n",
              "      <td>1.0</td>\n",
              "      <td>0.0</td>\n",
              "      <td>0.0</td>\n",
              "      <td>0.0</td>\n",
              "      <td>0.0</td>\n",
              "      <td>0.0</td>\n",
              "      <td>NaN</td>\n",
              "      <td>1.0</td>\n",
              "    </tr>\n",
              "    <tr>\n",
              "      <th>...</th>\n",
              "      <td>...</td>\n",
              "      <td>...</td>\n",
              "      <td>...</td>\n",
              "      <td>...</td>\n",
              "      <td>...</td>\n",
              "      <td>...</td>\n",
              "      <td>...</td>\n",
              "      <td>...</td>\n",
              "      <td>...</td>\n",
              "      <td>...</td>\n",
              "      <td>...</td>\n",
              "      <td>...</td>\n",
              "      <td>...</td>\n",
              "      <td>...</td>\n",
              "      <td>...</td>\n",
              "      <td>...</td>\n",
              "    </tr>\n",
              "    <tr>\n",
              "      <th>849695</th>\n",
              "      <td>NaN</td>\n",
              "      <td>NaN</td>\n",
              "      <td>NaN</td>\n",
              "      <td>NaN</td>\n",
              "      <td>NaN</td>\n",
              "      <td>NaN</td>\n",
              "      <td>NaN</td>\n",
              "      <td>NaN</td>\n",
              "      <td>NaN</td>\n",
              "      <td>NaN</td>\n",
              "      <td>NaN</td>\n",
              "      <td>NaN</td>\n",
              "      <td>NaN</td>\n",
              "      <td>NaN</td>\n",
              "      <td>NaN</td>\n",
              "      <td>1.0</td>\n",
              "    </tr>\n",
              "    <tr>\n",
              "      <th>849706</th>\n",
              "      <td>NaN</td>\n",
              "      <td>NaN</td>\n",
              "      <td>NaN</td>\n",
              "      <td>NaN</td>\n",
              "      <td>NaN</td>\n",
              "      <td>NaN</td>\n",
              "      <td>NaN</td>\n",
              "      <td>NaN</td>\n",
              "      <td>NaN</td>\n",
              "      <td>NaN</td>\n",
              "      <td>NaN</td>\n",
              "      <td>NaN</td>\n",
              "      <td>NaN</td>\n",
              "      <td>NaN</td>\n",
              "      <td>NaN</td>\n",
              "      <td>1.0</td>\n",
              "    </tr>\n",
              "    <tr>\n",
              "      <th>849721</th>\n",
              "      <td>NaN</td>\n",
              "      <td>NaN</td>\n",
              "      <td>NaN</td>\n",
              "      <td>NaN</td>\n",
              "      <td>NaN</td>\n",
              "      <td>NaN</td>\n",
              "      <td>NaN</td>\n",
              "      <td>NaN</td>\n",
              "      <td>NaN</td>\n",
              "      <td>NaN</td>\n",
              "      <td>NaN</td>\n",
              "      <td>NaN</td>\n",
              "      <td>NaN</td>\n",
              "      <td>NaN</td>\n",
              "      <td>NaN</td>\n",
              "      <td>1.0</td>\n",
              "    </tr>\n",
              "    <tr>\n",
              "      <th>849832</th>\n",
              "      <td>NaN</td>\n",
              "      <td>NaN</td>\n",
              "      <td>NaN</td>\n",
              "      <td>NaN</td>\n",
              "      <td>NaN</td>\n",
              "      <td>NaN</td>\n",
              "      <td>NaN</td>\n",
              "      <td>NaN</td>\n",
              "      <td>NaN</td>\n",
              "      <td>NaN</td>\n",
              "      <td>NaN</td>\n",
              "      <td>NaN</td>\n",
              "      <td>NaN</td>\n",
              "      <td>NaN</td>\n",
              "      <td>NaN</td>\n",
              "      <td>1.0</td>\n",
              "    </tr>\n",
              "    <tr>\n",
              "      <th>849870</th>\n",
              "      <td>NaN</td>\n",
              "      <td>NaN</td>\n",
              "      <td>NaN</td>\n",
              "      <td>NaN</td>\n",
              "      <td>NaN</td>\n",
              "      <td>NaN</td>\n",
              "      <td>NaN</td>\n",
              "      <td>NaN</td>\n",
              "      <td>NaN</td>\n",
              "      <td>NaN</td>\n",
              "      <td>NaN</td>\n",
              "      <td>NaN</td>\n",
              "      <td>NaN</td>\n",
              "      <td>NaN</td>\n",
              "      <td>NaN</td>\n",
              "      <td>1.0</td>\n",
              "    </tr>\n",
              "  </tbody>\n",
              "</table>\n",
              "<p>7619 rows × 16 columns</p>\n",
              "</div>"
            ],
            "text/plain": [
              "        Unnamed: 0  Unnamed: 0.1  ...  TOTAL_SALES_FILE_ALL  HAS_SALES_IN_INTERVAL\n",
              "15            15.0          17.0  ...                   NaN                    1.0\n",
              "107          107.0         118.0  ...                   NaN                    1.0\n",
              "279          279.0         313.0  ...                   NaN                    1.0\n",
              "373          373.0         418.0  ...                   NaN                    1.0\n",
              "472          472.0         524.0  ...                   NaN                    1.0\n",
              "...            ...           ...  ...                   ...                    ...\n",
              "849695         NaN           NaN  ...                   NaN                    1.0\n",
              "849706         NaN           NaN  ...                   NaN                    1.0\n",
              "849721         NaN           NaN  ...                   NaN                    1.0\n",
              "849832         NaN           NaN  ...                   NaN                    1.0\n",
              "849870         NaN           NaN  ...                   NaN                    1.0\n",
              "\n",
              "[7619 rows x 16 columns]"
            ]
          },
          "execution_count": 21,
          "metadata": {},
          "output_type": "execute_result"
        }
      ],
      "source": [
        "df_final[ df_final['HAS_SALES_IN_INTERVAL']==1]"
      ]
    },
    {
      "cell_type": "code",
      "execution_count": null,
      "metadata": {
        "colab": {
          "base_uri": "https://localhost:8080/"
        },
        "id": "sujoPgNeu79L",
        "outputId": "a395420c-df6e-4ba4-d88b-ed316891b90d"
      },
      "outputs": [
        {
          "data": {
            "text/plain": [
              "Unnamed: 0                      742\n",
              "Unnamed: 0.1                    742\n",
              "BASE_CUSTOMER_ID                742\n",
              "CUSTOMER_ID                     742\n",
              "AGE                             742\n",
              "GENDER_Erkek                    742\n",
              "GENDER_Kadın                    742\n",
              "MARITAL_STATUS_Bekar            742\n",
              "MARITAL_STATUS_Evli             742\n",
              "TOTAL_SALES_FILE_3M             742\n",
              "SINCE_LAST_SALES_FILE_3M        742\n",
              "TOTAL_SALES_FILE_1Y             742\n",
              "SINCE_LAST_SALES_FILE_1Y        742\n",
              "SINCE_LAST_SALES_FILE_ALL       742\n",
              "TOTAL_SALES_FILE_ALL         727304\n",
              "HAS_SALES_IN_INTERVAL             0\n",
              "dtype: int64"
            ]
          },
          "execution_count": 22,
          "metadata": {},
          "output_type": "execute_result"
        }
      ],
      "source": [
        "df_final.isna().sum()"
      ]
    },
    {
      "cell_type": "code",
      "execution_count": null,
      "metadata": {
        "colab": {
          "base_uri": "https://localhost:8080/",
          "height": 240
        },
        "id": "9zAyDd9fsLtw",
        "outputId": "db90cc24-1522-4a2c-edb5-7d751d402045"
      },
      "outputs": [
        {
          "data": {
            "text/html": [
              "<div>\n",
              "<style scoped>\n",
              "    .dataframe tbody tr th:only-of-type {\n",
              "        vertical-align: middle;\n",
              "    }\n",
              "\n",
              "    .dataframe tbody tr th {\n",
              "        vertical-align: top;\n",
              "    }\n",
              "\n",
              "    .dataframe thead th {\n",
              "        text-align: right;\n",
              "    }\n",
              "</style>\n",
              "<table border=\"1\" class=\"dataframe\">\n",
              "  <thead>\n",
              "    <tr style=\"text-align: right;\">\n",
              "      <th></th>\n",
              "      <th>Unnamed: 0</th>\n",
              "      <th>Unnamed: 0.1</th>\n",
              "      <th>BASE_CUSTOMER_ID</th>\n",
              "      <th>CUSTOMER_ID</th>\n",
              "      <th>AGE</th>\n",
              "      <th>GENDER_Erkek</th>\n",
              "      <th>GENDER_Kadın</th>\n",
              "      <th>MARITAL_STATUS_Bekar</th>\n",
              "      <th>MARITAL_STATUS_Evli</th>\n",
              "      <th>TOTAL_SALES_FILE_3M</th>\n",
              "      <th>SINCE_LAST_SALES_FILE_3M</th>\n",
              "      <th>TOTAL_SALES_FILE_1Y</th>\n",
              "      <th>SINCE_LAST_SALES_FILE_1Y</th>\n",
              "      <th>SINCE_LAST_SALES_FILE_ALL</th>\n",
              "      <th>TOTAL_SALES_FILE_ALL</th>\n",
              "      <th>HAS_SALES_IN_INTERVAL</th>\n",
              "    </tr>\n",
              "  </thead>\n",
              "  <tbody>\n",
              "    <tr>\n",
              "      <th>0</th>\n",
              "      <td>0.0</td>\n",
              "      <td>0.0</td>\n",
              "      <td>158891.0</td>\n",
              "      <td>1747700.0</td>\n",
              "      <td>46.0</td>\n",
              "      <td>1.0</td>\n",
              "      <td>0.0</td>\n",
              "      <td>0.0</td>\n",
              "      <td>1.0</td>\n",
              "      <td>0.0</td>\n",
              "      <td>0.0</td>\n",
              "      <td>0.0</td>\n",
              "      <td>0.0</td>\n",
              "      <td>0.0</td>\n",
              "      <td>NaN</td>\n",
              "      <td>0.0</td>\n",
              "    </tr>\n",
              "    <tr>\n",
              "      <th>1</th>\n",
              "      <td>1.0</td>\n",
              "      <td>1.0</td>\n",
              "      <td>169233.0</td>\n",
              "      <td>1710561.0</td>\n",
              "      <td>59.0</td>\n",
              "      <td>1.0</td>\n",
              "      <td>0.0</td>\n",
              "      <td>0.0</td>\n",
              "      <td>1.0</td>\n",
              "      <td>0.0</td>\n",
              "      <td>0.0</td>\n",
              "      <td>0.0</td>\n",
              "      <td>0.0</td>\n",
              "      <td>0.0</td>\n",
              "      <td>NaN</td>\n",
              "      <td>0.0</td>\n",
              "    </tr>\n",
              "    <tr>\n",
              "      <th>2</th>\n",
              "      <td>2.0</td>\n",
              "      <td>2.0</td>\n",
              "      <td>30887.0</td>\n",
              "      <td>1043923.0</td>\n",
              "      <td>50.0</td>\n",
              "      <td>1.0</td>\n",
              "      <td>0.0</td>\n",
              "      <td>0.0</td>\n",
              "      <td>1.0</td>\n",
              "      <td>0.0</td>\n",
              "      <td>0.0</td>\n",
              "      <td>0.0</td>\n",
              "      <td>0.0</td>\n",
              "      <td>0.0</td>\n",
              "      <td>NaN</td>\n",
              "      <td>0.0</td>\n",
              "    </tr>\n",
              "    <tr>\n",
              "      <th>3</th>\n",
              "      <td>3.0</td>\n",
              "      <td>4.0</td>\n",
              "      <td>157091.0</td>\n",
              "      <td>1819787.0</td>\n",
              "      <td>72.0</td>\n",
              "      <td>0.0</td>\n",
              "      <td>1.0</td>\n",
              "      <td>0.0</td>\n",
              "      <td>1.0</td>\n",
              "      <td>0.0</td>\n",
              "      <td>0.0</td>\n",
              "      <td>0.0</td>\n",
              "      <td>0.0</td>\n",
              "      <td>0.0</td>\n",
              "      <td>NaN</td>\n",
              "      <td>0.0</td>\n",
              "    </tr>\n",
              "    <tr>\n",
              "      <th>4</th>\n",
              "      <td>4.0</td>\n",
              "      <td>5.0</td>\n",
              "      <td>6590.0</td>\n",
              "      <td>1826742.0</td>\n",
              "      <td>69.0</td>\n",
              "      <td>1.0</td>\n",
              "      <td>0.0</td>\n",
              "      <td>0.0</td>\n",
              "      <td>1.0</td>\n",
              "      <td>0.0</td>\n",
              "      <td>0.0</td>\n",
              "      <td>0.0</td>\n",
              "      <td>0.0</td>\n",
              "      <td>0.0</td>\n",
              "      <td>NaN</td>\n",
              "      <td>0.0</td>\n",
              "    </tr>\n",
              "  </tbody>\n",
              "</table>\n",
              "</div>"
            ],
            "text/plain": [
              "   Unnamed: 0  Unnamed: 0.1  ...  TOTAL_SALES_FILE_ALL  HAS_SALES_IN_INTERVAL\n",
              "0         0.0           0.0  ...                   NaN                    0.0\n",
              "1         1.0           1.0  ...                   NaN                    0.0\n",
              "2         2.0           2.0  ...                   NaN                    0.0\n",
              "3         3.0           4.0  ...                   NaN                    0.0\n",
              "4         4.0           5.0  ...                   NaN                    0.0\n",
              "\n",
              "[5 rows x 16 columns]"
            ]
          },
          "execution_count": 20,
          "metadata": {},
          "output_type": "execute_result"
        }
      ],
      "source": [
        "df_final.head(5)"
      ]
    },
    {
      "cell_type": "code",
      "execution_count": null,
      "metadata": {
        "colab": {
          "base_uri": "https://localhost:8080/",
          "height": 147
        },
        "id": "hvsyHvYwnJ-n",
        "outputId": "c8877cac-c339-4c9e-e825-04567470fd6b"
      },
      "outputs": [
        {
          "data": {
            "text/html": [
              "<div>\n",
              "<style scoped>\n",
              "    .dataframe tbody tr th:only-of-type {\n",
              "        vertical-align: middle;\n",
              "    }\n",
              "\n",
              "    .dataframe tbody tr th {\n",
              "        vertical-align: top;\n",
              "    }\n",
              "\n",
              "    .dataframe thead th {\n",
              "        text-align: right;\n",
              "    }\n",
              "</style>\n",
              "<table border=\"1\" class=\"dataframe\">\n",
              "  <thead>\n",
              "    <tr style=\"text-align: right;\">\n",
              "      <th></th>\n",
              "      <th>Unnamed: 0</th>\n",
              "      <th>BASE_CUSTOMER_ID</th>\n",
              "      <th>CUSTOMER_ID</th>\n",
              "      <th>AGE</th>\n",
              "      <th>GENDER_Erkek</th>\n",
              "      <th>GENDER_Kadın</th>\n",
              "      <th>MARITAL_STATUS_Bekar</th>\n",
              "      <th>MARITAL_STATUS_Evli</th>\n",
              "      <th>TOTAL_SALES_FILE_3M</th>\n",
              "      <th>SINCE_LAST_SALES_FILE_3M</th>\n",
              "      <th>TOTAL_SALES_FILE_1Y</th>\n",
              "      <th>SINCE_LAST_SALES_FILE_1Y</th>\n",
              "      <th>SINCE_LAST_SALES_FILE_ALL</th>\n",
              "      <th>TOTAL_SALES_FILE_ALL</th>\n",
              "    </tr>\n",
              "  </thead>\n",
              "  <tbody>\n",
              "    <tr>\n",
              "      <th>min</th>\n",
              "      <td>0</td>\n",
              "      <td>2</td>\n",
              "      <td>1000002</td>\n",
              "      <td>0</td>\n",
              "      <td>0</td>\n",
              "      <td>0</td>\n",
              "      <td>0</td>\n",
              "      <td>0</td>\n",
              "      <td>0</td>\n",
              "      <td>0</td>\n",
              "      <td>0</td>\n",
              "      <td>0</td>\n",
              "      <td>0</td>\n",
              "      <td>1.0</td>\n",
              "    </tr>\n",
              "    <tr>\n",
              "      <th>max</th>\n",
              "      <td>849918</td>\n",
              "      <td>196564</td>\n",
              "      <td>1849919</td>\n",
              "      <td>107</td>\n",
              "      <td>1</td>\n",
              "      <td>1</td>\n",
              "      <td>1</td>\n",
              "      <td>1</td>\n",
              "      <td>13</td>\n",
              "      <td>0</td>\n",
              "      <td>13</td>\n",
              "      <td>12</td>\n",
              "      <td>134</td>\n",
              "      <td>51.0</td>\n",
              "    </tr>\n",
              "  </tbody>\n",
              "</table>\n",
              "</div>"
            ],
            "text/plain": [
              "     Unnamed: 0  ...  TOTAL_SALES_FILE_ALL\n",
              "min           0  ...                   1.0\n",
              "max      849918  ...                  51.0\n",
              "\n",
              "[2 rows x 14 columns]"
            ]
          },
          "execution_count": 16,
          "metadata": {},
          "output_type": "execute_result"
        }
      ],
      "source": [
        "df_final.agg([min,max])"
      ]
    },
    {
      "cell_type": "markdown",
      "metadata": {
        "id": "cAyuzINyUB43"
      },
      "source": [
        "# Exploration for Merging"
      ]
    },
    {
      "cell_type": "code",
      "execution_count": null,
      "metadata": {
        "colab": {
          "base_uri": "https://localhost:8080/",
          "height": 133
        },
        "id": "INw8Y7jKWoY5",
        "outputId": "48681897-1431-4ca2-8e31-b9a43c42a5a4"
      },
      "outputs": [
        {
          "data": {
            "text/html": [
              "<div>\n",
              "<style scoped>\n",
              "    .dataframe tbody tr th:only-of-type {\n",
              "        vertical-align: middle;\n",
              "    }\n",
              "\n",
              "    .dataframe tbody tr th {\n",
              "        vertical-align: top;\n",
              "    }\n",
              "\n",
              "    .dataframe thead th {\n",
              "        text-align: right;\n",
              "    }\n",
              "</style>\n",
              "<table border=\"1\" class=\"dataframe\">\n",
              "  <thead>\n",
              "    <tr style=\"text-align: right;\">\n",
              "      <th></th>\n",
              "      <th>Unnamed: 0</th>\n",
              "      <th>CUSTOMER_ID</th>\n",
              "      <th>SALESFILE_ID</th>\n",
              "      <th>SF_CREATE_DATE</th>\n",
              "      <th>STATUS</th>\n",
              "      <th>REQ_BRAND_CODE</th>\n",
              "      <th>REQ_TOPMODEL_CODE</th>\n",
              "      <th>CREATE_YEAR</th>\n",
              "      <th>CREATE_MONTH</th>\n",
              "    </tr>\n",
              "  </thead>\n",
              "  <tbody>\n",
              "    <tr>\n",
              "      <th>0</th>\n",
              "      <td>0</td>\n",
              "      <td>1712792</td>\n",
              "      <td>7274467.0</td>\n",
              "      <td>2017-11-17 12:15:39</td>\n",
              "      <td>101</td>\n",
              "      <td>Y</td>\n",
              "      <td>9231.0</td>\n",
              "      <td>2017</td>\n",
              "      <td>11</td>\n",
              "    </tr>\n",
              "  </tbody>\n",
              "</table>\n",
              "</div>"
            ],
            "text/plain": [
              "   Unnamed: 0  CUSTOMER_ID  ...  CREATE_YEAR CREATE_MONTH\n",
              "0           0      1712792  ...         2017           11\n",
              "\n",
              "[1 rows x 9 columns]"
            ]
          },
          "execution_count": 30,
          "metadata": {},
          "output_type": "execute_result"
        }
      ],
      "source": [
        "df_sales.head(1)"
      ]
    },
    {
      "cell_type": "code",
      "execution_count": null,
      "metadata": {
        "colab": {
          "base_uri": "https://localhost:8080/",
          "height": 116
        },
        "id": "Nw1aaxSEVuz5",
        "outputId": "e75ed29b-2785-457a-961c-871006df195c"
      },
      "outputs": [
        {
          "data": {
            "text/html": [
              "<div>\n",
              "<style scoped>\n",
              "    .dataframe tbody tr th:only-of-type {\n",
              "        vertical-align: middle;\n",
              "    }\n",
              "\n",
              "    .dataframe tbody tr th {\n",
              "        vertical-align: top;\n",
              "    }\n",
              "\n",
              "    .dataframe thead th {\n",
              "        text-align: right;\n",
              "    }\n",
              "</style>\n",
              "<table border=\"1\" class=\"dataframe\">\n",
              "  <thead>\n",
              "    <tr style=\"text-align: right;\">\n",
              "      <th></th>\n",
              "      <th>Unnamed: 0</th>\n",
              "      <th>BASE_CUSTOMER_ID</th>\n",
              "      <th>CUSTOMER_ID</th>\n",
              "      <th>GENDER</th>\n",
              "      <th>GENDER_ID</th>\n",
              "      <th>MARITAL_STATUS</th>\n",
              "      <th>MARITAL_STATUS_ID</th>\n",
              "      <th>BIRTH_DATE</th>\n",
              "      <th>FK_ADDRESS_COMMUNICATION_CITY</th>\n",
              "      <th>OCCUPATION</th>\n",
              "    </tr>\n",
              "  </thead>\n",
              "  <tbody>\n",
              "    <tr>\n",
              "      <th>374633</th>\n",
              "      <td>374633</td>\n",
              "      <td>31024</td>\n",
              "      <td>1712792</td>\n",
              "      <td>Erkek</td>\n",
              "      <td>100</td>\n",
              "      <td>Evli</td>\n",
              "      <td>101</td>\n",
              "      <td>1971.0</td>\n",
              "      <td>Düzce</td>\n",
              "      <td>Diğer</td>\n",
              "    </tr>\n",
              "  </tbody>\n",
              "</table>\n",
              "</div>"
            ],
            "text/plain": [
              "        Unnamed: 0  BASE_CUSTOMER_ID  ...  FK_ADDRESS_COMMUNICATION_CITY OCCUPATION\n",
              "374633      374633             31024  ...                          Düzce      Diğer\n",
              "\n",
              "[1 rows x 10 columns]"
            ]
          },
          "execution_count": 24,
          "metadata": {},
          "output_type": "execute_result"
        }
      ],
      "source": [
        "df_customer = F_CUST_DATA\n",
        "df_customer[ df_customer['CUSTOMER_ID'] == 1712792]"
      ]
    },
    {
      "cell_type": "code",
      "execution_count": null,
      "metadata": {
        "colab": {
          "base_uri": "https://localhost:8080/",
          "height": 194
        },
        "id": "18f-kVJ_V4He",
        "outputId": "324a8252-5ce4-40e9-a568-ff6135453352"
      },
      "outputs": [
        {
          "data": {
            "text/html": [
              "<div>\n",
              "<style scoped>\n",
              "    .dataframe tbody tr th:only-of-type {\n",
              "        vertical-align: middle;\n",
              "    }\n",
              "\n",
              "    .dataframe tbody tr th {\n",
              "        vertical-align: top;\n",
              "    }\n",
              "\n",
              "    .dataframe thead th {\n",
              "        text-align: right;\n",
              "    }\n",
              "</style>\n",
              "<table border=\"1\" class=\"dataframe\">\n",
              "  <thead>\n",
              "    <tr style=\"text-align: right;\">\n",
              "      <th></th>\n",
              "      <th>Unnamed: 0</th>\n",
              "      <th>BASE_CUSTOMER_ID</th>\n",
              "      <th>VEHICLE_ID</th>\n",
              "      <th>START_DATE</th>\n",
              "      <th>END_DATE</th>\n",
              "      <th>FK_RELATION_STATUS_ID</th>\n",
              "      <th>FK_RELATION_STATUS_EXPLANATION</th>\n",
              "    </tr>\n",
              "  </thead>\n",
              "  <tbody>\n",
              "    <tr>\n",
              "      <th>102956</th>\n",
              "      <td>102956</td>\n",
              "      <td>31024</td>\n",
              "      <td>5067245</td>\n",
              "      <td>2004-08-18</td>\n",
              "      <td>NaN</td>\n",
              "      <td>1</td>\n",
              "      <td>Aktif Ruhsat Sahibi</td>\n",
              "    </tr>\n",
              "    <tr>\n",
              "      <th>281601</th>\n",
              "      <td>281601</td>\n",
              "      <td>31024</td>\n",
              "      <td>5280177</td>\n",
              "      <td>2015-10-09</td>\n",
              "      <td>NaN</td>\n",
              "      <td>1</td>\n",
              "      <td>Aktif Ruhsat Sahibi</td>\n",
              "    </tr>\n",
              "    <tr>\n",
              "      <th>297993</th>\n",
              "      <td>297993</td>\n",
              "      <td>31024</td>\n",
              "      <td>5315137</td>\n",
              "      <td>2017-12-12</td>\n",
              "      <td>2020-04-30</td>\n",
              "      <td>2</td>\n",
              "      <td>Pasif Ruhsat Sahibi</td>\n",
              "    </tr>\n",
              "  </tbody>\n",
              "</table>\n",
              "</div>"
            ],
            "text/plain": [
              "        Unnamed: 0  ...  FK_RELATION_STATUS_EXPLANATION\n",
              "102956      102956  ...             Aktif Ruhsat Sahibi\n",
              "281601      281601  ...             Aktif Ruhsat Sahibi\n",
              "297993      297993  ...             Pasif Ruhsat Sahibi\n",
              "\n",
              "[3 rows x 7 columns]"
            ]
          },
          "execution_count": 33,
          "metadata": {},
          "output_type": "execute_result"
        }
      ],
      "source": [
        "df_cust_rel = F_CUST_RELATED_DATA\n",
        "df_cust_rel[ df_cust_rel['BASE_CUSTOMER_ID'] == 31024]\n",
        "                .sort_values(by=['START_DATE'])"
      ]
    },
    {
      "cell_type": "code",
      "execution_count": null,
      "metadata": {
        "colab": {
          "base_uri": "https://localhost:8080/"
        },
        "id": "iymJcr4JTiTw",
        "outputId": "2e12c365-c156-4891-f80b-7374f100a45b"
      },
      "outputs": [
        {
          "data": {
            "text/html": [
              "<div>\n",
              "<style scoped>\n",
              "    .dataframe tbody tr th:only-of-type {\n",
              "        vertical-align: middle;\n",
              "    }\n",
              "\n",
              "    .dataframe tbody tr th {\n",
              "        vertical-align: top;\n",
              "    }\n",
              "\n",
              "    .dataframe thead th {\n",
              "        text-align: right;\n",
              "    }\n",
              "</style>\n",
              "<table border=\"1\" class=\"dataframe\">\n",
              "  <thead>\n",
              "    <tr style=\"text-align: right;\">\n",
              "      <th></th>\n",
              "      <th>Unnamed: 0</th>\n",
              "      <th>VEHICLE_ID</th>\n",
              "      <th>TRAFFIC_DATE</th>\n",
              "      <th>BRAND_CODE</th>\n",
              "      <th>BASEMODEL_CODE</th>\n",
              "      <th>TOPMODEL_CODE</th>\n",
              "      <th>MOTOR_GAS_TYPE</th>\n",
              "      <th>GEAR_BOX_TYPE</th>\n",
              "    </tr>\n",
              "  </thead>\n",
              "  <tbody>\n",
              "    <tr>\n",
              "      <th>127894</th>\n",
              "      <td>127894</td>\n",
              "      <td>5341920</td>\n",
              "      <td>2021-01-25</td>\n",
              "      <td>Y</td>\n",
              "      <td>16518</td>\n",
              "      <td>9625</td>\n",
              "      <td>?Benzin</td>\n",
              "      <td>?automatisch</td>\n",
              "    </tr>\n",
              "  </tbody>\n",
              "</table>\n",
              "</div>"
            ],
            "text/plain": [
              "        Unnamed: 0  VEHICLE_ID  ... MOTOR_GAS_TYPE GEAR_BOX_TYPE\n",
              "127894      127894     5341920  ...        ?Benzin  ?automatisch\n",
              "\n",
              "[1 rows x 8 columns]"
            ]
          },
          "execution_count": 114,
          "metadata": {},
          "output_type": "execute_result"
        }
      ],
      "source": [
        "df_vehicle = F_VEHICLE_DATA.copy()\n",
        "df_vehicle[df_vehicle['VEHICLE_ID'] == 5341920]"
      ]
    },
    {
      "cell_type": "code",
      "execution_count": null,
      "metadata": {
        "colab": {
          "base_uri": "https://localhost:8080/",
          "height": 79
        },
        "id": "YUvcuUeFUjNo",
        "outputId": "2e8d10d8-7657-477e-cd01-6ae0a5878d00"
      },
      "outputs": [
        {
          "data": {
            "text/html": [
              "<div>\n",
              "<style scoped>\n",
              "    .dataframe tbody tr th:only-of-type {\n",
              "        vertical-align: middle;\n",
              "    }\n",
              "\n",
              "    .dataframe tbody tr th {\n",
              "        vertical-align: top;\n",
              "    }\n",
              "\n",
              "    .dataframe thead th {\n",
              "        text-align: right;\n",
              "    }\n",
              "</style>\n",
              "<table border=\"1\" class=\"dataframe\">\n",
              "  <thead>\n",
              "    <tr style=\"text-align: right;\">\n",
              "      <th></th>\n",
              "      <th>Unnamed: 0</th>\n",
              "      <th>VEHICLE_ID</th>\n",
              "      <th>CUSTOMER_ID</th>\n",
              "      <th>CREATE_DATE</th>\n",
              "    </tr>\n",
              "  </thead>\n",
              "  <tbody>\n",
              "    <tr>\n",
              "      <th>133792</th>\n",
              "      <td>133792</td>\n",
              "      <td>5341920</td>\n",
              "      <td>1573659</td>\n",
              "      <td>2021-01-22 12:26:56</td>\n",
              "    </tr>\n",
              "  </tbody>\n",
              "</table>\n",
              "</div>"
            ],
            "text/plain": [
              "        Unnamed: 0  VEHICLE_ID  CUSTOMER_ID          CREATE_DATE\n",
              "133792      133792     5341920      1573659  2021-01-22 12:26:56"
            ]
          },
          "execution_count": 72,
          "metadata": {},
          "output_type": "execute_result"
        }
      ],
      "source": [
        "# F_SIFIR_ARAC_DATA.head(6)\n",
        "df_sifir = F_SIFIR_ARAC_DATA.copy()\n",
        "df_sifir[ df_sifir['VEHICLE_ID']== 5341920]"
      ]
    },
    {
      "cell_type": "code",
      "execution_count": null,
      "metadata": {
        "colab": {
          "base_uri": "https://localhost:8080/",
          "height": 178
        },
        "id": "MUFeEEIxU1rY",
        "outputId": "010eccd6-b2ae-4031-bb75-bf6ed47c03a4"
      },
      "outputs": [
        {
          "data": {
            "text/html": [
              "<div>\n",
              "<style scoped>\n",
              "    .dataframe tbody tr th:only-of-type {\n",
              "        vertical-align: middle;\n",
              "    }\n",
              "\n",
              "    .dataframe tbody tr th {\n",
              "        vertical-align: top;\n",
              "    }\n",
              "\n",
              "    .dataframe thead th {\n",
              "        text-align: right;\n",
              "    }\n",
              "</style>\n",
              "<table border=\"1\" class=\"dataframe\">\n",
              "  <thead>\n",
              "    <tr style=\"text-align: right;\">\n",
              "      <th></th>\n",
              "      <th>Unnamed: 0</th>\n",
              "      <th>VEHICLE_ID</th>\n",
              "      <th>TRAFFIC_DATE</th>\n",
              "      <th>BRAND_CODE</th>\n",
              "      <th>BASEMODEL_CODE</th>\n",
              "      <th>TOPMODEL_CODE</th>\n",
              "      <th>MOTOR_GAS_TYPE</th>\n",
              "      <th>GEAR_BOX_TYPE</th>\n",
              "    </tr>\n",
              "  </thead>\n",
              "  <tbody>\n",
              "    <tr>\n",
              "      <th>127894</th>\n",
              "      <td>127894</td>\n",
              "      <td>5341920</td>\n",
              "      <td>2021-01-25</td>\n",
              "      <td>Y</td>\n",
              "      <td>16518</td>\n",
              "      <td>9625</td>\n",
              "      <td>?Benzin</td>\n",
              "      <td>?automatisch</td>\n",
              "    </tr>\n",
              "    <tr>\n",
              "      <th>47881</th>\n",
              "      <td>47881</td>\n",
              "      <td>5113901</td>\n",
              "      <td>2006-02-21</td>\n",
              "      <td>T</td>\n",
              "      <td>13907</td>\n",
              "      <td>9383</td>\n",
              "      <td>Kurşunsuz Benzin</td>\n",
              "      <td>Otomatik</td>\n",
              "    </tr>\n",
              "    <tr>\n",
              "      <th>164611</th>\n",
              "      <td>164611</td>\n",
              "      <td>5342339</td>\n",
              "      <td>2021-03-19</td>\n",
              "      <td>Y</td>\n",
              "      <td>16442</td>\n",
              "      <td>9605</td>\n",
              "      <td>Benzin</td>\n",
              "      <td>Otomatik (DSG)</td>\n",
              "    </tr>\n",
              "  </tbody>\n",
              "</table>\n",
              "</div>"
            ],
            "text/plain": [
              "        Unnamed: 0  VEHICLE_ID  ...    MOTOR_GAS_TYPE   GEAR_BOX_TYPE\n",
              "127894      127894     5341920  ...           ?Benzin    ?automatisch\n",
              "47881        47881     5113901  ...  Kurşunsuz Benzin        Otomatik\n",
              "164611      164611     5342339  ...            Benzin  Otomatik (DSG)\n",
              "\n",
              "[3 rows x 8 columns]"
            ]
          },
          "execution_count": 71,
          "metadata": {},
          "output_type": "execute_result"
        }
      ],
      "source": [
        "df_vehicle.sample(n=3) # Get 3 Random Values"
      ]
    },
    {
      "cell_type": "code",
      "execution_count": null,
      "metadata": {
        "id": "twJeSZGf2muQ"
      },
      "outputs": [],
      "source": [
        "sifir_arac_data = pd.merge(df,F_VEHICLE_DATA, on='VEHICLE_ID')"
      ]
    },
    {
      "cell_type": "markdown",
      "metadata": {
        "id": "hvjKVOQBfQ3S"
      },
      "source": [
        "# BUILDING THE MODEL"
      ]
    },
    {
      "cell_type": "code",
      "execution_count": null,
      "metadata": {
        "id": "9ZWVX50cfScg"
      },
      "outputs": [],
      "source": [
        "sample_data = pd.read_csv('sample_submission.csv.zip')"
      ]
    },
    {
      "cell_type": "code",
      "execution_count": null,
      "metadata": {
        "colab": {
          "base_uri": "https://localhost:8080/",
          "height": 417
        },
        "id": "hMA7YGIM6jZm",
        "outputId": "385f4f81-6915-4865-f897-80f034ef52e3"
      },
      "outputs": [
        {
          "data": {
            "text/html": [
              "<div>\n",
              "<style scoped>\n",
              "    .dataframe tbody tr th:only-of-type {\n",
              "        vertical-align: middle;\n",
              "    }\n",
              "\n",
              "    .dataframe tbody tr th {\n",
              "        vertical-align: top;\n",
              "    }\n",
              "\n",
              "    .dataframe thead th {\n",
              "        text-align: right;\n",
              "    }\n",
              "</style>\n",
              "<table border=\"1\" class=\"dataframe\">\n",
              "  <thead>\n",
              "    <tr style=\"text-align: right;\">\n",
              "      <th></th>\n",
              "      <th>Id</th>\n",
              "      <th>Expected</th>\n",
              "    </tr>\n",
              "  </thead>\n",
              "  <tbody>\n",
              "    <tr>\n",
              "      <th>0</th>\n",
              "      <td>168254</td>\n",
              "      <td>NaN</td>\n",
              "    </tr>\n",
              "    <tr>\n",
              "      <th>1</th>\n",
              "      <td>124747</td>\n",
              "      <td>NaN</td>\n",
              "    </tr>\n",
              "    <tr>\n",
              "      <th>2</th>\n",
              "      <td>135493</td>\n",
              "      <td>NaN</td>\n",
              "    </tr>\n",
              "    <tr>\n",
              "      <th>3</th>\n",
              "      <td>90543</td>\n",
              "      <td>NaN</td>\n",
              "    </tr>\n",
              "    <tr>\n",
              "      <th>4</th>\n",
              "      <td>40421</td>\n",
              "      <td>NaN</td>\n",
              "    </tr>\n",
              "    <tr>\n",
              "      <th>...</th>\n",
              "      <td>...</td>\n",
              "      <td>...</td>\n",
              "    </tr>\n",
              "    <tr>\n",
              "      <th>166938</th>\n",
              "      <td>53945</td>\n",
              "      <td>NaN</td>\n",
              "    </tr>\n",
              "    <tr>\n",
              "      <th>166939</th>\n",
              "      <td>98842</td>\n",
              "      <td>NaN</td>\n",
              "    </tr>\n",
              "    <tr>\n",
              "      <th>166940</th>\n",
              "      <td>55766</td>\n",
              "      <td>NaN</td>\n",
              "    </tr>\n",
              "    <tr>\n",
              "      <th>166941</th>\n",
              "      <td>22680</td>\n",
              "      <td>NaN</td>\n",
              "    </tr>\n",
              "    <tr>\n",
              "      <th>166942</th>\n",
              "      <td>154304</td>\n",
              "      <td>NaN</td>\n",
              "    </tr>\n",
              "  </tbody>\n",
              "</table>\n",
              "<p>166943 rows × 2 columns</p>\n",
              "</div>"
            ],
            "text/plain": [
              "            Id  Expected\n",
              "0       168254       NaN\n",
              "1       124747       NaN\n",
              "2       135493       NaN\n",
              "3        90543       NaN\n",
              "4        40421       NaN\n",
              "...        ...       ...\n",
              "166938   53945       NaN\n",
              "166939   98842       NaN\n",
              "166940   55766       NaN\n",
              "166941   22680       NaN\n",
              "166942  154304       NaN\n",
              "\n",
              "[166943 rows x 2 columns]"
            ]
          },
          "execution_count": 32,
          "metadata": {},
          "output_type": "execute_result"
        }
      ],
      "source": [
        "sample_data"
      ]
    },
    {
      "cell_type": "markdown",
      "metadata": {
        "id": "R55lFyS2tGJa"
      },
      "source": [
        "# BUILDING NEURAL NETWORK MODEL"
      ]
    },
    {
      "cell_type": "code",
      "execution_count": null,
      "metadata": {
        "id": "vC3uBu1ivx_R"
      },
      "outputs": [],
      "source": [
        "df = pd.read_csv('drive/MyDrive/DF_FINAL_MERGED_wSIFIR_2021_3.csv')"
      ]
    },
    {
      "cell_type": "code",
      "execution_count": null,
      "metadata": {
        "id": "TvhnT4aXvzZs"
      },
      "outputs": [],
      "source": [
        "df.drop(['Unnamed: 0', 'BASE_CUSTOMER_ID', 'CUSTOMER_ID'], axis=1, inplace=True)\n",
        "y = df['HAS_SALES_IN_INTERVAL'].copy()\n",
        "X = df.drop('HAS_SALES_IN_INTERVAL', axis=1)"
      ]
    },
    {
      "cell_type": "code",
      "execution_count": null,
      "metadata": {
        "colab": {
          "base_uri": "https://localhost:8080/",
          "height": 100
        },
        "id": "1-lCiYwZv0qH",
        "outputId": "fc566d95-57e1-47d5-8b95-dfa6848cb35e"
      },
      "outputs": [
        {
          "data": {
            "text/html": [
              "<div>\n",
              "<style scoped>\n",
              "    .dataframe tbody tr th:only-of-type {\n",
              "        vertical-align: middle;\n",
              "    }\n",
              "\n",
              "    .dataframe tbody tr th {\n",
              "        vertical-align: top;\n",
              "    }\n",
              "\n",
              "    .dataframe thead th {\n",
              "        text-align: right;\n",
              "    }\n",
              "</style>\n",
              "<table border=\"1\" class=\"dataframe\">\n",
              "  <thead>\n",
              "    <tr style=\"text-align: right;\">\n",
              "      <th></th>\n",
              "      <th>AGE</th>\n",
              "      <th>MARITAL_STATUS_Bekar</th>\n",
              "      <th>MARITAL_STATUS_Evli</th>\n",
              "      <th>TOTAL_SALES_FILE_3M</th>\n",
              "      <th>SINCE_LAST_SALES_FILE_3M</th>\n",
              "      <th>TOTAL_SALES_FILE_1Y</th>\n",
              "      <th>SINCE_LAST_SALES_FILE_1Y</th>\n",
              "      <th>TOTAL_SALES_FILE_ALL</th>\n",
              "      <th>SINCE_LAST_SALES_FILE_ALL</th>\n",
              "      <th>TOTAL_SIFIR_ARAC_3M</th>\n",
              "      <th>SINCE_LAST_SIFIR_ARAC_3M</th>\n",
              "      <th>TOTAL_SIFIR_ARAC_1Y</th>\n",
              "      <th>SINCE_LAST_SIFIR_ARAC_1Y</th>\n",
              "      <th>TOTAL_SIFIR_ARAC_ALL</th>\n",
              "      <th>SINCE_LAST_SIFIR_ARAC_ALL</th>\n",
              "      <th>HAS_SALES_IN_INTERVAL</th>\n",
              "    </tr>\n",
              "  </thead>\n",
              "  <tbody>\n",
              "    <tr>\n",
              "      <th>0</th>\n",
              "      <td>46</td>\n",
              "      <td>0</td>\n",
              "      <td>1</td>\n",
              "      <td>0</td>\n",
              "      <td>0</td>\n",
              "      <td>0</td>\n",
              "      <td>0</td>\n",
              "      <td>0</td>\n",
              "      <td>0</td>\n",
              "      <td>0</td>\n",
              "      <td>0</td>\n",
              "      <td>1</td>\n",
              "      <td>0</td>\n",
              "      <td>2</td>\n",
              "      <td>0</td>\n",
              "      <td>0</td>\n",
              "    </tr>\n",
              "  </tbody>\n",
              "</table>\n",
              "</div>"
            ],
            "text/plain": [
              "   AGE  MARITAL_STATUS_Bekar  ...  SINCE_LAST_SIFIR_ARAC_ALL  HAS_SALES_IN_INTERVAL\n",
              "0   46                     0  ...                          0                      0\n",
              "\n",
              "[1 rows x 16 columns]"
            ]
          },
          "execution_count": 68,
          "metadata": {},
          "output_type": "execute_result"
        }
      ],
      "source": [
        "df.head(1)"
      ]
    },
    {
      "cell_type": "code",
      "execution_count": null,
      "metadata": {
        "id": "tFjpqlMqyR6x"
      },
      "outputs": [],
      "source": [
        "X = X.to_numpy()\n",
        "y = y.to_numpy()"
      ]
    },
    {
      "cell_type": "code",
      "execution_count": null,
      "metadata": {
        "id": "W7__GG64vpXC"
      },
      "outputs": [],
      "source": [
        "from sklearn.model_selection import train_test_split\n",
        "\n",
        "X_train,X_test,y_train,y_test = train_test_split(X, y, test_size=0.2, random_state=42) "
      ]
    },
    {
      "cell_type": "code",
      "execution_count": null,
      "metadata": {
        "id": "i5S_MxJlvxMh"
      },
      "outputs": [],
      "source": [
        "train_data = (X_train, y_train)"
      ]
    },
    {
      "cell_type": "code",
      "execution_count": null,
      "metadata": {
        "id": "hDtwCmevtMRY"
      },
      "outputs": [],
      "source": [
        "import tensorflow as tf\n",
        "from tensorflow import keras\n",
        "\n",
        "keras.backend.clear_session()\n",
        "tf.random.set_seed(44)\n",
        "\n",
        "model = tf.keras.models.Sequential([\n",
        "    tf.keras.Input(shape=(15,)),\n",
        "    tf.keras.layers.BatchNormalization(),\n",
        "    tf.keras.layers.Dense(100, kernel_initializer='lecun_normal', activation='selu'),\n",
        "    tf.keras.layers.BatchNormalization(),\n",
        "    tf.keras.layers.Dropout(0.5),\n",
        "    tf.keras.layers.Dense(80, kernel_initializer='lecun_normal', activation='selu'),\n",
        "    tf.keras.layers.BatchNormalization(),\n",
        "    tf.keras.layers.Dropout(0.5),\n",
        "    tf.keras.layers.Dense(80, kernel_initializer='lecun_normal', activation='selu'),\n",
        "    tf.keras.layers.BatchNormalization(),\n",
        "    tf.keras.layers.Dropout(0.5),\n",
        "    tf.keras.layers.Dense(1, activation=\"sigmoid\")\n",
        "])"
      ]
    },
    {
      "cell_type": "code",
      "execution_count": null,
      "metadata": {
        "colab": {
          "base_uri": "https://localhost:8080/"
        },
        "id": "tV8d6-p2tMMz",
        "outputId": "8cd35c48-210b-44ba-946b-7809cec3f733"
      },
      "outputs": [
        {
          "name": "stdout",
          "output_type": "stream",
          "text": [
            "Model: \"sequential\"\n",
            "_________________________________________________________________\n",
            "Layer (type)                 Output Shape              Param #   \n",
            "=================================================================\n",
            "batch_normalization (BatchNo (None, 15)                60        \n",
            "_________________________________________________________________\n",
            "dense (Dense)                (None, 100)               1600      \n",
            "_________________________________________________________________\n",
            "batch_normalization_1 (Batch (None, 100)               400       \n",
            "_________________________________________________________________\n",
            "dropout (Dropout)            (None, 100)               0         \n",
            "_________________________________________________________________\n",
            "dense_1 (Dense)              (None, 80)                8080      \n",
            "_________________________________________________________________\n",
            "batch_normalization_2 (Batch (None, 80)                320       \n",
            "_________________________________________________________________\n",
            "dropout_1 (Dropout)          (None, 80)                0         \n",
            "_________________________________________________________________\n",
            "dense_2 (Dense)              (None, 80)                6480      \n",
            "_________________________________________________________________\n",
            "batch_normalization_3 (Batch (None, 80)                320       \n",
            "_________________________________________________________________\n",
            "dropout_2 (Dropout)          (None, 80)                0         \n",
            "_________________________________________________________________\n",
            "dense_3 (Dense)              (None, 1)                 81        \n",
            "=================================================================\n",
            "Total params: 17,341\n",
            "Trainable params: 16,791\n",
            "Non-trainable params: 550\n",
            "_________________________________________________________________\n"
          ]
        }
      ],
      "source": [
        "model.summary()"
      ]
    },
    {
      "cell_type": "code",
      "execution_count": null,
      "metadata": {
        "id": "myn_mlFHu52z"
      },
      "outputs": [],
      "source": [
        "opt_list = {\n",
        "    \"sgd\": tf.keras.optimizers.SGD(learning_rate=0.01,\n",
        "                            momentum=0.95,\n",
        "                            nesterov=True),\n",
        "    \"adam\": tf.keras.optimizers.Adam(learning_rate=0.01,\n",
        "                            beta_1=0.9,\n",
        "                            beta_2=0.999),\n",
        "    \"nadam\": tf.keras.optimizers.Nadam(learning_rate=0.01,\n",
        "                              beta_1=0.9,\n",
        "                              beta_2=0.999,\n",
        "                              epsilon=1e-07),\n",
        "    \"rmsprop\":tf.keras.optimizers.RMSprop(learning_rate=0.01,\n",
        "                                rho=0.9),\n",
        "           }"
      ]
    },
    {
      "cell_type": "code",
      "execution_count": null,
      "metadata": {
        "id": "gDbxw7_3tLx1"
      },
      "outputs": [],
      "source": [
        "reduce_lr = keras.callbacks.ReduceLROnPlateau(monitor='val_loss', factor=0.5,\n",
        "                                              patience=30, min_lr=0.0001)"
      ]
    },
    {
      "cell_type": "code",
      "execution_count": null,
      "metadata": {
        "id": "eYbSgZJtu1K5"
      },
      "outputs": [],
      "source": [
        "auc = tf.keras.metrics.AUC(\n",
        "    num_thresholds=200, curve='ROC',\n",
        "    summation_method='interpolation', name=None, dtype=None,\n",
        "    thresholds=None, multi_label=False, num_labels=None, label_weights=None,\n",
        "    from_logits=False\n",
        ")\n",
        "\n",
        "model.compile(loss=\"binary_crossentropy\",\n",
        "              optimizer= opt_list[\"adam\"], # You can view the opt_list above.\n",
        "              metrics=[auc],)"
      ]
    },
    {
      "cell_type": "markdown",
      "metadata": {
        "id": "7nzagNTUS1W8"
      },
      "source": [
        "## 10 Epochs"
      ]
    },
    {
      "cell_type": "code",
      "execution_count": null,
      "metadata": {
        "colab": {
          "base_uri": "https://localhost:8080/"
        },
        "id": "UO8gqC9ouSIL",
        "outputId": "5d4179bd-0b96-410f-d9b4-f71a0f569b41"
      },
      "outputs": [
        {
          "name": "stdout",
          "output_type": "stream",
          "text": [
            "Epoch 1/10\n",
            "4423/4423 [==============================] - 41s 9ms/step - loss: 0.0922 - auc: 0.8353 - val_loss: 0.0794 - val_auc: 0.8827\n",
            "Epoch 2/10\n",
            "4423/4423 [==============================] - 38s 9ms/step - loss: 0.0851 - auc: 0.8531 - val_loss: 0.0775 - val_auc: 0.8766\n",
            "Epoch 3/10\n",
            "4423/4423 [==============================] - 38s 9ms/step - loss: 0.0852 - auc: 0.8503 - val_loss: 0.0850 - val_auc: 0.8711\n",
            "Epoch 4/10\n",
            "4423/4423 [==============================] - 38s 9ms/step - loss: 0.0851 - auc: 0.8475 - val_loss: 0.0791 - val_auc: 0.8703\n",
            "Epoch 5/10\n",
            "4423/4423 [==============================] - 38s 9ms/step - loss: 0.0843 - auc: 0.8495 - val_loss: 0.0787 - val_auc: 0.8749\n",
            "Epoch 6/10\n",
            "4423/4423 [==============================] - 38s 9ms/step - loss: 0.0839 - auc: 0.8515 - val_loss: 0.0789 - val_auc: 0.8646\n",
            "Epoch 7/10\n",
            "4423/4423 [==============================] - 38s 9ms/step - loss: 0.0838 - auc: 0.8519 - val_loss: 0.0794 - val_auc: 0.8623\n",
            "Epoch 8/10\n",
            "4423/4423 [==============================] - 38s 8ms/step - loss: 0.0838 - auc: 0.8513 - val_loss: 0.0796 - val_auc: 0.8651\n",
            "Epoch 9/10\n",
            "4423/4423 [==============================] - 38s 9ms/step - loss: 0.0838 - auc: 0.8517 - val_loss: 0.0766 - val_auc: 0.8776\n",
            "Epoch 10/10\n",
            "4423/4423 [==============================] - 37s 8ms/step - loss: 0.0836 - auc: 0.8505 - val_loss: 0.0826 - val_auc: 0.8710\n"
          ]
        }
      ],
      "source": [
        "history = model.fit(X_train, \n",
        "                    y_train,\n",
        "                    validation_split = 0.10,\n",
        "                    epochs=10,\n",
        "                    callbacks=reduce_lr\n",
        "                    )"
      ]
    },
    {
      "cell_type": "markdown",
      "metadata": {
        "id": "T2rQh52ASzKT"
      },
      "source": [
        "## 10 Epochs"
      ]
    },
    {
      "cell_type": "code",
      "execution_count": null,
      "metadata": {
        "colab": {
          "base_uri": "https://localhost:8080/"
        },
        "id": "2GYAy7W-ygPh",
        "outputId": "7348bf1b-06c5-4317-b452-55b3baa88146"
      },
      "outputs": [
        {
          "name": "stdout",
          "output_type": "stream",
          "text": [
            "Epoch 1/10\n",
            "277/277 [==============================] - 3s 9ms/step - loss: 0.0799 - auc: 0.8618 - val_loss: 0.0778 - val_auc: 0.8729\n",
            "Epoch 2/10\n",
            "277/277 [==============================] - 2s 9ms/step - loss: 0.0790 - auc: 0.8643 - val_loss: 0.0772 - val_auc: 0.8759\n",
            "Epoch 3/10\n",
            "277/277 [==============================] - 3s 10ms/step - loss: 0.0783 - auc: 0.8625 - val_loss: 0.0776 - val_auc: 0.8678\n",
            "Epoch 4/10\n",
            "277/277 [==============================] - 2s 9ms/step - loss: 0.0785 - auc: 0.8654 - val_loss: 0.0762 - val_auc: 0.8764\n",
            "Epoch 5/10\n",
            "277/277 [==============================] - 3s 9ms/step - loss: 0.0788 - auc: 0.8602 - val_loss: 0.0768 - val_auc: 0.8713\n",
            "Epoch 6/10\n",
            "277/277 [==============================] - 3s 9ms/step - loss: 0.0783 - auc: 0.8656 - val_loss: 0.0765 - val_auc: 0.8770\n",
            "Epoch 7/10\n",
            "277/277 [==============================] - 2s 9ms/step - loss: 0.0787 - auc: 0.8640 - val_loss: 0.0756 - val_auc: 0.8725\n",
            "Epoch 8/10\n",
            "277/277 [==============================] - 3s 9ms/step - loss: 0.0782 - auc: 0.8659 - val_loss: 0.0754 - val_auc: 0.8742\n",
            "Epoch 9/10\n",
            "277/277 [==============================] - 3s 9ms/step - loss: 0.0783 - auc: 0.8662 - val_loss: 0.0770 - val_auc: 0.8746\n",
            "Epoch 10/10\n",
            "277/277 [==============================] - 3s 9ms/step - loss: 0.0789 - auc: 0.8650 - val_loss: 0.0767 - val_auc: 0.8727\n"
          ]
        }
      ],
      "source": [
        "history = model.fit(X_train, \n",
        "                    y_train,\n",
        "                    validation_split = 0.10,\n",
        "                    epochs=10,\n",
        "                    batch_size=512,\n",
        "                    callbacks=reduce_lr\n",
        "                    )"
      ]
    },
    {
      "cell_type": "markdown",
      "metadata": {
        "id": "IBWHKefbSwda"
      },
      "source": [
        "## 50 epochs"
      ]
    },
    {
      "cell_type": "code",
      "execution_count": null,
      "metadata": {
        "colab": {
          "base_uri": "https://localhost:8080/"
        },
        "id": "5qVK5pBuSYR2",
        "outputId": "07524c37-a829-47a2-e387-afd4961c5fec"
      },
      "outputs": [
        {
          "name": "stdout",
          "output_type": "stream",
          "text": [
            "Epoch 1/50\n",
            "277/277 [==============================] - 3s 10ms/step - loss: 0.0784 - auc: 0.8657 - val_loss: 0.0764 - val_auc: 0.8803\n",
            "Epoch 2/50\n",
            "277/277 [==============================] - 2s 9ms/step - loss: 0.0787 - auc: 0.8665 - val_loss: 0.0763 - val_auc: 0.8759\n",
            "Epoch 3/50\n",
            "277/277 [==============================] - 3s 9ms/step - loss: 0.0787 - auc: 0.8640 - val_loss: 0.0760 - val_auc: 0.8740\n",
            "Epoch 4/50\n",
            "277/277 [==============================] - 2s 9ms/step - loss: 0.0787 - auc: 0.8650 - val_loss: 0.0761 - val_auc: 0.8776\n",
            "Epoch 5/50\n",
            "277/277 [==============================] - 2s 9ms/step - loss: 0.0784 - auc: 0.8655 - val_loss: 0.0760 - val_auc: 0.8736\n",
            "Epoch 6/50\n",
            "277/277 [==============================] - 3s 9ms/step - loss: 0.0784 - auc: 0.8648 - val_loss: 0.0763 - val_auc: 0.8791\n",
            "Epoch 7/50\n",
            "277/277 [==============================] - 3s 9ms/step - loss: 0.0788 - auc: 0.8664 - val_loss: 0.0754 - val_auc: 0.8731\n",
            "Epoch 8/50\n",
            "277/277 [==============================] - 3s 9ms/step - loss: 0.0784 - auc: 0.8659 - val_loss: 0.0758 - val_auc: 0.8786\n",
            "Epoch 9/50\n",
            "277/277 [==============================] - 3s 9ms/step - loss: 0.0784 - auc: 0.8646 - val_loss: 0.0758 - val_auc: 0.8807\n",
            "Epoch 10/50\n",
            "277/277 [==============================] - 3s 9ms/step - loss: 0.0789 - auc: 0.8634 - val_loss: 0.0776 - val_auc: 0.8732\n",
            "Epoch 11/50\n",
            "277/277 [==============================] - 2s 9ms/step - loss: 0.0782 - auc: 0.8666 - val_loss: 0.0773 - val_auc: 0.8775\n",
            "Epoch 12/50\n",
            "277/277 [==============================] - 2s 9ms/step - loss: 0.0782 - auc: 0.8652 - val_loss: 0.0767 - val_auc: 0.8773\n",
            "Epoch 13/50\n",
            "277/277 [==============================] - 3s 9ms/step - loss: 0.0786 - auc: 0.8640 - val_loss: 0.0754 - val_auc: 0.8827\n",
            "Epoch 14/50\n",
            "277/277 [==============================] - 2s 9ms/step - loss: 0.0783 - auc: 0.8666 - val_loss: 0.0773 - val_auc: 0.8804\n",
            "Epoch 15/50\n",
            "277/277 [==============================] - 2s 9ms/step - loss: 0.0785 - auc: 0.8654 - val_loss: 0.0780 - val_auc: 0.8792\n",
            "Epoch 16/50\n",
            "277/277 [==============================] - 3s 9ms/step - loss: 0.0782 - auc: 0.8653 - val_loss: 0.0763 - val_auc: 0.8782\n",
            "Epoch 17/50\n",
            "277/277 [==============================] - 3s 9ms/step - loss: 0.0783 - auc: 0.8675 - val_loss: 0.0755 - val_auc: 0.8816\n",
            "Epoch 18/50\n",
            "277/277 [==============================] - 2s 9ms/step - loss: 0.0785 - auc: 0.8631 - val_loss: 0.0751 - val_auc: 0.8731\n",
            "Epoch 19/50\n",
            "277/277 [==============================] - 3s 9ms/step - loss: 0.0783 - auc: 0.8663 - val_loss: 0.0751 - val_auc: 0.8770\n",
            "Epoch 20/50\n",
            "277/277 [==============================] - 2s 9ms/step - loss: 0.0786 - auc: 0.8656 - val_loss: 0.0771 - val_auc: 0.8759\n",
            "Epoch 21/50\n",
            "277/277 [==============================] - 3s 9ms/step - loss: 0.0782 - auc: 0.8675 - val_loss: 0.0760 - val_auc: 0.8798\n",
            "Epoch 22/50\n",
            "277/277 [==============================] - 2s 9ms/step - loss: 0.0781 - auc: 0.8646 - val_loss: 0.0751 - val_auc: 0.8759\n",
            "Epoch 23/50\n",
            "277/277 [==============================] - 3s 9ms/step - loss: 0.0783 - auc: 0.8695 - val_loss: 0.0751 - val_auc: 0.8786\n",
            "Epoch 24/50\n",
            "277/277 [==============================] - 3s 9ms/step - loss: 0.0784 - auc: 0.8667 - val_loss: 0.0755 - val_auc: 0.8796\n",
            "Epoch 25/50\n",
            "277/277 [==============================] - 3s 9ms/step - loss: 0.0784 - auc: 0.8661 - val_loss: 0.0754 - val_auc: 0.8787\n",
            "Epoch 26/50\n",
            "277/277 [==============================] - 2s 9ms/step - loss: 0.0783 - auc: 0.8666 - val_loss: 0.0783 - val_auc: 0.8812\n",
            "Epoch 27/50\n",
            "277/277 [==============================] - 3s 9ms/step - loss: 0.0780 - auc: 0.8684 - val_loss: 0.0761 - val_auc: 0.8770\n",
            "Epoch 28/50\n",
            "277/277 [==============================] - 2s 9ms/step - loss: 0.0783 - auc: 0.8684 - val_loss: 0.0787 - val_auc: 0.8800\n",
            "Epoch 29/50\n",
            "277/277 [==============================] - 2s 9ms/step - loss: 0.0783 - auc: 0.8681 - val_loss: 0.0760 - val_auc: 0.8722\n",
            "Epoch 30/50\n",
            "277/277 [==============================] - 3s 9ms/step - loss: 0.0781 - auc: 0.8663 - val_loss: 0.0750 - val_auc: 0.8809\n",
            "Epoch 31/50\n",
            "277/277 [==============================] - 2s 9ms/step - loss: 0.0785 - auc: 0.8648 - val_loss: 0.0750 - val_auc: 0.8764\n",
            "Epoch 32/50\n",
            "277/277 [==============================] - 2s 9ms/step - loss: 0.0781 - auc: 0.8671 - val_loss: 0.0757 - val_auc: 0.8815\n",
            "Epoch 33/50\n",
            "277/277 [==============================] - 2s 9ms/step - loss: 0.0780 - auc: 0.8684 - val_loss: 0.0761 - val_auc: 0.8794\n",
            "Epoch 34/50\n",
            "277/277 [==============================] - 3s 9ms/step - loss: 0.0782 - auc: 0.8697 - val_loss: 0.0778 - val_auc: 0.8734\n",
            "Epoch 35/50\n",
            "277/277 [==============================] - 3s 9ms/step - loss: 0.0780 - auc: 0.8685 - val_loss: 0.0753 - val_auc: 0.8746\n",
            "Epoch 36/50\n",
            "277/277 [==============================] - 2s 9ms/step - loss: 0.0778 - auc: 0.8686 - val_loss: 0.0757 - val_auc: 0.8738\n",
            "Epoch 37/50\n",
            "277/277 [==============================] - 3s 9ms/step - loss: 0.0784 - auc: 0.8693 - val_loss: 0.0753 - val_auc: 0.8825\n",
            "Epoch 38/50\n",
            "277/277 [==============================] - 2s 9ms/step - loss: 0.0781 - auc: 0.8670 - val_loss: 0.0761 - val_auc: 0.8736\n",
            "Epoch 39/50\n",
            "277/277 [==============================] - 2s 9ms/step - loss: 0.0780 - auc: 0.8676 - val_loss: 0.0755 - val_auc: 0.8818\n",
            "Epoch 40/50\n",
            "277/277 [==============================] - 2s 9ms/step - loss: 0.0775 - auc: 0.8691 - val_loss: 0.0750 - val_auc: 0.8776\n",
            "Epoch 41/50\n",
            "277/277 [==============================] - 2s 9ms/step - loss: 0.0784 - auc: 0.8658 - val_loss: 0.0768 - val_auc: 0.8773\n",
            "Epoch 42/50\n",
            "277/277 [==============================] - 2s 9ms/step - loss: 0.0782 - auc: 0.8663 - val_loss: 0.0757 - val_auc: 0.8763\n",
            "Epoch 43/50\n",
            "277/277 [==============================] - 3s 9ms/step - loss: 0.0785 - auc: 0.8659 - val_loss: 0.0758 - val_auc: 0.8821\n",
            "Epoch 44/50\n",
            "277/277 [==============================] - 2s 8ms/step - loss: 0.0781 - auc: 0.8657 - val_loss: 0.0761 - val_auc: 0.8786\n",
            "Epoch 45/50\n",
            "277/277 [==============================] - 2s 9ms/step - loss: 0.0781 - auc: 0.8685 - val_loss: 0.0751 - val_auc: 0.8758\n",
            "Epoch 46/50\n",
            "277/277 [==============================] - 2s 9ms/step - loss: 0.0779 - auc: 0.8677 - val_loss: 0.0751 - val_auc: 0.8809\n",
            "Epoch 47/50\n",
            "277/277 [==============================] - 3s 9ms/step - loss: 0.0781 - auc: 0.8660 - val_loss: 0.0763 - val_auc: 0.8783\n",
            "Epoch 48/50\n",
            "277/277 [==============================] - 2s 9ms/step - loss: 0.0781 - auc: 0.8666 - val_loss: 0.0754 - val_auc: 0.8760\n",
            "Epoch 49/50\n",
            "277/277 [==============================] - 2s 9ms/step - loss: 0.0778 - auc: 0.8695 - val_loss: 0.0756 - val_auc: 0.8794\n",
            "Epoch 50/50\n",
            "277/277 [==============================] - 3s 9ms/step - loss: 0.0780 - auc: 0.8673 - val_loss: 0.0752 - val_auc: 0.8799\n"
          ]
        }
      ],
      "source": [
        "history = model.fit(X_train, \n",
        "                    y_train,\n",
        "                    validation_split = 0.10,\n",
        "                    epochs=50,\n",
        "                    batch_size=512,\n",
        "                    callbacks=reduce_lr\n",
        "                    )"
      ]
    },
    {
      "cell_type": "markdown",
      "metadata": {
        "id": "klJzH0WHTUSb"
      },
      "source": [
        "# Neural Network Prediction"
      ]
    },
    {
      "cell_type": "code",
      "execution_count": null,
      "metadata": {
        "id": "F2RosGp5T9yq"
      },
      "outputs": [],
      "source": [
        "from sklearn.metrics import roc_curve,roc_auc_score,auc"
      ]
    },
    {
      "cell_type": "code",
      "execution_count": null,
      "metadata": {
        "id": "0a7xqUxwTWYv"
      },
      "outputs": [],
      "source": [
        "y_pred = model.predict(X_test)"
      ]
    },
    {
      "cell_type": "code",
      "execution_count": null,
      "metadata": {
        "id": "Um6bRpa7USa4"
      },
      "outputs": [],
      "source": [
        "y_scores = y_pred[:,0]"
      ]
    },
    {
      "cell_type": "code",
      "execution_count": null,
      "metadata": {
        "id": "xErVP-vUUHMI"
      },
      "outputs": [],
      "source": [
        "fpr, tpr, _ = roc_curve(y_test, y_scores)\n",
        "roc_auc = auc(fpr, tpr)"
      ]
    },
    {
      "cell_type": "code",
      "execution_count": null,
      "metadata": {
        "colab": {
          "base_uri": "https://localhost:8080/"
        },
        "id": "OO9_NJxpUdO-",
        "outputId": "256054b0-5953-4eed-88bb-acb16d794ed9"
      },
      "outputs": [
        {
          "data": {
            "text/plain": [
              "0.8727799777065878"
            ]
          },
          "execution_count": 96,
          "metadata": {},
          "output_type": "execute_result"
        }
      ],
      "source": [
        "roc_auc"
      ]
    },
    {
      "cell_type": "markdown",
      "metadata": {
        "id": "2-bohRWcVkk7"
      },
      "source": [
        "# Neural Network Prediction for 2021_06"
      ]
    },
    {
      "cell_type": "code",
      "execution_count": null,
      "metadata": {
        "id": "di_fhd17Vq9B"
      },
      "outputs": [],
      "source": [
        "df_test = pd.read_csv('drive/MyDrive/DF_FINAL_MERGED_wSIFIR_2021_6.csv')"
      ]
    },
    {
      "cell_type": "code",
      "execution_count": null,
      "metadata": {
        "id": "OXZ7JAw7Vq9B"
      },
      "outputs": [],
      "source": [
        "df_test.drop(['Unnamed: 0', 'CUSTOMER_ID'], axis=1, inplace=True)\n",
        "# y = df['HAS_SALES_IN_INTERVAL'].copy()\n",
        "# X = df.drop('HAS_SALES_IN_INTERVAL', axis=1)"
      ]
    },
    {
      "cell_type": "code",
      "execution_count": null,
      "metadata": {
        "colab": {
          "base_uri": "https://localhost:8080/",
          "height": 100
        },
        "id": "2E5yKfRyVq9C",
        "outputId": "e0a2b614-f129-47db-9d40-e43ca79ff204"
      },
      "outputs": [
        {
          "data": {
            "text/html": [
              "<div>\n",
              "<style scoped>\n",
              "    .dataframe tbody tr th:only-of-type {\n",
              "        vertical-align: middle;\n",
              "    }\n",
              "\n",
              "    .dataframe tbody tr th {\n",
              "        vertical-align: top;\n",
              "    }\n",
              "\n",
              "    .dataframe thead th {\n",
              "        text-align: right;\n",
              "    }\n",
              "</style>\n",
              "<table border=\"1\" class=\"dataframe\">\n",
              "  <thead>\n",
              "    <tr style=\"text-align: right;\">\n",
              "      <th></th>\n",
              "      <th>BASE_CUSTOMER_ID</th>\n",
              "      <th>AGE</th>\n",
              "      <th>MARITAL_STATUS_Bekar</th>\n",
              "      <th>MARITAL_STATUS_Evli</th>\n",
              "      <th>TOTAL_SALES_FILE_3M</th>\n",
              "      <th>SINCE_LAST_SALES_FILE_3M</th>\n",
              "      <th>TOTAL_SALES_FILE_1Y</th>\n",
              "      <th>SINCE_LAST_SALES_FILE_1Y</th>\n",
              "      <th>TOTAL_SALES_FILE_ALL</th>\n",
              "      <th>SINCE_LAST_SALES_FILE_ALL</th>\n",
              "      <th>TOTAL_SIFIR_ARAC_3M</th>\n",
              "      <th>SINCE_LAST_SIFIR_ARAC_3M</th>\n",
              "      <th>TOTAL_SIFIR_ARAC_1Y</th>\n",
              "      <th>SINCE_LAST_SIFIR_ARAC_1Y</th>\n",
              "      <th>TOTAL_SIFIR_ARAC_ALL</th>\n",
              "      <th>SINCE_LAST_SIFIR_ARAC_ALL</th>\n",
              "    </tr>\n",
              "  </thead>\n",
              "  <tbody>\n",
              "    <tr>\n",
              "      <th>0</th>\n",
              "      <td>158891</td>\n",
              "      <td>46</td>\n",
              "      <td>0</td>\n",
              "      <td>1</td>\n",
              "      <td>0</td>\n",
              "      <td>0</td>\n",
              "      <td>0</td>\n",
              "      <td>0</td>\n",
              "      <td>0</td>\n",
              "      <td>0</td>\n",
              "      <td>0</td>\n",
              "      <td>0</td>\n",
              "      <td>1</td>\n",
              "      <td>0</td>\n",
              "      <td>2</td>\n",
              "      <td>0</td>\n",
              "    </tr>\n",
              "  </tbody>\n",
              "</table>\n",
              "</div>"
            ],
            "text/plain": [
              "   BASE_CUSTOMER_ID  AGE  ...  TOTAL_SIFIR_ARAC_ALL  SINCE_LAST_SIFIR_ARAC_ALL\n",
              "0            158891   46  ...                     2                          0\n",
              "\n",
              "[1 rows x 16 columns]"
            ]
          },
          "execution_count": 151,
          "metadata": {},
          "output_type": "execute_result"
        }
      ],
      "source": [
        "df_test.head(1)"
      ]
    },
    {
      "cell_type": "code",
      "execution_count": null,
      "metadata": {
        "id": "OyJ78FbgYLG6"
      },
      "outputs": [],
      "source": [
        "from sklearn.metrics import roc_curve,roc_auc_score,auc"
      ]
    },
    {
      "cell_type": "code",
      "execution_count": null,
      "metadata": {
        "id": "-kNiaiwZYLG6"
      },
      "outputs": [],
      "source": [
        "y_pred = model.predict(X_test)"
      ]
    },
    {
      "cell_type": "code",
      "execution_count": null,
      "metadata": {
        "id": "QclwyV4QYLG7"
      },
      "outputs": [],
      "source": [
        "y_scores = y_pred[:,0]"
      ]
    },
    {
      "cell_type": "code",
      "execution_count": null,
      "metadata": {
        "id": "U3LrBkjiYLG7"
      },
      "outputs": [],
      "source": [
        "fpr, tpr, _ = roc_curve(y_test, y_scores)\n",
        "roc_auc = auc(fpr, tpr)"
      ]
    },
    {
      "cell_type": "code",
      "execution_count": null,
      "metadata": {
        "colab": {
          "base_uri": "https://localhost:8080/"
        },
        "id": "-8Rl8wfGYLG7",
        "outputId": "26db705e-3c52-4e32-c0e6-2949d753b6e4"
      },
      "outputs": [
        {
          "data": {
            "text/plain": [
              "0.8727799777065878"
            ]
          },
          "execution_count": 156,
          "metadata": {},
          "output_type": "execute_result"
        }
      ],
      "source": [
        "roc_auc"
      ]
    },
    {
      "cell_type": "code",
      "execution_count": null,
      "metadata": {
        "id": "yn7ZlrDMVrXs"
      },
      "outputs": [],
      "source": [
        "sample_data = pd.read_csv('/content/sample_submission.csv.zip')"
      ]
    },
    {
      "cell_type": "code",
      "execution_count": null,
      "metadata": {
        "colab": {
          "base_uri": "https://localhost:8080/",
          "height": 142
        },
        "id": "X8rUfQGDVw_P",
        "outputId": "e68acecb-8fbb-4c1e-9bef-b5f2bf6da762"
      },
      "outputs": [
        {
          "data": {
            "text/html": [
              "<div>\n",
              "<style scoped>\n",
              "    .dataframe tbody tr th:only-of-type {\n",
              "        vertical-align: middle;\n",
              "    }\n",
              "\n",
              "    .dataframe tbody tr th {\n",
              "        vertical-align: top;\n",
              "    }\n",
              "\n",
              "    .dataframe thead th {\n",
              "        text-align: right;\n",
              "    }\n",
              "</style>\n",
              "<table border=\"1\" class=\"dataframe\">\n",
              "  <thead>\n",
              "    <tr style=\"text-align: right;\">\n",
              "      <th></th>\n",
              "      <th>Id</th>\n",
              "      <th>Expected</th>\n",
              "    </tr>\n",
              "  </thead>\n",
              "  <tbody>\n",
              "    <tr>\n",
              "      <th>0</th>\n",
              "      <td>168254</td>\n",
              "      <td>NaN</td>\n",
              "    </tr>\n",
              "    <tr>\n",
              "      <th>1</th>\n",
              "      <td>124747</td>\n",
              "      <td>NaN</td>\n",
              "    </tr>\n",
              "    <tr>\n",
              "      <th>2</th>\n",
              "      <td>135493</td>\n",
              "      <td>NaN</td>\n",
              "    </tr>\n",
              "  </tbody>\n",
              "</table>\n",
              "</div>"
            ],
            "text/plain": [
              "       Id  Expected\n",
              "0  168254       NaN\n",
              "1  124747       NaN\n",
              "2  135493       NaN"
            ]
          },
          "execution_count": 158,
          "metadata": {},
          "output_type": "execute_result"
        }
      ],
      "source": [
        "sample_data.head(3)"
      ]
    },
    {
      "cell_type": "code",
      "execution_count": null,
      "metadata": {
        "id": "IyPiJMQ7Vx0R"
      },
      "outputs": [],
      "source": [
        "df_results = pd.DataFrame(['Id', 'Expected'])\n",
        "\n",
        "for index, row in sample_data.iterrows():\n",
        "  base_id = row.loc['Id']\n",
        "  df_test_w_id = df_test[ df_test['BASE_CUSTOMER_ID']== base_id ]\n",
        "  test_data = df_test_w_id.iloc[0].drop('BASE_CUSTOMER_ID')\n",
        "\n",
        "  test_data = np.expand_dims(test_data, axis=0)\n",
        "  # display(test_data)\n",
        "\n",
        "  y_pred = model.predict(test_data)\n",
        "  # display(y_pred)\n",
        "  y_scores = y_pred[:, 0]\n",
        "\n",
        "  sample_data.loc[index, 'Expected'] = y_scores[0]\n"
      ]
    },
    {
      "cell_type": "code",
      "execution_count": null,
      "metadata": {
        "id": "Nbd3F4ZqVq9D"
      },
      "outputs": [],
      "source": [
        "sample_data.to_csv('drive/MyDrive/sample_submission_DNN_08714_2021_06.csv')"
      ]
    }
  ],
  "metadata": {
    "accelerator": "GPU",
    "colab": {
      "collapsed_sections": [
        "zkhh9eDk3OXq",
        "GEHCCBE97uME",
        "y65qaeaPrPC9",
        "wnbpj77rrCiL",
        "Sw-flvvIi5h6",
        "UHlSg98-i-Tr",
        "jg5z1avcnuBf",
        "l9x_OwO7vHBE",
        "96ztkKsqJBVb",
        "U0bSnGzBZ-fj",
        "m9RscYdzTN7l",
        "s3UYERtShfQI",
        "-RRiswnZq829",
        "WY_xrjnC1ybv",
        "TqR6O_PFf_pc",
        "cAyuzINyUB43"
      ],
      "name": "Dogus Competition Notebook.ipynb",
      "provenance": [],
      "toc_visible": true
    },
    "kernelspec": {
      "display_name": "Python 3",
      "name": "python3"
    },
    "language_info": {
      "name": "python"
    }
  },
  "nbformat": 4,
  "nbformat_minor": 0
}
