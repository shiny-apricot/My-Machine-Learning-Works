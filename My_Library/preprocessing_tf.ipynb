{
    "cells": [
        {
            "cell_type": "code",
            "execution_count": 1,
            "source": [
                "\r\n",
                "import tensorflow as tf\r\n",
                "import tensorflow.keras\r\n",
                "import keras"
            ],
            "outputs": [],
            "metadata": {}
        },
        {
            "cell_type": "code",
            "execution_count": 2,
            "source": [
                "vocab = [\"square\", \"rectangle\", \"pentagon\", \"hexagon\"]\r\n",
                "indices = tf.range(len(vocab), dtype=tf.int64)\r\n",
                "table_init = tf.lookup.KeyValueTensorInitializer(vocab, indices)\r\n",
                "num_oov_buckets = 2\r\n",
                "table = tf.lookup.StaticVocabularyTable(table_init, num_oov_buckets)"
            ],
            "outputs": [],
            "metadata": {}
        },
        {
            "cell_type": "code",
            "execution_count": 3,
            "source": [
                "categories = tf.constant([\"heptagon\", \"hexagon\", \"square\"])\r\n",
                "cat_indices = table.lookup(categories)\r\n",
                "cat_indices"
            ],
            "outputs": [
                {
                    "output_type": "execute_result",
                    "data": {
                        "text/plain": [
                            "<tf.Tensor: shape=(3,), dtype=int64, numpy=array([5, 3, 0], dtype=int64)>"
                        ]
                    },
                    "metadata": {},
                    "execution_count": 3
                }
            ],
            "metadata": {}
        },
        {
            "cell_type": "code",
            "execution_count": 4,
            "source": [
                "cat_one_hot = tf.one_hot(cat_indices, depth= len(vocab)+num_oov_buckets)\r\n",
                "cat_one_hot"
            ],
            "outputs": [
                {
                    "output_type": "execute_result",
                    "data": {
                        "text/plain": [
                            "<tf.Tensor: shape=(3, 6), dtype=float32, numpy=\n",
                            "array([[0., 0., 0., 0., 0., 1.],\n",
                            "       [0., 0., 0., 1., 0., 0.],\n",
                            "       [1., 0., 0., 0., 0., 0.]], dtype=float32)>"
                        ]
                    },
                    "metadata": {},
                    "execution_count": 4
                }
            ],
            "metadata": {}
        },
        {
            "cell_type": "code",
            "execution_count": 5,
            "source": [
                "\r\n",
                "embedding_dim = 2\r\n",
                "embed_init = tf.random.uniform([len(vocab) + num_oov_buckets, embedding_dim])\r\n",
                "embedding_matrix = tf.Variable(embed_init)\r\n",
                "embedding_matrix"
            ],
            "outputs": [
                {
                    "output_type": "execute_result",
                    "data": {
                        "text/plain": [
                            "<tf.Variable 'Variable:0' shape=(6, 2) dtype=float32, numpy=\n",
                            "array([[0.88051474, 0.25234556],\n",
                            "       [0.56814384, 0.8494557 ],\n",
                            "       [0.7522837 , 0.49260974],\n",
                            "       [0.74824846, 0.6619903 ],\n",
                            "       [0.80376303, 0.11152852],\n",
                            "       [0.83025634, 0.5718168 ]], dtype=float32)>"
                        ]
                    },
                    "metadata": {},
                    "execution_count": 5
                }
            ],
            "metadata": {}
        },
        {
            "cell_type": "code",
            "execution_count": 6,
            "source": [
                "categories = tf.constant([\"heptagon\", \"hexagon\", \"square\"])\r\n",
                "cat_indices = table.lookup(categories)\r\n",
                "cat_indices"
            ],
            "outputs": [
                {
                    "output_type": "execute_result",
                    "data": {
                        "text/plain": [
                            "<tf.Tensor: shape=(3,), dtype=int64, numpy=array([5, 3, 0], dtype=int64)>"
                        ]
                    },
                    "metadata": {},
                    "execution_count": 6
                }
            ],
            "metadata": {}
        },
        {
            "cell_type": "code",
            "execution_count": 7,
            "source": [
                "tf.nn.embedding_lookup(embedding_matrix, cat_indices)"
            ],
            "outputs": [
                {
                    "output_type": "execute_result",
                    "data": {
                        "text/plain": [
                            "<tf.Tensor: shape=(3, 2), dtype=float32, numpy=\n",
                            "array([[0.83025634, 0.5718168 ],\n",
                            "       [0.74824846, 0.6619903 ],\n",
                            "       [0.88051474, 0.25234556]], dtype=float32)>"
                        ]
                    },
                    "metadata": {},
                    "execution_count": 7
                }
            ],
            "metadata": {}
        },
        {
            "cell_type": "code",
            "execution_count": 8,
            "source": [
                "embedding = tf.keras.layers.Embedding(input_dim= len(vocab)+num_oov_buckets, output_dim=embedding_dim)\r\n",
                "embedding"
            ],
            "outputs": [
                {
                    "output_type": "execute_result",
                    "data": {
                        "text/plain": [
                            "<tensorflow.python.keras.layers.embeddings.Embedding at 0x1647fc2e820>"
                        ]
                    },
                    "metadata": {},
                    "execution_count": 8
                }
            ],
            "metadata": {}
        },
        {
            "cell_type": "code",
            "execution_count": null,
            "source": [],
            "outputs": [],
            "metadata": {}
        },
        {
            "cell_type": "code",
            "execution_count": 9,
            "source": [
                "regular_inputs = keras.layers.Input(shape=[8])\r\n",
                "categories = keras.layers.Input(shape=[], dtype=tf.string)\r\n",
                "cat_indices = keras.layers.Lambda(lambda cats: table.lookup(cats))(categories)\r\n",
                "cat_embed = keras.layers.Embedding(input_dim=6, output_dim=2)(cat_indices)\r\n",
                "encoded_inputs = keras.layers.concatenate([regular_inputs, cat_embed])\r\n",
                "outputs = keras.layers.Dense(1)(encoded_inputs)\r\n",
                "model = keras.models.Model(inputs=[regular_inputs, categories], outputs=[outputs])"
            ],
            "outputs": [],
            "metadata": {}
        },
        {
            "cell_type": "code",
            "execution_count": 10,
            "source": [
                "model.summary()"
            ],
            "outputs": [
                {
                    "output_type": "stream",
                    "name": "stdout",
                    "text": [
                        "Model: \"model\"\n",
                        "__________________________________________________________________________________________________\n",
                        "Layer (type)                    Output Shape         Param #     Connected to                     \n",
                        "==================================================================================================\n",
                        "input_2 (InputLayer)            [(None,)]            0                                            \n",
                        "__________________________________________________________________________________________________\n",
                        "lambda (Lambda)                 (None,)              0           input_2[0][0]                    \n",
                        "__________________________________________________________________________________________________\n",
                        "input_1 (InputLayer)            [(None, 8)]          0                                            \n",
                        "__________________________________________________________________________________________________\n",
                        "embedding (Embedding)           (None, 2)            12          lambda[0][0]                     \n",
                        "__________________________________________________________________________________________________\n",
                        "concatenate (Concatenate)       (None, 10)           0           input_1[0][0]                    \n",
                        "                                                                 embedding[0][0]                  \n",
                        "__________________________________________________________________________________________________\n",
                        "dense (Dense)                   (None, 1)            11          concatenate[0][0]                \n",
                        "==================================================================================================\n",
                        "Total params: 23\n",
                        "Trainable params: 23\n",
                        "Non-trainable params: 0\n",
                        "__________________________________________________________________________________________________\n"
                    ]
                }
            ],
            "metadata": {}
        },
        {
            "cell_type": "code",
            "execution_count": null,
            "source": [
                "\r\n"
            ],
            "outputs": [],
            "metadata": {}
        },
        {
            "cell_type": "code",
            "execution_count": null,
            "source": [],
            "outputs": [],
            "metadata": {}
        }
    ],
    "metadata": {
        "orig_nbformat": 4,
        "language_info": {
            "name": "python",
            "version": "3.8.8",
            "mimetype": "text/x-python",
            "codemirror_mode": {
                "name": "ipython",
                "version": 3
            },
            "pygments_lexer": "ipython3",
            "nbconvert_exporter": "python",
            "file_extension": ".py"
        },
        "kernelspec": {
            "name": "python3",
            "display_name": "Python 3.8.8 64-bit ('base': conda)"
        },
        "interpreter": {
            "hash": "a8f61be024eba58adef938c9aa1e29e02cb3dece83a5348b1a2dafd16a070453"
        }
    },
    "nbformat": 4,
    "nbformat_minor": 2
}